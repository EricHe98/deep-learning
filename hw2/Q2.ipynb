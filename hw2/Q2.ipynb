{
  "nbformat": 4,
  "nbformat_minor": 0,
  "metadata": {
    "accelerator": "GPU",
    "colab": {
      "name": "Q2.ipynb",
      "provenance": [],
      "collapsed_sections": [],
      "toc_visible": true
    },
    "kernelspec": {
      "display_name": "Python 3",
      "language": "python",
      "name": "python3"
    },
    "language_info": {
      "codemirror_mode": {
        "name": "ipython",
        "version": 3
      },
      "file_extension": ".py",
      "mimetype": "text/x-python",
      "name": "python",
      "nbconvert_exporter": "python",
      "pygments_lexer": "ipython3",
      "version": "3.8.3"
    },
    "widgets": {
      "application/vnd.jupyter.widget-state+json": {
        "69050b19c2104d82b365e7b7161724fb": {
          "model_module": "@jupyter-widgets/controls",
          "model_name": "HBoxModel",
          "state": {
            "_view_name": "HBoxView",
            "_dom_classes": [],
            "_model_name": "HBoxModel",
            "_view_module": "@jupyter-widgets/controls",
            "_model_module_version": "1.5.0",
            "_view_count": null,
            "_view_module_version": "1.5.0",
            "box_style": "",
            "layout": "IPY_MODEL_7e14a7789dce44b6bf091dd367e9eff0",
            "_model_module": "@jupyter-widgets/controls",
            "children": [
              "IPY_MODEL_ba864f563d6c4511a9bc52db85135bc4",
              "IPY_MODEL_07b1a8f137f94a769af6f1916d3bd42e"
            ]
          }
        },
        "7e14a7789dce44b6bf091dd367e9eff0": {
          "model_module": "@jupyter-widgets/base",
          "model_name": "LayoutModel",
          "state": {
            "_view_name": "LayoutView",
            "grid_template_rows": null,
            "right": null,
            "justify_content": null,
            "_view_module": "@jupyter-widgets/base",
            "overflow": null,
            "_model_module_version": "1.2.0",
            "_view_count": null,
            "flex_flow": null,
            "width": null,
            "min_width": null,
            "border": null,
            "align_items": null,
            "bottom": null,
            "_model_module": "@jupyter-widgets/base",
            "top": null,
            "grid_column": null,
            "overflow_y": null,
            "overflow_x": null,
            "grid_auto_flow": null,
            "grid_area": null,
            "grid_template_columns": null,
            "flex": null,
            "_model_name": "LayoutModel",
            "justify_items": null,
            "grid_row": null,
            "max_height": null,
            "align_content": null,
            "visibility": null,
            "align_self": null,
            "height": null,
            "min_height": null,
            "padding": null,
            "grid_auto_rows": null,
            "grid_gap": null,
            "max_width": null,
            "order": null,
            "_view_module_version": "1.2.0",
            "grid_template_areas": null,
            "object_position": null,
            "object_fit": null,
            "grid_auto_columns": null,
            "margin": null,
            "display": null,
            "left": null
          }
        },
        "ba864f563d6c4511a9bc52db85135bc4": {
          "model_module": "@jupyter-widgets/controls",
          "model_name": "FloatProgressModel",
          "state": {
            "_view_name": "ProgressView",
            "style": "IPY_MODEL_512d2669d90c4d1d892187975a1eaf61",
            "_dom_classes": [],
            "description": "",
            "_model_name": "FloatProgressModel",
            "bar_style": "info",
            "max": 1,
            "_view_module": "@jupyter-widgets/controls",
            "_model_module_version": "1.5.0",
            "value": 1,
            "_view_count": null,
            "_view_module_version": "1.5.0",
            "orientation": "horizontal",
            "min": 0,
            "description_tooltip": null,
            "_model_module": "@jupyter-widgets/controls",
            "layout": "IPY_MODEL_89776f8243d3480dbf7a93149458d8f4"
          }
        },
        "07b1a8f137f94a769af6f1916d3bd42e": {
          "model_module": "@jupyter-widgets/controls",
          "model_name": "HTMLModel",
          "state": {
            "_view_name": "HTMLView",
            "style": "IPY_MODEL_9a9426d227c54df79f65680858086e81",
            "_dom_classes": [],
            "description": "",
            "_model_name": "HTMLModel",
            "placeholder": "​",
            "_view_module": "@jupyter-widgets/controls",
            "_model_module_version": "1.5.0",
            "value": " 170500096/? [00:30&lt;00:00, 18058143.97it/s]",
            "_view_count": null,
            "_view_module_version": "1.5.0",
            "description_tooltip": null,
            "_model_module": "@jupyter-widgets/controls",
            "layout": "IPY_MODEL_4f75af4b772b4dc7a600d419253a7bc4"
          }
        },
        "512d2669d90c4d1d892187975a1eaf61": {
          "model_module": "@jupyter-widgets/controls",
          "model_name": "ProgressStyleModel",
          "state": {
            "_view_name": "StyleView",
            "_model_name": "ProgressStyleModel",
            "description_width": "initial",
            "_view_module": "@jupyter-widgets/base",
            "_model_module_version": "1.5.0",
            "_view_count": null,
            "_view_module_version": "1.2.0",
            "bar_color": null,
            "_model_module": "@jupyter-widgets/controls"
          }
        },
        "89776f8243d3480dbf7a93149458d8f4": {
          "model_module": "@jupyter-widgets/base",
          "model_name": "LayoutModel",
          "state": {
            "_view_name": "LayoutView",
            "grid_template_rows": null,
            "right": null,
            "justify_content": null,
            "_view_module": "@jupyter-widgets/base",
            "overflow": null,
            "_model_module_version": "1.2.0",
            "_view_count": null,
            "flex_flow": null,
            "width": null,
            "min_width": null,
            "border": null,
            "align_items": null,
            "bottom": null,
            "_model_module": "@jupyter-widgets/base",
            "top": null,
            "grid_column": null,
            "overflow_y": null,
            "overflow_x": null,
            "grid_auto_flow": null,
            "grid_area": null,
            "grid_template_columns": null,
            "flex": null,
            "_model_name": "LayoutModel",
            "justify_items": null,
            "grid_row": null,
            "max_height": null,
            "align_content": null,
            "visibility": null,
            "align_self": null,
            "height": null,
            "min_height": null,
            "padding": null,
            "grid_auto_rows": null,
            "grid_gap": null,
            "max_width": null,
            "order": null,
            "_view_module_version": "1.2.0",
            "grid_template_areas": null,
            "object_position": null,
            "object_fit": null,
            "grid_auto_columns": null,
            "margin": null,
            "display": null,
            "left": null
          }
        },
        "9a9426d227c54df79f65680858086e81": {
          "model_module": "@jupyter-widgets/controls",
          "model_name": "DescriptionStyleModel",
          "state": {
            "_view_name": "StyleView",
            "_model_name": "DescriptionStyleModel",
            "description_width": "",
            "_view_module": "@jupyter-widgets/base",
            "_model_module_version": "1.5.0",
            "_view_count": null,
            "_view_module_version": "1.2.0",
            "_model_module": "@jupyter-widgets/controls"
          }
        },
        "4f75af4b772b4dc7a600d419253a7bc4": {
          "model_module": "@jupyter-widgets/base",
          "model_name": "LayoutModel",
          "state": {
            "_view_name": "LayoutView",
            "grid_template_rows": null,
            "right": null,
            "justify_content": null,
            "_view_module": "@jupyter-widgets/base",
            "overflow": null,
            "_model_module_version": "1.2.0",
            "_view_count": null,
            "flex_flow": null,
            "width": null,
            "min_width": null,
            "border": null,
            "align_items": null,
            "bottom": null,
            "_model_module": "@jupyter-widgets/base",
            "top": null,
            "grid_column": null,
            "overflow_y": null,
            "overflow_x": null,
            "grid_auto_flow": null,
            "grid_area": null,
            "grid_template_columns": null,
            "flex": null,
            "_model_name": "LayoutModel",
            "justify_items": null,
            "grid_row": null,
            "max_height": null,
            "align_content": null,
            "visibility": null,
            "align_self": null,
            "height": null,
            "min_height": null,
            "padding": null,
            "grid_auto_rows": null,
            "grid_gap": null,
            "max_width": null,
            "order": null,
            "_view_module_version": "1.2.0",
            "grid_template_areas": null,
            "object_position": null,
            "object_fit": null,
            "grid_auto_columns": null,
            "margin": null,
            "display": null,
            "left": null
          }
        },
        "b19133a0fa994683b2d06f831274b8b7": {
          "model_module": "@jupyter-widgets/controls",
          "model_name": "HBoxModel",
          "state": {
            "_view_name": "HBoxView",
            "_dom_classes": [],
            "_model_name": "HBoxModel",
            "_view_module": "@jupyter-widgets/controls",
            "_model_module_version": "1.5.0",
            "_view_count": null,
            "_view_module_version": "1.5.0",
            "box_style": "",
            "layout": "IPY_MODEL_5aca91b094214cd2800e8c751a5ffcf6",
            "_model_module": "@jupyter-widgets/controls",
            "children": [
              "IPY_MODEL_9f7af49be4694fabaa4e2477b91635f9",
              "IPY_MODEL_111ce145f7124a8298a3328a0329ee46"
            ]
          }
        },
        "5aca91b094214cd2800e8c751a5ffcf6": {
          "model_module": "@jupyter-widgets/base",
          "model_name": "LayoutModel",
          "state": {
            "_view_name": "LayoutView",
            "grid_template_rows": null,
            "right": null,
            "justify_content": null,
            "_view_module": "@jupyter-widgets/base",
            "overflow": null,
            "_model_module_version": "1.2.0",
            "_view_count": null,
            "flex_flow": null,
            "width": null,
            "min_width": null,
            "border": null,
            "align_items": null,
            "bottom": null,
            "_model_module": "@jupyter-widgets/base",
            "top": null,
            "grid_column": null,
            "overflow_y": null,
            "overflow_x": null,
            "grid_auto_flow": null,
            "grid_area": null,
            "grid_template_columns": null,
            "flex": null,
            "_model_name": "LayoutModel",
            "justify_items": null,
            "grid_row": null,
            "max_height": null,
            "align_content": null,
            "visibility": null,
            "align_self": null,
            "height": null,
            "min_height": null,
            "padding": null,
            "grid_auto_rows": null,
            "grid_gap": null,
            "max_width": null,
            "order": null,
            "_view_module_version": "1.2.0",
            "grid_template_areas": null,
            "object_position": null,
            "object_fit": null,
            "grid_auto_columns": null,
            "margin": null,
            "display": null,
            "left": null
          }
        },
        "9f7af49be4694fabaa4e2477b91635f9": {
          "model_module": "@jupyter-widgets/controls",
          "model_name": "FloatProgressModel",
          "state": {
            "_view_name": "ProgressView",
            "style": "IPY_MODEL_4612ccd223b347c3a5e683fe761d29c3",
            "_dom_classes": [],
            "description": "100%",
            "_model_name": "FloatProgressModel",
            "bar_style": "success",
            "max": 50,
            "_view_module": "@jupyter-widgets/controls",
            "_model_module_version": "1.5.0",
            "value": 50,
            "_view_count": null,
            "_view_module_version": "1.5.0",
            "orientation": "horizontal",
            "min": 0,
            "description_tooltip": null,
            "_model_module": "@jupyter-widgets/controls",
            "layout": "IPY_MODEL_38057d55d6ad43d38195a90fa1e3353c"
          }
        },
        "111ce145f7124a8298a3328a0329ee46": {
          "model_module": "@jupyter-widgets/controls",
          "model_name": "HTMLModel",
          "state": {
            "_view_name": "HTMLView",
            "style": "IPY_MODEL_773b97a9581140e19952b1f0e13bc5b8",
            "_dom_classes": [],
            "description": "",
            "_model_name": "HTMLModel",
            "placeholder": "​",
            "_view_module": "@jupyter-widgets/controls",
            "_model_module_version": "1.5.0",
            "value": " 50/50 [37:35&lt;00:00, 45.12s/it]",
            "_view_count": null,
            "_view_module_version": "1.5.0",
            "description_tooltip": null,
            "_model_module": "@jupyter-widgets/controls",
            "layout": "IPY_MODEL_57ec869e566644ef9a082922f0878257"
          }
        },
        "4612ccd223b347c3a5e683fe761d29c3": {
          "model_module": "@jupyter-widgets/controls",
          "model_name": "ProgressStyleModel",
          "state": {
            "_view_name": "StyleView",
            "_model_name": "ProgressStyleModel",
            "description_width": "initial",
            "_view_module": "@jupyter-widgets/base",
            "_model_module_version": "1.5.0",
            "_view_count": null,
            "_view_module_version": "1.2.0",
            "bar_color": null,
            "_model_module": "@jupyter-widgets/controls"
          }
        },
        "38057d55d6ad43d38195a90fa1e3353c": {
          "model_module": "@jupyter-widgets/base",
          "model_name": "LayoutModel",
          "state": {
            "_view_name": "LayoutView",
            "grid_template_rows": null,
            "right": null,
            "justify_content": null,
            "_view_module": "@jupyter-widgets/base",
            "overflow": null,
            "_model_module_version": "1.2.0",
            "_view_count": null,
            "flex_flow": null,
            "width": null,
            "min_width": null,
            "border": null,
            "align_items": null,
            "bottom": null,
            "_model_module": "@jupyter-widgets/base",
            "top": null,
            "grid_column": null,
            "overflow_y": null,
            "overflow_x": null,
            "grid_auto_flow": null,
            "grid_area": null,
            "grid_template_columns": null,
            "flex": null,
            "_model_name": "LayoutModel",
            "justify_items": null,
            "grid_row": null,
            "max_height": null,
            "align_content": null,
            "visibility": null,
            "align_self": null,
            "height": null,
            "min_height": null,
            "padding": null,
            "grid_auto_rows": null,
            "grid_gap": null,
            "max_width": null,
            "order": null,
            "_view_module_version": "1.2.0",
            "grid_template_areas": null,
            "object_position": null,
            "object_fit": null,
            "grid_auto_columns": null,
            "margin": null,
            "display": null,
            "left": null
          }
        },
        "773b97a9581140e19952b1f0e13bc5b8": {
          "model_module": "@jupyter-widgets/controls",
          "model_name": "DescriptionStyleModel",
          "state": {
            "_view_name": "StyleView",
            "_model_name": "DescriptionStyleModel",
            "description_width": "",
            "_view_module": "@jupyter-widgets/base",
            "_model_module_version": "1.5.0",
            "_view_count": null,
            "_view_module_version": "1.2.0",
            "_model_module": "@jupyter-widgets/controls"
          }
        },
        "57ec869e566644ef9a082922f0878257": {
          "model_module": "@jupyter-widgets/base",
          "model_name": "LayoutModel",
          "state": {
            "_view_name": "LayoutView",
            "grid_template_rows": null,
            "right": null,
            "justify_content": null,
            "_view_module": "@jupyter-widgets/base",
            "overflow": null,
            "_model_module_version": "1.2.0",
            "_view_count": null,
            "flex_flow": null,
            "width": null,
            "min_width": null,
            "border": null,
            "align_items": null,
            "bottom": null,
            "_model_module": "@jupyter-widgets/base",
            "top": null,
            "grid_column": null,
            "overflow_y": null,
            "overflow_x": null,
            "grid_auto_flow": null,
            "grid_area": null,
            "grid_template_columns": null,
            "flex": null,
            "_model_name": "LayoutModel",
            "justify_items": null,
            "grid_row": null,
            "max_height": null,
            "align_content": null,
            "visibility": null,
            "align_self": null,
            "height": null,
            "min_height": null,
            "padding": null,
            "grid_auto_rows": null,
            "grid_gap": null,
            "max_width": null,
            "order": null,
            "_view_module_version": "1.2.0",
            "grid_template_areas": null,
            "object_position": null,
            "object_fit": null,
            "grid_auto_columns": null,
            "margin": null,
            "display": null,
            "left": null
          }
        },
        "6e1c58a037ea4aeba325ae21502e791f": {
          "model_module": "@jupyter-widgets/controls",
          "model_name": "HBoxModel",
          "state": {
            "_view_name": "HBoxView",
            "_dom_classes": [],
            "_model_name": "HBoxModel",
            "_view_module": "@jupyter-widgets/controls",
            "_model_module_version": "1.5.0",
            "_view_count": null,
            "_view_module_version": "1.5.0",
            "box_style": "",
            "layout": "IPY_MODEL_30b454d79958415ba3fa54791350961c",
            "_model_module": "@jupyter-widgets/controls",
            "children": [
              "IPY_MODEL_ffa50493720c4f3085c2ddc141f9c845",
              "IPY_MODEL_7dbb5572027f4adb872c87583530dac9"
            ]
          }
        },
        "30b454d79958415ba3fa54791350961c": {
          "model_module": "@jupyter-widgets/base",
          "model_name": "LayoutModel",
          "state": {
            "_view_name": "LayoutView",
            "grid_template_rows": null,
            "right": null,
            "justify_content": null,
            "_view_module": "@jupyter-widgets/base",
            "overflow": null,
            "_model_module_version": "1.2.0",
            "_view_count": null,
            "flex_flow": null,
            "width": null,
            "min_width": null,
            "border": null,
            "align_items": null,
            "bottom": null,
            "_model_module": "@jupyter-widgets/base",
            "top": null,
            "grid_column": null,
            "overflow_y": null,
            "overflow_x": null,
            "grid_auto_flow": null,
            "grid_area": null,
            "grid_template_columns": null,
            "flex": null,
            "_model_name": "LayoutModel",
            "justify_items": null,
            "grid_row": null,
            "max_height": null,
            "align_content": null,
            "visibility": null,
            "align_self": null,
            "height": null,
            "min_height": null,
            "padding": null,
            "grid_auto_rows": null,
            "grid_gap": null,
            "max_width": null,
            "order": null,
            "_view_module_version": "1.2.0",
            "grid_template_areas": null,
            "object_position": null,
            "object_fit": null,
            "grid_auto_columns": null,
            "margin": null,
            "display": null,
            "left": null
          }
        },
        "ffa50493720c4f3085c2ddc141f9c845": {
          "model_module": "@jupyter-widgets/controls",
          "model_name": "FloatProgressModel",
          "state": {
            "_view_name": "ProgressView",
            "style": "IPY_MODEL_bb3a9403447640d1abada4ea61183e7e",
            "_dom_classes": [],
            "description": " 12%",
            "_model_name": "FloatProgressModel",
            "bar_style": "danger",
            "max": 50,
            "_view_module": "@jupyter-widgets/controls",
            "_model_module_version": "1.5.0",
            "value": 6,
            "_view_count": null,
            "_view_module_version": "1.5.0",
            "orientation": "horizontal",
            "min": 0,
            "description_tooltip": null,
            "_model_module": "@jupyter-widgets/controls",
            "layout": "IPY_MODEL_0b59e4bf2e3d49738657a699fe99ce4a"
          }
        },
        "7dbb5572027f4adb872c87583530dac9": {
          "model_module": "@jupyter-widgets/controls",
          "model_name": "HTMLModel",
          "state": {
            "_view_name": "HTMLView",
            "style": "IPY_MODEL_28f244fa5e454e3da68aa407193d48d0",
            "_dom_classes": [],
            "description": "",
            "_model_name": "HTMLModel",
            "placeholder": "​",
            "_view_module": "@jupyter-widgets/controls",
            "_model_module_version": "1.5.0",
            "value": " 6/50 [01:59&lt;12:27, 16.98s/it]",
            "_view_count": null,
            "_view_module_version": "1.5.0",
            "description_tooltip": null,
            "_model_module": "@jupyter-widgets/controls",
            "layout": "IPY_MODEL_316aa4f7107743169bda948f5f96e071"
          }
        },
        "bb3a9403447640d1abada4ea61183e7e": {
          "model_module": "@jupyter-widgets/controls",
          "model_name": "ProgressStyleModel",
          "state": {
            "_view_name": "StyleView",
            "_model_name": "ProgressStyleModel",
            "description_width": "initial",
            "_view_module": "@jupyter-widgets/base",
            "_model_module_version": "1.5.0",
            "_view_count": null,
            "_view_module_version": "1.2.0",
            "bar_color": null,
            "_model_module": "@jupyter-widgets/controls"
          }
        },
        "0b59e4bf2e3d49738657a699fe99ce4a": {
          "model_module": "@jupyter-widgets/base",
          "model_name": "LayoutModel",
          "state": {
            "_view_name": "LayoutView",
            "grid_template_rows": null,
            "right": null,
            "justify_content": null,
            "_view_module": "@jupyter-widgets/base",
            "overflow": null,
            "_model_module_version": "1.2.0",
            "_view_count": null,
            "flex_flow": null,
            "width": null,
            "min_width": null,
            "border": null,
            "align_items": null,
            "bottom": null,
            "_model_module": "@jupyter-widgets/base",
            "top": null,
            "grid_column": null,
            "overflow_y": null,
            "overflow_x": null,
            "grid_auto_flow": null,
            "grid_area": null,
            "grid_template_columns": null,
            "flex": null,
            "_model_name": "LayoutModel",
            "justify_items": null,
            "grid_row": null,
            "max_height": null,
            "align_content": null,
            "visibility": null,
            "align_self": null,
            "height": null,
            "min_height": null,
            "padding": null,
            "grid_auto_rows": null,
            "grid_gap": null,
            "max_width": null,
            "order": null,
            "_view_module_version": "1.2.0",
            "grid_template_areas": null,
            "object_position": null,
            "object_fit": null,
            "grid_auto_columns": null,
            "margin": null,
            "display": null,
            "left": null
          }
        },
        "28f244fa5e454e3da68aa407193d48d0": {
          "model_module": "@jupyter-widgets/controls",
          "model_name": "DescriptionStyleModel",
          "state": {
            "_view_name": "StyleView",
            "_model_name": "DescriptionStyleModel",
            "description_width": "",
            "_view_module": "@jupyter-widgets/base",
            "_model_module_version": "1.5.0",
            "_view_count": null,
            "_view_module_version": "1.2.0",
            "_model_module": "@jupyter-widgets/controls"
          }
        },
        "316aa4f7107743169bda948f5f96e071": {
          "model_module": "@jupyter-widgets/base",
          "model_name": "LayoutModel",
          "state": {
            "_view_name": "LayoutView",
            "grid_template_rows": null,
            "right": null,
            "justify_content": null,
            "_view_module": "@jupyter-widgets/base",
            "overflow": null,
            "_model_module_version": "1.2.0",
            "_view_count": null,
            "flex_flow": null,
            "width": null,
            "min_width": null,
            "border": null,
            "align_items": null,
            "bottom": null,
            "_model_module": "@jupyter-widgets/base",
            "top": null,
            "grid_column": null,
            "overflow_y": null,
            "overflow_x": null,
            "grid_auto_flow": null,
            "grid_area": null,
            "grid_template_columns": null,
            "flex": null,
            "_model_name": "LayoutModel",
            "justify_items": null,
            "grid_row": null,
            "max_height": null,
            "align_content": null,
            "visibility": null,
            "align_self": null,
            "height": null,
            "min_height": null,
            "padding": null,
            "grid_auto_rows": null,
            "grid_gap": null,
            "max_width": null,
            "order": null,
            "_view_module_version": "1.2.0",
            "grid_template_areas": null,
            "object_position": null,
            "object_fit": null,
            "grid_auto_columns": null,
            "margin": null,
            "display": null,
            "left": null
          }
        },
        "914bf0d968294bf386964625abfff2e5": {
          "model_module": "@jupyter-widgets/controls",
          "model_name": "HBoxModel",
          "state": {
            "_view_name": "HBoxView",
            "_dom_classes": [],
            "_model_name": "HBoxModel",
            "_view_module": "@jupyter-widgets/controls",
            "_model_module_version": "1.5.0",
            "_view_count": null,
            "_view_module_version": "1.5.0",
            "box_style": "",
            "layout": "IPY_MODEL_31c39f774a774a2990153409fda382e5",
            "_model_module": "@jupyter-widgets/controls",
            "children": [
              "IPY_MODEL_18f0b53297ba428583d51b7e35badca1",
              "IPY_MODEL_a753207a82974d478b137c15fc1948a7"
            ]
          }
        },
        "31c39f774a774a2990153409fda382e5": {
          "model_module": "@jupyter-widgets/base",
          "model_name": "LayoutModel",
          "state": {
            "_view_name": "LayoutView",
            "grid_template_rows": null,
            "right": null,
            "justify_content": null,
            "_view_module": "@jupyter-widgets/base",
            "overflow": null,
            "_model_module_version": "1.2.0",
            "_view_count": null,
            "flex_flow": null,
            "width": null,
            "min_width": null,
            "border": null,
            "align_items": null,
            "bottom": null,
            "_model_module": "@jupyter-widgets/base",
            "top": null,
            "grid_column": null,
            "overflow_y": null,
            "overflow_x": null,
            "grid_auto_flow": null,
            "grid_area": null,
            "grid_template_columns": null,
            "flex": null,
            "_model_name": "LayoutModel",
            "justify_items": null,
            "grid_row": null,
            "max_height": null,
            "align_content": null,
            "visibility": null,
            "align_self": null,
            "height": null,
            "min_height": null,
            "padding": null,
            "grid_auto_rows": null,
            "grid_gap": null,
            "max_width": null,
            "order": null,
            "_view_module_version": "1.2.0",
            "grid_template_areas": null,
            "object_position": null,
            "object_fit": null,
            "grid_auto_columns": null,
            "margin": null,
            "display": null,
            "left": null
          }
        },
        "18f0b53297ba428583d51b7e35badca1": {
          "model_module": "@jupyter-widgets/controls",
          "model_name": "FloatProgressModel",
          "state": {
            "_view_name": "ProgressView",
            "style": "IPY_MODEL_27f13afce4ef4f3a9bdd10d0883ec046",
            "_dom_classes": [],
            "description": " 86%",
            "_model_name": "FloatProgressModel",
            "bar_style": "danger",
            "max": 50,
            "_view_module": "@jupyter-widgets/controls",
            "_model_module_version": "1.5.0",
            "value": 43,
            "_view_count": null,
            "_view_module_version": "1.5.0",
            "orientation": "horizontal",
            "min": 0,
            "description_tooltip": null,
            "_model_module": "@jupyter-widgets/controls",
            "layout": "IPY_MODEL_0e639a64797e4c59b4359d07e73e96b8"
          }
        },
        "a753207a82974d478b137c15fc1948a7": {
          "model_module": "@jupyter-widgets/controls",
          "model_name": "HTMLModel",
          "state": {
            "_view_name": "HTMLView",
            "style": "IPY_MODEL_8127a88077324cc9ad27c3568b52e60e",
            "_dom_classes": [],
            "description": "",
            "_model_name": "HTMLModel",
            "placeholder": "​",
            "_view_module": "@jupyter-widgets/controls",
            "_model_module_version": "1.5.0",
            "value": " 43/50 [13:26&lt;02:08, 18.32s/it]",
            "_view_count": null,
            "_view_module_version": "1.5.0",
            "description_tooltip": null,
            "_model_module": "@jupyter-widgets/controls",
            "layout": "IPY_MODEL_c5febf1cab1d494dbd651b0834807e6e"
          }
        },
        "27f13afce4ef4f3a9bdd10d0883ec046": {
          "model_module": "@jupyter-widgets/controls",
          "model_name": "ProgressStyleModel",
          "state": {
            "_view_name": "StyleView",
            "_model_name": "ProgressStyleModel",
            "description_width": "initial",
            "_view_module": "@jupyter-widgets/base",
            "_model_module_version": "1.5.0",
            "_view_count": null,
            "_view_module_version": "1.2.0",
            "bar_color": null,
            "_model_module": "@jupyter-widgets/controls"
          }
        },
        "0e639a64797e4c59b4359d07e73e96b8": {
          "model_module": "@jupyter-widgets/base",
          "model_name": "LayoutModel",
          "state": {
            "_view_name": "LayoutView",
            "grid_template_rows": null,
            "right": null,
            "justify_content": null,
            "_view_module": "@jupyter-widgets/base",
            "overflow": null,
            "_model_module_version": "1.2.0",
            "_view_count": null,
            "flex_flow": null,
            "width": null,
            "min_width": null,
            "border": null,
            "align_items": null,
            "bottom": null,
            "_model_module": "@jupyter-widgets/base",
            "top": null,
            "grid_column": null,
            "overflow_y": null,
            "overflow_x": null,
            "grid_auto_flow": null,
            "grid_area": null,
            "grid_template_columns": null,
            "flex": null,
            "_model_name": "LayoutModel",
            "justify_items": null,
            "grid_row": null,
            "max_height": null,
            "align_content": null,
            "visibility": null,
            "align_self": null,
            "height": null,
            "min_height": null,
            "padding": null,
            "grid_auto_rows": null,
            "grid_gap": null,
            "max_width": null,
            "order": null,
            "_view_module_version": "1.2.0",
            "grid_template_areas": null,
            "object_position": null,
            "object_fit": null,
            "grid_auto_columns": null,
            "margin": null,
            "display": null,
            "left": null
          }
        },
        "8127a88077324cc9ad27c3568b52e60e": {
          "model_module": "@jupyter-widgets/controls",
          "model_name": "DescriptionStyleModel",
          "state": {
            "_view_name": "StyleView",
            "_model_name": "DescriptionStyleModel",
            "description_width": "",
            "_view_module": "@jupyter-widgets/base",
            "_model_module_version": "1.5.0",
            "_view_count": null,
            "_view_module_version": "1.2.0",
            "_model_module": "@jupyter-widgets/controls"
          }
        },
        "c5febf1cab1d494dbd651b0834807e6e": {
          "model_module": "@jupyter-widgets/base",
          "model_name": "LayoutModel",
          "state": {
            "_view_name": "LayoutView",
            "grid_template_rows": null,
            "right": null,
            "justify_content": null,
            "_view_module": "@jupyter-widgets/base",
            "overflow": null,
            "_model_module_version": "1.2.0",
            "_view_count": null,
            "flex_flow": null,
            "width": null,
            "min_width": null,
            "border": null,
            "align_items": null,
            "bottom": null,
            "_model_module": "@jupyter-widgets/base",
            "top": null,
            "grid_column": null,
            "overflow_y": null,
            "overflow_x": null,
            "grid_auto_flow": null,
            "grid_area": null,
            "grid_template_columns": null,
            "flex": null,
            "_model_name": "LayoutModel",
            "justify_items": null,
            "grid_row": null,
            "max_height": null,
            "align_content": null,
            "visibility": null,
            "align_self": null,
            "height": null,
            "min_height": null,
            "padding": null,
            "grid_auto_rows": null,
            "grid_gap": null,
            "max_width": null,
            "order": null,
            "_view_module_version": "1.2.0",
            "grid_template_areas": null,
            "object_position": null,
            "object_fit": null,
            "grid_auto_columns": null,
            "margin": null,
            "display": null,
            "left": null
          }
        },
        "b88c1c86e64e4483998fb54fa7561ab4": {
          "model_module": "@jupyter-widgets/controls",
          "model_name": "HBoxModel",
          "state": {
            "_view_name": "HBoxView",
            "_dom_classes": [],
            "_model_name": "HBoxModel",
            "_view_module": "@jupyter-widgets/controls",
            "_model_module_version": "1.5.0",
            "_view_count": null,
            "_view_module_version": "1.5.0",
            "box_style": "",
            "layout": "IPY_MODEL_f72ade2173294fb6b5e4215abe33d303",
            "_model_module": "@jupyter-widgets/controls",
            "children": [
              "IPY_MODEL_65acf87800e94fb394c2ef6fe75b002c",
              "IPY_MODEL_5082de2dea5f44149a3533949f33bce8"
            ]
          }
        },
        "f72ade2173294fb6b5e4215abe33d303": {
          "model_module": "@jupyter-widgets/base",
          "model_name": "LayoutModel",
          "state": {
            "_view_name": "LayoutView",
            "grid_template_rows": null,
            "right": null,
            "justify_content": null,
            "_view_module": "@jupyter-widgets/base",
            "overflow": null,
            "_model_module_version": "1.2.0",
            "_view_count": null,
            "flex_flow": null,
            "width": null,
            "min_width": null,
            "border": null,
            "align_items": null,
            "bottom": null,
            "_model_module": "@jupyter-widgets/base",
            "top": null,
            "grid_column": null,
            "overflow_y": null,
            "overflow_x": null,
            "grid_auto_flow": null,
            "grid_area": null,
            "grid_template_columns": null,
            "flex": null,
            "_model_name": "LayoutModel",
            "justify_items": null,
            "grid_row": null,
            "max_height": null,
            "align_content": null,
            "visibility": null,
            "align_self": null,
            "height": null,
            "min_height": null,
            "padding": null,
            "grid_auto_rows": null,
            "grid_gap": null,
            "max_width": null,
            "order": null,
            "_view_module_version": "1.2.0",
            "grid_template_areas": null,
            "object_position": null,
            "object_fit": null,
            "grid_auto_columns": null,
            "margin": null,
            "display": null,
            "left": null
          }
        },
        "65acf87800e94fb394c2ef6fe75b002c": {
          "model_module": "@jupyter-widgets/controls",
          "model_name": "FloatProgressModel",
          "state": {
            "_view_name": "ProgressView",
            "style": "IPY_MODEL_c7defe1dab4a48aca171d1a37cb6720f",
            "_dom_classes": [],
            "description": " 36%",
            "_model_name": "FloatProgressModel",
            "bar_style": "danger",
            "max": 50,
            "_view_module": "@jupyter-widgets/controls",
            "_model_module_version": "1.5.0",
            "value": 18,
            "_view_count": null,
            "_view_module_version": "1.5.0",
            "orientation": "horizontal",
            "min": 0,
            "description_tooltip": null,
            "_model_module": "@jupyter-widgets/controls",
            "layout": "IPY_MODEL_1ae2b545c16142d99b35ee027fb27051"
          }
        },
        "5082de2dea5f44149a3533949f33bce8": {
          "model_module": "@jupyter-widgets/controls",
          "model_name": "HTMLModel",
          "state": {
            "_view_name": "HTMLView",
            "style": "IPY_MODEL_a7be9cf777f24516b634a103cfb49dfb",
            "_dom_classes": [],
            "description": "",
            "_model_name": "HTMLModel",
            "placeholder": "​",
            "_view_module": "@jupyter-widgets/controls",
            "_model_module_version": "1.5.0",
            "value": " 18/50 [05:32&lt;09:16, 17.40s/it]",
            "_view_count": null,
            "_view_module_version": "1.5.0",
            "description_tooltip": null,
            "_model_module": "@jupyter-widgets/controls",
            "layout": "IPY_MODEL_0a850786445140dfa0a449d18f3392df"
          }
        },
        "c7defe1dab4a48aca171d1a37cb6720f": {
          "model_module": "@jupyter-widgets/controls",
          "model_name": "ProgressStyleModel",
          "state": {
            "_view_name": "StyleView",
            "_model_name": "ProgressStyleModel",
            "description_width": "initial",
            "_view_module": "@jupyter-widgets/base",
            "_model_module_version": "1.5.0",
            "_view_count": null,
            "_view_module_version": "1.2.0",
            "bar_color": null,
            "_model_module": "@jupyter-widgets/controls"
          }
        },
        "1ae2b545c16142d99b35ee027fb27051": {
          "model_module": "@jupyter-widgets/base",
          "model_name": "LayoutModel",
          "state": {
            "_view_name": "LayoutView",
            "grid_template_rows": null,
            "right": null,
            "justify_content": null,
            "_view_module": "@jupyter-widgets/base",
            "overflow": null,
            "_model_module_version": "1.2.0",
            "_view_count": null,
            "flex_flow": null,
            "width": null,
            "min_width": null,
            "border": null,
            "align_items": null,
            "bottom": null,
            "_model_module": "@jupyter-widgets/base",
            "top": null,
            "grid_column": null,
            "overflow_y": null,
            "overflow_x": null,
            "grid_auto_flow": null,
            "grid_area": null,
            "grid_template_columns": null,
            "flex": null,
            "_model_name": "LayoutModel",
            "justify_items": null,
            "grid_row": null,
            "max_height": null,
            "align_content": null,
            "visibility": null,
            "align_self": null,
            "height": null,
            "min_height": null,
            "padding": null,
            "grid_auto_rows": null,
            "grid_gap": null,
            "max_width": null,
            "order": null,
            "_view_module_version": "1.2.0",
            "grid_template_areas": null,
            "object_position": null,
            "object_fit": null,
            "grid_auto_columns": null,
            "margin": null,
            "display": null,
            "left": null
          }
        },
        "a7be9cf777f24516b634a103cfb49dfb": {
          "model_module": "@jupyter-widgets/controls",
          "model_name": "DescriptionStyleModel",
          "state": {
            "_view_name": "StyleView",
            "_model_name": "DescriptionStyleModel",
            "description_width": "",
            "_view_module": "@jupyter-widgets/base",
            "_model_module_version": "1.5.0",
            "_view_count": null,
            "_view_module_version": "1.2.0",
            "_model_module": "@jupyter-widgets/controls"
          }
        },
        "0a850786445140dfa0a449d18f3392df": {
          "model_module": "@jupyter-widgets/base",
          "model_name": "LayoutModel",
          "state": {
            "_view_name": "LayoutView",
            "grid_template_rows": null,
            "right": null,
            "justify_content": null,
            "_view_module": "@jupyter-widgets/base",
            "overflow": null,
            "_model_module_version": "1.2.0",
            "_view_count": null,
            "flex_flow": null,
            "width": null,
            "min_width": null,
            "border": null,
            "align_items": null,
            "bottom": null,
            "_model_module": "@jupyter-widgets/base",
            "top": null,
            "grid_column": null,
            "overflow_y": null,
            "overflow_x": null,
            "grid_auto_flow": null,
            "grid_area": null,
            "grid_template_columns": null,
            "flex": null,
            "_model_name": "LayoutModel",
            "justify_items": null,
            "grid_row": null,
            "max_height": null,
            "align_content": null,
            "visibility": null,
            "align_self": null,
            "height": null,
            "min_height": null,
            "padding": null,
            "grid_auto_rows": null,
            "grid_gap": null,
            "max_width": null,
            "order": null,
            "_view_module_version": "1.2.0",
            "grid_template_areas": null,
            "object_position": null,
            "object_fit": null,
            "grid_auto_columns": null,
            "margin": null,
            "display": null,
            "left": null
          }
        },
        "b064a7ec540d474b8c426f475d9badb8": {
          "model_module": "@jupyter-widgets/controls",
          "model_name": "HBoxModel",
          "state": {
            "_view_name": "HBoxView",
            "_dom_classes": [],
            "_model_name": "HBoxModel",
            "_view_module": "@jupyter-widgets/controls",
            "_model_module_version": "1.5.0",
            "_view_count": null,
            "_view_module_version": "1.5.0",
            "box_style": "",
            "layout": "IPY_MODEL_497d5dcf030244239a7a164e87d32ace",
            "_model_module": "@jupyter-widgets/controls",
            "children": [
              "IPY_MODEL_72d731582fa84cce824123561ec47054",
              "IPY_MODEL_9029a0f54715413db598ef1380df531b"
            ]
          }
        },
        "497d5dcf030244239a7a164e87d32ace": {
          "model_module": "@jupyter-widgets/base",
          "model_name": "LayoutModel",
          "state": {
            "_view_name": "LayoutView",
            "grid_template_rows": null,
            "right": null,
            "justify_content": null,
            "_view_module": "@jupyter-widgets/base",
            "overflow": null,
            "_model_module_version": "1.2.0",
            "_view_count": null,
            "flex_flow": null,
            "width": null,
            "min_width": null,
            "border": null,
            "align_items": null,
            "bottom": null,
            "_model_module": "@jupyter-widgets/base",
            "top": null,
            "grid_column": null,
            "overflow_y": null,
            "overflow_x": null,
            "grid_auto_flow": null,
            "grid_area": null,
            "grid_template_columns": null,
            "flex": null,
            "_model_name": "LayoutModel",
            "justify_items": null,
            "grid_row": null,
            "max_height": null,
            "align_content": null,
            "visibility": null,
            "align_self": null,
            "height": null,
            "min_height": null,
            "padding": null,
            "grid_auto_rows": null,
            "grid_gap": null,
            "max_width": null,
            "order": null,
            "_view_module_version": "1.2.0",
            "grid_template_areas": null,
            "object_position": null,
            "object_fit": null,
            "grid_auto_columns": null,
            "margin": null,
            "display": null,
            "left": null
          }
        },
        "72d731582fa84cce824123561ec47054": {
          "model_module": "@jupyter-widgets/controls",
          "model_name": "FloatProgressModel",
          "state": {
            "_view_name": "ProgressView",
            "style": "IPY_MODEL_2581e832229f47ec951a11adcfbe644c",
            "_dom_classes": [],
            "description": " 24%",
            "_model_name": "FloatProgressModel",
            "bar_style": "danger",
            "max": 50,
            "_view_module": "@jupyter-widgets/controls",
            "_model_module_version": "1.5.0",
            "value": 12,
            "_view_count": null,
            "_view_module_version": "1.5.0",
            "orientation": "horizontal",
            "min": 0,
            "description_tooltip": null,
            "_model_module": "@jupyter-widgets/controls",
            "layout": "IPY_MODEL_150c98c13a0640dfaf0d6ec14d42ece0"
          }
        },
        "9029a0f54715413db598ef1380df531b": {
          "model_module": "@jupyter-widgets/controls",
          "model_name": "HTMLModel",
          "state": {
            "_view_name": "HTMLView",
            "style": "IPY_MODEL_8793e1e5ea1b4b228cc44fec90ebf765",
            "_dom_classes": [],
            "description": "",
            "_model_name": "HTMLModel",
            "placeholder": "​",
            "_view_module": "@jupyter-widgets/controls",
            "_model_module_version": "1.5.0",
            "value": " 12/50 [04:09&lt;12:09, 19.20s/it]",
            "_view_count": null,
            "_view_module_version": "1.5.0",
            "description_tooltip": null,
            "_model_module": "@jupyter-widgets/controls",
            "layout": "IPY_MODEL_19b51fa29f6b4357a1b3ea1a0c3c1ff7"
          }
        },
        "2581e832229f47ec951a11adcfbe644c": {
          "model_module": "@jupyter-widgets/controls",
          "model_name": "ProgressStyleModel",
          "state": {
            "_view_name": "StyleView",
            "_model_name": "ProgressStyleModel",
            "description_width": "initial",
            "_view_module": "@jupyter-widgets/base",
            "_model_module_version": "1.5.0",
            "_view_count": null,
            "_view_module_version": "1.2.0",
            "bar_color": null,
            "_model_module": "@jupyter-widgets/controls"
          }
        },
        "150c98c13a0640dfaf0d6ec14d42ece0": {
          "model_module": "@jupyter-widgets/base",
          "model_name": "LayoutModel",
          "state": {
            "_view_name": "LayoutView",
            "grid_template_rows": null,
            "right": null,
            "justify_content": null,
            "_view_module": "@jupyter-widgets/base",
            "overflow": null,
            "_model_module_version": "1.2.0",
            "_view_count": null,
            "flex_flow": null,
            "width": null,
            "min_width": null,
            "border": null,
            "align_items": null,
            "bottom": null,
            "_model_module": "@jupyter-widgets/base",
            "top": null,
            "grid_column": null,
            "overflow_y": null,
            "overflow_x": null,
            "grid_auto_flow": null,
            "grid_area": null,
            "grid_template_columns": null,
            "flex": null,
            "_model_name": "LayoutModel",
            "justify_items": null,
            "grid_row": null,
            "max_height": null,
            "align_content": null,
            "visibility": null,
            "align_self": null,
            "height": null,
            "min_height": null,
            "padding": null,
            "grid_auto_rows": null,
            "grid_gap": null,
            "max_width": null,
            "order": null,
            "_view_module_version": "1.2.0",
            "grid_template_areas": null,
            "object_position": null,
            "object_fit": null,
            "grid_auto_columns": null,
            "margin": null,
            "display": null,
            "left": null
          }
        },
        "8793e1e5ea1b4b228cc44fec90ebf765": {
          "model_module": "@jupyter-widgets/controls",
          "model_name": "DescriptionStyleModel",
          "state": {
            "_view_name": "StyleView",
            "_model_name": "DescriptionStyleModel",
            "description_width": "",
            "_view_module": "@jupyter-widgets/base",
            "_model_module_version": "1.5.0",
            "_view_count": null,
            "_view_module_version": "1.2.0",
            "_model_module": "@jupyter-widgets/controls"
          }
        },
        "19b51fa29f6b4357a1b3ea1a0c3c1ff7": {
          "model_module": "@jupyter-widgets/base",
          "model_name": "LayoutModel",
          "state": {
            "_view_name": "LayoutView",
            "grid_template_rows": null,
            "right": null,
            "justify_content": null,
            "_view_module": "@jupyter-widgets/base",
            "overflow": null,
            "_model_module_version": "1.2.0",
            "_view_count": null,
            "flex_flow": null,
            "width": null,
            "min_width": null,
            "border": null,
            "align_items": null,
            "bottom": null,
            "_model_module": "@jupyter-widgets/base",
            "top": null,
            "grid_column": null,
            "overflow_y": null,
            "overflow_x": null,
            "grid_auto_flow": null,
            "grid_area": null,
            "grid_template_columns": null,
            "flex": null,
            "_model_name": "LayoutModel",
            "justify_items": null,
            "grid_row": null,
            "max_height": null,
            "align_content": null,
            "visibility": null,
            "align_self": null,
            "height": null,
            "min_height": null,
            "padding": null,
            "grid_auto_rows": null,
            "grid_gap": null,
            "max_width": null,
            "order": null,
            "_view_module_version": "1.2.0",
            "grid_template_areas": null,
            "object_position": null,
            "object_fit": null,
            "grid_auto_columns": null,
            "margin": null,
            "display": null,
            "left": null
          }
        },
        "500ebeb87a14440a81b6e90c4d0aa6e7": {
          "model_module": "@jupyter-widgets/controls",
          "model_name": "HBoxModel",
          "state": {
            "_view_name": "HBoxView",
            "_dom_classes": [],
            "_model_name": "HBoxModel",
            "_view_module": "@jupyter-widgets/controls",
            "_model_module_version": "1.5.0",
            "_view_count": null,
            "_view_module_version": "1.5.0",
            "box_style": "",
            "layout": "IPY_MODEL_4ecf54a9e8cb4420a78ae8b11b163887",
            "_model_module": "@jupyter-widgets/controls",
            "children": [
              "IPY_MODEL_edc468a605834cfb91d5e47509d4ad61",
              "IPY_MODEL_e6a95860dad94ef8b7a8e85b58c7d7f1"
            ]
          }
        },
        "4ecf54a9e8cb4420a78ae8b11b163887": {
          "model_module": "@jupyter-widgets/base",
          "model_name": "LayoutModel",
          "state": {
            "_view_name": "LayoutView",
            "grid_template_rows": null,
            "right": null,
            "justify_content": null,
            "_view_module": "@jupyter-widgets/base",
            "overflow": null,
            "_model_module_version": "1.2.0",
            "_view_count": null,
            "flex_flow": null,
            "width": null,
            "min_width": null,
            "border": null,
            "align_items": null,
            "bottom": null,
            "_model_module": "@jupyter-widgets/base",
            "top": null,
            "grid_column": null,
            "overflow_y": null,
            "overflow_x": null,
            "grid_auto_flow": null,
            "grid_area": null,
            "grid_template_columns": null,
            "flex": null,
            "_model_name": "LayoutModel",
            "justify_items": null,
            "grid_row": null,
            "max_height": null,
            "align_content": null,
            "visibility": null,
            "align_self": null,
            "height": null,
            "min_height": null,
            "padding": null,
            "grid_auto_rows": null,
            "grid_gap": null,
            "max_width": null,
            "order": null,
            "_view_module_version": "1.2.0",
            "grid_template_areas": null,
            "object_position": null,
            "object_fit": null,
            "grid_auto_columns": null,
            "margin": null,
            "display": null,
            "left": null
          }
        },
        "edc468a605834cfb91d5e47509d4ad61": {
          "model_module": "@jupyter-widgets/controls",
          "model_name": "FloatProgressModel",
          "state": {
            "_view_name": "ProgressView",
            "style": "IPY_MODEL_39b661063de148589dc1001cbc42f45f",
            "_dom_classes": [],
            "description": "100%",
            "_model_name": "FloatProgressModel",
            "bar_style": "success",
            "max": 50,
            "_view_module": "@jupyter-widgets/controls",
            "_model_module_version": "1.5.0",
            "value": 50,
            "_view_count": null,
            "_view_module_version": "1.5.0",
            "orientation": "horizontal",
            "min": 0,
            "description_tooltip": null,
            "_model_module": "@jupyter-widgets/controls",
            "layout": "IPY_MODEL_4bc30e9c6116434faa1d9484dd63043c"
          }
        },
        "e6a95860dad94ef8b7a8e85b58c7d7f1": {
          "model_module": "@jupyter-widgets/controls",
          "model_name": "HTMLModel",
          "state": {
            "_view_name": "HTMLView",
            "style": "IPY_MODEL_86144233d4904189b138551d68f3c1a7",
            "_dom_classes": [],
            "description": "",
            "_model_name": "HTMLModel",
            "placeholder": "​",
            "_view_module": "@jupyter-widgets/controls",
            "_model_module_version": "1.5.0",
            "value": " 50/50 [00:01&lt;00:00, 29.03it/s]",
            "_view_count": null,
            "_view_module_version": "1.5.0",
            "description_tooltip": null,
            "_model_module": "@jupyter-widgets/controls",
            "layout": "IPY_MODEL_f1dbc258c49544bab07387fb6209501a"
          }
        },
        "39b661063de148589dc1001cbc42f45f": {
          "model_module": "@jupyter-widgets/controls",
          "model_name": "ProgressStyleModel",
          "state": {
            "_view_name": "StyleView",
            "_model_name": "ProgressStyleModel",
            "description_width": "initial",
            "_view_module": "@jupyter-widgets/base",
            "_model_module_version": "1.5.0",
            "_view_count": null,
            "_view_module_version": "1.2.0",
            "bar_color": null,
            "_model_module": "@jupyter-widgets/controls"
          }
        },
        "4bc30e9c6116434faa1d9484dd63043c": {
          "model_module": "@jupyter-widgets/base",
          "model_name": "LayoutModel",
          "state": {
            "_view_name": "LayoutView",
            "grid_template_rows": null,
            "right": null,
            "justify_content": null,
            "_view_module": "@jupyter-widgets/base",
            "overflow": null,
            "_model_module_version": "1.2.0",
            "_view_count": null,
            "flex_flow": null,
            "width": null,
            "min_width": null,
            "border": null,
            "align_items": null,
            "bottom": null,
            "_model_module": "@jupyter-widgets/base",
            "top": null,
            "grid_column": null,
            "overflow_y": null,
            "overflow_x": null,
            "grid_auto_flow": null,
            "grid_area": null,
            "grid_template_columns": null,
            "flex": null,
            "_model_name": "LayoutModel",
            "justify_items": null,
            "grid_row": null,
            "max_height": null,
            "align_content": null,
            "visibility": null,
            "align_self": null,
            "height": null,
            "min_height": null,
            "padding": null,
            "grid_auto_rows": null,
            "grid_gap": null,
            "max_width": null,
            "order": null,
            "_view_module_version": "1.2.0",
            "grid_template_areas": null,
            "object_position": null,
            "object_fit": null,
            "grid_auto_columns": null,
            "margin": null,
            "display": null,
            "left": null
          }
        },
        "86144233d4904189b138551d68f3c1a7": {
          "model_module": "@jupyter-widgets/controls",
          "model_name": "DescriptionStyleModel",
          "state": {
            "_view_name": "StyleView",
            "_model_name": "DescriptionStyleModel",
            "description_width": "",
            "_view_module": "@jupyter-widgets/base",
            "_model_module_version": "1.5.0",
            "_view_count": null,
            "_view_module_version": "1.2.0",
            "_model_module": "@jupyter-widgets/controls"
          }
        },
        "f1dbc258c49544bab07387fb6209501a": {
          "model_module": "@jupyter-widgets/base",
          "model_name": "LayoutModel",
          "state": {
            "_view_name": "LayoutView",
            "grid_template_rows": null,
            "right": null,
            "justify_content": null,
            "_view_module": "@jupyter-widgets/base",
            "overflow": null,
            "_model_module_version": "1.2.0",
            "_view_count": null,
            "flex_flow": null,
            "width": null,
            "min_width": null,
            "border": null,
            "align_items": null,
            "bottom": null,
            "_model_module": "@jupyter-widgets/base",
            "top": null,
            "grid_column": null,
            "overflow_y": null,
            "overflow_x": null,
            "grid_auto_flow": null,
            "grid_area": null,
            "grid_template_columns": null,
            "flex": null,
            "_model_name": "LayoutModel",
            "justify_items": null,
            "grid_row": null,
            "max_height": null,
            "align_content": null,
            "visibility": null,
            "align_self": null,
            "height": null,
            "min_height": null,
            "padding": null,
            "grid_auto_rows": null,
            "grid_gap": null,
            "max_width": null,
            "order": null,
            "_view_module_version": "1.2.0",
            "grid_template_areas": null,
            "object_position": null,
            "object_fit": null,
            "grid_auto_columns": null,
            "margin": null,
            "display": null,
            "left": null
          }
        },
        "6aa8582f062349e7a5abf9e560d1890b": {
          "model_module": "@jupyter-widgets/controls",
          "model_name": "HBoxModel",
          "state": {
            "_view_name": "HBoxView",
            "_dom_classes": [],
            "_model_name": "HBoxModel",
            "_view_module": "@jupyter-widgets/controls",
            "_model_module_version": "1.5.0",
            "_view_count": null,
            "_view_module_version": "1.5.0",
            "box_style": "",
            "layout": "IPY_MODEL_a4ecdf908d6e4c6aacb7d6e7e710d1b0",
            "_model_module": "@jupyter-widgets/controls",
            "children": [
              "IPY_MODEL_050dc0b70f614f009b1051f09a40d039",
              "IPY_MODEL_ba4d187325d84769a11d998c871f34b9"
            ]
          }
        },
        "a4ecdf908d6e4c6aacb7d6e7e710d1b0": {
          "model_module": "@jupyter-widgets/base",
          "model_name": "LayoutModel",
          "state": {
            "_view_name": "LayoutView",
            "grid_template_rows": null,
            "right": null,
            "justify_content": null,
            "_view_module": "@jupyter-widgets/base",
            "overflow": null,
            "_model_module_version": "1.2.0",
            "_view_count": null,
            "flex_flow": null,
            "width": null,
            "min_width": null,
            "border": null,
            "align_items": null,
            "bottom": null,
            "_model_module": "@jupyter-widgets/base",
            "top": null,
            "grid_column": null,
            "overflow_y": null,
            "overflow_x": null,
            "grid_auto_flow": null,
            "grid_area": null,
            "grid_template_columns": null,
            "flex": null,
            "_model_name": "LayoutModel",
            "justify_items": null,
            "grid_row": null,
            "max_height": null,
            "align_content": null,
            "visibility": null,
            "align_self": null,
            "height": null,
            "min_height": null,
            "padding": null,
            "grid_auto_rows": null,
            "grid_gap": null,
            "max_width": null,
            "order": null,
            "_view_module_version": "1.2.0",
            "grid_template_areas": null,
            "object_position": null,
            "object_fit": null,
            "grid_auto_columns": null,
            "margin": null,
            "display": null,
            "left": null
          }
        },
        "050dc0b70f614f009b1051f09a40d039": {
          "model_module": "@jupyter-widgets/controls",
          "model_name": "FloatProgressModel",
          "state": {
            "_view_name": "ProgressView",
            "style": "IPY_MODEL_1e97b5b775854aa68f6154b7442a0613",
            "_dom_classes": [],
            "description": " 32%",
            "_model_name": "FloatProgressModel",
            "bar_style": "danger",
            "max": 50,
            "_view_module": "@jupyter-widgets/controls",
            "_model_module_version": "1.5.0",
            "value": 16,
            "_view_count": null,
            "_view_module_version": "1.5.0",
            "orientation": "horizontal",
            "min": 0,
            "description_tooltip": null,
            "_model_module": "@jupyter-widgets/controls",
            "layout": "IPY_MODEL_366692be03f34e9b82d05aba75811874"
          }
        },
        "ba4d187325d84769a11d998c871f34b9": {
          "model_module": "@jupyter-widgets/controls",
          "model_name": "HTMLModel",
          "state": {
            "_view_name": "HTMLView",
            "style": "IPY_MODEL_ad6c173c7a734946a9a5f0be970db94d",
            "_dom_classes": [],
            "description": "",
            "_model_name": "HTMLModel",
            "placeholder": "​",
            "_view_module": "@jupyter-widgets/controls",
            "_model_module_version": "1.5.0",
            "value": " 16/50 [09:46&lt;19:32, 34.49s/it]",
            "_view_count": null,
            "_view_module_version": "1.5.0",
            "description_tooltip": null,
            "_model_module": "@jupyter-widgets/controls",
            "layout": "IPY_MODEL_a3f71d4f28a44f8fbb62108bd1b788f1"
          }
        },
        "1e97b5b775854aa68f6154b7442a0613": {
          "model_module": "@jupyter-widgets/controls",
          "model_name": "ProgressStyleModel",
          "state": {
            "_view_name": "StyleView",
            "_model_name": "ProgressStyleModel",
            "description_width": "initial",
            "_view_module": "@jupyter-widgets/base",
            "_model_module_version": "1.5.0",
            "_view_count": null,
            "_view_module_version": "1.2.0",
            "bar_color": null,
            "_model_module": "@jupyter-widgets/controls"
          }
        },
        "366692be03f34e9b82d05aba75811874": {
          "model_module": "@jupyter-widgets/base",
          "model_name": "LayoutModel",
          "state": {
            "_view_name": "LayoutView",
            "grid_template_rows": null,
            "right": null,
            "justify_content": null,
            "_view_module": "@jupyter-widgets/base",
            "overflow": null,
            "_model_module_version": "1.2.0",
            "_view_count": null,
            "flex_flow": null,
            "width": null,
            "min_width": null,
            "border": null,
            "align_items": null,
            "bottom": null,
            "_model_module": "@jupyter-widgets/base",
            "top": null,
            "grid_column": null,
            "overflow_y": null,
            "overflow_x": null,
            "grid_auto_flow": null,
            "grid_area": null,
            "grid_template_columns": null,
            "flex": null,
            "_model_name": "LayoutModel",
            "justify_items": null,
            "grid_row": null,
            "max_height": null,
            "align_content": null,
            "visibility": null,
            "align_self": null,
            "height": null,
            "min_height": null,
            "padding": null,
            "grid_auto_rows": null,
            "grid_gap": null,
            "max_width": null,
            "order": null,
            "_view_module_version": "1.2.0",
            "grid_template_areas": null,
            "object_position": null,
            "object_fit": null,
            "grid_auto_columns": null,
            "margin": null,
            "display": null,
            "left": null
          }
        },
        "ad6c173c7a734946a9a5f0be970db94d": {
          "model_module": "@jupyter-widgets/controls",
          "model_name": "DescriptionStyleModel",
          "state": {
            "_view_name": "StyleView",
            "_model_name": "DescriptionStyleModel",
            "description_width": "",
            "_view_module": "@jupyter-widgets/base",
            "_model_module_version": "1.5.0",
            "_view_count": null,
            "_view_module_version": "1.2.0",
            "_model_module": "@jupyter-widgets/controls"
          }
        },
        "a3f71d4f28a44f8fbb62108bd1b788f1": {
          "model_module": "@jupyter-widgets/base",
          "model_name": "LayoutModel",
          "state": {
            "_view_name": "LayoutView",
            "grid_template_rows": null,
            "right": null,
            "justify_content": null,
            "_view_module": "@jupyter-widgets/base",
            "overflow": null,
            "_model_module_version": "1.2.0",
            "_view_count": null,
            "flex_flow": null,
            "width": null,
            "min_width": null,
            "border": null,
            "align_items": null,
            "bottom": null,
            "_model_module": "@jupyter-widgets/base",
            "top": null,
            "grid_column": null,
            "overflow_y": null,
            "overflow_x": null,
            "grid_auto_flow": null,
            "grid_area": null,
            "grid_template_columns": null,
            "flex": null,
            "_model_name": "LayoutModel",
            "justify_items": null,
            "grid_row": null,
            "max_height": null,
            "align_content": null,
            "visibility": null,
            "align_self": null,
            "height": null,
            "min_height": null,
            "padding": null,
            "grid_auto_rows": null,
            "grid_gap": null,
            "max_width": null,
            "order": null,
            "_view_module_version": "1.2.0",
            "grid_template_areas": null,
            "object_position": null,
            "object_fit": null,
            "grid_auto_columns": null,
            "margin": null,
            "display": null,
            "left": null
          }
        },
        "f7e82a6429ef46db8648de3b80252f85": {
          "model_module": "@jupyter-widgets/controls",
          "model_name": "HBoxModel",
          "state": {
            "_view_name": "HBoxView",
            "_dom_classes": [],
            "_model_name": "HBoxModel",
            "_view_module": "@jupyter-widgets/controls",
            "_model_module_version": "1.5.0",
            "_view_count": null,
            "_view_module_version": "1.5.0",
            "box_style": "",
            "layout": "IPY_MODEL_7c4056c89cdc408fa66408574845bf95",
            "_model_module": "@jupyter-widgets/controls",
            "children": [
              "IPY_MODEL_ccbe617a83df4b5ea92d598c4d735608",
              "IPY_MODEL_1132642aeb2e448aa5c1bce3fe423825"
            ]
          }
        },
        "7c4056c89cdc408fa66408574845bf95": {
          "model_module": "@jupyter-widgets/base",
          "model_name": "LayoutModel",
          "state": {
            "_view_name": "LayoutView",
            "grid_template_rows": null,
            "right": null,
            "justify_content": null,
            "_view_module": "@jupyter-widgets/base",
            "overflow": null,
            "_model_module_version": "1.2.0",
            "_view_count": null,
            "flex_flow": null,
            "width": null,
            "min_width": null,
            "border": null,
            "align_items": null,
            "bottom": null,
            "_model_module": "@jupyter-widgets/base",
            "top": null,
            "grid_column": null,
            "overflow_y": null,
            "overflow_x": null,
            "grid_auto_flow": null,
            "grid_area": null,
            "grid_template_columns": null,
            "flex": null,
            "_model_name": "LayoutModel",
            "justify_items": null,
            "grid_row": null,
            "max_height": null,
            "align_content": null,
            "visibility": null,
            "align_self": null,
            "height": null,
            "min_height": null,
            "padding": null,
            "grid_auto_rows": null,
            "grid_gap": null,
            "max_width": null,
            "order": null,
            "_view_module_version": "1.2.0",
            "grid_template_areas": null,
            "object_position": null,
            "object_fit": null,
            "grid_auto_columns": null,
            "margin": null,
            "display": null,
            "left": null
          }
        },
        "ccbe617a83df4b5ea92d598c4d735608": {
          "model_module": "@jupyter-widgets/controls",
          "model_name": "FloatProgressModel",
          "state": {
            "_view_name": "ProgressView",
            "style": "IPY_MODEL_e037cc438b1f4f9398e50d93fec2b6d8",
            "_dom_classes": [],
            "description": " 66%",
            "_model_name": "FloatProgressModel",
            "bar_style": "danger",
            "max": 50,
            "_view_module": "@jupyter-widgets/controls",
            "_model_module_version": "1.5.0",
            "value": 33,
            "_view_count": null,
            "_view_module_version": "1.5.0",
            "orientation": "horizontal",
            "min": 0,
            "description_tooltip": null,
            "_model_module": "@jupyter-widgets/controls",
            "layout": "IPY_MODEL_b541fff9e12a4002b283e40018d2a714"
          }
        },
        "1132642aeb2e448aa5c1bce3fe423825": {
          "model_module": "@jupyter-widgets/controls",
          "model_name": "HTMLModel",
          "state": {
            "_view_name": "HTMLView",
            "style": "IPY_MODEL_f18b1d682a1145f2b0869a54cc2c25b9",
            "_dom_classes": [],
            "description": "",
            "_model_name": "HTMLModel",
            "placeholder": "​",
            "_view_module": "@jupyter-widgets/controls",
            "_model_module_version": "1.5.0",
            "value": " 33/50 [14:47&lt;07:22, 26.05s/it]",
            "_view_count": null,
            "_view_module_version": "1.5.0",
            "description_tooltip": null,
            "_model_module": "@jupyter-widgets/controls",
            "layout": "IPY_MODEL_0871e5b938d44b1c970c40c10c344efa"
          }
        },
        "e037cc438b1f4f9398e50d93fec2b6d8": {
          "model_module": "@jupyter-widgets/controls",
          "model_name": "ProgressStyleModel",
          "state": {
            "_view_name": "StyleView",
            "_model_name": "ProgressStyleModel",
            "description_width": "initial",
            "_view_module": "@jupyter-widgets/base",
            "_model_module_version": "1.5.0",
            "_view_count": null,
            "_view_module_version": "1.2.0",
            "bar_color": null,
            "_model_module": "@jupyter-widgets/controls"
          }
        },
        "b541fff9e12a4002b283e40018d2a714": {
          "model_module": "@jupyter-widgets/base",
          "model_name": "LayoutModel",
          "state": {
            "_view_name": "LayoutView",
            "grid_template_rows": null,
            "right": null,
            "justify_content": null,
            "_view_module": "@jupyter-widgets/base",
            "overflow": null,
            "_model_module_version": "1.2.0",
            "_view_count": null,
            "flex_flow": null,
            "width": null,
            "min_width": null,
            "border": null,
            "align_items": null,
            "bottom": null,
            "_model_module": "@jupyter-widgets/base",
            "top": null,
            "grid_column": null,
            "overflow_y": null,
            "overflow_x": null,
            "grid_auto_flow": null,
            "grid_area": null,
            "grid_template_columns": null,
            "flex": null,
            "_model_name": "LayoutModel",
            "justify_items": null,
            "grid_row": null,
            "max_height": null,
            "align_content": null,
            "visibility": null,
            "align_self": null,
            "height": null,
            "min_height": null,
            "padding": null,
            "grid_auto_rows": null,
            "grid_gap": null,
            "max_width": null,
            "order": null,
            "_view_module_version": "1.2.0",
            "grid_template_areas": null,
            "object_position": null,
            "object_fit": null,
            "grid_auto_columns": null,
            "margin": null,
            "display": null,
            "left": null
          }
        },
        "f18b1d682a1145f2b0869a54cc2c25b9": {
          "model_module": "@jupyter-widgets/controls",
          "model_name": "DescriptionStyleModel",
          "state": {
            "_view_name": "StyleView",
            "_model_name": "DescriptionStyleModel",
            "description_width": "",
            "_view_module": "@jupyter-widgets/base",
            "_model_module_version": "1.5.0",
            "_view_count": null,
            "_view_module_version": "1.2.0",
            "_model_module": "@jupyter-widgets/controls"
          }
        },
        "0871e5b938d44b1c970c40c10c344efa": {
          "model_module": "@jupyter-widgets/base",
          "model_name": "LayoutModel",
          "state": {
            "_view_name": "LayoutView",
            "grid_template_rows": null,
            "right": null,
            "justify_content": null,
            "_view_module": "@jupyter-widgets/base",
            "overflow": null,
            "_model_module_version": "1.2.0",
            "_view_count": null,
            "flex_flow": null,
            "width": null,
            "min_width": null,
            "border": null,
            "align_items": null,
            "bottom": null,
            "_model_module": "@jupyter-widgets/base",
            "top": null,
            "grid_column": null,
            "overflow_y": null,
            "overflow_x": null,
            "grid_auto_flow": null,
            "grid_area": null,
            "grid_template_columns": null,
            "flex": null,
            "_model_name": "LayoutModel",
            "justify_items": null,
            "grid_row": null,
            "max_height": null,
            "align_content": null,
            "visibility": null,
            "align_self": null,
            "height": null,
            "min_height": null,
            "padding": null,
            "grid_auto_rows": null,
            "grid_gap": null,
            "max_width": null,
            "order": null,
            "_view_module_version": "1.2.0",
            "grid_template_areas": null,
            "object_position": null,
            "object_fit": null,
            "grid_auto_columns": null,
            "margin": null,
            "display": null,
            "left": null
          }
        },
        "a60f481534d545e292cfbc1f7bdd6bc4": {
          "model_module": "@jupyter-widgets/controls",
          "model_name": "HBoxModel",
          "state": {
            "_view_name": "HBoxView",
            "_dom_classes": [],
            "_model_name": "HBoxModel",
            "_view_module": "@jupyter-widgets/controls",
            "_model_module_version": "1.5.0",
            "_view_count": null,
            "_view_module_version": "1.5.0",
            "box_style": "",
            "layout": "IPY_MODEL_73c7c83ad0184883b78edd7da1067748",
            "_model_module": "@jupyter-widgets/controls",
            "children": [
              "IPY_MODEL_ddef828387cd414fb621ff339fb9aa56",
              "IPY_MODEL_535682af34b74b4ca5fd9ccc224f7b60"
            ]
          }
        },
        "73c7c83ad0184883b78edd7da1067748": {
          "model_module": "@jupyter-widgets/base",
          "model_name": "LayoutModel",
          "state": {
            "_view_name": "LayoutView",
            "grid_template_rows": null,
            "right": null,
            "justify_content": null,
            "_view_module": "@jupyter-widgets/base",
            "overflow": null,
            "_model_module_version": "1.2.0",
            "_view_count": null,
            "flex_flow": null,
            "width": null,
            "min_width": null,
            "border": null,
            "align_items": null,
            "bottom": null,
            "_model_module": "@jupyter-widgets/base",
            "top": null,
            "grid_column": null,
            "overflow_y": null,
            "overflow_x": null,
            "grid_auto_flow": null,
            "grid_area": null,
            "grid_template_columns": null,
            "flex": null,
            "_model_name": "LayoutModel",
            "justify_items": null,
            "grid_row": null,
            "max_height": null,
            "align_content": null,
            "visibility": null,
            "align_self": null,
            "height": null,
            "min_height": null,
            "padding": null,
            "grid_auto_rows": null,
            "grid_gap": null,
            "max_width": null,
            "order": null,
            "_view_module_version": "1.2.0",
            "grid_template_areas": null,
            "object_position": null,
            "object_fit": null,
            "grid_auto_columns": null,
            "margin": null,
            "display": null,
            "left": null
          }
        },
        "ddef828387cd414fb621ff339fb9aa56": {
          "model_module": "@jupyter-widgets/controls",
          "model_name": "FloatProgressModel",
          "state": {
            "_view_name": "ProgressView",
            "style": "IPY_MODEL_06900e7fe9324cbcaecc8ac0492899d8",
            "_dom_classes": [],
            "description": "100%",
            "_model_name": "FloatProgressModel",
            "bar_style": "success",
            "max": 50,
            "_view_module": "@jupyter-widgets/controls",
            "_model_module_version": "1.5.0",
            "value": 50,
            "_view_count": null,
            "_view_module_version": "1.5.0",
            "orientation": "horizontal",
            "min": 0,
            "description_tooltip": null,
            "_model_module": "@jupyter-widgets/controls",
            "layout": "IPY_MODEL_fa77df4caafa4d26a9b8a644f17d3360"
          }
        },
        "535682af34b74b4ca5fd9ccc224f7b60": {
          "model_module": "@jupyter-widgets/controls",
          "model_name": "HTMLModel",
          "state": {
            "_view_name": "HTMLView",
            "style": "IPY_MODEL_d71488e3e5a6487c90322bc268e222d5",
            "_dom_classes": [],
            "description": "",
            "_model_name": "HTMLModel",
            "placeholder": "​",
            "_view_module": "@jupyter-widgets/controls",
            "_model_module_version": "1.5.0",
            "value": " 50/50 [1:14:47&lt;00:00, 89.75s/it]",
            "_view_count": null,
            "_view_module_version": "1.5.0",
            "description_tooltip": null,
            "_model_module": "@jupyter-widgets/controls",
            "layout": "IPY_MODEL_734bc349311a470a9cf542fd75c4babe"
          }
        },
        "06900e7fe9324cbcaecc8ac0492899d8": {
          "model_module": "@jupyter-widgets/controls",
          "model_name": "ProgressStyleModel",
          "state": {
            "_view_name": "StyleView",
            "_model_name": "ProgressStyleModel",
            "description_width": "initial",
            "_view_module": "@jupyter-widgets/base",
            "_model_module_version": "1.5.0",
            "_view_count": null,
            "_view_module_version": "1.2.0",
            "bar_color": null,
            "_model_module": "@jupyter-widgets/controls"
          }
        },
        "fa77df4caafa4d26a9b8a644f17d3360": {
          "model_module": "@jupyter-widgets/base",
          "model_name": "LayoutModel",
          "state": {
            "_view_name": "LayoutView",
            "grid_template_rows": null,
            "right": null,
            "justify_content": null,
            "_view_module": "@jupyter-widgets/base",
            "overflow": null,
            "_model_module_version": "1.2.0",
            "_view_count": null,
            "flex_flow": null,
            "width": null,
            "min_width": null,
            "border": null,
            "align_items": null,
            "bottom": null,
            "_model_module": "@jupyter-widgets/base",
            "top": null,
            "grid_column": null,
            "overflow_y": null,
            "overflow_x": null,
            "grid_auto_flow": null,
            "grid_area": null,
            "grid_template_columns": null,
            "flex": null,
            "_model_name": "LayoutModel",
            "justify_items": null,
            "grid_row": null,
            "max_height": null,
            "align_content": null,
            "visibility": null,
            "align_self": null,
            "height": null,
            "min_height": null,
            "padding": null,
            "grid_auto_rows": null,
            "grid_gap": null,
            "max_width": null,
            "order": null,
            "_view_module_version": "1.2.0",
            "grid_template_areas": null,
            "object_position": null,
            "object_fit": null,
            "grid_auto_columns": null,
            "margin": null,
            "display": null,
            "left": null
          }
        },
        "d71488e3e5a6487c90322bc268e222d5": {
          "model_module": "@jupyter-widgets/controls",
          "model_name": "DescriptionStyleModel",
          "state": {
            "_view_name": "StyleView",
            "_model_name": "DescriptionStyleModel",
            "description_width": "",
            "_view_module": "@jupyter-widgets/base",
            "_model_module_version": "1.5.0",
            "_view_count": null,
            "_view_module_version": "1.2.0",
            "_model_module": "@jupyter-widgets/controls"
          }
        },
        "734bc349311a470a9cf542fd75c4babe": {
          "model_module": "@jupyter-widgets/base",
          "model_name": "LayoutModel",
          "state": {
            "_view_name": "LayoutView",
            "grid_template_rows": null,
            "right": null,
            "justify_content": null,
            "_view_module": "@jupyter-widgets/base",
            "overflow": null,
            "_model_module_version": "1.2.0",
            "_view_count": null,
            "flex_flow": null,
            "width": null,
            "min_width": null,
            "border": null,
            "align_items": null,
            "bottom": null,
            "_model_module": "@jupyter-widgets/base",
            "top": null,
            "grid_column": null,
            "overflow_y": null,
            "overflow_x": null,
            "grid_auto_flow": null,
            "grid_area": null,
            "grid_template_columns": null,
            "flex": null,
            "_model_name": "LayoutModel",
            "justify_items": null,
            "grid_row": null,
            "max_height": null,
            "align_content": null,
            "visibility": null,
            "align_self": null,
            "height": null,
            "min_height": null,
            "padding": null,
            "grid_auto_rows": null,
            "grid_gap": null,
            "max_width": null,
            "order": null,
            "_view_module_version": "1.2.0",
            "grid_template_areas": null,
            "object_position": null,
            "object_fit": null,
            "grid_auto_columns": null,
            "margin": null,
            "display": null,
            "left": null
          }
        },
        "09514f6c405147a896d08eae22310408": {
          "model_module": "@jupyter-widgets/controls",
          "model_name": "HBoxModel",
          "state": {
            "_view_name": "HBoxView",
            "_dom_classes": [],
            "_model_name": "HBoxModel",
            "_view_module": "@jupyter-widgets/controls",
            "_model_module_version": "1.5.0",
            "_view_count": null,
            "_view_module_version": "1.5.0",
            "box_style": "",
            "layout": "IPY_MODEL_118fa6e490bc4c029ca139ed5b799b4c",
            "_model_module": "@jupyter-widgets/controls",
            "children": [
              "IPY_MODEL_b71a249525c84e75a603e1011cd73009",
              "IPY_MODEL_2660aab17dfe4306a3fff56d42a395c6"
            ]
          }
        },
        "118fa6e490bc4c029ca139ed5b799b4c": {
          "model_module": "@jupyter-widgets/base",
          "model_name": "LayoutModel",
          "state": {
            "_view_name": "LayoutView",
            "grid_template_rows": null,
            "right": null,
            "justify_content": null,
            "_view_module": "@jupyter-widgets/base",
            "overflow": null,
            "_model_module_version": "1.2.0",
            "_view_count": null,
            "flex_flow": null,
            "width": null,
            "min_width": null,
            "border": null,
            "align_items": null,
            "bottom": null,
            "_model_module": "@jupyter-widgets/base",
            "top": null,
            "grid_column": null,
            "overflow_y": null,
            "overflow_x": null,
            "grid_auto_flow": null,
            "grid_area": null,
            "grid_template_columns": null,
            "flex": null,
            "_model_name": "LayoutModel",
            "justify_items": null,
            "grid_row": null,
            "max_height": null,
            "align_content": null,
            "visibility": null,
            "align_self": null,
            "height": null,
            "min_height": null,
            "padding": null,
            "grid_auto_rows": null,
            "grid_gap": null,
            "max_width": null,
            "order": null,
            "_view_module_version": "1.2.0",
            "grid_template_areas": null,
            "object_position": null,
            "object_fit": null,
            "grid_auto_columns": null,
            "margin": null,
            "display": null,
            "left": null
          }
        },
        "b71a249525c84e75a603e1011cd73009": {
          "model_module": "@jupyter-widgets/controls",
          "model_name": "FloatProgressModel",
          "state": {
            "_view_name": "ProgressView",
            "style": "IPY_MODEL_e9481de515db4f599718e917bdfbec44",
            "_dom_classes": [],
            "description": " 18%",
            "_model_name": "FloatProgressModel",
            "bar_style": "danger",
            "max": 50,
            "_view_module": "@jupyter-widgets/controls",
            "_model_module_version": "1.5.0",
            "value": 9,
            "_view_count": null,
            "_view_module_version": "1.5.0",
            "orientation": "horizontal",
            "min": 0,
            "description_tooltip": null,
            "_model_module": "@jupyter-widgets/controls",
            "layout": "IPY_MODEL_582f9d8fdc324c8daaa1433175ec80e3"
          }
        },
        "2660aab17dfe4306a3fff56d42a395c6": {
          "model_module": "@jupyter-widgets/controls",
          "model_name": "HTMLModel",
          "state": {
            "_view_name": "HTMLView",
            "style": "IPY_MODEL_258877e5b1cc4e4ba9cd07f6fc56f60c",
            "_dom_classes": [],
            "description": "",
            "_model_name": "HTMLModel",
            "placeholder": "​",
            "_view_module": "@jupyter-widgets/controls",
            "_model_module_version": "1.5.0",
            "value": " 9/50 [14:26&lt;59:20, 86.84s/it]",
            "_view_count": null,
            "_view_module_version": "1.5.0",
            "description_tooltip": null,
            "_model_module": "@jupyter-widgets/controls",
            "layout": "IPY_MODEL_6f34e05b3eae41318445fab064273e25"
          }
        },
        "e9481de515db4f599718e917bdfbec44": {
          "model_module": "@jupyter-widgets/controls",
          "model_name": "ProgressStyleModel",
          "state": {
            "_view_name": "StyleView",
            "_model_name": "ProgressStyleModel",
            "description_width": "initial",
            "_view_module": "@jupyter-widgets/base",
            "_model_module_version": "1.5.0",
            "_view_count": null,
            "_view_module_version": "1.2.0",
            "bar_color": null,
            "_model_module": "@jupyter-widgets/controls"
          }
        },
        "582f9d8fdc324c8daaa1433175ec80e3": {
          "model_module": "@jupyter-widgets/base",
          "model_name": "LayoutModel",
          "state": {
            "_view_name": "LayoutView",
            "grid_template_rows": null,
            "right": null,
            "justify_content": null,
            "_view_module": "@jupyter-widgets/base",
            "overflow": null,
            "_model_module_version": "1.2.0",
            "_view_count": null,
            "flex_flow": null,
            "width": null,
            "min_width": null,
            "border": null,
            "align_items": null,
            "bottom": null,
            "_model_module": "@jupyter-widgets/base",
            "top": null,
            "grid_column": null,
            "overflow_y": null,
            "overflow_x": null,
            "grid_auto_flow": null,
            "grid_area": null,
            "grid_template_columns": null,
            "flex": null,
            "_model_name": "LayoutModel",
            "justify_items": null,
            "grid_row": null,
            "max_height": null,
            "align_content": null,
            "visibility": null,
            "align_self": null,
            "height": null,
            "min_height": null,
            "padding": null,
            "grid_auto_rows": null,
            "grid_gap": null,
            "max_width": null,
            "order": null,
            "_view_module_version": "1.2.0",
            "grid_template_areas": null,
            "object_position": null,
            "object_fit": null,
            "grid_auto_columns": null,
            "margin": null,
            "display": null,
            "left": null
          }
        },
        "258877e5b1cc4e4ba9cd07f6fc56f60c": {
          "model_module": "@jupyter-widgets/controls",
          "model_name": "DescriptionStyleModel",
          "state": {
            "_view_name": "StyleView",
            "_model_name": "DescriptionStyleModel",
            "description_width": "",
            "_view_module": "@jupyter-widgets/base",
            "_model_module_version": "1.5.0",
            "_view_count": null,
            "_view_module_version": "1.2.0",
            "_model_module": "@jupyter-widgets/controls"
          }
        },
        "6f34e05b3eae41318445fab064273e25": {
          "model_module": "@jupyter-widgets/base",
          "model_name": "LayoutModel",
          "state": {
            "_view_name": "LayoutView",
            "grid_template_rows": null,
            "right": null,
            "justify_content": null,
            "_view_module": "@jupyter-widgets/base",
            "overflow": null,
            "_model_module_version": "1.2.0",
            "_view_count": null,
            "flex_flow": null,
            "width": null,
            "min_width": null,
            "border": null,
            "align_items": null,
            "bottom": null,
            "_model_module": "@jupyter-widgets/base",
            "top": null,
            "grid_column": null,
            "overflow_y": null,
            "overflow_x": null,
            "grid_auto_flow": null,
            "grid_area": null,
            "grid_template_columns": null,
            "flex": null,
            "_model_name": "LayoutModel",
            "justify_items": null,
            "grid_row": null,
            "max_height": null,
            "align_content": null,
            "visibility": null,
            "align_self": null,
            "height": null,
            "min_height": null,
            "padding": null,
            "grid_auto_rows": null,
            "grid_gap": null,
            "max_width": null,
            "order": null,
            "_view_module_version": "1.2.0",
            "grid_template_areas": null,
            "object_position": null,
            "object_fit": null,
            "grid_auto_columns": null,
            "margin": null,
            "display": null,
            "left": null
          }
        },
        "7083cbfd70bd49a8a6e94ff62301861a": {
          "model_module": "@jupyter-widgets/controls",
          "model_name": "HBoxModel",
          "state": {
            "_view_name": "HBoxView",
            "_dom_classes": [],
            "_model_name": "HBoxModel",
            "_view_module": "@jupyter-widgets/controls",
            "_model_module_version": "1.5.0",
            "_view_count": null,
            "_view_module_version": "1.5.0",
            "box_style": "",
            "layout": "IPY_MODEL_f87ebe3cf7aa4694a9fe2f84ca11fda2",
            "_model_module": "@jupyter-widgets/controls",
            "children": [
              "IPY_MODEL_570f5e59f8fe42a09fa33661600e1d0e",
              "IPY_MODEL_51a6f4f9a737450baac665ba77705fd8"
            ]
          }
        },
        "f87ebe3cf7aa4694a9fe2f84ca11fda2": {
          "model_module": "@jupyter-widgets/base",
          "model_name": "LayoutModel",
          "state": {
            "_view_name": "LayoutView",
            "grid_template_rows": null,
            "right": null,
            "justify_content": null,
            "_view_module": "@jupyter-widgets/base",
            "overflow": null,
            "_model_module_version": "1.2.0",
            "_view_count": null,
            "flex_flow": null,
            "width": null,
            "min_width": null,
            "border": null,
            "align_items": null,
            "bottom": null,
            "_model_module": "@jupyter-widgets/base",
            "top": null,
            "grid_column": null,
            "overflow_y": null,
            "overflow_x": null,
            "grid_auto_flow": null,
            "grid_area": null,
            "grid_template_columns": null,
            "flex": null,
            "_model_name": "LayoutModel",
            "justify_items": null,
            "grid_row": null,
            "max_height": null,
            "align_content": null,
            "visibility": null,
            "align_self": null,
            "height": null,
            "min_height": null,
            "padding": null,
            "grid_auto_rows": null,
            "grid_gap": null,
            "max_width": null,
            "order": null,
            "_view_module_version": "1.2.0",
            "grid_template_areas": null,
            "object_position": null,
            "object_fit": null,
            "grid_auto_columns": null,
            "margin": null,
            "display": null,
            "left": null
          }
        },
        "570f5e59f8fe42a09fa33661600e1d0e": {
          "model_module": "@jupyter-widgets/controls",
          "model_name": "FloatProgressModel",
          "state": {
            "_view_name": "ProgressView",
            "style": "IPY_MODEL_a96021611b9e4a049b25863f0f813e64",
            "_dom_classes": [],
            "description": " 40%",
            "_model_name": "FloatProgressModel",
            "bar_style": "danger",
            "max": 50,
            "_view_module": "@jupyter-widgets/controls",
            "_model_module_version": "1.5.0",
            "value": 20,
            "_view_count": null,
            "_view_module_version": "1.5.0",
            "orientation": "horizontal",
            "min": 0,
            "description_tooltip": null,
            "_model_module": "@jupyter-widgets/controls",
            "layout": "IPY_MODEL_3046824a5fa6446192d1a2b7ed06d81d"
          }
        },
        "51a6f4f9a737450baac665ba77705fd8": {
          "model_module": "@jupyter-widgets/controls",
          "model_name": "HTMLModel",
          "state": {
            "_view_name": "HTMLView",
            "style": "IPY_MODEL_eb246491d82844adbb0e3ae68cb23a70",
            "_dom_classes": [],
            "description": "",
            "_model_name": "HTMLModel",
            "placeholder": "​",
            "_view_module": "@jupyter-widgets/controls",
            "_model_module_version": "1.5.0",
            "value": " 20/50 [30:21&lt;43:14, 86.48s/it]",
            "_view_count": null,
            "_view_module_version": "1.5.0",
            "description_tooltip": null,
            "_model_module": "@jupyter-widgets/controls",
            "layout": "IPY_MODEL_799ca02071214dcd82db080728290376"
          }
        },
        "a96021611b9e4a049b25863f0f813e64": {
          "model_module": "@jupyter-widgets/controls",
          "model_name": "ProgressStyleModel",
          "state": {
            "_view_name": "StyleView",
            "_model_name": "ProgressStyleModel",
            "description_width": "initial",
            "_view_module": "@jupyter-widgets/base",
            "_model_module_version": "1.5.0",
            "_view_count": null,
            "_view_module_version": "1.2.0",
            "bar_color": null,
            "_model_module": "@jupyter-widgets/controls"
          }
        },
        "3046824a5fa6446192d1a2b7ed06d81d": {
          "model_module": "@jupyter-widgets/base",
          "model_name": "LayoutModel",
          "state": {
            "_view_name": "LayoutView",
            "grid_template_rows": null,
            "right": null,
            "justify_content": null,
            "_view_module": "@jupyter-widgets/base",
            "overflow": null,
            "_model_module_version": "1.2.0",
            "_view_count": null,
            "flex_flow": null,
            "width": null,
            "min_width": null,
            "border": null,
            "align_items": null,
            "bottom": null,
            "_model_module": "@jupyter-widgets/base",
            "top": null,
            "grid_column": null,
            "overflow_y": null,
            "overflow_x": null,
            "grid_auto_flow": null,
            "grid_area": null,
            "grid_template_columns": null,
            "flex": null,
            "_model_name": "LayoutModel",
            "justify_items": null,
            "grid_row": null,
            "max_height": null,
            "align_content": null,
            "visibility": null,
            "align_self": null,
            "height": null,
            "min_height": null,
            "padding": null,
            "grid_auto_rows": null,
            "grid_gap": null,
            "max_width": null,
            "order": null,
            "_view_module_version": "1.2.0",
            "grid_template_areas": null,
            "object_position": null,
            "object_fit": null,
            "grid_auto_columns": null,
            "margin": null,
            "display": null,
            "left": null
          }
        },
        "eb246491d82844adbb0e3ae68cb23a70": {
          "model_module": "@jupyter-widgets/controls",
          "model_name": "DescriptionStyleModel",
          "state": {
            "_view_name": "StyleView",
            "_model_name": "DescriptionStyleModel",
            "description_width": "",
            "_view_module": "@jupyter-widgets/base",
            "_model_module_version": "1.5.0",
            "_view_count": null,
            "_view_module_version": "1.2.0",
            "_model_module": "@jupyter-widgets/controls"
          }
        },
        "799ca02071214dcd82db080728290376": {
          "model_module": "@jupyter-widgets/base",
          "model_name": "LayoutModel",
          "state": {
            "_view_name": "LayoutView",
            "grid_template_rows": null,
            "right": null,
            "justify_content": null,
            "_view_module": "@jupyter-widgets/base",
            "overflow": null,
            "_model_module_version": "1.2.0",
            "_view_count": null,
            "flex_flow": null,
            "width": null,
            "min_width": null,
            "border": null,
            "align_items": null,
            "bottom": null,
            "_model_module": "@jupyter-widgets/base",
            "top": null,
            "grid_column": null,
            "overflow_y": null,
            "overflow_x": null,
            "grid_auto_flow": null,
            "grid_area": null,
            "grid_template_columns": null,
            "flex": null,
            "_model_name": "LayoutModel",
            "justify_items": null,
            "grid_row": null,
            "max_height": null,
            "align_content": null,
            "visibility": null,
            "align_self": null,
            "height": null,
            "min_height": null,
            "padding": null,
            "grid_auto_rows": null,
            "grid_gap": null,
            "max_width": null,
            "order": null,
            "_view_module_version": "1.2.0",
            "grid_template_areas": null,
            "object_position": null,
            "object_fit": null,
            "grid_auto_columns": null,
            "margin": null,
            "display": null,
            "left": null
          }
        },
        "df64f31f9f694d558d1922bead0e1495": {
          "model_module": "@jupyter-widgets/controls",
          "model_name": "HBoxModel",
          "state": {
            "_view_name": "HBoxView",
            "_dom_classes": [],
            "_model_name": "HBoxModel",
            "_view_module": "@jupyter-widgets/controls",
            "_model_module_version": "1.5.0",
            "_view_count": null,
            "_view_module_version": "1.5.0",
            "box_style": "",
            "layout": "IPY_MODEL_716498513bdf4bd9b63fe8e7a6889f98",
            "_model_module": "@jupyter-widgets/controls",
            "children": [
              "IPY_MODEL_971e6b61ec304c788fa70ac924c8d205",
              "IPY_MODEL_d2c0c44d6f4640d28812e5429839a1f8"
            ]
          }
        },
        "716498513bdf4bd9b63fe8e7a6889f98": {
          "model_module": "@jupyter-widgets/base",
          "model_name": "LayoutModel",
          "state": {
            "_view_name": "LayoutView",
            "grid_template_rows": null,
            "right": null,
            "justify_content": null,
            "_view_module": "@jupyter-widgets/base",
            "overflow": null,
            "_model_module_version": "1.2.0",
            "_view_count": null,
            "flex_flow": null,
            "width": null,
            "min_width": null,
            "border": null,
            "align_items": null,
            "bottom": null,
            "_model_module": "@jupyter-widgets/base",
            "top": null,
            "grid_column": null,
            "overflow_y": null,
            "overflow_x": null,
            "grid_auto_flow": null,
            "grid_area": null,
            "grid_template_columns": null,
            "flex": null,
            "_model_name": "LayoutModel",
            "justify_items": null,
            "grid_row": null,
            "max_height": null,
            "align_content": null,
            "visibility": null,
            "align_self": null,
            "height": null,
            "min_height": null,
            "padding": null,
            "grid_auto_rows": null,
            "grid_gap": null,
            "max_width": null,
            "order": null,
            "_view_module_version": "1.2.0",
            "grid_template_areas": null,
            "object_position": null,
            "object_fit": null,
            "grid_auto_columns": null,
            "margin": null,
            "display": null,
            "left": null
          }
        },
        "971e6b61ec304c788fa70ac924c8d205": {
          "model_module": "@jupyter-widgets/controls",
          "model_name": "FloatProgressModel",
          "state": {
            "_view_name": "ProgressView",
            "style": "IPY_MODEL_408873cde5ce408283d308f283497b4c",
            "_dom_classes": [],
            "description": " 30%",
            "_model_name": "FloatProgressModel",
            "bar_style": "danger",
            "max": 50,
            "_view_module": "@jupyter-widgets/controls",
            "_model_module_version": "1.5.0",
            "value": 15,
            "_view_count": null,
            "_view_module_version": "1.5.0",
            "orientation": "horizontal",
            "min": 0,
            "description_tooltip": null,
            "_model_module": "@jupyter-widgets/controls",
            "layout": "IPY_MODEL_1d2ceb1b1dfe4c5aa407130daa6c4cb8"
          }
        },
        "d2c0c44d6f4640d28812e5429839a1f8": {
          "model_module": "@jupyter-widgets/controls",
          "model_name": "HTMLModel",
          "state": {
            "_view_name": "HTMLView",
            "style": "IPY_MODEL_6c9bfdc2eb7740048283e2df0ecab65b",
            "_dom_classes": [],
            "description": "",
            "_model_name": "HTMLModel",
            "placeholder": "​",
            "_view_module": "@jupyter-widgets/controls",
            "_model_module_version": "1.5.0",
            "value": " 15/50 [12:10&lt;26:29, 45.41s/it]",
            "_view_count": null,
            "_view_module_version": "1.5.0",
            "description_tooltip": null,
            "_model_module": "@jupyter-widgets/controls",
            "layout": "IPY_MODEL_f256b86dcf094348abb842994d1281e0"
          }
        },
        "408873cde5ce408283d308f283497b4c": {
          "model_module": "@jupyter-widgets/controls",
          "model_name": "ProgressStyleModel",
          "state": {
            "_view_name": "StyleView",
            "_model_name": "ProgressStyleModel",
            "description_width": "initial",
            "_view_module": "@jupyter-widgets/base",
            "_model_module_version": "1.5.0",
            "_view_count": null,
            "_view_module_version": "1.2.0",
            "bar_color": null,
            "_model_module": "@jupyter-widgets/controls"
          }
        },
        "1d2ceb1b1dfe4c5aa407130daa6c4cb8": {
          "model_module": "@jupyter-widgets/base",
          "model_name": "LayoutModel",
          "state": {
            "_view_name": "LayoutView",
            "grid_template_rows": null,
            "right": null,
            "justify_content": null,
            "_view_module": "@jupyter-widgets/base",
            "overflow": null,
            "_model_module_version": "1.2.0",
            "_view_count": null,
            "flex_flow": null,
            "width": null,
            "min_width": null,
            "border": null,
            "align_items": null,
            "bottom": null,
            "_model_module": "@jupyter-widgets/base",
            "top": null,
            "grid_column": null,
            "overflow_y": null,
            "overflow_x": null,
            "grid_auto_flow": null,
            "grid_area": null,
            "grid_template_columns": null,
            "flex": null,
            "_model_name": "LayoutModel",
            "justify_items": null,
            "grid_row": null,
            "max_height": null,
            "align_content": null,
            "visibility": null,
            "align_self": null,
            "height": null,
            "min_height": null,
            "padding": null,
            "grid_auto_rows": null,
            "grid_gap": null,
            "max_width": null,
            "order": null,
            "_view_module_version": "1.2.0",
            "grid_template_areas": null,
            "object_position": null,
            "object_fit": null,
            "grid_auto_columns": null,
            "margin": null,
            "display": null,
            "left": null
          }
        },
        "6c9bfdc2eb7740048283e2df0ecab65b": {
          "model_module": "@jupyter-widgets/controls",
          "model_name": "DescriptionStyleModel",
          "state": {
            "_view_name": "StyleView",
            "_model_name": "DescriptionStyleModel",
            "description_width": "",
            "_view_module": "@jupyter-widgets/base",
            "_model_module_version": "1.5.0",
            "_view_count": null,
            "_view_module_version": "1.2.0",
            "_model_module": "@jupyter-widgets/controls"
          }
        },
        "f256b86dcf094348abb842994d1281e0": {
          "model_module": "@jupyter-widgets/base",
          "model_name": "LayoutModel",
          "state": {
            "_view_name": "LayoutView",
            "grid_template_rows": null,
            "right": null,
            "justify_content": null,
            "_view_module": "@jupyter-widgets/base",
            "overflow": null,
            "_model_module_version": "1.2.0",
            "_view_count": null,
            "flex_flow": null,
            "width": null,
            "min_width": null,
            "border": null,
            "align_items": null,
            "bottom": null,
            "_model_module": "@jupyter-widgets/base",
            "top": null,
            "grid_column": null,
            "overflow_y": null,
            "overflow_x": null,
            "grid_auto_flow": null,
            "grid_area": null,
            "grid_template_columns": null,
            "flex": null,
            "_model_name": "LayoutModel",
            "justify_items": null,
            "grid_row": null,
            "max_height": null,
            "align_content": null,
            "visibility": null,
            "align_self": null,
            "height": null,
            "min_height": null,
            "padding": null,
            "grid_auto_rows": null,
            "grid_gap": null,
            "max_width": null,
            "order": null,
            "_view_module_version": "1.2.0",
            "grid_template_areas": null,
            "object_position": null,
            "object_fit": null,
            "grid_auto_columns": null,
            "margin": null,
            "display": null,
            "left": null
          }
        },
        "137fd916e90449a4a915e4f8aca9657c": {
          "model_module": "@jupyter-widgets/controls",
          "model_name": "HBoxModel",
          "state": {
            "_view_name": "HBoxView",
            "_dom_classes": [],
            "_model_name": "HBoxModel",
            "_view_module": "@jupyter-widgets/controls",
            "_model_module_version": "1.5.0",
            "_view_count": null,
            "_view_module_version": "1.5.0",
            "box_style": "",
            "layout": "IPY_MODEL_40dc77c58d6b4bc9bdfe562dbaaa56d4",
            "_model_module": "@jupyter-widgets/controls",
            "children": [
              "IPY_MODEL_6cecfaf62a6147b0838821cf627a7650",
              "IPY_MODEL_7c5664ca811b4845b6c994ad9ebe3e44"
            ]
          }
        },
        "40dc77c58d6b4bc9bdfe562dbaaa56d4": {
          "model_module": "@jupyter-widgets/base",
          "model_name": "LayoutModel",
          "state": {
            "_view_name": "LayoutView",
            "grid_template_rows": null,
            "right": null,
            "justify_content": null,
            "_view_module": "@jupyter-widgets/base",
            "overflow": null,
            "_model_module_version": "1.2.0",
            "_view_count": null,
            "flex_flow": null,
            "width": null,
            "min_width": null,
            "border": null,
            "align_items": null,
            "bottom": null,
            "_model_module": "@jupyter-widgets/base",
            "top": null,
            "grid_column": null,
            "overflow_y": null,
            "overflow_x": null,
            "grid_auto_flow": null,
            "grid_area": null,
            "grid_template_columns": null,
            "flex": null,
            "_model_name": "LayoutModel",
            "justify_items": null,
            "grid_row": null,
            "max_height": null,
            "align_content": null,
            "visibility": null,
            "align_self": null,
            "height": null,
            "min_height": null,
            "padding": null,
            "grid_auto_rows": null,
            "grid_gap": null,
            "max_width": null,
            "order": null,
            "_view_module_version": "1.2.0",
            "grid_template_areas": null,
            "object_position": null,
            "object_fit": null,
            "grid_auto_columns": null,
            "margin": null,
            "display": null,
            "left": null
          }
        },
        "6cecfaf62a6147b0838821cf627a7650": {
          "model_module": "@jupyter-widgets/controls",
          "model_name": "FloatProgressModel",
          "state": {
            "_view_name": "ProgressView",
            "style": "IPY_MODEL_4e19c591177b4e7ca6f355e1d8ebfe28",
            "_dom_classes": [],
            "description": " 60%",
            "_model_name": "FloatProgressModel",
            "bar_style": "",
            "max": 5,
            "_view_module": "@jupyter-widgets/controls",
            "_model_module_version": "1.5.0",
            "value": 3,
            "_view_count": null,
            "_view_module_version": "1.5.0",
            "orientation": "horizontal",
            "min": 0,
            "description_tooltip": null,
            "_model_module": "@jupyter-widgets/controls",
            "layout": "IPY_MODEL_d6737e21af574e549fd144f94006811b"
          }
        },
        "7c5664ca811b4845b6c994ad9ebe3e44": {
          "model_module": "@jupyter-widgets/controls",
          "model_name": "HTMLModel",
          "state": {
            "_view_name": "HTMLView",
            "style": "IPY_MODEL_3ab09ab07cd048298eb3e1f01c032768",
            "_dom_classes": [],
            "description": "",
            "_model_name": "HTMLModel",
            "placeholder": "​",
            "_view_module": "@jupyter-widgets/controls",
            "_model_module_version": "1.5.0",
            "value": " 3/5 [1:00:46&lt;43:50, 1315.31s/it]",
            "_view_count": null,
            "_view_module_version": "1.5.0",
            "description_tooltip": null,
            "_model_module": "@jupyter-widgets/controls",
            "layout": "IPY_MODEL_1f2bdf837cbd40648f1d3ea918a993bb"
          }
        },
        "4e19c591177b4e7ca6f355e1d8ebfe28": {
          "model_module": "@jupyter-widgets/controls",
          "model_name": "ProgressStyleModel",
          "state": {
            "_view_name": "StyleView",
            "_model_name": "ProgressStyleModel",
            "description_width": "initial",
            "_view_module": "@jupyter-widgets/base",
            "_model_module_version": "1.5.0",
            "_view_count": null,
            "_view_module_version": "1.2.0",
            "bar_color": null,
            "_model_module": "@jupyter-widgets/controls"
          }
        },
        "d6737e21af574e549fd144f94006811b": {
          "model_module": "@jupyter-widgets/base",
          "model_name": "LayoutModel",
          "state": {
            "_view_name": "LayoutView",
            "grid_template_rows": null,
            "right": null,
            "justify_content": null,
            "_view_module": "@jupyter-widgets/base",
            "overflow": null,
            "_model_module_version": "1.2.0",
            "_view_count": null,
            "flex_flow": null,
            "width": null,
            "min_width": null,
            "border": null,
            "align_items": null,
            "bottom": null,
            "_model_module": "@jupyter-widgets/base",
            "top": null,
            "grid_column": null,
            "overflow_y": null,
            "overflow_x": null,
            "grid_auto_flow": null,
            "grid_area": null,
            "grid_template_columns": null,
            "flex": null,
            "_model_name": "LayoutModel",
            "justify_items": null,
            "grid_row": null,
            "max_height": null,
            "align_content": null,
            "visibility": null,
            "align_self": null,
            "height": null,
            "min_height": null,
            "padding": null,
            "grid_auto_rows": null,
            "grid_gap": null,
            "max_width": null,
            "order": null,
            "_view_module_version": "1.2.0",
            "grid_template_areas": null,
            "object_position": null,
            "object_fit": null,
            "grid_auto_columns": null,
            "margin": null,
            "display": null,
            "left": null
          }
        },
        "3ab09ab07cd048298eb3e1f01c032768": {
          "model_module": "@jupyter-widgets/controls",
          "model_name": "DescriptionStyleModel",
          "state": {
            "_view_name": "StyleView",
            "_model_name": "DescriptionStyleModel",
            "description_width": "",
            "_view_module": "@jupyter-widgets/base",
            "_model_module_version": "1.5.0",
            "_view_count": null,
            "_view_module_version": "1.2.0",
            "_model_module": "@jupyter-widgets/controls"
          }
        },
        "1f2bdf837cbd40648f1d3ea918a993bb": {
          "model_module": "@jupyter-widgets/base",
          "model_name": "LayoutModel",
          "state": {
            "_view_name": "LayoutView",
            "grid_template_rows": null,
            "right": null,
            "justify_content": null,
            "_view_module": "@jupyter-widgets/base",
            "overflow": null,
            "_model_module_version": "1.2.0",
            "_view_count": null,
            "flex_flow": null,
            "width": null,
            "min_width": null,
            "border": null,
            "align_items": null,
            "bottom": null,
            "_model_module": "@jupyter-widgets/base",
            "top": null,
            "grid_column": null,
            "overflow_y": null,
            "overflow_x": null,
            "grid_auto_flow": null,
            "grid_area": null,
            "grid_template_columns": null,
            "flex": null,
            "_model_name": "LayoutModel",
            "justify_items": null,
            "grid_row": null,
            "max_height": null,
            "align_content": null,
            "visibility": null,
            "align_self": null,
            "height": null,
            "min_height": null,
            "padding": null,
            "grid_auto_rows": null,
            "grid_gap": null,
            "max_width": null,
            "order": null,
            "_view_module_version": "1.2.0",
            "grid_template_areas": null,
            "object_position": null,
            "object_fit": null,
            "grid_auto_columns": null,
            "margin": null,
            "display": null,
            "left": null
          }
        },
        "0885684931694b718659bdc412ad3c50": {
          "model_module": "@jupyter-widgets/controls",
          "model_name": "HBoxModel",
          "state": {
            "_view_name": "HBoxView",
            "_dom_classes": [],
            "_model_name": "HBoxModel",
            "_view_module": "@jupyter-widgets/controls",
            "_model_module_version": "1.5.0",
            "_view_count": null,
            "_view_module_version": "1.5.0",
            "box_style": "",
            "layout": "IPY_MODEL_dbda47ed942f43ab8e825f9185f36801",
            "_model_module": "@jupyter-widgets/controls",
            "children": [
              "IPY_MODEL_1157425101db4012abfdaf2a89a7aadc",
              "IPY_MODEL_85a2a63d363c4eb2b6956b6ecb777bf0"
            ]
          }
        },
        "dbda47ed942f43ab8e825f9185f36801": {
          "model_module": "@jupyter-widgets/base",
          "model_name": "LayoutModel",
          "state": {
            "_view_name": "LayoutView",
            "grid_template_rows": null,
            "right": null,
            "justify_content": null,
            "_view_module": "@jupyter-widgets/base",
            "overflow": null,
            "_model_module_version": "1.2.0",
            "_view_count": null,
            "flex_flow": null,
            "width": null,
            "min_width": null,
            "border": null,
            "align_items": null,
            "bottom": null,
            "_model_module": "@jupyter-widgets/base",
            "top": null,
            "grid_column": null,
            "overflow_y": null,
            "overflow_x": null,
            "grid_auto_flow": null,
            "grid_area": null,
            "grid_template_columns": null,
            "flex": null,
            "_model_name": "LayoutModel",
            "justify_items": null,
            "grid_row": null,
            "max_height": null,
            "align_content": null,
            "visibility": null,
            "align_self": null,
            "height": null,
            "min_height": null,
            "padding": null,
            "grid_auto_rows": null,
            "grid_gap": null,
            "max_width": null,
            "order": null,
            "_view_module_version": "1.2.0",
            "grid_template_areas": null,
            "object_position": null,
            "object_fit": null,
            "grid_auto_columns": null,
            "margin": null,
            "display": null,
            "left": null
          }
        },
        "1157425101db4012abfdaf2a89a7aadc": {
          "model_module": "@jupyter-widgets/controls",
          "model_name": "FloatProgressModel",
          "state": {
            "_view_name": "ProgressView",
            "style": "IPY_MODEL_294177c7f3e545459e3b83bfddd6c6da",
            "_dom_classes": [],
            "description": " 48%",
            "_model_name": "FloatProgressModel",
            "bar_style": "danger",
            "max": 50,
            "_view_module": "@jupyter-widgets/controls",
            "_model_module_version": "1.5.0",
            "value": 24,
            "_view_count": null,
            "_view_module_version": "1.5.0",
            "orientation": "horizontal",
            "min": 0,
            "description_tooltip": null,
            "_model_module": "@jupyter-widgets/controls",
            "layout": "IPY_MODEL_98161b52b8234e0183ba49c08eb6a4c2"
          }
        },
        "85a2a63d363c4eb2b6956b6ecb777bf0": {
          "model_module": "@jupyter-widgets/controls",
          "model_name": "HTMLModel",
          "state": {
            "_view_name": "HTMLView",
            "style": "IPY_MODEL_a4c39fdff62a4a9aa2883b88b5d0a8b9",
            "_dom_classes": [],
            "description": "",
            "_model_name": "HTMLModel",
            "placeholder": "​",
            "_view_module": "@jupyter-widgets/controls",
            "_model_module_version": "1.5.0",
            "value": " 24/50 [27:08&lt;28:18, 65.32s/it]",
            "_view_count": null,
            "_view_module_version": "1.5.0",
            "description_tooltip": null,
            "_model_module": "@jupyter-widgets/controls",
            "layout": "IPY_MODEL_c3140cc3ac124ed2acbfe12213b7141c"
          }
        },
        "294177c7f3e545459e3b83bfddd6c6da": {
          "model_module": "@jupyter-widgets/controls",
          "model_name": "ProgressStyleModel",
          "state": {
            "_view_name": "StyleView",
            "_model_name": "ProgressStyleModel",
            "description_width": "initial",
            "_view_module": "@jupyter-widgets/base",
            "_model_module_version": "1.5.0",
            "_view_count": null,
            "_view_module_version": "1.2.0",
            "bar_color": null,
            "_model_module": "@jupyter-widgets/controls"
          }
        },
        "98161b52b8234e0183ba49c08eb6a4c2": {
          "model_module": "@jupyter-widgets/base",
          "model_name": "LayoutModel",
          "state": {
            "_view_name": "LayoutView",
            "grid_template_rows": null,
            "right": null,
            "justify_content": null,
            "_view_module": "@jupyter-widgets/base",
            "overflow": null,
            "_model_module_version": "1.2.0",
            "_view_count": null,
            "flex_flow": null,
            "width": null,
            "min_width": null,
            "border": null,
            "align_items": null,
            "bottom": null,
            "_model_module": "@jupyter-widgets/base",
            "top": null,
            "grid_column": null,
            "overflow_y": null,
            "overflow_x": null,
            "grid_auto_flow": null,
            "grid_area": null,
            "grid_template_columns": null,
            "flex": null,
            "_model_name": "LayoutModel",
            "justify_items": null,
            "grid_row": null,
            "max_height": null,
            "align_content": null,
            "visibility": null,
            "align_self": null,
            "height": null,
            "min_height": null,
            "padding": null,
            "grid_auto_rows": null,
            "grid_gap": null,
            "max_width": null,
            "order": null,
            "_view_module_version": "1.2.0",
            "grid_template_areas": null,
            "object_position": null,
            "object_fit": null,
            "grid_auto_columns": null,
            "margin": null,
            "display": null,
            "left": null
          }
        },
        "a4c39fdff62a4a9aa2883b88b5d0a8b9": {
          "model_module": "@jupyter-widgets/controls",
          "model_name": "DescriptionStyleModel",
          "state": {
            "_view_name": "StyleView",
            "_model_name": "DescriptionStyleModel",
            "description_width": "",
            "_view_module": "@jupyter-widgets/base",
            "_model_module_version": "1.5.0",
            "_view_count": null,
            "_view_module_version": "1.2.0",
            "_model_module": "@jupyter-widgets/controls"
          }
        },
        "c3140cc3ac124ed2acbfe12213b7141c": {
          "model_module": "@jupyter-widgets/base",
          "model_name": "LayoutModel",
          "state": {
            "_view_name": "LayoutView",
            "grid_template_rows": null,
            "right": null,
            "justify_content": null,
            "_view_module": "@jupyter-widgets/base",
            "overflow": null,
            "_model_module_version": "1.2.0",
            "_view_count": null,
            "flex_flow": null,
            "width": null,
            "min_width": null,
            "border": null,
            "align_items": null,
            "bottom": null,
            "_model_module": "@jupyter-widgets/base",
            "top": null,
            "grid_column": null,
            "overflow_y": null,
            "overflow_x": null,
            "grid_auto_flow": null,
            "grid_area": null,
            "grid_template_columns": null,
            "flex": null,
            "_model_name": "LayoutModel",
            "justify_items": null,
            "grid_row": null,
            "max_height": null,
            "align_content": null,
            "visibility": null,
            "align_self": null,
            "height": null,
            "min_height": null,
            "padding": null,
            "grid_auto_rows": null,
            "grid_gap": null,
            "max_width": null,
            "order": null,
            "_view_module_version": "1.2.0",
            "grid_template_areas": null,
            "object_position": null,
            "object_fit": null,
            "grid_auto_columns": null,
            "margin": null,
            "display": null,
            "left": null
          }
        },
        "170ec7f063584ee489fd4ed94a971bcc": {
          "model_module": "@jupyter-widgets/controls",
          "model_name": "HBoxModel",
          "state": {
            "_view_name": "HBoxView",
            "_dom_classes": [],
            "_model_name": "HBoxModel",
            "_view_module": "@jupyter-widgets/controls",
            "_model_module_version": "1.5.0",
            "_view_count": null,
            "_view_module_version": "1.5.0",
            "box_style": "",
            "layout": "IPY_MODEL_2ec5de6d5b1f4128a73687249d6a005e",
            "_model_module": "@jupyter-widgets/controls",
            "children": [
              "IPY_MODEL_ea5d39dd5dbb4a869c97b1add2ee2b33",
              "IPY_MODEL_2857d27d41c14a47b148f05cbfc73375"
            ]
          }
        },
        "2ec5de6d5b1f4128a73687249d6a005e": {
          "model_module": "@jupyter-widgets/base",
          "model_name": "LayoutModel",
          "state": {
            "_view_name": "LayoutView",
            "grid_template_rows": null,
            "right": null,
            "justify_content": null,
            "_view_module": "@jupyter-widgets/base",
            "overflow": null,
            "_model_module_version": "1.2.0",
            "_view_count": null,
            "flex_flow": null,
            "width": null,
            "min_width": null,
            "border": null,
            "align_items": null,
            "bottom": null,
            "_model_module": "@jupyter-widgets/base",
            "top": null,
            "grid_column": null,
            "overflow_y": null,
            "overflow_x": null,
            "grid_auto_flow": null,
            "grid_area": null,
            "grid_template_columns": null,
            "flex": null,
            "_model_name": "LayoutModel",
            "justify_items": null,
            "grid_row": null,
            "max_height": null,
            "align_content": null,
            "visibility": null,
            "align_self": null,
            "height": null,
            "min_height": null,
            "padding": null,
            "grid_auto_rows": null,
            "grid_gap": null,
            "max_width": null,
            "order": null,
            "_view_module_version": "1.2.0",
            "grid_template_areas": null,
            "object_position": null,
            "object_fit": null,
            "grid_auto_columns": null,
            "margin": null,
            "display": null,
            "left": null
          }
        },
        "ea5d39dd5dbb4a869c97b1add2ee2b33": {
          "model_module": "@jupyter-widgets/controls",
          "model_name": "FloatProgressModel",
          "state": {
            "_view_name": "ProgressView",
            "style": "IPY_MODEL_8852bce54ca34f558b3fd5195ed7f8f6",
            "_dom_classes": [],
            "description": " 28%",
            "_model_name": "FloatProgressModel",
            "bar_style": "danger",
            "max": 50,
            "_view_module": "@jupyter-widgets/controls",
            "_model_module_version": "1.5.0",
            "value": 14,
            "_view_count": null,
            "_view_module_version": "1.5.0",
            "orientation": "horizontal",
            "min": 0,
            "description_tooltip": null,
            "_model_module": "@jupyter-widgets/controls",
            "layout": "IPY_MODEL_484091fac9524edd98eb62df161621c9"
          }
        },
        "2857d27d41c14a47b148f05cbfc73375": {
          "model_module": "@jupyter-widgets/controls",
          "model_name": "HTMLModel",
          "state": {
            "_view_name": "HTMLView",
            "style": "IPY_MODEL_d69e2e3bd4004461a18e7ae1bc32dd0d",
            "_dom_classes": [],
            "description": "",
            "_model_name": "HTMLModel",
            "placeholder": "​",
            "_view_module": "@jupyter-widgets/controls",
            "_model_module_version": "1.5.0",
            "value": " 14/50 [16:17&lt;38:58, 64.96s/it]",
            "_view_count": null,
            "_view_module_version": "1.5.0",
            "description_tooltip": null,
            "_model_module": "@jupyter-widgets/controls",
            "layout": "IPY_MODEL_9f068d47064b4f0398e89ed427a237a2"
          }
        },
        "8852bce54ca34f558b3fd5195ed7f8f6": {
          "model_module": "@jupyter-widgets/controls",
          "model_name": "ProgressStyleModel",
          "state": {
            "_view_name": "StyleView",
            "_model_name": "ProgressStyleModel",
            "description_width": "initial",
            "_view_module": "@jupyter-widgets/base",
            "_model_module_version": "1.5.0",
            "_view_count": null,
            "_view_module_version": "1.2.0",
            "bar_color": null,
            "_model_module": "@jupyter-widgets/controls"
          }
        },
        "484091fac9524edd98eb62df161621c9": {
          "model_module": "@jupyter-widgets/base",
          "model_name": "LayoutModel",
          "state": {
            "_view_name": "LayoutView",
            "grid_template_rows": null,
            "right": null,
            "justify_content": null,
            "_view_module": "@jupyter-widgets/base",
            "overflow": null,
            "_model_module_version": "1.2.0",
            "_view_count": null,
            "flex_flow": null,
            "width": null,
            "min_width": null,
            "border": null,
            "align_items": null,
            "bottom": null,
            "_model_module": "@jupyter-widgets/base",
            "top": null,
            "grid_column": null,
            "overflow_y": null,
            "overflow_x": null,
            "grid_auto_flow": null,
            "grid_area": null,
            "grid_template_columns": null,
            "flex": null,
            "_model_name": "LayoutModel",
            "justify_items": null,
            "grid_row": null,
            "max_height": null,
            "align_content": null,
            "visibility": null,
            "align_self": null,
            "height": null,
            "min_height": null,
            "padding": null,
            "grid_auto_rows": null,
            "grid_gap": null,
            "max_width": null,
            "order": null,
            "_view_module_version": "1.2.0",
            "grid_template_areas": null,
            "object_position": null,
            "object_fit": null,
            "grid_auto_columns": null,
            "margin": null,
            "display": null,
            "left": null
          }
        },
        "d69e2e3bd4004461a18e7ae1bc32dd0d": {
          "model_module": "@jupyter-widgets/controls",
          "model_name": "DescriptionStyleModel",
          "state": {
            "_view_name": "StyleView",
            "_model_name": "DescriptionStyleModel",
            "description_width": "",
            "_view_module": "@jupyter-widgets/base",
            "_model_module_version": "1.5.0",
            "_view_count": null,
            "_view_module_version": "1.2.0",
            "_model_module": "@jupyter-widgets/controls"
          }
        },
        "9f068d47064b4f0398e89ed427a237a2": {
          "model_module": "@jupyter-widgets/base",
          "model_name": "LayoutModel",
          "state": {
            "_view_name": "LayoutView",
            "grid_template_rows": null,
            "right": null,
            "justify_content": null,
            "_view_module": "@jupyter-widgets/base",
            "overflow": null,
            "_model_module_version": "1.2.0",
            "_view_count": null,
            "flex_flow": null,
            "width": null,
            "min_width": null,
            "border": null,
            "align_items": null,
            "bottom": null,
            "_model_module": "@jupyter-widgets/base",
            "top": null,
            "grid_column": null,
            "overflow_y": null,
            "overflow_x": null,
            "grid_auto_flow": null,
            "grid_area": null,
            "grid_template_columns": null,
            "flex": null,
            "_model_name": "LayoutModel",
            "justify_items": null,
            "grid_row": null,
            "max_height": null,
            "align_content": null,
            "visibility": null,
            "align_self": null,
            "height": null,
            "min_height": null,
            "padding": null,
            "grid_auto_rows": null,
            "grid_gap": null,
            "max_width": null,
            "order": null,
            "_view_module_version": "1.2.0",
            "grid_template_areas": null,
            "object_position": null,
            "object_fit": null,
            "grid_auto_columns": null,
            "margin": null,
            "display": null,
            "left": null
          }
        },
        "ae876ccdc25547c8869f5ed37d384f1f": {
          "model_module": "@jupyter-widgets/controls",
          "model_name": "HBoxModel",
          "state": {
            "_view_name": "HBoxView",
            "_dom_classes": [],
            "_model_name": "HBoxModel",
            "_view_module": "@jupyter-widgets/controls",
            "_model_module_version": "1.5.0",
            "_view_count": null,
            "_view_module_version": "1.5.0",
            "box_style": "",
            "layout": "IPY_MODEL_664a2eb3a0a24ba1b75dad0b3d164ca0",
            "_model_module": "@jupyter-widgets/controls",
            "children": [
              "IPY_MODEL_cff306dabf324f66a0417e5e8c442aea",
              "IPY_MODEL_be7a0700087c4b999812a403ecad279b"
            ]
          }
        },
        "664a2eb3a0a24ba1b75dad0b3d164ca0": {
          "model_module": "@jupyter-widgets/base",
          "model_name": "LayoutModel",
          "state": {
            "_view_name": "LayoutView",
            "grid_template_rows": null,
            "right": null,
            "justify_content": null,
            "_view_module": "@jupyter-widgets/base",
            "overflow": null,
            "_model_module_version": "1.2.0",
            "_view_count": null,
            "flex_flow": null,
            "width": null,
            "min_width": null,
            "border": null,
            "align_items": null,
            "bottom": null,
            "_model_module": "@jupyter-widgets/base",
            "top": null,
            "grid_column": null,
            "overflow_y": null,
            "overflow_x": null,
            "grid_auto_flow": null,
            "grid_area": null,
            "grid_template_columns": null,
            "flex": null,
            "_model_name": "LayoutModel",
            "justify_items": null,
            "grid_row": null,
            "max_height": null,
            "align_content": null,
            "visibility": null,
            "align_self": null,
            "height": null,
            "min_height": null,
            "padding": null,
            "grid_auto_rows": null,
            "grid_gap": null,
            "max_width": null,
            "order": null,
            "_view_module_version": "1.2.0",
            "grid_template_areas": null,
            "object_position": null,
            "object_fit": null,
            "grid_auto_columns": null,
            "margin": null,
            "display": null,
            "left": null
          }
        },
        "cff306dabf324f66a0417e5e8c442aea": {
          "model_module": "@jupyter-widgets/controls",
          "model_name": "FloatProgressModel",
          "state": {
            "_view_name": "ProgressView",
            "style": "IPY_MODEL_5f85bb76bc3e4f878f5c476f0fd3ce40",
            "_dom_classes": [],
            "description": " 30%",
            "_model_name": "FloatProgressModel",
            "bar_style": "danger",
            "max": 50,
            "_view_module": "@jupyter-widgets/controls",
            "_model_module_version": "1.5.0",
            "value": 15,
            "_view_count": null,
            "_view_module_version": "1.5.0",
            "orientation": "horizontal",
            "min": 0,
            "description_tooltip": null,
            "_model_module": "@jupyter-widgets/controls",
            "layout": "IPY_MODEL_7339ca5fd6114372b33bdd99d4fd2113"
          }
        },
        "be7a0700087c4b999812a403ecad279b": {
          "model_module": "@jupyter-widgets/controls",
          "model_name": "HTMLModel",
          "state": {
            "_view_name": "HTMLView",
            "style": "IPY_MODEL_9aaf9ba3233e4214b13838d7662c731b",
            "_dom_classes": [],
            "description": "",
            "_model_name": "HTMLModel",
            "placeholder": "​",
            "_view_module": "@jupyter-widgets/controls",
            "_model_module_version": "1.5.0",
            "value": " 15/50 [17:19&lt;37:50, 64.87s/it]",
            "_view_count": null,
            "_view_module_version": "1.5.0",
            "description_tooltip": null,
            "_model_module": "@jupyter-widgets/controls",
            "layout": "IPY_MODEL_a26ea42cacfe4ca69f8b996867c03fe1"
          }
        },
        "5f85bb76bc3e4f878f5c476f0fd3ce40": {
          "model_module": "@jupyter-widgets/controls",
          "model_name": "ProgressStyleModel",
          "state": {
            "_view_name": "StyleView",
            "_model_name": "ProgressStyleModel",
            "description_width": "initial",
            "_view_module": "@jupyter-widgets/base",
            "_model_module_version": "1.5.0",
            "_view_count": null,
            "_view_module_version": "1.2.0",
            "bar_color": null,
            "_model_module": "@jupyter-widgets/controls"
          }
        },
        "7339ca5fd6114372b33bdd99d4fd2113": {
          "model_module": "@jupyter-widgets/base",
          "model_name": "LayoutModel",
          "state": {
            "_view_name": "LayoutView",
            "grid_template_rows": null,
            "right": null,
            "justify_content": null,
            "_view_module": "@jupyter-widgets/base",
            "overflow": null,
            "_model_module_version": "1.2.0",
            "_view_count": null,
            "flex_flow": null,
            "width": null,
            "min_width": null,
            "border": null,
            "align_items": null,
            "bottom": null,
            "_model_module": "@jupyter-widgets/base",
            "top": null,
            "grid_column": null,
            "overflow_y": null,
            "overflow_x": null,
            "grid_auto_flow": null,
            "grid_area": null,
            "grid_template_columns": null,
            "flex": null,
            "_model_name": "LayoutModel",
            "justify_items": null,
            "grid_row": null,
            "max_height": null,
            "align_content": null,
            "visibility": null,
            "align_self": null,
            "height": null,
            "min_height": null,
            "padding": null,
            "grid_auto_rows": null,
            "grid_gap": null,
            "max_width": null,
            "order": null,
            "_view_module_version": "1.2.0",
            "grid_template_areas": null,
            "object_position": null,
            "object_fit": null,
            "grid_auto_columns": null,
            "margin": null,
            "display": null,
            "left": null
          }
        },
        "9aaf9ba3233e4214b13838d7662c731b": {
          "model_module": "@jupyter-widgets/controls",
          "model_name": "DescriptionStyleModel",
          "state": {
            "_view_name": "StyleView",
            "_model_name": "DescriptionStyleModel",
            "description_width": "",
            "_view_module": "@jupyter-widgets/base",
            "_model_module_version": "1.5.0",
            "_view_count": null,
            "_view_module_version": "1.2.0",
            "_model_module": "@jupyter-widgets/controls"
          }
        },
        "a26ea42cacfe4ca69f8b996867c03fe1": {
          "model_module": "@jupyter-widgets/base",
          "model_name": "LayoutModel",
          "state": {
            "_view_name": "LayoutView",
            "grid_template_rows": null,
            "right": null,
            "justify_content": null,
            "_view_module": "@jupyter-widgets/base",
            "overflow": null,
            "_model_module_version": "1.2.0",
            "_view_count": null,
            "flex_flow": null,
            "width": null,
            "min_width": null,
            "border": null,
            "align_items": null,
            "bottom": null,
            "_model_module": "@jupyter-widgets/base",
            "top": null,
            "grid_column": null,
            "overflow_y": null,
            "overflow_x": null,
            "grid_auto_flow": null,
            "grid_area": null,
            "grid_template_columns": null,
            "flex": null,
            "_model_name": "LayoutModel",
            "justify_items": null,
            "grid_row": null,
            "max_height": null,
            "align_content": null,
            "visibility": null,
            "align_self": null,
            "height": null,
            "min_height": null,
            "padding": null,
            "grid_auto_rows": null,
            "grid_gap": null,
            "max_width": null,
            "order": null,
            "_view_module_version": "1.2.0",
            "grid_template_areas": null,
            "object_position": null,
            "object_fit": null,
            "grid_auto_columns": null,
            "margin": null,
            "display": null,
            "left": null
          }
        },
        "e2374973e3494fbbbf17ac97379a19c2": {
          "model_module": "@jupyter-widgets/controls",
          "model_name": "HBoxModel",
          "state": {
            "_view_name": "HBoxView",
            "_dom_classes": [],
            "_model_name": "HBoxModel",
            "_view_module": "@jupyter-widgets/controls",
            "_model_module_version": "1.5.0",
            "_view_count": null,
            "_view_module_version": "1.5.0",
            "box_style": "",
            "layout": "IPY_MODEL_5980f8da45024b6880d331cb4f4b0916",
            "_model_module": "@jupyter-widgets/controls",
            "children": [
              "IPY_MODEL_cae4081a8a574e0f976da3cb4cd7cf59",
              "IPY_MODEL_b71bb7daceec4ce496a7b1566887b54e"
            ]
          }
        },
        "5980f8da45024b6880d331cb4f4b0916": {
          "model_module": "@jupyter-widgets/base",
          "model_name": "LayoutModel",
          "state": {
            "_view_name": "LayoutView",
            "grid_template_rows": null,
            "right": null,
            "justify_content": null,
            "_view_module": "@jupyter-widgets/base",
            "overflow": null,
            "_model_module_version": "1.2.0",
            "_view_count": null,
            "flex_flow": null,
            "width": null,
            "min_width": null,
            "border": null,
            "align_items": null,
            "bottom": null,
            "_model_module": "@jupyter-widgets/base",
            "top": null,
            "grid_column": null,
            "overflow_y": null,
            "overflow_x": null,
            "grid_auto_flow": null,
            "grid_area": null,
            "grid_template_columns": null,
            "flex": null,
            "_model_name": "LayoutModel",
            "justify_items": null,
            "grid_row": null,
            "max_height": null,
            "align_content": null,
            "visibility": null,
            "align_self": null,
            "height": null,
            "min_height": null,
            "padding": null,
            "grid_auto_rows": null,
            "grid_gap": null,
            "max_width": null,
            "order": null,
            "_view_module_version": "1.2.0",
            "grid_template_areas": null,
            "object_position": null,
            "object_fit": null,
            "grid_auto_columns": null,
            "margin": null,
            "display": null,
            "left": null
          }
        },
        "cae4081a8a574e0f976da3cb4cd7cf59": {
          "model_module": "@jupyter-widgets/controls",
          "model_name": "FloatProgressModel",
          "state": {
            "_view_name": "ProgressView",
            "style": "IPY_MODEL_4d447221b4ae423bb8602881b01a2525",
            "_dom_classes": [],
            "description": "  0%",
            "_model_name": "FloatProgressModel",
            "bar_style": "",
            "max": 50,
            "_view_module": "@jupyter-widgets/controls",
            "_model_module_version": "1.5.0",
            "value": 0,
            "_view_count": null,
            "_view_module_version": "1.5.0",
            "orientation": "horizontal",
            "min": 0,
            "description_tooltip": null,
            "_model_module": "@jupyter-widgets/controls",
            "layout": "IPY_MODEL_f2212372ef04472eabaff6cc77020f45"
          }
        },
        "b71bb7daceec4ce496a7b1566887b54e": {
          "model_module": "@jupyter-widgets/controls",
          "model_name": "HTMLModel",
          "state": {
            "_view_name": "HTMLView",
            "style": "IPY_MODEL_54baec066e064cbeb872cdc6738cb23c",
            "_dom_classes": [],
            "description": "",
            "_model_name": "HTMLModel",
            "placeholder": "​",
            "_view_module": "@jupyter-widgets/controls",
            "_model_module_version": "1.5.0",
            "value": " 0/50 [00:00&lt;?, ?it/s]",
            "_view_count": null,
            "_view_module_version": "1.5.0",
            "description_tooltip": null,
            "_model_module": "@jupyter-widgets/controls",
            "layout": "IPY_MODEL_bc0301c22ab5465986957a889c2720e2"
          }
        },
        "4d447221b4ae423bb8602881b01a2525": {
          "model_module": "@jupyter-widgets/controls",
          "model_name": "ProgressStyleModel",
          "state": {
            "_view_name": "StyleView",
            "_model_name": "ProgressStyleModel",
            "description_width": "initial",
            "_view_module": "@jupyter-widgets/base",
            "_model_module_version": "1.5.0",
            "_view_count": null,
            "_view_module_version": "1.2.0",
            "bar_color": null,
            "_model_module": "@jupyter-widgets/controls"
          }
        },
        "f2212372ef04472eabaff6cc77020f45": {
          "model_module": "@jupyter-widgets/base",
          "model_name": "LayoutModel",
          "state": {
            "_view_name": "LayoutView",
            "grid_template_rows": null,
            "right": null,
            "justify_content": null,
            "_view_module": "@jupyter-widgets/base",
            "overflow": null,
            "_model_module_version": "1.2.0",
            "_view_count": null,
            "flex_flow": null,
            "width": null,
            "min_width": null,
            "border": null,
            "align_items": null,
            "bottom": null,
            "_model_module": "@jupyter-widgets/base",
            "top": null,
            "grid_column": null,
            "overflow_y": null,
            "overflow_x": null,
            "grid_auto_flow": null,
            "grid_area": null,
            "grid_template_columns": null,
            "flex": null,
            "_model_name": "LayoutModel",
            "justify_items": null,
            "grid_row": null,
            "max_height": null,
            "align_content": null,
            "visibility": null,
            "align_self": null,
            "height": null,
            "min_height": null,
            "padding": null,
            "grid_auto_rows": null,
            "grid_gap": null,
            "max_width": null,
            "order": null,
            "_view_module_version": "1.2.0",
            "grid_template_areas": null,
            "object_position": null,
            "object_fit": null,
            "grid_auto_columns": null,
            "margin": null,
            "display": null,
            "left": null
          }
        },
        "54baec066e064cbeb872cdc6738cb23c": {
          "model_module": "@jupyter-widgets/controls",
          "model_name": "DescriptionStyleModel",
          "state": {
            "_view_name": "StyleView",
            "_model_name": "DescriptionStyleModel",
            "description_width": "",
            "_view_module": "@jupyter-widgets/base",
            "_model_module_version": "1.5.0",
            "_view_count": null,
            "_view_module_version": "1.2.0",
            "_model_module": "@jupyter-widgets/controls"
          }
        },
        "bc0301c22ab5465986957a889c2720e2": {
          "model_module": "@jupyter-widgets/base",
          "model_name": "LayoutModel",
          "state": {
            "_view_name": "LayoutView",
            "grid_template_rows": null,
            "right": null,
            "justify_content": null,
            "_view_module": "@jupyter-widgets/base",
            "overflow": null,
            "_model_module_version": "1.2.0",
            "_view_count": null,
            "flex_flow": null,
            "width": null,
            "min_width": null,
            "border": null,
            "align_items": null,
            "bottom": null,
            "_model_module": "@jupyter-widgets/base",
            "top": null,
            "grid_column": null,
            "overflow_y": null,
            "overflow_x": null,
            "grid_auto_flow": null,
            "grid_area": null,
            "grid_template_columns": null,
            "flex": null,
            "_model_name": "LayoutModel",
            "justify_items": null,
            "grid_row": null,
            "max_height": null,
            "align_content": null,
            "visibility": null,
            "align_self": null,
            "height": null,
            "min_height": null,
            "padding": null,
            "grid_auto_rows": null,
            "grid_gap": null,
            "max_width": null,
            "order": null,
            "_view_module_version": "1.2.0",
            "grid_template_areas": null,
            "object_position": null,
            "object_fit": null,
            "grid_auto_columns": null,
            "margin": null,
            "display": null,
            "left": null
          }
        }
      }
    }
  },
  "cells": [
    {
      "cell_type": "markdown",
      "metadata": {
        "id": "JccQsl2OtAOi"
      },
      "source": [
        "### Imports "
      ]
    },
    {
      "cell_type": "code",
      "metadata": {
        "id": "5elHgLPSoiT7"
      },
      "source": [
        "import torch \n",
        "import torchvision\n",
        "import torch.nn as nn \n",
        "from IPython.display import Image \n",
        "from torchvision import transforms\n",
        "import matplotlib.pyplot as plt\n",
        "import seaborn as sns\n",
        "import random\n",
        "from torch.utils.data import DataLoader\n",
        "from tqdm.auto import tqdm\n",
        "device = torch.device(\"cuda\" if torch.cuda.is_available() else \"cpu\")\n",
        "seed = 12345\n",
        "random.seed(seed)\n",
        "torch.manual_seed(seed)\n",
        "\n",
        "%matplotlib inline\n",
        "sns.set_style('whitegrid')\n",
        "plt.rcParams['figure.figsize'] = (12, 7)"
      ],
      "execution_count": 2,
      "outputs": []
    },
    {
      "cell_type": "code",
      "metadata": {
        "id": "y0y5yaxPve0j",
        "outputId": "536c1222-a8d4-482a-fde5-b02def2463fc",
        "colab": {
          "base_uri": "https://localhost:8080/",
          "height": 34
        }
      },
      "source": [
        "from google.colab import drive\n",
        "drive.mount('/content/drive')"
      ],
      "execution_count": 3,
      "outputs": [
        {
          "output_type": "stream",
          "text": [
            "Mounted at /content/drive\n"
          ],
          "name": "stdout"
        }
      ]
    },
    {
      "cell_type": "markdown",
      "metadata": {
        "id": "zqzOqBsvs9kA"
      },
      "source": [
        "### Data loading "
      ]
    },
    {
      "cell_type": "markdown",
      "metadata": {
        "id": "3-3MVXNOhdCc"
      },
      "source": [
        "##### Run the following cells to load the dataset. Setting download=True will download it for you."
      ]
    },
    {
      "cell_type": "code",
      "metadata": {
        "id": "8rb7Ng7_VcwL",
        "outputId": "b6b31085-5e49-4ac0-e6f6-58663804530b",
        "colab": {
          "base_uri": "https://localhost:8080/",
          "height": 120,
          "referenced_widgets": [
            "69050b19c2104d82b365e7b7161724fb",
            "7e14a7789dce44b6bf091dd367e9eff0",
            "ba864f563d6c4511a9bc52db85135bc4",
            "07b1a8f137f94a769af6f1916d3bd42e",
            "512d2669d90c4d1d892187975a1eaf61",
            "89776f8243d3480dbf7a93149458d8f4",
            "9a9426d227c54df79f65680858086e81",
            "4f75af4b772b4dc7a600d419253a7bc4"
          ]
        }
      },
      "source": [
        "cifar10_train = torchvision.datasets.CIFAR10(root='./cifar10', \n",
        "                                             train=True, \n",
        "                                             transform=None, \n",
        "                                             target_transform=None,\n",
        "                                             download=True)\n",
        "cifar10_test = torchvision.datasets.CIFAR10(root='./cifar10', \n",
        "                                             train=False, \n",
        "                                             transform=None, \n",
        "                                             target_transform=None,\n",
        "                                             download=True)\n",
        "\n",
        "# Divides the dataset into train and val so that we can use the val to choose our hyperparameters\n",
        "train_dataset, val_dataset = torch.utils.data.random_split(cifar10_train, [40000, 10000], \n",
        "                                                           generator=torch.Generator().manual_seed(12345))\n",
        "test_dataset = cifar10_test"
      ],
      "execution_count": 4,
      "outputs": [
        {
          "output_type": "stream",
          "text": [
            "Downloading https://www.cs.toronto.edu/~kriz/cifar-10-python.tar.gz to ./cifar10/cifar-10-python.tar.gz\n"
          ],
          "name": "stdout"
        },
        {
          "output_type": "display_data",
          "data": {
            "application/vnd.jupyter.widget-view+json": {
              "model_id": "69050b19c2104d82b365e7b7161724fb",
              "version_minor": 0,
              "version_major": 2
            },
            "text/plain": [
              "HBox(children=(FloatProgress(value=1.0, bar_style='info', max=1.0), HTML(value='')))"
            ]
          },
          "metadata": {
            "tags": []
          }
        },
        {
          "output_type": "stream",
          "text": [
            "Extracting ./cifar10/cifar-10-python.tar.gz to ./cifar10\n",
            "Files already downloaded and verified\n"
          ],
          "name": "stdout"
        }
      ]
    },
    {
      "cell_type": "code",
      "metadata": {
        "id": "J_NzhpK8KvQC"
      },
      "source": [
        "# Helper code to support adding different transforms on the dataset lazily after downloading the dataset\n",
        "# From https://discuss.pytorch.org/t/apply-different-transform-data-augmentation-to-train-and-validation/63580/5\n",
        "class MapDataset(torch.utils.data.Dataset):\n",
        "    \"\"\"\n",
        "    Given a dataset, creates a dataset which applies a mapping function\n",
        "    to its items (lazily, only when an item is called).\n",
        "\n",
        "    Note that data is not cloned/copied from the initial dataset.\n",
        "    \"\"\"\n",
        "\n",
        "    def __init__(self, dataset, map_fn):\n",
        "        self.dataset = dataset\n",
        "        self.map = map_fn\n",
        "\n",
        "    def __getitem__(self, index):\n",
        "        if self.map:     \n",
        "            x = self.map(self.dataset[index][0]) \n",
        "        else:     \n",
        "            x = self.dataset[index][0]  \n",
        "        y = self.dataset[index][1]         \n",
        "        return x, y\n",
        "\n",
        "    def __len__(self):\n",
        "        return len(self.dataset)"
      ],
      "execution_count": 5,
      "outputs": []
    },
    {
      "cell_type": "markdown",
      "metadata": {
        "id": "MMbXzcUiKc7e"
      },
      "source": [
        "#### Standard transforms to apply on images - Convert to tensors and normalize with mean and std. These are the basic transforms that you will always apply. The mean and std have been pre calculated on the training set. "
      ]
    },
    {
      "cell_type": "code",
      "metadata": {
        "id": "LWEKU9xQKbkW"
      },
      "source": [
        "# Notice that we apply the same mean and std normalization calculated on train, to both the train and test datasets.\n",
        "test_transform = transforms.Compose([\n",
        "                                     transforms.ToTensor(),\n",
        "                                     transforms.Normalize(\n",
        "                                         [0.4373, 0.4434, 0.4725],\n",
        "                                         [0.1201, 0.1231, 0.1052])\n",
        "                                     ])\n",
        "\n",
        "train_transform = transforms.Compose([\n",
        "                                      transforms.ToTensor(),\n",
        "                                      transforms.Normalize(\n",
        "                                          [0.4373, 0.4434, 0.4725],\n",
        "                                          [0.1201, 0.1231, 0.1052])\n",
        "                                      ])"
      ],
      "execution_count": 6,
      "outputs": []
    },
    {
      "cell_type": "code",
      "metadata": {
        "id": "TrDIxTs2JwbO"
      },
      "source": [
        "train_dataset_w_transform  = MapDataset(train_dataset, train_transform)\n",
        "val_dataset_w_transform = MapDataset(val_dataset, test_transform)\n",
        "test_dataset_w_transform = MapDataset(test_dataset, test_transform)"
      ],
      "execution_count": 7,
      "outputs": []
    },
    {
      "cell_type": "code",
      "metadata": {
        "id": "4LcExDS1tyjI"
      },
      "source": [
        "bs = 128\n",
        "torch.backends.cudnn.benchmark = True\n",
        "train_loader = DataLoader(train_dataset_w_transform, batch_size=bs, shuffle=True, drop_last=False,num_workers=10, pin_memory=True)\n",
        "val_loader = DataLoader(val_dataset_w_transform, batch_size=bs, shuffle=False, drop_last=False,num_workers=10, pin_memory=True)\n",
        "test_loader = DataLoader(test_dataset_w_transform, batch_size=bs, shuffle=False, drop_last=False,num_workers=10, pin_memory=True)"
      ],
      "execution_count": 8,
      "outputs": []
    },
    {
      "cell_type": "markdown",
      "metadata": {
        "id": "pXLFsEihoMTn"
      },
      "source": [
        "### Q 2.1 Training loop"
      ]
    },
    {
      "cell_type": "markdown",
      "metadata": {
        "id": "ksECLwMqkgj_"
      },
      "source": [
        "In this question, fill in the missing parts to build a generic training loop that returns the train and validation losses and accuracies. The #TODOs will guide you through the key points and you should fill some code for each #TODO. You might need to add some additional code for bookkeeping the losses and accuracies"
      ]
    },
    {
      "cell_type": "code",
      "metadata": {
        "id": "GnmWg9P9N5U_"
      },
      "source": [
        "def train_loop(model, criterion, optimizer,  train_loader, val_loader, device):\n",
        "    \"\"\"\n",
        "    Generic training loop\n",
        "\n",
        "    Parameters\n",
        "    ----------\n",
        "    model : Object instance of your model class \n",
        "    criterion : Loss function \n",
        "    optimizer : Instance of optimizer class of your choice \n",
        "    train_loader : Training data loader \n",
        "    val_loader : Validation data loader\n",
        "\n",
        "    Returns\n",
        "    -------\n",
        "    train_losses : List with train loss on dataset per epoch\n",
        "    train_accuracies : List with train accuracy on dataset per epoch\n",
        "    val_losses : List with validation loss on dataset per epoch\n",
        "    val_accuracies : List with validation accuracy on dataset per epoch\n",
        "\n",
        "    \"\"\"\n",
        "    best_val = 0.0\n",
        "    train_losses = []\n",
        "    val_losses = []\n",
        "    train_accuracies = []\n",
        "    val_accuracies = []\n",
        "    max_patience = 5\n",
        "    patience_counter = 0\n",
        "\n",
        "    # Training\n",
        "    for t in tqdm(range(50)):\n",
        "        # TODO : Set the model to train mode        \n",
        "        model.train()\n",
        "        train_loss = 0\n",
        "        correct = 0\n",
        "        n = 0\n",
        "        # TODO: Loop over the training set \n",
        "        for batch_idx, samples in enumerate(train_loader):\n",
        "            # TODO: Put the inputs and targets on the write device\n",
        "            image = samples[0].to(device)\n",
        "            label = samples[1].to(device)\n",
        "            # TODO: Feed forward to get the logits\n",
        "            output = model(image)\n",
        "            _, preds = torch.max(output, dim = 1)\n",
        "            # TODO: Compute the loss and accuracy\n",
        "            loss = criterion(output, label)\n",
        "            # TODO: zero the gradients before running\n",
        "            # the backward pass.\n",
        "            optimizer.zero_grad()\n",
        "            # TODO: Backward pass to compute the gradient\n",
        "            # of loss w.r.t our learnable params. \n",
        "            loss.backward()\n",
        "            # TODO: Update params\n",
        "            optimizer.step()\n",
        "            # TODO: Keep track of accuracy and loss\n",
        "            train_loss += loss.item()\n",
        "            n += image.shape[0]\n",
        "            correct += torch.sum(preds == label).item()\n",
        "        \n",
        "        train_losses.append(train_loss / n)\n",
        "        train_accuracies.append(correct / n)\n",
        "        \n",
        "        # TODO: Switch the model to eval mode\n",
        "        model.eval()\n",
        "\n",
        "        val_loss = 0\n",
        "        val_correct = 0\n",
        "        val_n = 0\n",
        "        with torch.no_grad():\n",
        "            # TODO: Loop over the validation set \n",
        "            for batch_idx, samples in enumerate(val_loader):\n",
        "                # TODO: Put the inputs and targets on the write device\n",
        "                image = samples[0].to(device)\n",
        "                label = samples[1].to(device)\n",
        "                # TODO: Feed forward to get the logits\n",
        "                output = model(image)\n",
        "                _, preds = torch.max(output, dim=1)\n",
        "                # TODO: Compute the loss and accuracy\n",
        "                loss = criterion(output, label)\n",
        "                # TODO: Keep track of accuracy and loss\n",
        "                val_loss += loss.item()\n",
        "                val_n += image.shape[0]\n",
        "                val_correct += torch.sum(preds == label).item()\n",
        "            val_losses.append(val_loss / val_n)\n",
        "            val_accuracies.append(val_correct / val_n)\n",
        "                \n",
        "        if val_accuracies[-1] > best_val:\n",
        "            best_val = val_accuracies[-1]\n",
        "            patience_counter = 0\n",
        "            # TODO: Save best model, optimizer, epoch_number\n",
        "            checkpoint = {\n",
        "                'model':model.state_dict(),\n",
        "                'epoch':t,\n",
        "                'optimizer':optimizer.state_dict()\n",
        "            }\n",
        "            torch.save(checkpoint, 'checkpoint.pth')\n",
        "            \n",
        "        else:\n",
        "            patience_counter += 1    \n",
        "            if patience_counter > max_patience: \n",
        "                break\n",
        "\n",
        "        print(\"[EPOCH]: %i, [TRAIN LOSS]: %.6f, [TRAIN ACCURACY]: %.3f\" % (t, train_losses[-1], train_accuracies[-1]))\n",
        "        print(\"[EPOCH]: %i, [VAL LOSS]: %.6f, [VAL ACCURACY]: %.3f \\n\" % (t, val_losses[-1] ,val_accuracies[-1]))\n",
        "\n",
        "    return train_losses, train_accuracies, val_losses, val_accuracies"
      ],
      "execution_count": 8,
      "outputs": []
    },
    {
      "cell_type": "markdown",
      "metadata": {
        "id": "0sdCTYUouY4o"
      },
      "source": [
        "### Q 2.2 Shallow convolutional network. "
      ]
    },
    {
      "cell_type": "code",
      "metadata": {
        "id": "FKqYI2qxp95J"
      },
      "source": [
        "class View(nn.Module):\n",
        "    def __init__(self, shape):\n",
        "        super().__init__()\n",
        "        self.shape = shape\n",
        "\n",
        "    def forward(self, x):\n",
        "        return x.view(*self.shape)"
      ],
      "execution_count": 9,
      "outputs": []
    },
    {
      "cell_type": "code",
      "metadata": {
        "id": "FDHE0lOgpF0W"
      },
      "source": [
        "ShallowNet =  nn.Sequential(\n",
        "      nn.Conv2d(in_channels = 3, out_channels = 64, kernel_size=5, padding=2),\n",
        "      nn.ReLU(),\n",
        "      nn.MaxPool2d(kernel_size=2),\n",
        "      nn.Conv2d(in_channels = 64, out_channels = 128, kernel_size=3, padding=1),\n",
        "      nn.ReLU(),\n",
        "      nn.MaxPool2d(kernel_size=2),\n",
        "      nn.Conv2d(in_channels = 128, out_channels = 256, kernel_size=3, padding=1),\n",
        "      nn.ReLU(),\n",
        "      nn.MaxPool2d(kernel_size=8),\n",
        "      View((-1,256)),\n",
        "      nn.Linear(256, 10),\n",
        ")"
      ],
      "execution_count": 10,
      "outputs": []
    },
    {
      "cell_type": "markdown",
      "metadata": {
        "id": "iV26KJLDrzhx"
      },
      "source": [
        "#### Write the object oriented version of ShallowNet"
      ]
    },
    {
      "cell_type": "code",
      "metadata": {
        "id": "H8YygdvnuqDM"
      },
      "source": [
        "class ShallowConvnet(nn.Module):\n",
        "    def __init__(self, input_channels, num_classes):\n",
        "        \"\"\"\n",
        "\n",
        "        Parameters\n",
        "        ----------\n",
        "        input_channels : Number of input channels\n",
        "        num_classes : Number of classes for the final prediction \n",
        "        \"\"\"\n",
        "        \n",
        "        # TODO\n",
        "        super().__init__()\n",
        "        self.model = nn.Sequential(\n",
        "            nn.Conv2d(in_channels = input_channels, out_channels = 64, kernel_size=5, padding=2),\n",
        "            nn.ReLU(),\n",
        "            nn.MaxPool2d(kernel_size=2),\n",
        "            nn.Conv2d(in_channels = 64, out_channels = 128, kernel_size=3, padding=1),\n",
        "            nn.ReLU(),\n",
        "            nn.MaxPool2d(kernel_size=2),\n",
        "            nn.Conv2d(in_channels = 128, out_channels = 256, kernel_size=3, padding=1),\n",
        "            nn.ReLU(),\n",
        "            nn.MaxPool2d(kernel_size=8),\n",
        "            View((-1,256)),\n",
        "            nn.Linear(256, num_classes),\n",
        "        )\n",
        "\n",
        "    def forward(self, x):\n",
        "        \"\"\"\n",
        "\n",
        "        Parameters\n",
        "        ----------\n",
        "        x\n",
        "\n",
        "        Returns\n",
        "        -------\n",
        "        output : Result after running through the model\n",
        "        \"\"\"\n",
        "        \n",
        "        # TODO\n",
        "        return self.model(x)\n",
        "        "
      ],
      "execution_count": 11,
      "outputs": []
    },
    {
      "cell_type": "markdown",
      "metadata": {
        "id": "UjEH5jIhwnet"
      },
      "source": [
        "### Q2.3 Instantiate the model and run this using an SGD optimizer, with the appropriate loss function for classification\n",
        "\n",
        "Report the learning curves (training and validation accuracy vs number of epochs)"
      ]
    },
    {
      "cell_type": "code",
      "metadata": {
        "id": "_oG1E-YRu4Cj"
      },
      "source": [
        "# TODO : Initialize the model and cast to correct device\n",
        "model = ShallowConvnet(input_channels=3, num_classes=10)\n",
        "model.to(device)\n",
        "# TODO : Initialize the criterion\n",
        "criterion = nn.CrossEntropyLoss()\n",
        "# TODO : Initialize the SGD optimizer with lr 1e-3\n",
        "optimizer = torch.optim.SGD(model.parameters(), lr=1e-3)"
      ],
      "execution_count": 12,
      "outputs": []
    },
    {
      "cell_type": "code",
      "metadata": {
        "id": "1mMFDqx0ve1D",
        "outputId": "c8b60a53-4c3c-4456-960b-1686a76401b1",
        "colab": {
          "base_uri": "https://localhost:8080/",
          "height": 1000,
          "referenced_widgets": [
            "b19133a0fa994683b2d06f831274b8b7",
            "5aca91b094214cd2800e8c751a5ffcf6",
            "9f7af49be4694fabaa4e2477b91635f9",
            "111ce145f7124a8298a3328a0329ee46",
            "4612ccd223b347c3a5e683fe761d29c3",
            "38057d55d6ad43d38195a90fa1e3353c",
            "773b97a9581140e19952b1f0e13bc5b8",
            "57ec869e566644ef9a082922f0878257"
          ]
        }
      },
      "source": [
        "# TODO : Run the training loop using this model\n",
        "loss_train, acc_train, loss_val, acc_val = train_loop(model,\n",
        "    criterion,\n",
        "    optimizer,\n",
        "    train_loader,\n",
        "    val_loader,\n",
        "    device)"
      ],
      "execution_count": 13,
      "outputs": [
        {
          "output_type": "display_data",
          "data": {
            "application/vnd.jupyter.widget-view+json": {
              "model_id": "b19133a0fa994683b2d06f831274b8b7",
              "version_minor": 0,
              "version_major": 2
            },
            "text/plain": [
              "HBox(children=(FloatProgress(value=0.0, max=50.0), HTML(value='')))"
            ]
          },
          "metadata": {
            "tags": []
          }
        },
        {
          "output_type": "stream",
          "text": [
            "[EPOCH]: 0, [TRAIN LOSS]: 0.017870, [TRAIN ACCURACY]: 0.133\n",
            "[EPOCH]: 0, [VAL LOSS]: 0.017815, [VAL ACCURACY]: 0.172 \n",
            "\n",
            "[EPOCH]: 1, [TRAIN LOSS]: 0.017435, [TRAIN ACCURACY]: 0.212\n",
            "[EPOCH]: 1, [VAL LOSS]: 0.017378, [VAL ACCURACY]: 0.247 \n",
            "\n",
            "[EPOCH]: 2, [TRAIN LOSS]: 0.016975, [TRAIN ACCURACY]: 0.258\n",
            "[EPOCH]: 2, [VAL LOSS]: 0.016905, [VAL ACCURACY]: 0.269 \n",
            "\n",
            "[EPOCH]: 3, [TRAIN LOSS]: 0.016491, [TRAIN ACCURACY]: 0.277\n",
            "[EPOCH]: 3, [VAL LOSS]: 0.016416, [VAL ACCURACY]: 0.283 \n",
            "\n",
            "[EPOCH]: 4, [TRAIN LOSS]: 0.016027, [TRAIN ACCURACY]: 0.292\n",
            "[EPOCH]: 4, [VAL LOSS]: 0.015979, [VAL ACCURACY]: 0.292 \n",
            "\n",
            "[EPOCH]: 5, [TRAIN LOSS]: 0.015631, [TRAIN ACCURACY]: 0.305\n",
            "[EPOCH]: 5, [VAL LOSS]: 0.015595, [VAL ACCURACY]: 0.306 \n",
            "\n",
            "[EPOCH]: 6, [TRAIN LOSS]: 0.015295, [TRAIN ACCURACY]: 0.316\n",
            "[EPOCH]: 6, [VAL LOSS]: 0.015288, [VAL ACCURACY]: 0.322 \n",
            "\n",
            "[EPOCH]: 7, [TRAIN LOSS]: 0.015005, [TRAIN ACCURACY]: 0.328\n",
            "[EPOCH]: 7, [VAL LOSS]: 0.015003, [VAL ACCURACY]: 0.328 \n",
            "\n",
            "[EPOCH]: 8, [TRAIN LOSS]: 0.014733, [TRAIN ACCURACY]: 0.338\n",
            "[EPOCH]: 8, [VAL LOSS]: 0.014742, [VAL ACCURACY]: 0.343 \n",
            "\n",
            "[EPOCH]: 9, [TRAIN LOSS]: 0.014470, [TRAIN ACCURACY]: 0.351\n",
            "[EPOCH]: 9, [VAL LOSS]: 0.014460, [VAL ACCURACY]: 0.360 \n",
            "\n",
            "[EPOCH]: 10, [TRAIN LOSS]: 0.014214, [TRAIN ACCURACY]: 0.362\n",
            "[EPOCH]: 10, [VAL LOSS]: 0.014203, [VAL ACCURACY]: 0.373 \n",
            "\n",
            "[EPOCH]: 11, [TRAIN LOSS]: 0.013961, [TRAIN ACCURACY]: 0.375\n",
            "[EPOCH]: 11, [VAL LOSS]: 0.013944, [VAL ACCURACY]: 0.380 \n",
            "\n",
            "[EPOCH]: 12, [TRAIN LOSS]: 0.013711, [TRAIN ACCURACY]: 0.384\n",
            "[EPOCH]: 12, [VAL LOSS]: 0.013718, [VAL ACCURACY]: 0.395 \n",
            "\n",
            "[EPOCH]: 13, [TRAIN LOSS]: 0.013464, [TRAIN ACCURACY]: 0.397\n",
            "[EPOCH]: 13, [VAL LOSS]: 0.013465, [VAL ACCURACY]: 0.404 \n",
            "\n",
            "[EPOCH]: 14, [TRAIN LOSS]: 0.013227, [TRAIN ACCURACY]: 0.408\n",
            "[EPOCH]: 14, [VAL LOSS]: 0.013284, [VAL ACCURACY]: 0.404 \n",
            "\n",
            "[EPOCH]: 15, [TRAIN LOSS]: 0.013010, [TRAIN ACCURACY]: 0.415\n",
            "[EPOCH]: 15, [VAL LOSS]: 0.012996, [VAL ACCURACY]: 0.422 \n",
            "\n",
            "[EPOCH]: 16, [TRAIN LOSS]: 0.012807, [TRAIN ACCURACY]: 0.425\n",
            "[EPOCH]: 16, [VAL LOSS]: 0.012818, [VAL ACCURACY]: 0.431 \n",
            "\n",
            "[EPOCH]: 17, [TRAIN LOSS]: 0.012620, [TRAIN ACCURACY]: 0.433\n",
            "[EPOCH]: 17, [VAL LOSS]: 0.012666, [VAL ACCURACY]: 0.437 \n",
            "\n",
            "[EPOCH]: 18, [TRAIN LOSS]: 0.012447, [TRAIN ACCURACY]: 0.441\n",
            "[EPOCH]: 18, [VAL LOSS]: 0.012470, [VAL ACCURACY]: 0.445 \n",
            "\n",
            "[EPOCH]: 19, [TRAIN LOSS]: 0.012291, [TRAIN ACCURACY]: 0.448\n",
            "[EPOCH]: 19, [VAL LOSS]: 0.012353, [VAL ACCURACY]: 0.448 \n",
            "\n",
            "[EPOCH]: 20, [TRAIN LOSS]: 0.012144, [TRAIN ACCURACY]: 0.454\n",
            "[EPOCH]: 20, [VAL LOSS]: 0.012182, [VAL ACCURACY]: 0.457 \n",
            "\n",
            "[EPOCH]: 21, [TRAIN LOSS]: 0.012009, [TRAIN ACCURACY]: 0.462\n",
            "[EPOCH]: 21, [VAL LOSS]: 0.012106, [VAL ACCURACY]: 0.459 \n",
            "\n",
            "[EPOCH]: 22, [TRAIN LOSS]: 0.011884, [TRAIN ACCURACY]: 0.468\n",
            "[EPOCH]: 22, [VAL LOSS]: 0.012097, [VAL ACCURACY]: 0.449 \n",
            "\n",
            "[EPOCH]: 23, [TRAIN LOSS]: 0.011763, [TRAIN ACCURACY]: 0.471\n",
            "[EPOCH]: 23, [VAL LOSS]: 0.011873, [VAL ACCURACY]: 0.471 \n",
            "\n",
            "[EPOCH]: 24, [TRAIN LOSS]: 0.011648, [TRAIN ACCURACY]: 0.477\n",
            "[EPOCH]: 24, [VAL LOSS]: 0.011749, [VAL ACCURACY]: 0.474 \n",
            "\n",
            "[EPOCH]: 25, [TRAIN LOSS]: 0.011543, [TRAIN ACCURACY]: 0.481\n",
            "[EPOCH]: 25, [VAL LOSS]: 0.011658, [VAL ACCURACY]: 0.485 \n",
            "\n",
            "[EPOCH]: 26, [TRAIN LOSS]: 0.011432, [TRAIN ACCURACY]: 0.489\n",
            "[EPOCH]: 26, [VAL LOSS]: 0.011603, [VAL ACCURACY]: 0.478 \n",
            "\n",
            "[EPOCH]: 27, [TRAIN LOSS]: 0.011330, [TRAIN ACCURACY]: 0.491\n",
            "[EPOCH]: 27, [VAL LOSS]: 0.011513, [VAL ACCURACY]: 0.483 \n",
            "\n",
            "[EPOCH]: 28, [TRAIN LOSS]: 0.011232, [TRAIN ACCURACY]: 0.499\n",
            "[EPOCH]: 28, [VAL LOSS]: 0.011447, [VAL ACCURACY]: 0.487 \n",
            "\n",
            "[EPOCH]: 29, [TRAIN LOSS]: 0.011134, [TRAIN ACCURACY]: 0.501\n",
            "[EPOCH]: 29, [VAL LOSS]: 0.011327, [VAL ACCURACY]: 0.491 \n",
            "\n",
            "[EPOCH]: 30, [TRAIN LOSS]: 0.011047, [TRAIN ACCURACY]: 0.508\n",
            "[EPOCH]: 30, [VAL LOSS]: 0.011263, [VAL ACCURACY]: 0.499 \n",
            "\n",
            "[EPOCH]: 31, [TRAIN LOSS]: 0.010954, [TRAIN ACCURACY]: 0.512\n",
            "[EPOCH]: 31, [VAL LOSS]: 0.011227, [VAL ACCURACY]: 0.499 \n",
            "\n",
            "[EPOCH]: 32, [TRAIN LOSS]: 0.010861, [TRAIN ACCURACY]: 0.516\n",
            "[EPOCH]: 32, [VAL LOSS]: 0.011104, [VAL ACCURACY]: 0.505 \n",
            "\n",
            "[EPOCH]: 33, [TRAIN LOSS]: 0.010775, [TRAIN ACCURACY]: 0.519\n",
            "[EPOCH]: 33, [VAL LOSS]: 0.011034, [VAL ACCURACY]: 0.506 \n",
            "\n",
            "[EPOCH]: 34, [TRAIN LOSS]: 0.010690, [TRAIN ACCURACY]: 0.524\n",
            "[EPOCH]: 34, [VAL LOSS]: 0.010883, [VAL ACCURACY]: 0.518 \n",
            "\n",
            "[EPOCH]: 35, [TRAIN LOSS]: 0.010608, [TRAIN ACCURACY]: 0.528\n",
            "[EPOCH]: 35, [VAL LOSS]: 0.010810, [VAL ACCURACY]: 0.525 \n",
            "\n",
            "[EPOCH]: 36, [TRAIN LOSS]: 0.010526, [TRAIN ACCURACY]: 0.532\n",
            "[EPOCH]: 36, [VAL LOSS]: 0.010804, [VAL ACCURACY]: 0.523 \n",
            "\n",
            "[EPOCH]: 37, [TRAIN LOSS]: 0.010454, [TRAIN ACCURACY]: 0.536\n",
            "[EPOCH]: 37, [VAL LOSS]: 0.010821, [VAL ACCURACY]: 0.520 \n",
            "\n",
            "[EPOCH]: 38, [TRAIN LOSS]: 0.010375, [TRAIN ACCURACY]: 0.539\n",
            "[EPOCH]: 38, [VAL LOSS]: 0.010684, [VAL ACCURACY]: 0.527 \n",
            "\n",
            "[EPOCH]: 39, [TRAIN LOSS]: 0.010295, [TRAIN ACCURACY]: 0.543\n",
            "[EPOCH]: 39, [VAL LOSS]: 0.010653, [VAL ACCURACY]: 0.523 \n",
            "\n",
            "[EPOCH]: 40, [TRAIN LOSS]: 0.010220, [TRAIN ACCURACY]: 0.547\n",
            "[EPOCH]: 40, [VAL LOSS]: 0.010552, [VAL ACCURACY]: 0.534 \n",
            "\n",
            "[EPOCH]: 41, [TRAIN LOSS]: 0.010151, [TRAIN ACCURACY]: 0.550\n",
            "[EPOCH]: 41, [VAL LOSS]: 0.010455, [VAL ACCURACY]: 0.538 \n",
            "\n",
            "[EPOCH]: 42, [TRAIN LOSS]: 0.010076, [TRAIN ACCURACY]: 0.551\n",
            "[EPOCH]: 42, [VAL LOSS]: 0.010633, [VAL ACCURACY]: 0.524 \n",
            "\n",
            "[EPOCH]: 43, [TRAIN LOSS]: 0.010016, [TRAIN ACCURACY]: 0.556\n",
            "[EPOCH]: 43, [VAL LOSS]: 0.010298, [VAL ACCURACY]: 0.547 \n",
            "\n",
            "[EPOCH]: 44, [TRAIN LOSS]: 0.009941, [TRAIN ACCURACY]: 0.561\n",
            "[EPOCH]: 44, [VAL LOSS]: 0.010342, [VAL ACCURACY]: 0.544 \n",
            "\n",
            "[EPOCH]: 45, [TRAIN LOSS]: 0.009885, [TRAIN ACCURACY]: 0.563\n",
            "[EPOCH]: 45, [VAL LOSS]: 0.010253, [VAL ACCURACY]: 0.548 \n",
            "\n",
            "[EPOCH]: 46, [TRAIN LOSS]: 0.009810, [TRAIN ACCURACY]: 0.565\n",
            "[EPOCH]: 46, [VAL LOSS]: 0.010284, [VAL ACCURACY]: 0.545 \n",
            "\n",
            "[EPOCH]: 47, [TRAIN LOSS]: 0.009757, [TRAIN ACCURACY]: 0.567\n",
            "[EPOCH]: 47, [VAL LOSS]: 0.010193, [VAL ACCURACY]: 0.553 \n",
            "\n",
            "[EPOCH]: 48, [TRAIN LOSS]: 0.009692, [TRAIN ACCURACY]: 0.569\n",
            "[EPOCH]: 48, [VAL LOSS]: 0.010116, [VAL ACCURACY]: 0.555 \n",
            "\n",
            "[EPOCH]: 49, [TRAIN LOSS]: 0.009613, [TRAIN ACCURACY]: 0.575\n",
            "[EPOCH]: 49, [VAL LOSS]: 0.010113, [VAL ACCURACY]: 0.554 \n",
            "\n",
            "\n"
          ],
          "name": "stdout"
        }
      ]
    },
    {
      "cell_type": "code",
      "metadata": {
        "id": "RqJcuhvc4G3h",
        "outputId": "caf621a8-841d-49d3-8ab1-50d7d65bd791",
        "colab": {
          "base_uri": "https://localhost:8080/",
          "height": 298
        }
      },
      "source": [
        "plt.plot(loss_train, label='train')\n",
        "plt.plot(loss_val, label='val')\n",
        "plt.legend()\n",
        "plt.title('Shallow Loss')"
      ],
      "execution_count": 14,
      "outputs": [
        {
          "output_type": "execute_result",
          "data": {
            "text/plain": [
              "Text(0.5, 1.0, 'Shallow Loss')"
            ]
          },
          "metadata": {
            "tags": []
          },
          "execution_count": 14
        },
        {
          "output_type": "display_data",
          "data": {
            "image/png": "[encoded data removed]",
            "text/plain": [
              "<Figure size 432x288 with 1 Axes>"
            ]
          },
          "metadata": {
            "tags": [],
            "needs_background": "light"
          }
        }
      ]
    },
    {
      "cell_type": "code",
      "metadata": {
        "id": "AJZRQhaT49U2",
        "outputId": "d65d5788-150f-43db-8ea8-8d4cf5b93941",
        "colab": {
          "base_uri": "https://localhost:8080/",
          "height": 298
        }
      },
      "source": [
        "plt.plot(acc_train, label='train')\n",
        "plt.plot(acc_val, label='val')\n",
        "plt.legend()\n",
        "plt.title('Shallow acc')"
      ],
      "execution_count": 15,
      "outputs": [
        {
          "output_type": "execute_result",
          "data": {
            "text/plain": [
              "Text(0.5, 1.0, 'Shallow acc')"
            ]
          },
          "metadata": {
            "tags": []
          },
          "execution_count": 15
        },
        {
          "output_type": "display_data",
          "data": {
            "image/png": "[encoded data removed]",
            "text/plain": [
              "<Figure size 432x288 with 1 Axes>"
            ]
          },
          "metadata": {
            "tags": [],
            "needs_background": "light"
          }
        }
      ]
    },
    {
      "cell_type": "markdown",
      "metadata": {
        "id": "cLRvwxlJoFQO"
      },
      "source": [
        "### Q2.4 Simple convolution network - "
      ]
    },
    {
      "cell_type": "markdown",
      "metadata": {
        "id": "lSUz9ljRxRc5"
      },
      "source": [
        "Design a convolutional neural network with the following specification: \n",
        "For each convolution layer, use appropriate padding such that it maintains the resolution of the image. The resolution should be changing only when you introduce maxpooling layers. Each convolution layer should be followed by a relu non-linearity. The first two blocks containing 3 convolutional layers are each followed by a maxpooling layer that halves the resolution of the image. After the third block, use maxpooling to get a resolution of 1 X 1. Finally, apply a linear transformation to project to the number of classes. \n",
        "\n",
        "Structure of the convolution layers of the model:\n",
        "1. Number of input channels to the model = 3\n",
        "2. First convolution layer of kernel size 5 with filter size 64 and padding such that it maintains the resolution of the image.\n",
        "3. Followed by a block of 3 convolution layers of kernel size 3, filter size 64 and padding such that it maintains the resolution of the image.\n",
        "5. Followed by 3 convolution layers of kernel size 3, filter size 128 and padding such that it maintains the resolution of the image.\n",
        "6. Followed by 3 convolution layers of kernel size 3, filter size 256 and padding such that it maintains the resolution of the image. \n",
        "\n",
        "\n"
      ]
    },
    {
      "cell_type": "code",
      "metadata": {
        "id": "GfwKR3uNlsNc"
      },
      "source": [
        "# Use the description of the structure of the model and the hints given below \n",
        "\n",
        "class SimpleConvnet(nn.Module):\n",
        "    def __init__(self, input_channels, num_classes):\n",
        "        super(SimpleConvnet, self).__init__()\n",
        "        # TODO\n",
        "        self.num_classes = num_classes\n",
        "        self.conv = nn.Sequential(\n",
        "            nn.Conv2d(in_channels = 3, out_channels = 64, kernel_size=5, padding=2),\n",
        "            nn.ReLU())\n",
        "        self.block1 = nn.Sequential(\n",
        "            nn.Conv2d(in_channels = 64, out_channels = 64, kernel_size=3, padding=1),\n",
        "            nn.ReLU(),\n",
        "            nn.Conv2d(in_channels = 64, out_channels = 64, kernel_size=3, padding=1),\n",
        "            nn.ReLU(),\n",
        "            nn.Conv2d(in_channels = 64, out_channels = 64, kernel_size=3, padding=1),\n",
        "            nn.ReLU(),\n",
        "            nn.MaxPool2d(kernel_size=2)\n",
        "        )\n",
        "        self.block2 = nn.Sequential(\n",
        "            nn.Conv2d(in_channels = 64, out_channels = 128, kernel_size=3, padding=1),\n",
        "            nn.ReLU(),\n",
        "            nn.Conv2d(in_channels = 128, out_channels = 128, kernel_size=3, padding=1),\n",
        "            nn.ReLU(),\n",
        "            nn.Conv2d(in_channels = 128, out_channels = 128, kernel_size=3, padding=1),\n",
        "            nn.ReLU(),\n",
        "            nn.MaxPool2d(kernel_size=2)\n",
        "        )\n",
        "        self.block3 = nn.Sequential(\n",
        "            nn.Conv2d(in_channels = 128, out_channels = 256, kernel_size=3, padding=1),\n",
        "            nn.ReLU(),\n",
        "            nn.Conv2d(in_channels = 256, out_channels = 256, kernel_size=3, padding=1),\n",
        "            nn.ReLU(),\n",
        "            nn.Conv2d(in_channels = 256, out_channels = 256, kernel_size=3, padding=1),\n",
        "            nn.ReLU()\n",
        "        )\n",
        "        self.projection = nn.Sequential(\n",
        "            nn.MaxPool2d(kernel_size=8),\n",
        "            View((-1,256)),\n",
        "            nn.Linear(256, num_classes)\n",
        "        )\n",
        "    \n",
        "    def forward(self, x):\n",
        "       \n",
        "        # TODO \n",
        "\n",
        "        # HINT: first conv layer \n",
        "        _ = self.conv(x)\n",
        "\n",
        "        # HINT: block of 3 conv \n",
        "        _ = self.block1(_)\n",
        "\n",
        "        # HINT : block of 3 conv \n",
        "        _ = self.block2(_)\n",
        "\n",
        "        # HINT: block of 3 conv \n",
        "        _ = self.block3(_)\n",
        "\n",
        "        # HINT: projection \n",
        "        output = self.projection(_)\n",
        "        \n",
        "        return output\n",
        "        "
      ],
      "execution_count": 16,
      "outputs": []
    },
    {
      "cell_type": "code",
      "metadata": {
        "id": "q_WKoU3ewH2B",
        "outputId": "d1cf4bd7-34de-414c-d12a-11a1c1844195",
        "colab": {
          "base_uri": "https://localhost:8080/",
          "height": 355,
          "referenced_widgets": [
            "6e1c58a037ea4aeba325ae21502e791f",
            "30b454d79958415ba3fa54791350961c",
            "ffa50493720c4f3085c2ddc141f9c845",
            "7dbb5572027f4adb872c87583530dac9",
            "bb3a9403447640d1abada4ea61183e7e",
            "0b59e4bf2e3d49738657a699fe99ce4a",
            "28f244fa5e454e3da68aa407193d48d0",
            "316aa4f7107743169bda948f5f96e071"
          ]
        }
      },
      "source": [
        "# TODO : Initialize the model and cast to correct device\n",
        "model = SimpleConvnet(3, 10)\n",
        "model.to(device)\n",
        "# TODO : Initialize the criterion \n",
        "c = nn.CrossEntropyLoss()\n",
        "# TODO : Initialize the optimizer \n",
        "o = torch.optim.SGD(model.parameters(), lr=1e-3)\n",
        "# TODO : Run the training loop using this model\n",
        "l_t, a_t, l_v, a_v = train_loop(model, c, o, train_loader, val_loader, device)"
      ],
      "execution_count": 17,
      "outputs": [
        {
          "output_type": "display_data",
          "data": {
            "application/vnd.jupyter.widget-view+json": {
              "model_id": "6e1c58a037ea4aeba325ae21502e791f",
              "version_minor": 0,
              "version_major": 2
            },
            "text/plain": [
              "HBox(children=(FloatProgress(value=0.0, max=50.0), HTML(value='')))"
            ]
          },
          "metadata": {
            "tags": []
          }
        },
        {
          "output_type": "stream",
          "text": [
            "[EPOCH]: 0, [TRAIN LOSS]: 0.018023, [TRAIN ACCURACY]: 0.101\n",
            "[EPOCH]: 0, [VAL LOSS]: 0.018192, [VAL ACCURACY]: 0.097 \n",
            "\n",
            "[EPOCH]: 1, [TRAIN LOSS]: 0.018022, [TRAIN ACCURACY]: 0.101\n",
            "[EPOCH]: 1, [VAL LOSS]: 0.018192, [VAL ACCURACY]: 0.097 \n",
            "\n",
            "[EPOCH]: 2, [TRAIN LOSS]: 0.018022, [TRAIN ACCURACY]: 0.101\n",
            "[EPOCH]: 2, [VAL LOSS]: 0.018192, [VAL ACCURACY]: 0.097 \n",
            "\n",
            "[EPOCH]: 3, [TRAIN LOSS]: 0.018022, [TRAIN ACCURACY]: 0.101\n",
            "[EPOCH]: 3, [VAL LOSS]: 0.018192, [VAL ACCURACY]: 0.097 \n",
            "\n",
            "[EPOCH]: 4, [TRAIN LOSS]: 0.018021, [TRAIN ACCURACY]: 0.101\n",
            "[EPOCH]: 4, [VAL LOSS]: 0.018191, [VAL ACCURACY]: 0.097 \n",
            "\n",
            "[EPOCH]: 5, [TRAIN LOSS]: 0.018021, [TRAIN ACCURACY]: 0.101\n",
            "[EPOCH]: 5, [VAL LOSS]: 0.018191, [VAL ACCURACY]: 0.097 \n",
            "\n"
          ],
          "name": "stdout"
        }
      ]
    },
    {
      "cell_type": "markdown",
      "metadata": {
        "id": "mZRJhVst0BLv"
      },
      "source": [
        "### Q 2.5 Report results of training using SGD optimizer for both ShallowNet and SimpleConvnet. What do you observe?"
      ]
    },
    {
      "cell_type": "markdown",
      "metadata": {
        "id": "06-WLPtvve1L"
      },
      "source": [
        "### SGD Optimizer Report\n",
        "Using the SGD optimizer for ShallowNet saw steady training improvements, but no training improvement using SimpleConvnet. It could be because the convnet is too deep, making it difficult to backpropagate the learning signal all the way back to the start of the layers."
      ]
    },
    {
      "cell_type": "markdown",
      "metadata": {
        "id": "uv6ExxBvLL3Y"
      },
      "source": [
        "### Q 2.6 Add batch normalization"
      ]
    },
    {
      "cell_type": "markdown",
      "metadata": {
        "id": "S8IFrRqC0WwA"
      },
      "source": [
        "#### Q2.6 a After each relu layer, add a batch normalization layer to the network SimpleConvnet you created above"
      ]
    },
    {
      "cell_type": "code",
      "metadata": {
        "id": "U7nvtAeBoiUX"
      },
      "source": [
        "class SimpleConvnet2(nn.Module):\n",
        "    def __init__(self, input_channels, num_classes):\n",
        "        super(SimpleConvnet2, self).__init__()\n",
        "        # TODO\n",
        "        self.num_classes = num_classes\n",
        "        self.conv = nn.Sequential(\n",
        "            nn.Conv2d(in_channels = 3, out_channels = 64, kernel_size=5, padding=2),\n",
        "            nn.ReLU(),\n",
        "            nn.BatchNorm2d(num_features=64))\n",
        "        self.block1 = nn.Sequential(\n",
        "            nn.Conv2d(in_channels = 64, out_channels = 64, kernel_size=3, padding=1),\n",
        "            nn.ReLU(),\n",
        "            nn.BatchNorm2d(num_features=64),\n",
        "            nn.Conv2d(in_channels = 64, out_channels = 64, kernel_size=3, padding=1),\n",
        "            nn.ReLU(),\n",
        "            nn.BatchNorm2d(num_features=64),\n",
        "            nn.Conv2d(in_channels = 64, out_channels = 64, kernel_size=3, padding=1),\n",
        "            nn.ReLU(),\n",
        "            nn.BatchNorm2d(num_features=64),\n",
        "            nn.MaxPool2d(kernel_size=2)\n",
        "        )\n",
        "        self.block2 = nn.Sequential(\n",
        "            nn.Conv2d(in_channels = 64, out_channels = 128, kernel_size=3, padding=1),\n",
        "            nn.ReLU(),\n",
        "            nn.BatchNorm2d(num_features=128),\n",
        "            nn.Conv2d(in_channels = 128, out_channels = 128, kernel_size=3, padding=1),\n",
        "            nn.ReLU(),\n",
        "            nn.BatchNorm2d(num_features=128),\n",
        "            nn.Conv2d(in_channels = 128, out_channels = 128, kernel_size=3, padding=1),\n",
        "            nn.ReLU(),\n",
        "            nn.BatchNorm2d(num_features=128),\n",
        "            nn.MaxPool2d(kernel_size=2)\n",
        "        )\n",
        "        self.block3 = nn.Sequential(\n",
        "            nn.Conv2d(in_channels = 128, out_channels = 256, kernel_size=3, padding=1),\n",
        "            nn.ReLU(),\n",
        "            nn.BatchNorm2d(num_features=256),\n",
        "            nn.Conv2d(in_channels = 256, out_channels = 256, kernel_size=3, padding=1),\n",
        "            nn.ReLU(),\n",
        "            nn.BatchNorm2d(num_features=256),\n",
        "            nn.Conv2d(in_channels = 256, out_channels = 256, kernel_size=3, padding=1),\n",
        "            nn.ReLU(),\n",
        "            nn.BatchNorm2d(num_features=256)\n",
        "        )\n",
        "        self.projection = nn.Sequential(\n",
        "            nn.MaxPool2d(kernel_size=8),\n",
        "            View((-1,256)),\n",
        "            nn.Linear(256, num_classes)\n",
        "        )\n",
        "    \n",
        "    def forward(self, x):\n",
        "       \n",
        "        # TODO \n",
        "\n",
        "        # HINT: first conv layer \n",
        "        _ = self.conv(x)\n",
        "\n",
        "        # HINT: block of 3 conv \n",
        "        _ = self.block1(_)\n",
        "\n",
        "        # HINT : block of 3 conv \n",
        "        _ = self.block2(_)\n",
        "\n",
        "        # HINT: block of 3 conv \n",
        "        _ = self.block3(_)\n",
        "\n",
        "        # HINT: projection \n",
        "        output = self.projection(_)\n",
        "        \n",
        "        return output\n",
        "        "
      ],
      "execution_count": 33,
      "outputs": []
    },
    {
      "cell_type": "code",
      "metadata": {
        "id": "hgqQzKV10tz7",
        "outputId": "62d84f73-09c8-442e-d739-965f32a2a067",
        "colab": {
          "base_uri": "https://localhost:8080/",
          "height": 1000,
          "referenced_widgets": [
            "914bf0d968294bf386964625abfff2e5",
            "31c39f774a774a2990153409fda382e5",
            "18f0b53297ba428583d51b7e35badca1",
            "a753207a82974d478b137c15fc1948a7",
            "27f13afce4ef4f3a9bdd10d0883ec046",
            "0e639a64797e4c59b4359d07e73e96b8",
            "8127a88077324cc9ad27c3568b52e60e",
            "c5febf1cab1d494dbd651b0834807e6e"
          ]
        }
      },
      "source": [
        "# TODO : Initialize the model and cast to correct device\n",
        "model = SimpleConvnet2(3, 10)\n",
        "model.to(device)\n",
        "# TODO : Initialize the criterion \n",
        "c = nn.CrossEntropyLoss()\n",
        "# TODO : Initialize the optimizer \n",
        "o = torch.optim.SGD(model.parameters(), lr=1e-3)\n",
        "# TODO : Run the training loop using this model\n",
        "l_t2, a_t2, l_v2, a_v2 = train_loop(model, c, o, train_loader, val_loader, device)"
      ],
      "execution_count": 19,
      "outputs": [
        {
          "output_type": "display_data",
          "data": {
            "application/vnd.jupyter.widget-view+json": {
              "model_id": "914bf0d968294bf386964625abfff2e5",
              "version_minor": 0,
              "version_major": 2
            },
            "text/plain": [
              "HBox(children=(FloatProgress(value=0.0, max=50.0), HTML(value='')))"
            ]
          },
          "metadata": {
            "tags": []
          }
        },
        {
          "output_type": "stream",
          "text": [
            "[EPOCH]: 0, [TRAIN LOSS]: 0.013750, [TRAIN ACCURACY]: 0.354\n",
            "[EPOCH]: 0, [VAL LOSS]: 0.012155, [VAL ACCURACY]: 0.434 \n",
            "\n",
            "[EPOCH]: 1, [TRAIN LOSS]: 0.010898, [TRAIN ACCURACY]: 0.492\n",
            "[EPOCH]: 1, [VAL LOSS]: 0.010669, [VAL ACCURACY]: 0.508 \n",
            "\n",
            "[EPOCH]: 2, [TRAIN LOSS]: 0.009569, [TRAIN ACCURACY]: 0.562\n",
            "[EPOCH]: 2, [VAL LOSS]: 0.009993, [VAL ACCURACY]: 0.547 \n",
            "\n",
            "[EPOCH]: 3, [TRAIN LOSS]: 0.008583, [TRAIN ACCURACY]: 0.616\n",
            "[EPOCH]: 3, [VAL LOSS]: 0.009615, [VAL ACCURACY]: 0.565 \n",
            "\n",
            "[EPOCH]: 4, [TRAIN LOSS]: 0.007729, [TRAIN ACCURACY]: 0.660\n",
            "[EPOCH]: 4, [VAL LOSS]: 0.009017, [VAL ACCURACY]: 0.592 \n",
            "\n",
            "[EPOCH]: 5, [TRAIN LOSS]: 0.007020, [TRAIN ACCURACY]: 0.699\n",
            "[EPOCH]: 5, [VAL LOSS]: 0.008836, [VAL ACCURACY]: 0.594 \n",
            "\n",
            "[EPOCH]: 6, [TRAIN LOSS]: 0.006374, [TRAIN ACCURACY]: 0.735\n",
            "[EPOCH]: 6, [VAL LOSS]: 0.008746, [VAL ACCURACY]: 0.603 \n",
            "\n",
            "[EPOCH]: 7, [TRAIN LOSS]: 0.005774, [TRAIN ACCURACY]: 0.767\n",
            "[EPOCH]: 7, [VAL LOSS]: 0.008447, [VAL ACCURACY]: 0.618 \n",
            "\n",
            "[EPOCH]: 8, [TRAIN LOSS]: 0.005199, [TRAIN ACCURACY]: 0.799\n",
            "[EPOCH]: 8, [VAL LOSS]: 0.008577, [VAL ACCURACY]: 0.616 \n",
            "\n",
            "[EPOCH]: 9, [TRAIN LOSS]: 0.004681, [TRAIN ACCURACY]: 0.830\n",
            "[EPOCH]: 9, [VAL LOSS]: 0.008335, [VAL ACCURACY]: 0.626 \n",
            "\n",
            "[EPOCH]: 10, [TRAIN LOSS]: 0.004175, [TRAIN ACCURACY]: 0.857\n",
            "[EPOCH]: 10, [VAL LOSS]: 0.008214, [VAL ACCURACY]: 0.635 \n",
            "\n",
            "[EPOCH]: 11, [TRAIN LOSS]: 0.003693, [TRAIN ACCURACY]: 0.884\n",
            "[EPOCH]: 11, [VAL LOSS]: 0.008077, [VAL ACCURACY]: 0.639 \n",
            "\n",
            "[EPOCH]: 12, [TRAIN LOSS]: 0.003270, [TRAIN ACCURACY]: 0.907\n",
            "[EPOCH]: 12, [VAL LOSS]: 0.008087, [VAL ACCURACY]: 0.637 \n",
            "\n",
            "[EPOCH]: 13, [TRAIN LOSS]: 0.002871, [TRAIN ACCURACY]: 0.928\n",
            "[EPOCH]: 13, [VAL LOSS]: 0.008113, [VAL ACCURACY]: 0.642 \n",
            "\n",
            "[EPOCH]: 14, [TRAIN LOSS]: 0.002511, [TRAIN ACCURACY]: 0.946\n",
            "[EPOCH]: 14, [VAL LOSS]: 0.008152, [VAL ACCURACY]: 0.639 \n",
            "\n",
            "[EPOCH]: 15, [TRAIN LOSS]: 0.002181, [TRAIN ACCURACY]: 0.960\n",
            "[EPOCH]: 15, [VAL LOSS]: 0.008181, [VAL ACCURACY]: 0.643 \n",
            "\n",
            "[EPOCH]: 16, [TRAIN LOSS]: 0.001886, [TRAIN ACCURACY]: 0.970\n",
            "[EPOCH]: 16, [VAL LOSS]: 0.008136, [VAL ACCURACY]: 0.642 \n",
            "\n",
            "[EPOCH]: 17, [TRAIN LOSS]: 0.001634, [TRAIN ACCURACY]: 0.979\n",
            "[EPOCH]: 17, [VAL LOSS]: 0.008168, [VAL ACCURACY]: 0.645 \n",
            "\n",
            "[EPOCH]: 18, [TRAIN LOSS]: 0.001427, [TRAIN ACCURACY]: 0.985\n",
            "[EPOCH]: 18, [VAL LOSS]: 0.008116, [VAL ACCURACY]: 0.649 \n",
            "\n",
            "[EPOCH]: 19, [TRAIN LOSS]: 0.001254, [TRAIN ACCURACY]: 0.990\n",
            "[EPOCH]: 19, [VAL LOSS]: 0.008163, [VAL ACCURACY]: 0.648 \n",
            "\n",
            "[EPOCH]: 20, [TRAIN LOSS]: 0.001069, [TRAIN ACCURACY]: 0.993\n",
            "[EPOCH]: 20, [VAL LOSS]: 0.008198, [VAL ACCURACY]: 0.648 \n",
            "\n",
            "[EPOCH]: 21, [TRAIN LOSS]: 0.000955, [TRAIN ACCURACY]: 0.995\n",
            "[EPOCH]: 21, [VAL LOSS]: 0.008169, [VAL ACCURACY]: 0.655 \n",
            "\n",
            "[EPOCH]: 22, [TRAIN LOSS]: 0.000841, [TRAIN ACCURACY]: 0.997\n",
            "[EPOCH]: 22, [VAL LOSS]: 0.008225, [VAL ACCURACY]: 0.650 \n",
            "\n",
            "[EPOCH]: 23, [TRAIN LOSS]: 0.000737, [TRAIN ACCURACY]: 0.998\n",
            "[EPOCH]: 23, [VAL LOSS]: 0.008305, [VAL ACCURACY]: 0.651 \n",
            "\n",
            "[EPOCH]: 24, [TRAIN LOSS]: 0.000667, [TRAIN ACCURACY]: 0.998\n",
            "[EPOCH]: 24, [VAL LOSS]: 0.008349, [VAL ACCURACY]: 0.655 \n",
            "\n",
            "[EPOCH]: 25, [TRAIN LOSS]: 0.000589, [TRAIN ACCURACY]: 0.999\n",
            "[EPOCH]: 25, [VAL LOSS]: 0.008282, [VAL ACCURACY]: 0.653 \n",
            "\n",
            "[EPOCH]: 26, [TRAIN LOSS]: 0.000532, [TRAIN ACCURACY]: 0.999\n",
            "[EPOCH]: 26, [VAL LOSS]: 0.008333, [VAL ACCURACY]: 0.656 \n",
            "\n",
            "[EPOCH]: 27, [TRAIN LOSS]: 0.000479, [TRAIN ACCURACY]: 1.000\n",
            "[EPOCH]: 27, [VAL LOSS]: 0.008345, [VAL ACCURACY]: 0.656 \n",
            "\n",
            "[EPOCH]: 28, [TRAIN LOSS]: 0.000439, [TRAIN ACCURACY]: 0.999\n",
            "[EPOCH]: 28, [VAL LOSS]: 0.008341, [VAL ACCURACY]: 0.661 \n",
            "\n",
            "[EPOCH]: 29, [TRAIN LOSS]: 0.000404, [TRAIN ACCURACY]: 1.000\n",
            "[EPOCH]: 29, [VAL LOSS]: 0.008441, [VAL ACCURACY]: 0.656 \n",
            "\n",
            "[EPOCH]: 30, [TRAIN LOSS]: 0.000375, [TRAIN ACCURACY]: 1.000\n",
            "[EPOCH]: 30, [VAL LOSS]: 0.008428, [VAL ACCURACY]: 0.657 \n",
            "\n",
            "[EPOCH]: 31, [TRAIN LOSS]: 0.000347, [TRAIN ACCURACY]: 1.000\n",
            "[EPOCH]: 31, [VAL LOSS]: 0.008391, [VAL ACCURACY]: 0.665 \n",
            "\n",
            "[EPOCH]: 32, [TRAIN LOSS]: 0.000324, [TRAIN ACCURACY]: 1.000\n",
            "[EPOCH]: 32, [VAL LOSS]: 0.008435, [VAL ACCURACY]: 0.662 \n",
            "\n",
            "[EPOCH]: 33, [TRAIN LOSS]: 0.000299, [TRAIN ACCURACY]: 1.000\n",
            "[EPOCH]: 33, [VAL LOSS]: 0.008495, [VAL ACCURACY]: 0.662 \n",
            "\n",
            "[EPOCH]: 34, [TRAIN LOSS]: 0.000287, [TRAIN ACCURACY]: 1.000\n",
            "[EPOCH]: 34, [VAL LOSS]: 0.008587, [VAL ACCURACY]: 0.657 \n",
            "\n",
            "[EPOCH]: 35, [TRAIN LOSS]: 0.000267, [TRAIN ACCURACY]: 1.000\n",
            "[EPOCH]: 35, [VAL LOSS]: 0.008526, [VAL ACCURACY]: 0.664 \n",
            "\n",
            "[EPOCH]: 36, [TRAIN LOSS]: 0.000250, [TRAIN ACCURACY]: 1.000\n",
            "[EPOCH]: 36, [VAL LOSS]: 0.008608, [VAL ACCURACY]: 0.662 \n",
            "\n",
            "[EPOCH]: 37, [TRAIN LOSS]: 0.000239, [TRAIN ACCURACY]: 1.000\n",
            "[EPOCH]: 37, [VAL LOSS]: 0.008531, [VAL ACCURACY]: 0.665 \n",
            "\n",
            "[EPOCH]: 38, [TRAIN LOSS]: 0.000223, [TRAIN ACCURACY]: 1.000\n",
            "[EPOCH]: 38, [VAL LOSS]: 0.008554, [VAL ACCURACY]: 0.663 \n",
            "\n",
            "[EPOCH]: 39, [TRAIN LOSS]: 0.000213, [TRAIN ACCURACY]: 1.000\n",
            "[EPOCH]: 39, [VAL LOSS]: 0.008615, [VAL ACCURACY]: 0.664 \n",
            "\n",
            "[EPOCH]: 40, [TRAIN LOSS]: 0.000199, [TRAIN ACCURACY]: 1.000\n",
            "[EPOCH]: 40, [VAL LOSS]: 0.008603, [VAL ACCURACY]: 0.664 \n",
            "\n",
            "[EPOCH]: 41, [TRAIN LOSS]: 0.000196, [TRAIN ACCURACY]: 1.000\n",
            "[EPOCH]: 41, [VAL LOSS]: 0.008664, [VAL ACCURACY]: 0.665 \n",
            "\n",
            "[EPOCH]: 42, [TRAIN LOSS]: 0.000179, [TRAIN ACCURACY]: 1.000\n",
            "[EPOCH]: 42, [VAL LOSS]: 0.008757, [VAL ACCURACY]: 0.660 \n",
            "\n"
          ],
          "name": "stdout"
        }
      ]
    },
    {
      "cell_type": "markdown",
      "metadata": {
        "id": "w5wqxHGa0vZe"
      },
      "source": [
        "#### Q2.6 b Plot the the training curves (training loss vs \\# epochs, training accuracy vs # epochs) using SGD (lr 1e-3) with and without batch normalization. Comment on the difference. "
      ]
    },
    {
      "cell_type": "markdown",
      "metadata": {
        "id": "58mKtSXR91m9"
      },
      "source": [
        "### BatchNorm Report\n",
        "Without batchnorm, the training cannot get off the ground at all, and training is prematurely halted as soon as possible. For the convnet with batchnorm, large training improvements are made for the first 25 or so epochs. Validation performance peters out around the 12th epoch, but batchnorm performance far surpasses that of not having batchnorm."
      ]
    },
    {
      "cell_type": "code",
      "metadata": {
        "id": "ifL657FM7sj5",
        "outputId": "b77cbe09-ba71-4946-f1f2-2745e27755d9",
        "colab": {
          "base_uri": "https://localhost:8080/",
          "height": 298
        }
      },
      "source": [
        "plt.plot(l_t, label='train - no batchnorm')\n",
        "plt.plot(l_v, label='val - no batchnorm')\n",
        "plt.plot(l_t2, label='train - batchnorm')\n",
        "plt.plot(l_v2, label='val - batchnorm')\n",
        "plt.legend()\n",
        "plt.title('Loss - with and without batchnorm')"
      ],
      "execution_count": 20,
      "outputs": [
        {
          "output_type": "execute_result",
          "data": {
            "text/plain": [
              "Text(0.5, 1.0, 'Loss - with and without batchnorm')"
            ]
          },
          "metadata": {
            "tags": []
          },
          "execution_count": 20
        },
        {
          "output_type": "display_data",
          "data": {
            "image/png": "[encoded data removed]",
            "text/plain": [
              "<Figure size 432x288 with 1 Axes>"
            ]
          },
          "metadata": {
            "tags": [],
            "needs_background": "light"
          }
        }
      ]
    },
    {
      "cell_type": "code",
      "metadata": {
        "id": "DE83KBem8D5T",
        "outputId": "a0c58a42-219b-46d7-dda5-a92438f07b2c",
        "colab": {
          "base_uri": "https://localhost:8080/",
          "height": 298
        }
      },
      "source": [
        "plt.plot(a_t, label='train - no batchnorm')\n",
        "plt.plot(a_v, label='val - no batchnorm')\n",
        "plt.plot(a_t2, label='train - batchnorm')\n",
        "plt.plot(a_v2, label='val - batchnorm')\n",
        "plt.legend()\n",
        "plt.title('Accuracy - with and without batchnorm')"
      ],
      "execution_count": 21,
      "outputs": [
        {
          "output_type": "execute_result",
          "data": {
            "text/plain": [
              "Text(0.5, 1.0, 'Accuracy - with and without batchnorm')"
            ]
          },
          "metadata": {
            "tags": []
          },
          "execution_count": 21
        },
        {
          "output_type": "display_data",
          "data": {
            "image/png": "[encoded data removed]",
            "text/plain": [
              "<Figure size 432x288 with 1 Axes>"
            ]
          },
          "metadata": {
            "tags": [],
            "needs_background": "light"
          }
        }
      ]
    },
    {
      "cell_type": "markdown",
      "metadata": {
        "id": "ZW0227y408ej"
      },
      "source": [
        "#### Q2.6 c. Try running the same two networks with an Adam optimizer (lr 1e-4). Plot the the training curves (training loss vs \\# epochs, training accuracy vs # epochs) with and without batch normalization. Comment on the difference. "
      ]
    },
    {
      "cell_type": "code",
      "metadata": {
        "id": "bL7QhEC4-U1J",
        "outputId": "14c71509-6d98-4d4d-95f1-8f452459afe2",
        "colab": {
          "base_uri": "https://localhost:8080/",
          "height": 967,
          "referenced_widgets": [
            "b88c1c86e64e4483998fb54fa7561ab4",
            "f72ade2173294fb6b5e4215abe33d303",
            "65acf87800e94fb394c2ef6fe75b002c",
            "5082de2dea5f44149a3533949f33bce8",
            "c7defe1dab4a48aca171d1a37cb6720f",
            "1ae2b545c16142d99b35ee027fb27051",
            "a7be9cf777f24516b634a103cfb49dfb",
            "0a850786445140dfa0a449d18f3392df"
          ]
        }
      },
      "source": [
        "# TODO : Initialize the model and cast to correct device\n",
        "model = SimpleConvnet(3, 10)\n",
        "model.to(device)\n",
        "# TODO : Initialize the criterion \n",
        "c = nn.CrossEntropyLoss()\n",
        "# TODO : Initialize the optimizer \n",
        "o = torch.optim.Adam(model.parameters(), lr=1e-4)\n",
        "# TODO : Run the training loop using this model\n",
        "l_t, a_t, l_v, a_v = train_loop(model, c, o, train_loader, val_loader, device)"
      ],
      "execution_count": 22,
      "outputs": [
        {
          "output_type": "display_data",
          "data": {
            "application/vnd.jupyter.widget-view+json": {
              "model_id": "b88c1c86e64e4483998fb54fa7561ab4",
              "version_minor": 0,
              "version_major": 2
            },
            "text/plain": [
              "HBox(children=(FloatProgress(value=0.0, max=50.0), HTML(value='')))"
            ]
          },
          "metadata": {
            "tags": []
          }
        },
        {
          "output_type": "stream",
          "text": [
            "[EPOCH]: 0, [TRAIN LOSS]: 0.014766, [TRAIN ACCURACY]: 0.303\n",
            "[EPOCH]: 0, [VAL LOSS]: 0.013130, [VAL ACCURACY]: 0.404 \n",
            "\n",
            "[EPOCH]: 1, [TRAIN LOSS]: 0.011807, [TRAIN ACCURACY]: 0.457\n",
            "[EPOCH]: 1, [VAL LOSS]: 0.011055, [VAL ACCURACY]: 0.493 \n",
            "\n",
            "[EPOCH]: 2, [TRAIN LOSS]: 0.010562, [TRAIN ACCURACY]: 0.517\n",
            "[EPOCH]: 2, [VAL LOSS]: 0.010383, [VAL ACCURACY]: 0.534 \n",
            "\n",
            "[EPOCH]: 3, [TRAIN LOSS]: 0.009605, [TRAIN ACCURACY]: 0.563\n",
            "[EPOCH]: 3, [VAL LOSS]: 0.010065, [VAL ACCURACY]: 0.552 \n",
            "\n",
            "[EPOCH]: 4, [TRAIN LOSS]: 0.008830, [TRAIN ACCURACY]: 0.601\n",
            "[EPOCH]: 4, [VAL LOSS]: 0.009325, [VAL ACCURACY]: 0.583 \n",
            "\n",
            "[EPOCH]: 5, [TRAIN LOSS]: 0.008130, [TRAIN ACCURACY]: 0.634\n",
            "[EPOCH]: 5, [VAL LOSS]: 0.008842, [VAL ACCURACY]: 0.606 \n",
            "\n",
            "[EPOCH]: 6, [TRAIN LOSS]: 0.007473, [TRAIN ACCURACY]: 0.667\n",
            "[EPOCH]: 6, [VAL LOSS]: 0.009017, [VAL ACCURACY]: 0.609 \n",
            "\n",
            "[EPOCH]: 7, [TRAIN LOSS]: 0.006834, [TRAIN ACCURACY]: 0.695\n",
            "[EPOCH]: 7, [VAL LOSS]: 0.008625, [VAL ACCURACY]: 0.627 \n",
            "\n",
            "[EPOCH]: 8, [TRAIN LOSS]: 0.006256, [TRAIN ACCURACY]: 0.724\n",
            "[EPOCH]: 8, [VAL LOSS]: 0.008600, [VAL ACCURACY]: 0.631 \n",
            "\n",
            "[EPOCH]: 9, [TRAIN LOSS]: 0.005567, [TRAIN ACCURACY]: 0.755\n",
            "[EPOCH]: 9, [VAL LOSS]: 0.008788, [VAL ACCURACY]: 0.634 \n",
            "\n",
            "[EPOCH]: 10, [TRAIN LOSS]: 0.004826, [TRAIN ACCURACY]: 0.783\n",
            "[EPOCH]: 10, [VAL LOSS]: 0.009117, [VAL ACCURACY]: 0.638 \n",
            "\n",
            "[EPOCH]: 11, [TRAIN LOSS]: 0.004207, [TRAIN ACCURACY]: 0.813\n",
            "[EPOCH]: 11, [VAL LOSS]: 0.009312, [VAL ACCURACY]: 0.639 \n",
            "\n",
            "[EPOCH]: 12, [TRAIN LOSS]: 0.003547, [TRAIN ACCURACY]: 0.842\n",
            "[EPOCH]: 12, [VAL LOSS]: 0.010036, [VAL ACCURACY]: 0.641 \n",
            "\n",
            "[EPOCH]: 13, [TRAIN LOSS]: 0.002859, [TRAIN ACCURACY]: 0.873\n",
            "[EPOCH]: 13, [VAL LOSS]: 0.010410, [VAL ACCURACY]: 0.637 \n",
            "\n",
            "[EPOCH]: 14, [TRAIN LOSS]: 0.002218, [TRAIN ACCURACY]: 0.900\n",
            "[EPOCH]: 14, [VAL LOSS]: 0.012744, [VAL ACCURACY]: 0.632 \n",
            "\n",
            "[EPOCH]: 15, [TRAIN LOSS]: 0.001818, [TRAIN ACCURACY]: 0.919\n",
            "[EPOCH]: 15, [VAL LOSS]: 0.014053, [VAL ACCURACY]: 0.626 \n",
            "\n",
            "[EPOCH]: 16, [TRAIN LOSS]: 0.001394, [TRAIN ACCURACY]: 0.938\n",
            "[EPOCH]: 16, [VAL LOSS]: 0.014351, [VAL ACCURACY]: 0.640 \n",
            "\n",
            "[EPOCH]: 17, [TRAIN LOSS]: 0.001277, [TRAIN ACCURACY]: 0.942\n",
            "[EPOCH]: 17, [VAL LOSS]: 0.015189, [VAL ACCURACY]: 0.633 \n",
            "\n"
          ],
          "name": "stdout"
        }
      ]
    },
    {
      "cell_type": "code",
      "metadata": {
        "id": "19ultxjo-iBq",
        "outputId": "1af1c513-9789-4ead-c316-dfb612eba0dd",
        "colab": {
          "base_uri": "https://localhost:8080/",
          "height": 661,
          "referenced_widgets": [
            "b064a7ec540d474b8c426f475d9badb8",
            "497d5dcf030244239a7a164e87d32ace",
            "72d731582fa84cce824123561ec47054",
            "9029a0f54715413db598ef1380df531b",
            "2581e832229f47ec951a11adcfbe644c",
            "150c98c13a0640dfaf0d6ec14d42ece0",
            "8793e1e5ea1b4b228cc44fec90ebf765",
            "19b51fa29f6b4357a1b3ea1a0c3c1ff7"
          ]
        }
      },
      "source": [
        "# TODO : Initialize the model and cast to correct device\n",
        "model = SimpleConvnet2(3, 10)\n",
        "model.to(device)\n",
        "# TODO : Initialize the criterion \n",
        "c = nn.CrossEntropyLoss()\n",
        "# TODO : Initialize the optimizer \n",
        "o = torch.optim.Adam(model.parameters(), lr=1e-4)\n",
        "# TODO : Run the training loop using this model\n",
        "l_t2, a_t2, l_v2, a_v2 = train_loop(model, c, o, train_loader, val_loader, device)"
      ],
      "execution_count": 23,
      "outputs": [
        {
          "output_type": "display_data",
          "data": {
            "application/vnd.jupyter.widget-view+json": {
              "model_id": "b064a7ec540d474b8c426f475d9badb8",
              "version_minor": 0,
              "version_major": 2
            },
            "text/plain": [
              "HBox(children=(FloatProgress(value=0.0, max=50.0), HTML(value='')))"
            ]
          },
          "metadata": {
            "tags": []
          }
        },
        {
          "output_type": "stream",
          "text": [
            "[EPOCH]: 0, [TRAIN LOSS]: 0.011577, [TRAIN ACCURACY]: 0.466\n",
            "[EPOCH]: 0, [VAL LOSS]: 0.009557, [VAL ACCURACY]: 0.574 \n",
            "\n",
            "[EPOCH]: 1, [TRAIN LOSS]: 0.008007, [TRAIN ACCURACY]: 0.641\n",
            "[EPOCH]: 1, [VAL LOSS]: 0.007777, [VAL ACCURACY]: 0.655 \n",
            "\n",
            "[EPOCH]: 2, [TRAIN LOSS]: 0.006210, [TRAIN ACCURACY]: 0.728\n",
            "[EPOCH]: 2, [VAL LOSS]: 0.007006, [VAL ACCURACY]: 0.688 \n",
            "\n",
            "[EPOCH]: 3, [TRAIN LOSS]: 0.004819, [TRAIN ACCURACY]: 0.794\n",
            "[EPOCH]: 3, [VAL LOSS]: 0.006610, [VAL ACCURACY]: 0.707 \n",
            "\n",
            "[EPOCH]: 4, [TRAIN LOSS]: 0.003594, [TRAIN ACCURACY]: 0.856\n",
            "[EPOCH]: 4, [VAL LOSS]: 0.006134, [VAL ACCURACY]: 0.732 \n",
            "\n",
            "[EPOCH]: 5, [TRAIN LOSS]: 0.002501, [TRAIN ACCURACY]: 0.912\n",
            "[EPOCH]: 5, [VAL LOSS]: 0.006092, [VAL ACCURACY]: 0.732 \n",
            "\n",
            "[EPOCH]: 6, [TRAIN LOSS]: 0.001539, [TRAIN ACCURACY]: 0.956\n",
            "[EPOCH]: 6, [VAL LOSS]: 0.006235, [VAL ACCURACY]: 0.736 \n",
            "\n",
            "[EPOCH]: 7, [TRAIN LOSS]: 0.000767, [TRAIN ACCURACY]: 0.984\n",
            "[EPOCH]: 7, [VAL LOSS]: 0.006769, [VAL ACCURACY]: 0.734 \n",
            "\n",
            "[EPOCH]: 8, [TRAIN LOSS]: 0.000423, [TRAIN ACCURACY]: 0.991\n",
            "[EPOCH]: 8, [VAL LOSS]: 0.007224, [VAL ACCURACY]: 0.734 \n",
            "\n",
            "[EPOCH]: 9, [TRAIN LOSS]: 0.001312, [TRAIN ACCURACY]: 0.944\n",
            "[EPOCH]: 9, [VAL LOSS]: 0.007271, [VAL ACCURACY]: 0.717 \n",
            "\n",
            "[EPOCH]: 10, [TRAIN LOSS]: 0.001630, [TRAIN ACCURACY]: 0.929\n",
            "[EPOCH]: 10, [VAL LOSS]: 0.007356, [VAL ACCURACY]: 0.726 \n",
            "\n",
            "[EPOCH]: 11, [TRAIN LOSS]: 0.000777, [TRAIN ACCURACY]: 0.969\n",
            "[EPOCH]: 11, [VAL LOSS]: 0.007741, [VAL ACCURACY]: 0.734 \n",
            "\n"
          ],
          "name": "stdout"
        }
      ]
    },
    {
      "cell_type": "code",
      "metadata": {
        "id": "wgCmfqY9Blnc",
        "outputId": "91433de2-c8b1-4423-f204-16ef5db2c97d",
        "colab": {
          "base_uri": "https://localhost:8080/",
          "height": 298
        }
      },
      "source": [
        "plt.plot(l_t, label='train - no batchnorm')\n",
        "plt.plot(l_v, label='val - no batchnorm')\n",
        "plt.plot(l_t2, label='train - batchnorm')\n",
        "plt.plot(l_v2, label='val - batchnorm')\n",
        "plt.legend()\n",
        "plt.title('Loss - with and without batchnorm')"
      ],
      "execution_count": 24,
      "outputs": [
        {
          "output_type": "execute_result",
          "data": {
            "text/plain": [
              "Text(0.5, 1.0, 'Loss - with and without batchnorm')"
            ]
          },
          "metadata": {
            "tags": []
          },
          "execution_count": 24
        },
        {
          "output_type": "display_data",
          "data": {
            "image/png": "[encoded data removed]",
            "text/plain": [
              "<Figure size 432x288 with 1 Axes>"
            ]
          },
          "metadata": {
            "tags": [],
            "needs_background": "light"
          }
        }
      ]
    },
    {
      "cell_type": "code",
      "metadata": {
        "id": "mGiPsXX-BoBw",
        "outputId": "6f4c9a5f-a0f2-41b3-cad9-f95467dfe542",
        "colab": {
          "base_uri": "https://localhost:8080/",
          "height": 298
        }
      },
      "source": [
        "plt.plot(a_t, label='train - no batchnorm')\n",
        "plt.plot(a_v, label='val - no batchnorm')\n",
        "plt.plot(a_t2, label='train - batchnorm')\n",
        "plt.plot(a_v2, label='val - batchnorm')\n",
        "plt.legend()\n",
        "plt.title('Accuracy - with and without batchnorm')"
      ],
      "execution_count": 25,
      "outputs": [
        {
          "output_type": "execute_result",
          "data": {
            "text/plain": [
              "Text(0.5, 1.0, 'Accuracy - with and without batchnorm')"
            ]
          },
          "metadata": {
            "tags": []
          },
          "execution_count": 25
        },
        {
          "output_type": "display_data",
          "data": {
            "image/png": "[encoded data removed]",
            "text/plain": [
              "<Figure size 432x288 with 1 Axes>"
            ]
          },
          "metadata": {
            "tags": [],
            "needs_background": "light"
          }
        }
      ]
    },
    {
      "cell_type": "markdown",
      "metadata": {
        "id": "XeVzHHciAt-W"
      },
      "source": [
        "#### Q2.6 d Once you choose an optimizer and see that it does train, make sure your model has enough capacity by overfitting on one batch of the data set. You should be able to get 100% train accuracy. \n"
      ]
    },
    {
      "cell_type": "code",
      "metadata": {
        "id": "eBoy4-gyB6DI",
        "outputId": "9a4f3b55-58f2-4b67-e3dc-ab2e1042a684",
        "colab": {
          "base_uri": "https://localhost:8080/",
          "height": 916,
          "referenced_widgets": [
            "500ebeb87a14440a81b6e90c4d0aa6e7",
            "4ecf54a9e8cb4420a78ae8b11b163887",
            "edc468a605834cfb91d5e47509d4ad61",
            "e6a95860dad94ef8b7a8e85b58c7d7f1",
            "39b661063de148589dc1001cbc42f45f",
            "4bc30e9c6116434faa1d9484dd63043c",
            "86144233d4904189b138551d68f3c1a7",
            "f1dbc258c49544bab07387fb6209501a"
          ]
        }
      },
      "source": [
        "model = SimpleConvnet2(input_channels=3,\n",
        "                       num_classes=10)\n",
        "optimizer = torch.optim.SGD(model.parameters(), lr=1e-3)\n",
        "model.to(device)\n",
        "model.train()\n",
        "\n",
        "train_losses = []\n",
        "train_accuracies = []\n",
        "\n",
        "samples = next(iter(train_loader))\n",
        "image = samples[0].to(device)\n",
        "label = samples[1].to(device)\n",
        "for t in tqdm(range(50)):\n",
        "    train_loss = 0\n",
        "    correct = 0\n",
        "    n = 0\n",
        "    # TODO: Feed forward to get the logits\n",
        "    output = model(image)\n",
        "    _, preds = torch.max(output, dim = 1)\n",
        "    # TODO: Compute the loss and accuracy\n",
        "    loss = criterion(output, label)\n",
        "    # TODO: zero the gradients before running\n",
        "    # the backward pass.\n",
        "    o.zero_grad()\n",
        "    # TODO: Backward pass to compute the gradient\n",
        "    # of loss w.r.t our learnable params. \n",
        "    loss.backward()\n",
        "    # TODO: Update params\n",
        "    optimizer.step()\n",
        "    train_loss += loss.item()\n",
        "    n += image.shape[0]\n",
        "    correct += torch.sum(preds == label).item()\n",
        "\n",
        "    train_losses.append(train_loss / n)\n",
        "    train_accuracies.append(correct / n)\n",
        "    print(\"[EPOCH]: %i, [TRAIN LOSS]: %.6f, [TRAIN ACCURACY]: %.3f\" % (t, train_losses[-1], train_accuracies[-1]))"
      ],
      "execution_count": 26,
      "outputs": [
        {
          "output_type": "display_data",
          "data": {
            "application/vnd.jupyter.widget-view+json": {
              "model_id": "500ebeb87a14440a81b6e90c4d0aa6e7",
              "version_minor": 0,
              "version_major": 2
            },
            "text/plain": [
              "HBox(children=(FloatProgress(value=0.0, max=50.0), HTML(value='')))"
            ]
          },
          "metadata": {
            "tags": []
          }
        },
        {
          "output_type": "stream",
          "text": [
            "[EPOCH]: 0, [TRAIN LOSS]: 0.023888, [TRAIN ACCURACY]: 0.141\n",
            "[EPOCH]: 1, [TRAIN LOSS]: 0.015870, [TRAIN ACCURACY]: 0.375\n",
            "[EPOCH]: 2, [TRAIN LOSS]: 0.008951, [TRAIN ACCURACY]: 0.805\n",
            "[EPOCH]: 3, [TRAIN LOSS]: 0.005544, [TRAIN ACCURACY]: 0.945\n",
            "[EPOCH]: 4, [TRAIN LOSS]: 0.004286, [TRAIN ACCURACY]: 0.922\n",
            "[EPOCH]: 5, [TRAIN LOSS]: 0.003853, [TRAIN ACCURACY]: 0.938\n",
            "[EPOCH]: 6, [TRAIN LOSS]: 0.002948, [TRAIN ACCURACY]: 0.984\n",
            "[EPOCH]: 7, [TRAIN LOSS]: 0.002362, [TRAIN ACCURACY]: 1.000\n",
            "[EPOCH]: 8, [TRAIN LOSS]: 0.001496, [TRAIN ACCURACY]: 1.000\n",
            "[EPOCH]: 9, [TRAIN LOSS]: 0.001139, [TRAIN ACCURACY]: 1.000\n",
            "[EPOCH]: 10, [TRAIN LOSS]: 0.000878, [TRAIN ACCURACY]: 1.000\n",
            "[EPOCH]: 11, [TRAIN LOSS]: 0.000763, [TRAIN ACCURACY]: 1.000\n",
            "[EPOCH]: 12, [TRAIN LOSS]: 0.000712, [TRAIN ACCURACY]: 1.000\n",
            "[EPOCH]: 13, [TRAIN LOSS]: 0.000652, [TRAIN ACCURACY]: 1.000\n",
            "[EPOCH]: 14, [TRAIN LOSS]: 0.000596, [TRAIN ACCURACY]: 1.000\n",
            "[EPOCH]: 15, [TRAIN LOSS]: 0.000559, [TRAIN ACCURACY]: 1.000\n",
            "[EPOCH]: 16, [TRAIN LOSS]: 0.000531, [TRAIN ACCURACY]: 1.000\n",
            "[EPOCH]: 17, [TRAIN LOSS]: 0.000514, [TRAIN ACCURACY]: 1.000\n",
            "[EPOCH]: 18, [TRAIN LOSS]: 0.000501, [TRAIN ACCURACY]: 1.000\n",
            "[EPOCH]: 19, [TRAIN LOSS]: 0.000486, [TRAIN ACCURACY]: 1.000\n",
            "[EPOCH]: 20, [TRAIN LOSS]: 0.000469, [TRAIN ACCURACY]: 1.000\n",
            "[EPOCH]: 21, [TRAIN LOSS]: 0.000448, [TRAIN ACCURACY]: 1.000\n",
            "[EPOCH]: 22, [TRAIN LOSS]: 0.000419, [TRAIN ACCURACY]: 1.000\n",
            "[EPOCH]: 23, [TRAIN LOSS]: 0.000387, [TRAIN ACCURACY]: 1.000\n",
            "[EPOCH]: 24, [TRAIN LOSS]: 0.000360, [TRAIN ACCURACY]: 1.000\n",
            "[EPOCH]: 25, [TRAIN LOSS]: 0.000343, [TRAIN ACCURACY]: 1.000\n",
            "[EPOCH]: 26, [TRAIN LOSS]: 0.000329, [TRAIN ACCURACY]: 1.000\n",
            "[EPOCH]: 27, [TRAIN LOSS]: 0.000318, [TRAIN ACCURACY]: 1.000\n",
            "[EPOCH]: 28, [TRAIN LOSS]: 0.000306, [TRAIN ACCURACY]: 1.000\n",
            "[EPOCH]: 29, [TRAIN LOSS]: 0.000289, [TRAIN ACCURACY]: 1.000\n",
            "[EPOCH]: 30, [TRAIN LOSS]: 0.000275, [TRAIN ACCURACY]: 1.000\n",
            "[EPOCH]: 31, [TRAIN LOSS]: 0.000263, [TRAIN ACCURACY]: 1.000\n",
            "[EPOCH]: 32, [TRAIN LOSS]: 0.000255, [TRAIN ACCURACY]: 1.000\n",
            "[EPOCH]: 33, [TRAIN LOSS]: 0.000247, [TRAIN ACCURACY]: 1.000\n",
            "[EPOCH]: 34, [TRAIN LOSS]: 0.000236, [TRAIN ACCURACY]: 1.000\n",
            "[EPOCH]: 35, [TRAIN LOSS]: 0.000224, [TRAIN ACCURACY]: 1.000\n",
            "[EPOCH]: 36, [TRAIN LOSS]: 0.000210, [TRAIN ACCURACY]: 1.000\n",
            "[EPOCH]: 37, [TRAIN LOSS]: 0.000197, [TRAIN ACCURACY]: 1.000\n",
            "[EPOCH]: 38, [TRAIN LOSS]: 0.000186, [TRAIN ACCURACY]: 1.000\n",
            "[EPOCH]: 39, [TRAIN LOSS]: 0.000178, [TRAIN ACCURACY]: 1.000\n",
            "[EPOCH]: 40, [TRAIN LOSS]: 0.000171, [TRAIN ACCURACY]: 1.000\n",
            "[EPOCH]: 41, [TRAIN LOSS]: 0.000166, [TRAIN ACCURACY]: 1.000\n",
            "[EPOCH]: 42, [TRAIN LOSS]: 0.000160, [TRAIN ACCURACY]: 1.000\n",
            "[EPOCH]: 43, [TRAIN LOSS]: 0.000154, [TRAIN ACCURACY]: 1.000\n",
            "[EPOCH]: 44, [TRAIN LOSS]: 0.000148, [TRAIN ACCURACY]: 1.000\n",
            "[EPOCH]: 45, [TRAIN LOSS]: 0.000142, [TRAIN ACCURACY]: 1.000\n",
            "[EPOCH]: 46, [TRAIN LOSS]: 0.000135, [TRAIN ACCURACY]: 1.000\n",
            "[EPOCH]: 47, [TRAIN LOSS]: 0.000128, [TRAIN ACCURACY]: 1.000\n",
            "[EPOCH]: 48, [TRAIN LOSS]: 0.000123, [TRAIN ACCURACY]: 1.000\n",
            "[EPOCH]: 49, [TRAIN LOSS]: 0.000118, [TRAIN ACCURACY]: 1.000\n",
            "\n"
          ],
          "name": "stdout"
        }
      ]
    },
    {
      "cell_type": "markdown",
      "metadata": {
        "id": "ANkTYeTWn6Mv"
      },
      "source": [
        "### Q 2.7 Add residual connections"
      ]
    },
    {
      "cell_type": "markdown",
      "metadata": {
        "id": "A55lJPET13Q7"
      },
      "source": [
        "#### Residual connections help stabilise training and lead to faster convergence. In this question you will introduce residual connections into the SimpleConvnet2 model that you built above. \n",
        "\n",
        "We will add residual connections after each block of 3 convolutional layers. Lets consider the first block of three convolutional layers. The input to this block, the so called residual, is added to the output of the block before the final batch normalization layer of that block. \n",
        "\n",
        "\n",
        "IMP NOTE: You will notice that the number of filters of these two summands are not the same. For this, you will need to use a convolution layer on the residual component, which changes the number of filters while keeping the rest of the dimensions the same. This can be achieved with a careful selection of the input_channels, output_channels, kernel_size and padding parameters. "
      ]
    },
    {
      "cell_type": "code",
      "metadata": {
        "id": "BMGWisYyho-O"
      },
      "source": [
        "class ResidualConvnet(nn.Module):\n",
        "    def __init__(self, input_channels, num_classes):\n",
        "        super(ResidualConvnet, self).__init__()\n",
        "        # TODO\n",
        "        self.num_classes = num_classes\n",
        "        self.conv = nn.Sequential(\n",
        "            nn.Conv2d(in_channels = 3, out_channels = 64, kernel_size=5, padding=2),\n",
        "            nn.ReLU(),\n",
        "            nn.BatchNorm2d(num_features=64))\n",
        "        self.block1 = nn.Sequential(\n",
        "            nn.Conv2d(in_channels = 64, out_channels = 64, kernel_size=3, padding=1),\n",
        "            nn.ReLU(),\n",
        "            nn.BatchNorm2d(num_features=64),\n",
        "            nn.Conv2d(in_channels = 64, out_channels = 64, kernel_size=3, padding=1),\n",
        "            nn.ReLU(),\n",
        "            nn.BatchNorm2d(num_features=64),\n",
        "            nn.Conv2d(in_channels = 64, out_channels = 64, kernel_size=3, padding=1),\n",
        "            nn.ReLU()\n",
        "        )\n",
        "        self.res1 = nn.Sequential(\n",
        "            nn.Conv2d(in_channels=64, out_channels=64, kernel_size=1, padding=0)\n",
        "        )\n",
        "        self.connector1 = nn.Sequential(\n",
        "            nn.BatchNorm2d(num_features=64),\n",
        "            nn.MaxPool2d(kernel_size=2)\n",
        "        )\n",
        "        self.block2 = nn.Sequential(\n",
        "            nn.Conv2d(in_channels = 64, out_channels = 128, kernel_size=3, padding=1),\n",
        "            nn.ReLU(),\n",
        "            nn.BatchNorm2d(num_features=128),\n",
        "            nn.Conv2d(in_channels = 128, out_channels = 128, kernel_size=3, padding=1),\n",
        "            nn.ReLU(),\n",
        "            nn.BatchNorm2d(num_features=128),\n",
        "            nn.Conv2d(in_channels = 128, out_channels = 128, kernel_size=3, padding=1),\n",
        "            nn.ReLU()\n",
        "        )\n",
        "        self.res2 = nn.Sequential(\n",
        "            nn.Conv2d(in_channels=64, out_channels=128, kernel_size=1, stride=1, padding=0),\n",
        "            nn.MaxPool2d(kernel_size=2)\n",
        "        )\n",
        "        self.connector2 = nn.Sequential(\n",
        "            nn.BatchNorm2d(num_features=128),\n",
        "            nn.MaxPool2d(kernel_size=2)\n",
        "        )\n",
        "        self.block3 = nn.Sequential(\n",
        "            nn.Conv2d(in_channels = 128, out_channels = 256, kernel_size=3, padding=1),\n",
        "            nn.ReLU(),\n",
        "            nn.BatchNorm2d(num_features=256),\n",
        "            nn.Conv2d(in_channels = 256, out_channels = 256, kernel_size=3, padding=1),\n",
        "            nn.ReLU(),\n",
        "            nn.BatchNorm2d(num_features=256),\n",
        "            nn.Conv2d(in_channels = 256, out_channels = 256, kernel_size=3, padding=1),\n",
        "            nn.ReLU()\n",
        "        )\n",
        "        self.res3 = nn.Sequential(\n",
        "            nn.Conv2d(in_channels=128, out_channels=256, kernel_size=1, stride=1, padding=0),\n",
        "            nn.MaxPool2d(kernel_size=2)\n",
        "        )\n",
        "        self.connector3 = nn.Sequential(\n",
        "            nn.BatchNorm2d(num_features=256),\n",
        "            nn.MaxPool2d(kernel_size=8)\n",
        "        )\n",
        "        self.projection = nn.Sequential(\n",
        "            View((-1,256)),\n",
        "            nn.Linear(256, num_classes)\n",
        "        )\n",
        "    \n",
        "    def forward(self, x):\n",
        "       \n",
        "        # TODO \n",
        "        in1 = x\n",
        "\n",
        "        # HINT: first conv layer \n",
        "        out1 = self.conv(in1)\n",
        "        res1 = self.res1(out1)\n",
        "        in2 = out1\n",
        "\n",
        "        # HINT: block of 3 conv \n",
        "        out2 = self.block1(in2)\n",
        "        res2 = self.res2(out2)\n",
        "        in3 = self.connector1(out2 + res1)\n",
        "\n",
        "        # HINT : block of 3 conv \n",
        "        out3 = self.block2(in3)\n",
        "        res3 = self.res3(out3)\n",
        "        in4 = self.connector2(out3 + res2)\n",
        "\n",
        "        # HINT: block of 3 conv \n",
        "        out4 = self.block3(in4)\n",
        "        in5 = self.connector3(out4 + res3)\n",
        "\n",
        "        # HINT: projection \n",
        "        output = self.projection(in5)\n",
        "        \n",
        "        return output\n",
        "        "
      ],
      "execution_count": 10,
      "outputs": []
    },
    {
      "cell_type": "code",
      "metadata": {
        "id": "Wn9OWZiceenh",
        "outputId": "75b81fc1-0a6d-4bcd-e591-bf6ab168028d",
        "colab": {
          "base_uri": "https://localhost:8080/",
          "height": 865,
          "referenced_widgets": [
            "6aa8582f062349e7a5abf9e560d1890b",
            "a4ecdf908d6e4c6aacb7d6e7e710d1b0",
            "050dc0b70f614f009b1051f09a40d039",
            "ba4d187325d84769a11d998c871f34b9",
            "1e97b5b775854aa68f6154b7442a0613",
            "366692be03f34e9b82d05aba75811874",
            "ad6c173c7a734946a9a5f0be970db94d",
            "a3f71d4f28a44f8fbb62108bd1b788f1"
          ]
        }
      },
      "source": [
        "# TODO : Initialize the model and cast to correct device\n",
        "model = ResidualConvnet(3, 10)\n",
        "model.to(device)\n",
        "# TODO : Initialize the criterion \n",
        "c = nn.CrossEntropyLoss()\n",
        "# TODO : Initialize the optimizer \n",
        "o = torch.optim.Adam(model.parameters(), lr=1e-4)\n",
        "# TODO : Run the training loop using this model\n",
        "l_t, a_t, l_v, a_v = train_loop(model, c, o, train_loader, val_loader, device)"
      ],
      "execution_count": 30,
      "outputs": [
        {
          "output_type": "display_data",
          "data": {
            "application/vnd.jupyter.widget-view+json": {
              "model_id": "6aa8582f062349e7a5abf9e560d1890b",
              "version_minor": 0,
              "version_major": 2
            },
            "text/plain": [
              "HBox(children=(FloatProgress(value=0.0, max=50.0), HTML(value='')))"
            ]
          },
          "metadata": {
            "tags": []
          }
        },
        {
          "output_type": "stream",
          "text": [
            "[EPOCH]: 0, [TRAIN LOSS]: 0.011210, [TRAIN ACCURACY]: 0.490\n",
            "[EPOCH]: 0, [VAL LOSS]: 0.009033, [VAL ACCURACY]: 0.597 \n",
            "\n",
            "[EPOCH]: 1, [TRAIN LOSS]: 0.007515, [TRAIN ACCURACY]: 0.661\n",
            "[EPOCH]: 1, [VAL LOSS]: 0.007537, [VAL ACCURACY]: 0.660 \n",
            "\n",
            "[EPOCH]: 2, [TRAIN LOSS]: 0.005764, [TRAIN ACCURACY]: 0.750\n",
            "[EPOCH]: 2, [VAL LOSS]: 0.006795, [VAL ACCURACY]: 0.698 \n",
            "\n",
            "[EPOCH]: 3, [TRAIN LOSS]: 0.004377, [TRAIN ACCURACY]: 0.818\n",
            "[EPOCH]: 3, [VAL LOSS]: 0.006324, [VAL ACCURACY]: 0.718 \n",
            "\n",
            "[EPOCH]: 4, [TRAIN LOSS]: 0.003182, [TRAIN ACCURACY]: 0.880\n",
            "[EPOCH]: 4, [VAL LOSS]: 0.006059, [VAL ACCURACY]: 0.732 \n",
            "\n",
            "[EPOCH]: 5, [TRAIN LOSS]: 0.002092, [TRAIN ACCURACY]: 0.934\n",
            "[EPOCH]: 5, [VAL LOSS]: 0.006001, [VAL ACCURACY]: 0.740 \n",
            "\n",
            "[EPOCH]: 6, [TRAIN LOSS]: 0.001139, [TRAIN ACCURACY]: 0.975\n",
            "[EPOCH]: 6, [VAL LOSS]: 0.006004, [VAL ACCURACY]: 0.746 \n",
            "\n",
            "[EPOCH]: 7, [TRAIN LOSS]: 0.000503, [TRAIN ACCURACY]: 0.994\n",
            "[EPOCH]: 7, [VAL LOSS]: 0.006065, [VAL ACCURACY]: 0.756 \n",
            "\n",
            "[EPOCH]: 8, [TRAIN LOSS]: 0.000176, [TRAIN ACCURACY]: 1.000\n",
            "[EPOCH]: 8, [VAL LOSS]: 0.006093, [VAL ACCURACY]: 0.764 \n",
            "\n",
            "[EPOCH]: 9, [TRAIN LOSS]: 0.000060, [TRAIN ACCURACY]: 1.000\n",
            "[EPOCH]: 9, [VAL LOSS]: 0.006323, [VAL ACCURACY]: 0.769 \n",
            "\n",
            "[EPOCH]: 10, [TRAIN LOSS]: 0.000031, [TRAIN ACCURACY]: 1.000\n",
            "[EPOCH]: 10, [VAL LOSS]: 0.006488, [VAL ACCURACY]: 0.771 \n",
            "\n",
            "[EPOCH]: 11, [TRAIN LOSS]: 0.000018, [TRAIN ACCURACY]: 1.000\n",
            "[EPOCH]: 11, [VAL LOSS]: 0.006627, [VAL ACCURACY]: 0.769 \n",
            "\n",
            "[EPOCH]: 12, [TRAIN LOSS]: 0.000013, [TRAIN ACCURACY]: 1.000\n",
            "[EPOCH]: 12, [VAL LOSS]: 0.006829, [VAL ACCURACY]: 0.768 \n",
            "\n",
            "[EPOCH]: 13, [TRAIN LOSS]: 0.000010, [TRAIN ACCURACY]: 1.000\n",
            "[EPOCH]: 13, [VAL LOSS]: 0.006925, [VAL ACCURACY]: 0.770 \n",
            "\n",
            "[EPOCH]: 14, [TRAIN LOSS]: 0.000008, [TRAIN ACCURACY]: 1.000\n",
            "[EPOCH]: 14, [VAL LOSS]: 0.007022, [VAL ACCURACY]: 0.769 \n",
            "\n",
            "[EPOCH]: 15, [TRAIN LOSS]: 0.000006, [TRAIN ACCURACY]: 1.000\n",
            "[EPOCH]: 15, [VAL LOSS]: 0.007152, [VAL ACCURACY]: 0.770 \n",
            "\n"
          ],
          "name": "stdout"
        }
      ]
    },
    {
      "cell_type": "code",
      "metadata": {
        "id": "ztsNfpJDlsXN",
        "outputId": "1b5b31c3-b7db-4e21-e966-b97fe608207a",
        "colab": {
          "base_uri": "https://localhost:8080/",
          "height": 1000,
          "referenced_widgets": [
            "f7e82a6429ef46db8648de3b80252f85",
            "7c4056c89cdc408fa66408574845bf95",
            "ccbe617a83df4b5ea92d598c4d735608",
            "1132642aeb2e448aa5c1bce3fe423825",
            "e037cc438b1f4f9398e50d93fec2b6d8",
            "b541fff9e12a4002b283e40018d2a714",
            "f18b1d682a1145f2b0869a54cc2c25b9",
            "0871e5b938d44b1c970c40c10c344efa"
          ]
        }
      },
      "source": [
        "# TODO : Initialize the model and cast to correct device\n",
        "model = SimpleConvnet2(3, 10)\n",
        "model.to(device)\n",
        "# TODO : Initialize the criterion \n",
        "c = nn.CrossEntropyLoss()\n",
        "# TODO : Initialize the optimizer \n",
        "o = torch.optim.Adam(model.parameters(), lr=1e-4)\n",
        "# TODO : Run the training loop using this model\n",
        "l_t2, a_t2, l_v2, a_v2 = train_loop(model, c, o, train_loader, val_loader, device)"
      ],
      "execution_count": 34,
      "outputs": [
        {
          "output_type": "display_data",
          "data": {
            "application/vnd.jupyter.widget-view+json": {
              "model_id": "f7e82a6429ef46db8648de3b80252f85",
              "version_minor": 0,
              "version_major": 2
            },
            "text/plain": [
              "HBox(children=(FloatProgress(value=0.0, max=50.0), HTML(value='')))"
            ]
          },
          "metadata": {
            "tags": []
          }
        },
        {
          "output_type": "stream",
          "text": [
            "[EPOCH]: 0, [TRAIN LOSS]: 0.011278, [TRAIN ACCURACY]: 0.482\n",
            "[EPOCH]: 0, [VAL LOSS]: 0.009312, [VAL ACCURACY]: 0.584 \n",
            "\n",
            "[EPOCH]: 1, [TRAIN LOSS]: 0.007691, [TRAIN ACCURACY]: 0.656\n",
            "[EPOCH]: 1, [VAL LOSS]: 0.007740, [VAL ACCURACY]: 0.654 \n",
            "\n",
            "[EPOCH]: 2, [TRAIN LOSS]: 0.005898, [TRAIN ACCURACY]: 0.743\n",
            "[EPOCH]: 2, [VAL LOSS]: 0.006846, [VAL ACCURACY]: 0.697 \n",
            "\n",
            "[EPOCH]: 3, [TRAIN LOSS]: 0.004494, [TRAIN ACCURACY]: 0.813\n",
            "[EPOCH]: 3, [VAL LOSS]: 0.006554, [VAL ACCURACY]: 0.706 \n",
            "\n",
            "[EPOCH]: 4, [TRAIN LOSS]: 0.003257, [TRAIN ACCURACY]: 0.877\n",
            "[EPOCH]: 4, [VAL LOSS]: 0.006338, [VAL ACCURACY]: 0.719 \n",
            "\n",
            "[EPOCH]: 5, [TRAIN LOSS]: 0.002141, [TRAIN ACCURACY]: 0.931\n",
            "[EPOCH]: 5, [VAL LOSS]: 0.006149, [VAL ACCURACY]: 0.736 \n",
            "\n",
            "[EPOCH]: 6, [TRAIN LOSS]: 0.001201, [TRAIN ACCURACY]: 0.971\n",
            "[EPOCH]: 6, [VAL LOSS]: 0.006419, [VAL ACCURACY]: 0.731 \n",
            "\n",
            "[EPOCH]: 7, [TRAIN LOSS]: 0.000562, [TRAIN ACCURACY]: 0.991\n",
            "[EPOCH]: 7, [VAL LOSS]: 0.006805, [VAL ACCURACY]: 0.735 \n",
            "\n",
            "[EPOCH]: 8, [TRAIN LOSS]: 0.000252, [TRAIN ACCURACY]: 0.997\n",
            "[EPOCH]: 8, [VAL LOSS]: 0.007110, [VAL ACCURACY]: 0.737 \n",
            "\n",
            "[EPOCH]: 9, [TRAIN LOSS]: 0.001043, [TRAIN ACCURACY]: 0.958\n",
            "[EPOCH]: 9, [VAL LOSS]: 0.008291, [VAL ACCURACY]: 0.690 \n",
            "\n",
            "[EPOCH]: 10, [TRAIN LOSS]: 0.002231, [TRAIN ACCURACY]: 0.901\n",
            "[EPOCH]: 10, [VAL LOSS]: 0.007309, [VAL ACCURACY]: 0.723 \n",
            "\n",
            "[EPOCH]: 11, [TRAIN LOSS]: 0.000916, [TRAIN ACCURACY]: 0.964\n",
            "[EPOCH]: 11, [VAL LOSS]: 0.007613, [VAL ACCURACY]: 0.731 \n",
            "\n",
            "[EPOCH]: 12, [TRAIN LOSS]: 0.000493, [TRAIN ACCURACY]: 0.981\n",
            "[EPOCH]: 12, [VAL LOSS]: 0.008221, [VAL ACCURACY]: 0.735 \n",
            "\n",
            "[EPOCH]: 13, [TRAIN LOSS]: 0.000568, [TRAIN ACCURACY]: 0.976\n",
            "[EPOCH]: 13, [VAL LOSS]: 0.008301, [VAL ACCURACY]: 0.735 \n",
            "\n",
            "[EPOCH]: 14, [TRAIN LOSS]: 0.000883, [TRAIN ACCURACY]: 0.960\n",
            "[EPOCH]: 14, [VAL LOSS]: 0.008198, [VAL ACCURACY]: 0.738 \n",
            "\n",
            "[EPOCH]: 15, [TRAIN LOSS]: 0.000726, [TRAIN ACCURACY]: 0.969\n",
            "[EPOCH]: 15, [VAL LOSS]: 0.008577, [VAL ACCURACY]: 0.737 \n",
            "\n",
            "[EPOCH]: 16, [TRAIN LOSS]: 0.000488, [TRAIN ACCURACY]: 0.980\n",
            "[EPOCH]: 16, [VAL LOSS]: 0.008745, [VAL ACCURACY]: 0.747 \n",
            "\n",
            "[EPOCH]: 17, [TRAIN LOSS]: 0.000397, [TRAIN ACCURACY]: 0.983\n",
            "[EPOCH]: 17, [VAL LOSS]: 0.009151, [VAL ACCURACY]: 0.742 \n",
            "\n",
            "[EPOCH]: 18, [TRAIN LOSS]: 0.000474, [TRAIN ACCURACY]: 0.978\n",
            "[EPOCH]: 18, [VAL LOSS]: 0.008825, [VAL ACCURACY]: 0.747 \n",
            "\n",
            "[EPOCH]: 19, [TRAIN LOSS]: 0.000574, [TRAIN ACCURACY]: 0.975\n",
            "[EPOCH]: 19, [VAL LOSS]: 0.008549, [VAL ACCURACY]: 0.752 \n",
            "\n",
            "[EPOCH]: 20, [TRAIN LOSS]: 0.000475, [TRAIN ACCURACY]: 0.980\n",
            "[EPOCH]: 20, [VAL LOSS]: 0.009179, [VAL ACCURACY]: 0.748 \n",
            "\n",
            "[EPOCH]: 21, [TRAIN LOSS]: 0.000316, [TRAIN ACCURACY]: 0.986\n",
            "[EPOCH]: 21, [VAL LOSS]: 0.009121, [VAL ACCURACY]: 0.751 \n",
            "\n",
            "[EPOCH]: 22, [TRAIN LOSS]: 0.000275, [TRAIN ACCURACY]: 0.988\n",
            "[EPOCH]: 22, [VAL LOSS]: 0.009302, [VAL ACCURACY]: 0.752 \n",
            "\n",
            "[EPOCH]: 23, [TRAIN LOSS]: 0.000344, [TRAIN ACCURACY]: 0.985\n",
            "[EPOCH]: 23, [VAL LOSS]: 0.009203, [VAL ACCURACY]: 0.750 \n",
            "\n",
            "[EPOCH]: 24, [TRAIN LOSS]: 0.000442, [TRAIN ACCURACY]: 0.980\n",
            "[EPOCH]: 24, [VAL LOSS]: 0.008885, [VAL ACCURACY]: 0.753 \n",
            "\n",
            "[EPOCH]: 25, [TRAIN LOSS]: 0.000390, [TRAIN ACCURACY]: 0.983\n",
            "[EPOCH]: 25, [VAL LOSS]: 0.009114, [VAL ACCURACY]: 0.756 \n",
            "\n",
            "[EPOCH]: 26, [TRAIN LOSS]: 0.000395, [TRAIN ACCURACY]: 0.982\n",
            "[EPOCH]: 26, [VAL LOSS]: 0.009537, [VAL ACCURACY]: 0.744 \n",
            "\n",
            "[EPOCH]: 27, [TRAIN LOSS]: 0.000317, [TRAIN ACCURACY]: 0.986\n",
            "[EPOCH]: 27, [VAL LOSS]: 0.008815, [VAL ACCURACY]: 0.768 \n",
            "\n",
            "[EPOCH]: 28, [TRAIN LOSS]: 0.000175, [TRAIN ACCURACY]: 0.993\n",
            "[EPOCH]: 28, [VAL LOSS]: 0.009297, [VAL ACCURACY]: 0.764 \n",
            "\n",
            "[EPOCH]: 29, [TRAIN LOSS]: 0.000210, [TRAIN ACCURACY]: 0.991\n",
            "[EPOCH]: 29, [VAL LOSS]: 0.009928, [VAL ACCURACY]: 0.750 \n",
            "\n",
            "[EPOCH]: 30, [TRAIN LOSS]: 0.000486, [TRAIN ACCURACY]: 0.977\n",
            "[EPOCH]: 30, [VAL LOSS]: 0.009084, [VAL ACCURACY]: 0.755 \n",
            "\n",
            "[EPOCH]: 31, [TRAIN LOSS]: 0.000405, [TRAIN ACCURACY]: 0.982\n",
            "[EPOCH]: 31, [VAL LOSS]: 0.009119, [VAL ACCURACY]: 0.754 \n",
            "\n",
            "[EPOCH]: 32, [TRAIN LOSS]: 0.000290, [TRAIN ACCURACY]: 0.987\n",
            "[EPOCH]: 32, [VAL LOSS]: 0.008939, [VAL ACCURACY]: 0.763 \n",
            "\n"
          ],
          "name": "stdout"
        }
      ]
    },
    {
      "cell_type": "markdown",
      "metadata": {
        "id": "NRrWJ63c4C0f"
      },
      "source": [
        "### Q 2.8 Plot the training curves with and without the residual connection. Comment on the difference. "
      ]
    },
    {
      "cell_type": "markdown",
      "metadata": {
        "id": "fFU38ZypuJBr"
      },
      "source": [
        "### Residual Connections Report\n",
        "Having residual connections markedly speeds up the training process while also attaining better validation performance throughout. With residual connections, the training process is able to fully memorize the CIFAR dataset, while the model without residual connections was unable to do so."
      ]
    },
    {
      "cell_type": "code",
      "metadata": {
        "id": "FAga3592lbhi",
        "outputId": "01b05086-8a72-477a-b5f5-e69e3e0e01e5",
        "colab": {
          "base_uri": "https://localhost:8080/",
          "height": 298
        }
      },
      "source": [
        "plt.plot(l_t, label='train - with residuals')\n",
        "plt.plot(l_v, label='val - with residuals')\n",
        "plt.plot(l_t2, label='train - no residuals')\n",
        "plt.plot(l_v2, label='val - no residuals')\n",
        "plt.legend()\n",
        "plt.title('Loss - with and without residual connections')"
      ],
      "execution_count": 36,
      "outputs": [
        {
          "output_type": "execute_result",
          "data": {
            "text/plain": [
              "Text(0.5, 1.0, 'Loss - with and without residual connections')"
            ]
          },
          "metadata": {
            "tags": []
          },
          "execution_count": 36
        },
        {
          "output_type": "display_data",
          "data": {
            "image/png": "[encoded data removed]",
            "text/plain": [
              "<Figure size 432x288 with 1 Axes>"
            ]
          },
          "metadata": {
            "tags": [],
            "needs_background": "light"
          }
        }
      ]
    },
    {
      "cell_type": "code",
      "metadata": {
        "id": "zppKKefqmnVb",
        "outputId": "5582b07c-647d-46d9-dffe-45d7eab0327b",
        "colab": {
          "base_uri": "https://localhost:8080/",
          "height": 298
        }
      },
      "source": [
        "plt.plot(a_t, label='train - with residuals')\n",
        "plt.plot(a_v, label='val - with residuals')\n",
        "plt.plot(a_t2, label='train - no residuals')\n",
        "plt.plot(a_v2, label='val - no residuals')\n",
        "plt.legend()\n",
        "plt.title('Loss - with and without residual connections')"
      ],
      "execution_count": 35,
      "outputs": [
        {
          "output_type": "execute_result",
          "data": {
            "text/plain": [
              "Text(0.5, 1.0, 'Loss - with and without residual connections')"
            ]
          },
          "metadata": {
            "tags": []
          },
          "execution_count": 35
        },
        {
          "output_type": "display_data",
          "data": {
            "image/png": "[encoded data removed]",
            "text/plain": [
              "<Figure size 432x288 with 1 Axes>"
            ]
          },
          "metadata": {
            "tags": [],
            "needs_background": "light"
          }
        }
      ]
    },
    {
      "cell_type": "markdown",
      "metadata": {
        "id": "1QXPnxcrx-VU"
      },
      "source": [
        "### Q2.9 Reducing overfiting \n",
        "\n"
      ]
    },
    {
      "cell_type": "markdown",
      "metadata": {
        "id": "HISbvoBh8JTJ"
      },
      "source": [
        "In the previous questions, you might have observed that there is a large difference between the training and validation losses. This is a sign that the model is overfitting. One way to combat this is by adding random transformations to the input data to make your model more robust and prevent it from memorizing the input data. \n",
        "\n",
        "Torchvision provides several transforms that you can readily apply to your data. Experiment with adding a few transforms and report your results in terms of learning curves to see if the gap between the training and validation loss reduces and try to achieve better perfomance on the validation set. "
      ]
    },
    {
      "cell_type": "code",
      "metadata": {
        "id": "0cZRQd-VK7ev"
      },
      "source": [
        "test_transform = transforms.Compose([\n",
        "                                      transforms.ToTensor(),\n",
        "                                      transforms.Normalize(\n",
        "                                          [0.4373, 0.4434, 0.4725],\n",
        "                                          [0.1201, 0.1231, 0.1052])\n",
        "                                      ])\n",
        "\n",
        "train_transform = transforms.Compose([\n",
        "                                      # TODO: Add more transforms here \n",
        "                                      #transforms.RandomGrayscale(0.05), # messes with model convergence since no val images are grayscale\n",
        "                                      transforms.RandomHorizontalFlip(0.1),\n",
        "                                      # transforms.RandomPerspective(0.1), # adds ~5 seconds per iteration\n",
        "                                      # transforms.RandomRotation((-180, 180)), \n",
        "                                      transforms.RandomVerticalFlip(0.1),\n",
        "                                      # transforms.ColorJitter( # adds ~ 8 seconds per iteration\n",
        "                                      #     brightness=0.5,\n",
        "                                      #     contrast=0.5,\n",
        "                                      #     saturation=0.5,\n",
        "                                      #     hue=0.5\n",
        "                                      #     ),\n",
        "                                      transforms.ToTensor(),\n",
        "                                      transforms.Normalize(\n",
        "                                          [0.4373, 0.4434, 0.4725],\n",
        "                                          [0.1201, 0.1231, 0.1052])\n",
        "                                      ])"
      ],
      "execution_count": 23,
      "outputs": []
    },
    {
      "cell_type": "code",
      "metadata": {
        "id": "brZrUl7mK7ez"
      },
      "source": [
        "train_dataset_w_transform  = MapDataset(train_dataset, train_transform)\n",
        "val_dataset_w_transform = MapDataset(val_dataset, test_transform)\n",
        "test_dataset_w_transform = MapDataset(test_dataset, test_transform)"
      ],
      "execution_count": 24,
      "outputs": []
    },
    {
      "cell_type": "code",
      "metadata": {
        "id": "kZp6DqwfK7e1"
      },
      "source": [
        "bs = 128\n",
        "train_loader = DataLoader(train_dataset_w_transform, batch_size=bs, shuffle=True, drop_last=False)\n",
        "val_loader = DataLoader(val_dataset_w_transform, batch_size=bs, shuffle=False, drop_last=False)\n",
        "test_loader = DataLoader(test_dataset, batch_size=bs, shuffle=False, drop_last=False)"
      ],
      "execution_count": 25,
      "outputs": []
    },
    {
      "cell_type": "markdown",
      "metadata": {
        "id": "xR_9tihT5Vmu"
      },
      "source": [
        "#### Use the residual network that you built above and use data augmentation to reduce the overfitting "
      ]
    },
    {
      "cell_type": "markdown",
      "metadata": {
        "id": "G3OcgMxUxoHC"
      },
      "source": [
        "### Data augmentation report\n",
        "Training with data augmentation completely eliminated the gap between train performance and validation performance until around epoch 40, which greatly impressed me. At the end of training, the model was able to achieve much higher validation performance. As a minor drawback, the model took much longer to learn the training dataset, and was unable to memorize the training set as it did before.\n",
        "\n",
        "Though not shown, I tried out a very large amount of transforms. Some were much more time-consuming than others, so they had to be cut. I discuss the impact of each below.\n",
        "\n",
        "#### RandomGrayscale(0.05)\n",
        "Grayscale significantly slowed model convergence while also adding a decent amount of time to the computation (~5 seconds per iteration). This is because it is a relatively expensive operation and also there are no grayscale validation images in CIFAR-10, so this data augmentation was not useful.\n",
        "\n",
        "#### RandomHorizontalFlip(0.1)\n",
        "Not expensive operation, adding about 1 second per iteration and significantly helped model generalization.\n",
        "\n",
        "#### RandomPerspective(0.1)\n",
        "Fairly expensive operation adding around 5 seconds per iteration. It's a nice data augmentation in principle but I had to cut it due to its computational cost.\n",
        "\n",
        "#### RandomRotation((-180, 180))\n",
        "Somewhat expensive operation adding around 2.5 seconds per iteration. I kept it because it seemed to greatly prevent model from memorizing images.\n",
        "\n",
        "####RandomVerticalFlip(0.1)\n",
        "See random horizontal flip.\n",
        "\n",
        "#### ColorJitter\n",
        "Extremely expensive operation adding around 8 seconds per iteration. Probably a very important data augmentation in practice but I cut it for computational reasons."
      ]
    },
    {
      "cell_type": "code",
      "metadata": {
        "id": "WxMLVdrUwh--",
        "outputId": "7a76c51d-5a5a-4a28-e04e-e8e7ea8c4b9e",
        "colab": {
          "base_uri": "https://localhost:8080/",
          "height": 1000,
          "referenced_widgets": [
            "a60f481534d545e292cfbc1f7bdd6bc4",
            "73c7c83ad0184883b78edd7da1067748",
            "ddef828387cd414fb621ff339fb9aa56",
            "535682af34b74b4ca5fd9ccc224f7b60",
            "06900e7fe9324cbcaecc8ac0492899d8",
            "fa77df4caafa4d26a9b8a644f17d3360",
            "d71488e3e5a6487c90322bc268e222d5",
            "734bc349311a470a9cf542fd75c4babe"
          ]
        }
      },
      "source": [
        "# TODO : Initialize the model and cast to correct device\n",
        "model = ResidualConvnet(3, 10)\n",
        "model.to(device)\n",
        "# TODO : Initialize the criterion \n",
        "c = nn.CrossEntropyLoss()\n",
        "# TODO : Initialize the optimizer \n",
        "o = torch.optim.Adam(model.parameters(), lr=1e-4)\n",
        "# TODO : Run the training loop using this model\n",
        "l_t, a_t, l_v, a_v = train_loop(model, c, o, train_loader, val_loader, device)"
      ],
      "execution_count": 64,
      "outputs": [
        {
          "output_type": "display_data",
          "data": {
            "application/vnd.jupyter.widget-view+json": {
              "model_id": "a60f481534d545e292cfbc1f7bdd6bc4",
              "version_minor": 0,
              "version_major": 2
            },
            "text/plain": [
              "HBox(children=(FloatProgress(value=0.0, max=50.0), HTML(value='')))"
            ]
          },
          "metadata": {
            "tags": []
          }
        },
        {
          "output_type": "stream",
          "text": [
            "[EPOCH]: 0, [TRAIN LOSS]: 0.017005, [TRAIN ACCURACY]: 0.210\n",
            "[EPOCH]: 0, [VAL LOSS]: 0.016131, [VAL ACCURACY]: 0.260 \n",
            "\n",
            "[EPOCH]: 1, [TRAIN LOSS]: 0.015365, [TRAIN ACCURACY]: 0.291\n",
            "[EPOCH]: 1, [VAL LOSS]: 0.014940, [VAL ACCURACY]: 0.329 \n",
            "\n",
            "[EPOCH]: 2, [TRAIN LOSS]: 0.014456, [TRAIN ACCURACY]: 0.338\n",
            "[EPOCH]: 2, [VAL LOSS]: 0.014316, [VAL ACCURACY]: 0.361 \n",
            "\n",
            "[EPOCH]: 3, [TRAIN LOSS]: 0.013689, [TRAIN ACCURACY]: 0.376\n",
            "[EPOCH]: 3, [VAL LOSS]: 0.013554, [VAL ACCURACY]: 0.391 \n",
            "\n",
            "[EPOCH]: 4, [TRAIN LOSS]: 0.012885, [TRAIN ACCURACY]: 0.415\n",
            "[EPOCH]: 4, [VAL LOSS]: 0.012602, [VAL ACCURACY]: 0.436 \n",
            "\n",
            "[EPOCH]: 5, [TRAIN LOSS]: 0.012251, [TRAIN ACCURACY]: 0.444\n",
            "[EPOCH]: 5, [VAL LOSS]: 0.012029, [VAL ACCURACY]: 0.459 \n",
            "\n",
            "[EPOCH]: 6, [TRAIN LOSS]: 0.011710, [TRAIN ACCURACY]: 0.472\n",
            "[EPOCH]: 6, [VAL LOSS]: 0.011544, [VAL ACCURACY]: 0.482 \n",
            "\n",
            "[EPOCH]: 7, [TRAIN LOSS]: 0.011294, [TRAIN ACCURACY]: 0.492\n",
            "[EPOCH]: 7, [VAL LOSS]: 0.011221, [VAL ACCURACY]: 0.498 \n",
            "\n",
            "[EPOCH]: 8, [TRAIN LOSS]: 0.010888, [TRAIN ACCURACY]: 0.508\n",
            "[EPOCH]: 8, [VAL LOSS]: 0.010796, [VAL ACCURACY]: 0.525 \n",
            "\n",
            "[EPOCH]: 9, [TRAIN LOSS]: 0.010542, [TRAIN ACCURACY]: 0.527\n",
            "[EPOCH]: 9, [VAL LOSS]: 0.010659, [VAL ACCURACY]: 0.528 \n",
            "\n",
            "[EPOCH]: 10, [TRAIN LOSS]: 0.010261, [TRAIN ACCURACY]: 0.540\n",
            "[EPOCH]: 10, [VAL LOSS]: 0.010187, [VAL ACCURACY]: 0.552 \n",
            "\n",
            "[EPOCH]: 11, [TRAIN LOSS]: 0.009986, [TRAIN ACCURACY]: 0.554\n",
            "[EPOCH]: 11, [VAL LOSS]: 0.010058, [VAL ACCURACY]: 0.563 \n",
            "\n",
            "[EPOCH]: 12, [TRAIN LOSS]: 0.009691, [TRAIN ACCURACY]: 0.569\n",
            "[EPOCH]: 12, [VAL LOSS]: 0.009817, [VAL ACCURACY]: 0.569 \n",
            "\n",
            "[EPOCH]: 13, [TRAIN LOSS]: 0.009484, [TRAIN ACCURACY]: 0.577\n",
            "[EPOCH]: 13, [VAL LOSS]: 0.009588, [VAL ACCURACY]: 0.583 \n",
            "\n",
            "[EPOCH]: 14, [TRAIN LOSS]: 0.009246, [TRAIN ACCURACY]: 0.592\n",
            "[EPOCH]: 14, [VAL LOSS]: 0.009469, [VAL ACCURACY]: 0.583 \n",
            "\n",
            "[EPOCH]: 15, [TRAIN LOSS]: 0.009036, [TRAIN ACCURACY]: 0.601\n",
            "[EPOCH]: 15, [VAL LOSS]: 0.009265, [VAL ACCURACY]: 0.591 \n",
            "\n",
            "[EPOCH]: 16, [TRAIN LOSS]: 0.008850, [TRAIN ACCURACY]: 0.610\n",
            "[EPOCH]: 16, [VAL LOSS]: 0.009009, [VAL ACCURACY]: 0.607 \n",
            "\n",
            "[EPOCH]: 17, [TRAIN LOSS]: 0.008661, [TRAIN ACCURACY]: 0.618\n",
            "[EPOCH]: 17, [VAL LOSS]: 0.008933, [VAL ACCURACY]: 0.605 \n",
            "\n",
            "[EPOCH]: 18, [TRAIN LOSS]: 0.008505, [TRAIN ACCURACY]: 0.622\n",
            "[EPOCH]: 18, [VAL LOSS]: 0.008708, [VAL ACCURACY]: 0.619 \n",
            "\n",
            "[EPOCH]: 19, [TRAIN LOSS]: 0.008342, [TRAIN ACCURACY]: 0.632\n",
            "[EPOCH]: 19, [VAL LOSS]: 0.008671, [VAL ACCURACY]: 0.620 \n",
            "\n",
            "[EPOCH]: 20, [TRAIN LOSS]: 0.008182, [TRAIN ACCURACY]: 0.638\n",
            "[EPOCH]: 20, [VAL LOSS]: 0.008565, [VAL ACCURACY]: 0.623 \n",
            "\n",
            "[EPOCH]: 21, [TRAIN LOSS]: 0.008084, [TRAIN ACCURACY]: 0.639\n",
            "[EPOCH]: 21, [VAL LOSS]: 0.008269, [VAL ACCURACY]: 0.644 \n",
            "\n",
            "[EPOCH]: 22, [TRAIN LOSS]: 0.007914, [TRAIN ACCURACY]: 0.649\n",
            "[EPOCH]: 22, [VAL LOSS]: 0.008218, [VAL ACCURACY]: 0.635 \n",
            "\n",
            "[EPOCH]: 23, [TRAIN LOSS]: 0.007781, [TRAIN ACCURACY]: 0.655\n",
            "[EPOCH]: 23, [VAL LOSS]: 0.008065, [VAL ACCURACY]: 0.645 \n",
            "\n",
            "[EPOCH]: 24, [TRAIN LOSS]: 0.007641, [TRAIN ACCURACY]: 0.660\n",
            "[EPOCH]: 24, [VAL LOSS]: 0.008109, [VAL ACCURACY]: 0.646 \n",
            "\n",
            "[EPOCH]: 25, [TRAIN LOSS]: 0.007535, [TRAIN ACCURACY]: 0.668\n",
            "[EPOCH]: 25, [VAL LOSS]: 0.007900, [VAL ACCURACY]: 0.652 \n",
            "\n",
            "[EPOCH]: 26, [TRAIN LOSS]: 0.007436, [TRAIN ACCURACY]: 0.673\n",
            "[EPOCH]: 26, [VAL LOSS]: 0.007636, [VAL ACCURACY]: 0.666 \n",
            "\n",
            "[EPOCH]: 27, [TRAIN LOSS]: 0.007226, [TRAIN ACCURACY]: 0.682\n",
            "[EPOCH]: 27, [VAL LOSS]: 0.007655, [VAL ACCURACY]: 0.661 \n",
            "\n",
            "[EPOCH]: 28, [TRAIN LOSS]: 0.007172, [TRAIN ACCURACY]: 0.683\n",
            "[EPOCH]: 28, [VAL LOSS]: 0.007686, [VAL ACCURACY]: 0.668 \n",
            "\n",
            "[EPOCH]: 29, [TRAIN LOSS]: 0.007070, [TRAIN ACCURACY]: 0.689\n",
            "[EPOCH]: 29, [VAL LOSS]: 0.007742, [VAL ACCURACY]: 0.667 \n",
            "\n",
            "[EPOCH]: 30, [TRAIN LOSS]: 0.006960, [TRAIN ACCURACY]: 0.692\n",
            "[EPOCH]: 30, [VAL LOSS]: 0.007444, [VAL ACCURACY]: 0.672 \n",
            "\n",
            "[EPOCH]: 31, [TRAIN LOSS]: 0.006864, [TRAIN ACCURACY]: 0.697\n",
            "[EPOCH]: 31, [VAL LOSS]: 0.007316, [VAL ACCURACY]: 0.678 \n",
            "\n",
            "[EPOCH]: 32, [TRAIN LOSS]: 0.006767, [TRAIN ACCURACY]: 0.700\n",
            "[EPOCH]: 32, [VAL LOSS]: 0.007369, [VAL ACCURACY]: 0.676 \n",
            "\n",
            "[EPOCH]: 33, [TRAIN LOSS]: 0.006696, [TRAIN ACCURACY]: 0.704\n",
            "[EPOCH]: 33, [VAL LOSS]: 0.007153, [VAL ACCURACY]: 0.687 \n",
            "\n",
            "[EPOCH]: 34, [TRAIN LOSS]: 0.006552, [TRAIN ACCURACY]: 0.710\n",
            "[EPOCH]: 34, [VAL LOSS]: 0.007048, [VAL ACCURACY]: 0.686 \n",
            "\n",
            "[EPOCH]: 35, [TRAIN LOSS]: 0.006478, [TRAIN ACCURACY]: 0.715\n",
            "[EPOCH]: 35, [VAL LOSS]: 0.007166, [VAL ACCURACY]: 0.689 \n",
            "\n",
            "[EPOCH]: 36, [TRAIN LOSS]: 0.006418, [TRAIN ACCURACY]: 0.717\n",
            "[EPOCH]: 36, [VAL LOSS]: 0.006965, [VAL ACCURACY]: 0.691 \n",
            "\n",
            "[EPOCH]: 37, [TRAIN LOSS]: 0.006347, [TRAIN ACCURACY]: 0.719\n",
            "[EPOCH]: 37, [VAL LOSS]: 0.006798, [VAL ACCURACY]: 0.700 \n",
            "\n",
            "[EPOCH]: 38, [TRAIN LOSS]: 0.006247, [TRAIN ACCURACY]: 0.724\n",
            "[EPOCH]: 38, [VAL LOSS]: 0.006824, [VAL ACCURACY]: 0.703 \n",
            "\n",
            "[EPOCH]: 39, [TRAIN LOSS]: 0.006176, [TRAIN ACCURACY]: 0.725\n",
            "[EPOCH]: 39, [VAL LOSS]: 0.006698, [VAL ACCURACY]: 0.705 \n",
            "\n",
            "[EPOCH]: 40, [TRAIN LOSS]: 0.006127, [TRAIN ACCURACY]: 0.729\n",
            "[EPOCH]: 40, [VAL LOSS]: 0.006791, [VAL ACCURACY]: 0.706 \n",
            "\n",
            "[EPOCH]: 41, [TRAIN LOSS]: 0.006078, [TRAIN ACCURACY]: 0.732\n",
            "[EPOCH]: 41, [VAL LOSS]: 0.006660, [VAL ACCURACY]: 0.709 \n",
            "\n",
            "[EPOCH]: 42, [TRAIN LOSS]: 0.005969, [TRAIN ACCURACY]: 0.734\n",
            "[EPOCH]: 42, [VAL LOSS]: 0.006643, [VAL ACCURACY]: 0.714 \n",
            "\n",
            "[EPOCH]: 43, [TRAIN LOSS]: 0.005925, [TRAIN ACCURACY]: 0.739\n",
            "[EPOCH]: 43, [VAL LOSS]: 0.006669, [VAL ACCURACY]: 0.705 \n",
            "\n",
            "[EPOCH]: 44, [TRAIN LOSS]: 0.005840, [TRAIN ACCURACY]: 0.741\n",
            "[EPOCH]: 44, [VAL LOSS]: 0.006494, [VAL ACCURACY]: 0.719 \n",
            "\n",
            "[EPOCH]: 45, [TRAIN LOSS]: 0.005771, [TRAIN ACCURACY]: 0.742\n",
            "[EPOCH]: 45, [VAL LOSS]: 0.006557, [VAL ACCURACY]: 0.713 \n",
            "\n",
            "[EPOCH]: 46, [TRAIN LOSS]: 0.005788, [TRAIN ACCURACY]: 0.744\n",
            "[EPOCH]: 46, [VAL LOSS]: 0.006474, [VAL ACCURACY]: 0.719 \n",
            "\n",
            "[EPOCH]: 47, [TRAIN LOSS]: 0.005715, [TRAIN ACCURACY]: 0.747\n",
            "[EPOCH]: 47, [VAL LOSS]: 0.006414, [VAL ACCURACY]: 0.721 \n",
            "\n",
            "[EPOCH]: 48, [TRAIN LOSS]: 0.005663, [TRAIN ACCURACY]: 0.750\n",
            "[EPOCH]: 48, [VAL LOSS]: 0.006394, [VAL ACCURACY]: 0.722 \n",
            "\n",
            "[EPOCH]: 49, [TRAIN LOSS]: 0.005582, [TRAIN ACCURACY]: 0.751\n",
            "[EPOCH]: 49, [VAL LOSS]: 0.006377, [VAL ACCURACY]: 0.727 \n",
            "\n",
            "\n"
          ],
          "name": "stdout"
        }
      ]
    },
    {
      "cell_type": "code",
      "metadata": {
        "id": "mzJ9Rs6Q4827",
        "outputId": "7d7b7463-f84e-4af5-b05a-1817c5017988",
        "colab": {
          "base_uri": "https://localhost:8080/",
          "height": 298
        }
      },
      "source": [
        "plt.plot(l_t, label='train loss - with data augmentation')\n",
        "plt.plot(l_v, label='val loss - with data augmentation')\n",
        "plt.legend()\n",
        "plt.title('Loss - with data augmentation')"
      ],
      "execution_count": 72,
      "outputs": [
        {
          "output_type": "execute_result",
          "data": {
            "text/plain": [
              "Text(0.5, 1.0, 'Loss - with data augmentation')"
            ]
          },
          "metadata": {
            "tags": []
          },
          "execution_count": 72
        },
        {
          "output_type": "display_data",
          "data": {
            "image/png": "[encoded data removed]",
            "text/plain": [
              "<Figure size 432x288 with 1 Axes>"
            ]
          },
          "metadata": {
            "tags": [],
            "needs_background": "light"
          }
        }
      ]
    },
    {
      "cell_type": "code",
      "metadata": {
        "id": "Om5ZjcEe8-Ut",
        "outputId": "5c6a394d-db8e-4664-df6e-30f0f8440e12",
        "colab": {
          "base_uri": "https://localhost:8080/",
          "height": 298
        }
      },
      "source": [
        "plt.plot(a_t, label='train - with data augmentation')\n",
        "plt.plot(a_v, label='val - with data augmentation')\n",
        "plt.legend()\n",
        "plt.title('Accuracy - with data augmentation')"
      ],
      "execution_count": 73,
      "outputs": [
        {
          "output_type": "execute_result",
          "data": {
            "text/plain": [
              "Text(0.5, 1.0, 'Accuracy - with data augmentation')"
            ]
          },
          "metadata": {
            "tags": []
          },
          "execution_count": 73
        },
        {
          "output_type": "display_data",
          "data": {
            "image/png": "[encoded data removed]",
            "text/plain": [
              "<Figure size 432x288 with 1 Axes>"
            ]
          },
          "metadata": {
            "tags": [],
            "needs_background": "light"
          }
        }
      ]
    },
    {
      "cell_type": "markdown",
      "metadata": {
        "id": "O2rhPXb4nRFA"
      },
      "source": [
        "### Q 2.10  Effect of learning rate decay "
      ]
    },
    {
      "cell_type": "markdown",
      "metadata": {
        "id": "VDqvgBeptLpD"
      },
      "source": [
        "#### Here you need to change the training loop to have one additional operation - add the scheduler step at the end of each epoch. Experiment with different learning rate schedulers provided by pytorch. Report results using atleast StepLR. "
      ]
    },
    {
      "cell_type": "markdown",
      "metadata": {
        "id": "oM3FU1OlMOWI"
      },
      "source": [
        "### Learning rate Report\n",
        "Not shown, but using SGD with learning rate $1e-2, 1e-3$ did not see convergence. \n",
        "\n",
        "Decreasing the learning rate each iteration using Adam optimizer starting at $1e-4$ led to the model failing to converge after a few epochs, when the learning rate dropped too low.\n",
        "\n",
        "The best performing model was with learning rate $1e-3$, a higher start than unusual, and semi-frequent decay, with the scheduler lowering the learning rate every other epoch."
      ]
    },
    {
      "cell_type": "code",
      "metadata": {
        "id": "DoDm84bvtbYK"
      },
      "source": [
        "from torch.optim.lr_scheduler import StepLR"
      ],
      "execution_count": 14,
      "outputs": []
    },
    {
      "cell_type": "code",
      "metadata": {
        "id": "nbGSCk4N57qX"
      },
      "source": [
        "def train_loop2(model, criterion, optimizer, scheduler, train_loader, val_loader, device):\n",
        "    \"\"\"\n",
        "    Generic training loop\n",
        "\n",
        "    Parameters\n",
        "    ----------\n",
        "    model : Object instance of your model class \n",
        "    criterion : Loss function \n",
        "    optimizer : Instance of optimizer class of your choice \n",
        "    scheduler : Instance of scheduler class of your choice \n",
        "    train_loader : Training data loader \n",
        "    val_loader : Validation data loader\n",
        "\n",
        "    Returns\n",
        "    -------\n",
        "    train_losses : List with train loss on dataset per epoch\n",
        "    train_accuracies : List with train accuracy on dataset per epoch\n",
        "    val_losses : List with validation loss on dataset per epoch\n",
        "    val_accuracies : List with validation accuracy on dataset per epoch\n",
        "\n",
        "    \"\"\"\n",
        "    best_val = 0.0\n",
        "    train_losses = []\n",
        "    val_losses = []\n",
        "    train_accuracies = []\n",
        "    val_accuracies = []\n",
        "    max_patience = 5\n",
        "    patience_counter = 0\n",
        "\n",
        "    # Training\n",
        "    for t in tqdm(range(50)):\n",
        "        # TODO : Set the model to train mode        \n",
        "        model.train()\n",
        "        train_loss = 0\n",
        "        correct = 0\n",
        "        n = 0\n",
        "        # TODO: Loop over the training set \n",
        "        for batch_idx, samples in enumerate(train_loader):\n",
        "            # TODO: Put the inputs and targets on the write device\n",
        "            image = samples[0].to(device)\n",
        "            label = samples[1].to(device)\n",
        "            # TODO: Feed forward to get the logits\n",
        "            output = model(image)\n",
        "            _, preds = torch.max(output, dim = 1)\n",
        "            # TODO: Compute the loss and accuracy\n",
        "            loss = criterion(output, label)\n",
        "            # TODO: zero the gradients before running\n",
        "            # the backward pass.\n",
        "            optimizer.zero_grad()\n",
        "            # TODO: Backward pass to compute the gradient\n",
        "            # of loss w.r.t our learnable params. \n",
        "            loss.backward()\n",
        "            # TODO: Update params\n",
        "            optimizer.step()\n",
        "            # TODO: Keep track of accuracy and loss\n",
        "            train_loss += loss.item()\n",
        "            n += image.shape[0]\n",
        "            correct += torch.sum(preds == label).item()\n",
        "        \n",
        "        train_losses.append(train_loss / n)\n",
        "        train_accuracies.append(correct / n)\n",
        "        scheduler.step()\n",
        "        \n",
        "        # TODO: Switch the model to eval mode\n",
        "        model.eval()\n",
        "\n",
        "        val_loss = 0\n",
        "        val_correct = 0\n",
        "        val_n = 0\n",
        "        with torch.no_grad():\n",
        "            # TODO: Loop over the validation set \n",
        "            for batch_idx, samples in enumerate(val_loader):\n",
        "                # TODO: Put the inputs and targets on the write device\n",
        "                image = samples[0].to(device)\n",
        "                label = samples[1].to(device)\n",
        "                # TODO: Feed forward to get the logits\n",
        "                output = model(image)\n",
        "                _, preds = torch.max(output, dim=1)\n",
        "                # TODO: Compute the loss and accuracy\n",
        "                loss = criterion(output, label)\n",
        "                # TODO: Keep track of accuracy and loss\n",
        "                val_loss += loss.item()\n",
        "                val_n += image.shape[0]\n",
        "                val_correct += torch.sum(preds == label).item()\n",
        "            val_losses.append(val_loss / val_n)\n",
        "            val_accuracies.append(val_correct / val_n)\n",
        "                \n",
        "        if val_accuracies[-1] > best_val:\n",
        "            best_val = val_accuracies[-1]\n",
        "            patience_counter = 0\n",
        "            # TODO: Save best model, optimizer, epoch_number\n",
        "            checkpoint = {\n",
        "                'model':model.state_dict(),\n",
        "                'epoch':t,\n",
        "                'optimizer':optimizer.state_dict()\n",
        "            }\n",
        "            torch.save(checkpoint, 'checkpoint.pth')\n",
        "            \n",
        "        else:\n",
        "            patience_counter += 1    \n",
        "            if patience_counter > max_patience: \n",
        "                break\n",
        "\n",
        "        print(\"[EPOCH]: %i, [TRAIN LOSS]: %.6f, [TRAIN ACCURACY]: %.3f\" % (t, train_losses[-1], train_accuracies[-1]))\n",
        "        print(\"[EPOCH]: %i, [VAL LOSS]: %.6f, [VAL ACCURACY]: %.3f \\n\" % (t, val_losses[-1] ,val_accuracies[-1]))\n",
        "\n",
        "    return train_losses, train_accuracies, val_losses, val_accuracies"
      ],
      "execution_count": 15,
      "outputs": []
    },
    {
      "cell_type": "code",
      "metadata": {
        "id": "bK1P1aU0sbJn",
        "outputId": "31b89d43-da32-4108-d97e-0c6a87473404",
        "colab": {
          "base_uri": "https://localhost:8080/",
          "height": 508,
          "referenced_widgets": [
            "09514f6c405147a896d08eae22310408",
            "118fa6e490bc4c029ca139ed5b799b4c",
            "b71a249525c84e75a603e1011cd73009",
            "2660aab17dfe4306a3fff56d42a395c6",
            "e9481de515db4f599718e917bdfbec44",
            "582f9d8fdc324c8daaa1433175ec80e3",
            "258877e5b1cc4e4ba9cd07f6fc56f60c",
            "6f34e05b3eae41318445fab064273e25"
          ]
        }
      },
      "source": [
        "# TODO : Initialize the model and cast to correct device\n",
        "model = ResidualConvnet(3, 10)\n",
        "model.to(device)\n",
        "# TODO : Initialize the criterion \n",
        "c = nn.CrossEntropyLoss()\n",
        "# TODO : Initialize the optimizer \n",
        "o = torch.optim.Adam(model.parameters(), lr=1e-4)\n",
        "# TODO : Initialize the scheduler\n",
        "s = torch.optim.lr_scheduler.StepLR(o, \n",
        "                                    step_size = 1)\n",
        "# TODO : Run the training loop using this model\n",
        "l_t, a_t, l_v, a_v = train_loop2(model, c, o, s, \n",
        "                                 train_loader, val_loader, \n",
        "                                 device)"
      ],
      "execution_count": 79,
      "outputs": [
        {
          "output_type": "display_data",
          "data": {
            "application/vnd.jupyter.widget-view+json": {
              "model_id": "09514f6c405147a896d08eae22310408",
              "version_minor": 0,
              "version_major": 2
            },
            "text/plain": [
              "HBox(children=(FloatProgress(value=0.0, max=50.0), HTML(value='')))"
            ]
          },
          "metadata": {
            "tags": []
          }
        },
        {
          "output_type": "stream",
          "text": [
            "[EPOCH]: 0, [TRAIN LOSS]: 0.017017, [TRAIN ACCURACY]: 0.212\n",
            "[EPOCH]: 0, [VAL LOSS]: 0.016125, [VAL ACCURACY]: 0.261 \n",
            "\n",
            "[EPOCH]: 1, [TRAIN LOSS]: 0.015520, [TRAIN ACCURACY]: 0.282\n",
            "[EPOCH]: 1, [VAL LOSS]: 0.015421, [VAL ACCURACY]: 0.301 \n",
            "\n",
            "[EPOCH]: 2, [TRAIN LOSS]: 0.015301, [TRAIN ACCURACY]: 0.295\n",
            "[EPOCH]: 2, [VAL LOSS]: 0.015377, [VAL ACCURACY]: 0.303 \n",
            "\n",
            "[EPOCH]: 3, [TRAIN LOSS]: 0.015266, [TRAIN ACCURACY]: 0.299\n",
            "[EPOCH]: 3, [VAL LOSS]: 0.015358, [VAL ACCURACY]: 0.306 \n",
            "\n",
            "[EPOCH]: 4, [TRAIN LOSS]: 0.015274, [TRAIN ACCURACY]: 0.297\n",
            "[EPOCH]: 4, [VAL LOSS]: 0.015326, [VAL ACCURACY]: 0.304 \n",
            "\n",
            "[EPOCH]: 5, [TRAIN LOSS]: 0.015255, [TRAIN ACCURACY]: 0.298\n",
            "[EPOCH]: 5, [VAL LOSS]: 0.015388, [VAL ACCURACY]: 0.306 \n",
            "\n",
            "[EPOCH]: 6, [TRAIN LOSS]: 0.015278, [TRAIN ACCURACY]: 0.298\n",
            "[EPOCH]: 6, [VAL LOSS]: 0.015400, [VAL ACCURACY]: 0.302 \n",
            "\n",
            "[EPOCH]: 7, [TRAIN LOSS]: 0.015265, [TRAIN ACCURACY]: 0.300\n",
            "[EPOCH]: 7, [VAL LOSS]: 0.015397, [VAL ACCURACY]: 0.302 \n",
            "\n",
            "[EPOCH]: 8, [TRAIN LOSS]: 0.015257, [TRAIN ACCURACY]: 0.299\n",
            "[EPOCH]: 8, [VAL LOSS]: 0.015324, [VAL ACCURACY]: 0.305 \n",
            "\n"
          ],
          "name": "stdout"
        }
      ]
    },
    {
      "cell_type": "code",
      "metadata": {
        "id": "-BHGDPbc95vb",
        "outputId": "343cd18f-d74c-4ccd-b59e-f329bb23d276",
        "colab": {
          "base_uri": "https://localhost:8080/",
          "height": 1000,
          "referenced_widgets": [
            "7083cbfd70bd49a8a6e94ff62301861a",
            "f87ebe3cf7aa4694a9fe2f84ca11fda2",
            "570f5e59f8fe42a09fa33661600e1d0e",
            "51a6f4f9a737450baac665ba77705fd8",
            "a96021611b9e4a049b25863f0f813e64",
            "3046824a5fa6446192d1a2b7ed06d81d",
            "eb246491d82844adbb0e3ae68cb23a70",
            "799ca02071214dcd82db080728290376"
          ]
        }
      },
      "source": [
        "# TODO : Initialize the model and cast to correct device\n",
        "model = ResidualConvnet(3, 10)\n",
        "model.to(device)\n",
        "# TODO : Initialize the criterion \n",
        "c = nn.CrossEntropyLoss()\n",
        "# TODO : Initialize the optimizer \n",
        "o = torch.optim.Adam(model.parameters(), lr=1e-4)\n",
        "# TODO : Initialize the scheduler\n",
        "s = torch.optim.lr_scheduler.StepLR(o, \n",
        "                                    step_size = 5)\n",
        "# TODO : Run the training loop using this model\n",
        "l_t2, a_t2, l_v2, a_v2 = train_loop2(model, c, o, s, \n",
        "                                 train_loader, val_loader, \n",
        "                                 device)"
      ],
      "execution_count": 80,
      "outputs": [
        {
          "output_type": "display_data",
          "data": {
            "application/vnd.jupyter.widget-view+json": {
              "model_id": "7083cbfd70bd49a8a6e94ff62301861a",
              "version_minor": 0,
              "version_major": 2
            },
            "text/plain": [
              "HBox(children=(FloatProgress(value=0.0, max=50.0), HTML(value='')))"
            ]
          },
          "metadata": {
            "tags": []
          }
        },
        {
          "output_type": "stream",
          "text": [
            "[EPOCH]: 0, [TRAIN LOSS]: 0.016896, [TRAIN ACCURACY]: 0.211\n",
            "[EPOCH]: 0, [VAL LOSS]: 0.015914, [VAL ACCURACY]: 0.269 \n",
            "\n",
            "[EPOCH]: 1, [TRAIN LOSS]: 0.015380, [TRAIN ACCURACY]: 0.290\n",
            "[EPOCH]: 1, [VAL LOSS]: 0.014928, [VAL ACCURACY]: 0.327 \n",
            "\n",
            "[EPOCH]: 2, [TRAIN LOSS]: 0.014513, [TRAIN ACCURACY]: 0.337\n",
            "[EPOCH]: 2, [VAL LOSS]: 0.014255, [VAL ACCURACY]: 0.352 \n",
            "\n",
            "[EPOCH]: 3, [TRAIN LOSS]: 0.013890, [TRAIN ACCURACY]: 0.363\n",
            "[EPOCH]: 3, [VAL LOSS]: 0.013837, [VAL ACCURACY]: 0.378 \n",
            "\n",
            "[EPOCH]: 4, [TRAIN LOSS]: 0.013257, [TRAIN ACCURACY]: 0.395\n",
            "[EPOCH]: 4, [VAL LOSS]: 0.013073, [VAL ACCURACY]: 0.417 \n",
            "\n",
            "[EPOCH]: 5, [TRAIN LOSS]: 0.012509, [TRAIN ACCURACY]: 0.432\n",
            "[EPOCH]: 5, [VAL LOSS]: 0.012434, [VAL ACCURACY]: 0.448 \n",
            "\n",
            "[EPOCH]: 6, [TRAIN LOSS]: 0.012297, [TRAIN ACCURACY]: 0.444\n",
            "[EPOCH]: 6, [VAL LOSS]: 0.012423, [VAL ACCURACY]: 0.445 \n",
            "\n",
            "[EPOCH]: 7, [TRAIN LOSS]: 0.012178, [TRAIN ACCURACY]: 0.448\n",
            "[EPOCH]: 7, [VAL LOSS]: 0.012106, [VAL ACCURACY]: 0.458 \n",
            "\n",
            "[EPOCH]: 8, [TRAIN LOSS]: 0.012073, [TRAIN ACCURACY]: 0.453\n",
            "[EPOCH]: 8, [VAL LOSS]: 0.012183, [VAL ACCURACY]: 0.458 \n",
            "\n",
            "[EPOCH]: 9, [TRAIN LOSS]: 0.011929, [TRAIN ACCURACY]: 0.461\n",
            "[EPOCH]: 9, [VAL LOSS]: 0.011968, [VAL ACCURACY]: 0.470 \n",
            "\n",
            "[EPOCH]: 10, [TRAIN LOSS]: 0.011865, [TRAIN ACCURACY]: 0.464\n",
            "[EPOCH]: 10, [VAL LOSS]: 0.011946, [VAL ACCURACY]: 0.468 \n",
            "\n",
            "[EPOCH]: 11, [TRAIN LOSS]: 0.011835, [TRAIN ACCURACY]: 0.468\n",
            "[EPOCH]: 11, [VAL LOSS]: 0.011989, [VAL ACCURACY]: 0.466 \n",
            "\n",
            "[EPOCH]: 12, [TRAIN LOSS]: 0.011801, [TRAIN ACCURACY]: 0.468\n",
            "[EPOCH]: 12, [VAL LOSS]: 0.011952, [VAL ACCURACY]: 0.473 \n",
            "\n",
            "[EPOCH]: 13, [TRAIN LOSS]: 0.011799, [TRAIN ACCURACY]: 0.466\n",
            "[EPOCH]: 13, [VAL LOSS]: 0.011934, [VAL ACCURACY]: 0.471 \n",
            "\n",
            "[EPOCH]: 14, [TRAIN LOSS]: 0.011787, [TRAIN ACCURACY]: 0.468\n",
            "[EPOCH]: 14, [VAL LOSS]: 0.011882, [VAL ACCURACY]: 0.474 \n",
            "\n",
            "[EPOCH]: 15, [TRAIN LOSS]: 0.011764, [TRAIN ACCURACY]: 0.467\n",
            "[EPOCH]: 15, [VAL LOSS]: 0.011917, [VAL ACCURACY]: 0.469 \n",
            "\n",
            "[EPOCH]: 16, [TRAIN LOSS]: 0.011771, [TRAIN ACCURACY]: 0.468\n",
            "[EPOCH]: 16, [VAL LOSS]: 0.011865, [VAL ACCURACY]: 0.471 \n",
            "\n",
            "[EPOCH]: 17, [TRAIN LOSS]: 0.011747, [TRAIN ACCURACY]: 0.470\n",
            "[EPOCH]: 17, [VAL LOSS]: 0.011929, [VAL ACCURACY]: 0.468 \n",
            "\n",
            "[EPOCH]: 18, [TRAIN LOSS]: 0.011780, [TRAIN ACCURACY]: 0.469\n",
            "[EPOCH]: 18, [VAL LOSS]: 0.011890, [VAL ACCURACY]: 0.470 \n",
            "\n",
            "[EPOCH]: 19, [TRAIN LOSS]: 0.011769, [TRAIN ACCURACY]: 0.466\n",
            "[EPOCH]: 19, [VAL LOSS]: 0.011881, [VAL ACCURACY]: 0.472 \n",
            "\n"
          ],
          "name": "stdout"
        }
      ]
    },
    {
      "cell_type": "code",
      "metadata": {
        "id": "AYXo5RngKrT3",
        "outputId": "c6c6e9ac-b899-441c-a88b-fa861b1a51ea",
        "colab": {
          "base_uri": "https://localhost:8080/",
          "height": 814,
          "referenced_widgets": [
            "df64f31f9f694d558d1922bead0e1495",
            "716498513bdf4bd9b63fe8e7a6889f98",
            "971e6b61ec304c788fa70ac924c8d205",
            "d2c0c44d6f4640d28812e5429839a1f8",
            "408873cde5ce408283d308f283497b4c",
            "1d2ceb1b1dfe4c5aa407130daa6c4cb8",
            "6c9bfdc2eb7740048283e2df0ecab65b",
            "f256b86dcf094348abb842994d1281e0"
          ]
        }
      },
      "source": [
        "# TODO : Initialize the model and cast to correct device\n",
        "model = ResidualConvnet(3, 10)\n",
        "model.to(device)\n",
        "# TODO : Initialize the criterion \n",
        "c = nn.CrossEntropyLoss()\n",
        "# TODO : Initialize the optimizer \n",
        "o = torch.optim.Adam(model.parameters(), lr=1e-3)\n",
        "# TODO : Initialize the scheduler\n",
        "s = torch.optim.lr_scheduler.StepLR(o, \n",
        "                                    step_size = 2)\n",
        "# TODO : Run the training loop using this model\n",
        "l_t3, a_t3, l_v3, a_v3 = train_loop2(model, c, o, s, \n",
        "                                 train_loader, val_loader, \n",
        "                                 device)"
      ],
      "execution_count": 101,
      "outputs": [
        {
          "output_type": "display_data",
          "data": {
            "application/vnd.jupyter.widget-view+json": {
              "model_id": "df64f31f9f694d558d1922bead0e1495",
              "version_minor": 0,
              "version_major": 2
            },
            "text/plain": [
              "HBox(children=(FloatProgress(value=0.0, max=50.0), HTML(value='')))"
            ]
          },
          "metadata": {
            "tags": []
          }
        },
        {
          "output_type": "stream",
          "text": [
            "[EPOCH]: 0, [TRAIN LOSS]: 0.010618, [TRAIN ACCURACY]: 0.511\n",
            "[EPOCH]: 0, [VAL LOSS]: 0.007764, [VAL ACCURACY]: 0.656 \n",
            "\n",
            "[EPOCH]: 1, [TRAIN LOSS]: 0.006884, [TRAIN ACCURACY]: 0.689\n",
            "[EPOCH]: 1, [VAL LOSS]: 0.005982, [VAL ACCURACY]: 0.739 \n",
            "\n",
            "[EPOCH]: 2, [TRAIN LOSS]: 0.004546, [TRAIN ACCURACY]: 0.800\n",
            "[EPOCH]: 2, [VAL LOSS]: 0.004446, [VAL ACCURACY]: 0.806 \n",
            "\n",
            "[EPOCH]: 3, [TRAIN LOSS]: 0.003971, [TRAIN ACCURACY]: 0.826\n",
            "[EPOCH]: 3, [VAL LOSS]: 0.004221, [VAL ACCURACY]: 0.814 \n",
            "\n",
            "[EPOCH]: 4, [TRAIN LOSS]: 0.003497, [TRAIN ACCURACY]: 0.851\n",
            "[EPOCH]: 4, [VAL LOSS]: 0.004093, [VAL ACCURACY]: 0.820 \n",
            "\n",
            "[EPOCH]: 5, [TRAIN LOSS]: 0.003435, [TRAIN ACCURACY]: 0.854\n",
            "[EPOCH]: 5, [VAL LOSS]: 0.004055, [VAL ACCURACY]: 0.822 \n",
            "\n",
            "[EPOCH]: 6, [TRAIN LOSS]: 0.003354, [TRAIN ACCURACY]: 0.858\n",
            "[EPOCH]: 6, [VAL LOSS]: 0.004046, [VAL ACCURACY]: 0.823 \n",
            "\n",
            "[EPOCH]: 7, [TRAIN LOSS]: 0.003367, [TRAIN ACCURACY]: 0.856\n",
            "[EPOCH]: 7, [VAL LOSS]: 0.004045, [VAL ACCURACY]: 0.823 \n",
            "\n",
            "[EPOCH]: 8, [TRAIN LOSS]: 0.003362, [TRAIN ACCURACY]: 0.859\n",
            "[EPOCH]: 8, [VAL LOSS]: 0.004050, [VAL ACCURACY]: 0.822 \n",
            "\n",
            "[EPOCH]: 9, [TRAIN LOSS]: 0.003323, [TRAIN ACCURACY]: 0.859\n",
            "[EPOCH]: 9, [VAL LOSS]: 0.004046, [VAL ACCURACY]: 0.823 \n",
            "\n",
            "[EPOCH]: 10, [TRAIN LOSS]: 0.003322, [TRAIN ACCURACY]: 0.861\n",
            "[EPOCH]: 10, [VAL LOSS]: 0.004045, [VAL ACCURACY]: 0.822 \n",
            "\n",
            "[EPOCH]: 11, [TRAIN LOSS]: 0.003322, [TRAIN ACCURACY]: 0.861\n",
            "[EPOCH]: 11, [VAL LOSS]: 0.004041, [VAL ACCURACY]: 0.822 \n",
            "\n",
            "[EPOCH]: 12, [TRAIN LOSS]: 0.003304, [TRAIN ACCURACY]: 0.860\n",
            "[EPOCH]: 12, [VAL LOSS]: 0.004045, [VAL ACCURACY]: 0.823 \n",
            "\n",
            "[EPOCH]: 13, [TRAIN LOSS]: 0.003308, [TRAIN ACCURACY]: 0.861\n",
            "[EPOCH]: 13, [VAL LOSS]: 0.004046, [VAL ACCURACY]: 0.823 \n",
            "\n",
            "[EPOCH]: 14, [TRAIN LOSS]: 0.003307, [TRAIN ACCURACY]: 0.862\n",
            "[EPOCH]: 14, [VAL LOSS]: 0.004046, [VAL ACCURACY]: 0.821 \n",
            "\n"
          ],
          "name": "stdout"
        }
      ]
    },
    {
      "cell_type": "code",
      "metadata": {
        "id": "7rfnjuX25G79",
        "outputId": "fc530e00-3c51-4260-cdee-d134f8c3d821",
        "colab": {
          "base_uri": "https://localhost:8080/",
          "height": 298
        }
      },
      "source": [
        "plt.plot(l_t, label='train - 1e-4 with step size 1')\n",
        "plt.plot(l_v, label='val - 1e-4 with step size 1')\n",
        "plt.plot(l_t2, label='train - 1e-4 with step size 5')\n",
        "plt.plot(l_v2, label='val - 1e-4 with step size 5')\n",
        "plt.plot(l_t3, label='train - 1e-3 with step size 2')\n",
        "plt.plot(l_v3, label='val - 1e-3 with step size 2')\n",
        "plt.legend()\n",
        "plt.title('Loss for different learning rate schedules')"
      ],
      "execution_count": 104,
      "outputs": [
        {
          "output_type": "execute_result",
          "data": {
            "text/plain": [
              "Text(0.5, 1.0, 'Loss for different learning rate schedules')"
            ]
          },
          "metadata": {
            "tags": []
          },
          "execution_count": 104
        },
        {
          "output_type": "display_data",
          "data": {
            "image/png": "[encoded data removed]",
            "text/plain": [
              "<Figure size 432x288 with 1 Axes>"
            ]
          },
          "metadata": {
            "tags": [],
            "needs_background": "light"
          }
        }
      ]
    },
    {
      "cell_type": "code",
      "metadata": {
        "id": "QWPx2mi9WdpL",
        "outputId": "dba4b056-a393-4071-9862-06d7499f8205",
        "colab": {
          "base_uri": "https://localhost:8080/",
          "height": 298
        }
      },
      "source": [
        "plt.plot(a_t, label='train - 1e-4 with step size 1')\n",
        "plt.plot(a_v, label='val - 1e-4 with step size 1')\n",
        "plt.plot(a_t2, label='train - 1e-4 with step size 5')\n",
        "plt.plot(a_v2, label='val - 1e-4 with step size 5')\n",
        "plt.plot(a_t3, label='train - 1e-3 with step size 2')\n",
        "plt.plot(a_v3, label='val - 1e-3 with step size 2')\n",
        "plt.legend()\n",
        "plt.title('Accuracy for different learning rate schedules')"
      ],
      "execution_count": 106,
      "outputs": [
        {
          "output_type": "execute_result",
          "data": {
            "text/plain": [
              "Text(0.5, 1.0, 'Accuracy for different learning rate schedules')"
            ]
          },
          "metadata": {
            "tags": []
          },
          "execution_count": 106
        },
        {
          "output_type": "display_data",
          "data": {
            "image/png": "[encoded data removed]",
            "text/plain": [
              "<Figure size 432x288 with 1 Axes>"
            ]
          },
          "metadata": {
            "tags": [],
            "needs_background": "light"
          }
        }
      ]
    },
    {
      "cell_type": "markdown",
      "metadata": {
        "id": "cG8bhd5V97iJ"
      },
      "source": [
        "### Q2.11 Hyper parameter tuning \n"
      ]
    },
    {
      "cell_type": "markdown",
      "metadata": {
        "id": "G05PHYHJ-DF2"
      },
      "source": [
        "#### Experiment with a range of learning rates and optimizers, as well as the parameter in the learning rate scheduler for StepLR. Report the following plots: \n",
        "\n",
        "1. Learning curves (training and validation loss for 5 different learning rate with SGD optimizer)\n",
        "2. Learning curves (training and validation loss for 5 different learning rate with Adam optimizer)\n",
        "3. Learning curves (training and validation loss for 5 different gamma parameter for the StepLR)\n",
        "\n",
        "\n",
        "\n"
      ]
    },
    {
      "cell_type": "markdown",
      "metadata": {
        "id": "JiLexWP36qp6"
      },
      "source": [
        "### Q2.12 Load the model that gave you best validation accuracy and report results on the test set. "
      ]
    },
    {
      "cell_type": "code",
      "metadata": {
        "id": "Hz-m4xZU_nV8"
      },
      "source": [
        "learning_rates = [0.01, 0.001, 0.0005, 0.0001, 0.00005]\n",
        "gammas = [0.1, 0.25, 0.5, 0.8, 0.9]\n",
        "def train_with_model(lr, gamma, optim):\n",
        "    model = ResidualConvnet(3, 10)\n",
        "    model.to(device)\n",
        "    # TODO : Initialize the criterion \n",
        "    c = nn.CrossEntropyLoss()\n",
        "    # TODO : Initialize the optimizer \n",
        "    if optim == 'Adam':\n",
        "        o = torch.optim.Adam(model.parameters(), lr=lr)\n",
        "    else:\n",
        "        o = torch.optim.SGD(model.parameters(), lr=lr)\n",
        "    # TODO : Initialize the scheduler\n",
        "    s = torch.optim.lr_scheduler.StepLR(o, \n",
        "                                        step_size = 2,\n",
        "                                        gamma=gamma)\n",
        "    # TODO : Run the training loop using this model\n",
        "    l_t, a_t, l_v, a_v = train_loop2(model, c, o, s, \n",
        "                                    train_loader, val_loader, \n",
        "                                    device)\n",
        "    return l_t, a_t, l_v, a_v\n"
      ],
      "execution_count": 21,
      "outputs": []
    },
    {
      "cell_type": "code",
      "metadata": {
        "id": "gzhPfUvqwRE8",
        "outputId": "ae9d8f12-334f-4525-9622-13dc2fd5409d",
        "colab": {
          "base_uri": "https://localhost:8080/",
          "height": 1000,
          "referenced_widgets": [
            "137fd916e90449a4a915e4f8aca9657c",
            "40dc77c58d6b4bc9bdfe562dbaaa56d4",
            "6cecfaf62a6147b0838821cf627a7650",
            "7c5664ca811b4845b6c994ad9ebe3e44",
            "4e19c591177b4e7ca6f355e1d8ebfe28",
            "d6737e21af574e549fd144f94006811b",
            "3ab09ab07cd048298eb3e1f01c032768",
            "1f2bdf837cbd40648f1d3ea918a993bb",
            "0885684931694b718659bdc412ad3c50",
            "dbda47ed942f43ab8e825f9185f36801",
            "1157425101db4012abfdaf2a89a7aadc",
            "85a2a63d363c4eb2b6956b6ecb777bf0",
            "294177c7f3e545459e3b83bfddd6c6da",
            "98161b52b8234e0183ba49c08eb6a4c2",
            "a4c39fdff62a4a9aa2883b88b5d0a8b9",
            "c3140cc3ac124ed2acbfe12213b7141c",
            "170ec7f063584ee489fd4ed94a971bcc",
            "2ec5de6d5b1f4128a73687249d6a005e",
            "ea5d39dd5dbb4a869c97b1add2ee2b33",
            "2857d27d41c14a47b148f05cbfc73375",
            "8852bce54ca34f558b3fd5195ed7f8f6",
            "484091fac9524edd98eb62df161621c9",
            "d69e2e3bd4004461a18e7ae1bc32dd0d",
            "9f068d47064b4f0398e89ed427a237a2",
            "ae876ccdc25547c8869f5ed37d384f1f",
            "664a2eb3a0a24ba1b75dad0b3d164ca0",
            "cff306dabf324f66a0417e5e8c442aea",
            "be7a0700087c4b999812a403ecad279b",
            "5f85bb76bc3e4f878f5c476f0fd3ce40",
            "7339ca5fd6114372b33bdd99d4fd2113",
            "9aaf9ba3233e4214b13838d7662c731b",
            "a26ea42cacfe4ca69f8b996867c03fe1",
            "e2374973e3494fbbbf17ac97379a19c2",
            "5980f8da45024b6880d331cb4f4b0916",
            "cae4081a8a574e0f976da3cb4cd7cf59",
            "b71bb7daceec4ce496a7b1566887b54e",
            "4d447221b4ae423bb8602881b01a2525",
            "f2212372ef04472eabaff6cc77020f45",
            "54baec066e064cbeb872cdc6738cb23c",
            "bc0301c22ab5465986957a889c2720e2"
          ]
        }
      },
      "source": [
        "l_ts = []\n",
        "a_ts = []\n",
        "l_vs = []\n",
        "a_vs = []\n",
        "model_params = []\n",
        "for lr in tqdm(learning_rates):\n",
        "    l_t, a_t, l_v, a_v = train_with_model(lr, gamma=0.1, optim='Adam')\n",
        "    l_ts.append(l_t)\n",
        "    a_ts.append(a_t)\n",
        "    l_vs.append(l_v)\n",
        "    a_vs.append(a_v)\n",
        "best = torch.argmin(torch.tensor([l[-1] for l in l_vs]))\n",
        "best_lr_adam = learning_rates[best]\n",
        "best_lv_adam = l_vs[best]\n",
        "best_loss_adam = torch.tensor([l[-1] for l in l_vs])[best]"
      ],
      "execution_count": null,
      "outputs": [
        {
          "output_type": "display_data",
          "data": {
            "application/vnd.jupyter.widget-view+json": {
              "model_id": "137fd916e90449a4a915e4f8aca9657c",
              "version_minor": 0,
              "version_major": 2
            },
            "text/plain": [
              "HBox(children=(FloatProgress(value=0.0, max=5.0), HTML(value='')))"
            ]
          },
          "metadata": {
            "tags": []
          }
        },
        {
          "output_type": "display_data",
          "data": {
            "application/vnd.jupyter.widget-view+json": {
              "model_id": "0885684931694b718659bdc412ad3c50",
              "version_minor": 0,
              "version_major": 2
            },
            "text/plain": [
              "HBox(children=(FloatProgress(value=0.0, max=50.0), HTML(value='')))"
            ]
          },
          "metadata": {
            "tags": []
          }
        },
        {
          "output_type": "stream",
          "text": [
            "[EPOCH]: 0, [TRAIN LOSS]: 0.014414, [TRAIN ACCURACY]: 0.335\n",
            "[EPOCH]: 0, [VAL LOSS]: 0.011914, [VAL ACCURACY]: 0.431 \n",
            "\n",
            "[EPOCH]: 1, [TRAIN LOSS]: 0.010788, [TRAIN ACCURACY]: 0.501\n",
            "[EPOCH]: 1, [VAL LOSS]: 0.009822, [VAL ACCURACY]: 0.562 \n",
            "\n",
            "[EPOCH]: 2, [TRAIN LOSS]: 0.008114, [TRAIN ACCURACY]: 0.632\n",
            "[EPOCH]: 2, [VAL LOSS]: 0.007542, [VAL ACCURACY]: 0.659 \n",
            "\n",
            "[EPOCH]: 3, [TRAIN LOSS]: 0.007313, [TRAIN ACCURACY]: 0.669\n",
            "[EPOCH]: 3, [VAL LOSS]: 0.006876, [VAL ACCURACY]: 0.692 \n",
            "\n",
            "[EPOCH]: 4, [TRAIN LOSS]: 0.006552, [TRAIN ACCURACY]: 0.705\n",
            "[EPOCH]: 4, [VAL LOSS]: 0.006600, [VAL ACCURACY]: 0.705 \n",
            "\n",
            "[EPOCH]: 5, [TRAIN LOSS]: 0.006402, [TRAIN ACCURACY]: 0.712\n",
            "[EPOCH]: 5, [VAL LOSS]: 0.006517, [VAL ACCURACY]: 0.714 \n",
            "\n",
            "[EPOCH]: 6, [TRAIN LOSS]: 0.006294, [TRAIN ACCURACY]: 0.717\n",
            "[EPOCH]: 6, [VAL LOSS]: 0.006474, [VAL ACCURACY]: 0.714 \n",
            "\n",
            "[EPOCH]: 7, [TRAIN LOSS]: 0.006301, [TRAIN ACCURACY]: 0.717\n",
            "[EPOCH]: 7, [VAL LOSS]: 0.006462, [VAL ACCURACY]: 0.714 \n",
            "\n",
            "[EPOCH]: 8, [TRAIN LOSS]: 0.006233, [TRAIN ACCURACY]: 0.720\n",
            "[EPOCH]: 8, [VAL LOSS]: 0.006465, [VAL ACCURACY]: 0.715 \n",
            "\n",
            "[EPOCH]: 9, [TRAIN LOSS]: 0.006239, [TRAIN ACCURACY]: 0.720\n",
            "[EPOCH]: 9, [VAL LOSS]: 0.006460, [VAL ACCURACY]: 0.714 \n",
            "\n",
            "[EPOCH]: 10, [TRAIN LOSS]: 0.006257, [TRAIN ACCURACY]: 0.717\n",
            "[EPOCH]: 10, [VAL LOSS]: 0.006471, [VAL ACCURACY]: 0.715 \n",
            "\n",
            "[EPOCH]: 11, [TRAIN LOSS]: 0.006221, [TRAIN ACCURACY]: 0.720\n",
            "[EPOCH]: 11, [VAL LOSS]: 0.006453, [VAL ACCURACY]: 0.715 \n",
            "\n",
            "[EPOCH]: 12, [TRAIN LOSS]: 0.006257, [TRAIN ACCURACY]: 0.718\n",
            "[EPOCH]: 12, [VAL LOSS]: 0.006462, [VAL ACCURACY]: 0.715 \n",
            "\n",
            "[EPOCH]: 13, [TRAIN LOSS]: 0.006239, [TRAIN ACCURACY]: 0.720\n",
            "[EPOCH]: 13, [VAL LOSS]: 0.006467, [VAL ACCURACY]: 0.716 \n",
            "\n",
            "[EPOCH]: 14, [TRAIN LOSS]: 0.006255, [TRAIN ACCURACY]: 0.720\n",
            "[EPOCH]: 14, [VAL LOSS]: 0.006460, [VAL ACCURACY]: 0.714 \n",
            "\n",
            "[EPOCH]: 15, [TRAIN LOSS]: 0.006276, [TRAIN ACCURACY]: 0.717\n",
            "[EPOCH]: 15, [VAL LOSS]: 0.006459, [VAL ACCURACY]: 0.714 \n",
            "\n",
            "[EPOCH]: 16, [TRAIN LOSS]: 0.006276, [TRAIN ACCURACY]: 0.718\n",
            "[EPOCH]: 16, [VAL LOSS]: 0.006471, [VAL ACCURACY]: 0.715 \n",
            "\n",
            "[EPOCH]: 17, [TRAIN LOSS]: 0.006265, [TRAIN ACCURACY]: 0.718\n",
            "[EPOCH]: 17, [VAL LOSS]: 0.006457, [VAL ACCURACY]: 0.715 \n",
            "\n",
            "[EPOCH]: 18, [TRAIN LOSS]: 0.006238, [TRAIN ACCURACY]: 0.719\n",
            "[EPOCH]: 18, [VAL LOSS]: 0.006465, [VAL ACCURACY]: 0.716 \n",
            "\n",
            "[EPOCH]: 19, [TRAIN LOSS]: 0.006234, [TRAIN ACCURACY]: 0.721\n",
            "[EPOCH]: 19, [VAL LOSS]: 0.006467, [VAL ACCURACY]: 0.716 \n",
            "\n",
            "[EPOCH]: 20, [TRAIN LOSS]: 0.006254, [TRAIN ACCURACY]: 0.721\n",
            "[EPOCH]: 20, [VAL LOSS]: 0.006456, [VAL ACCURACY]: 0.714 \n",
            "\n",
            "[EPOCH]: 21, [TRAIN LOSS]: 0.006267, [TRAIN ACCURACY]: 0.717\n",
            "[EPOCH]: 21, [VAL LOSS]: 0.006459, [VAL ACCURACY]: 0.715 \n",
            "\n",
            "[EPOCH]: 22, [TRAIN LOSS]: 0.006252, [TRAIN ACCURACY]: 0.720\n",
            "[EPOCH]: 22, [VAL LOSS]: 0.006463, [VAL ACCURACY]: 0.715 \n",
            "\n",
            "[EPOCH]: 23, [TRAIN LOSS]: 0.006232, [TRAIN ACCURACY]: 0.722\n",
            "[EPOCH]: 23, [VAL LOSS]: 0.006460, [VAL ACCURACY]: 0.715 \n",
            "\n"
          ],
          "name": "stdout"
        },
        {
          "output_type": "display_data",
          "data": {
            "application/vnd.jupyter.widget-view+json": {
              "model_id": "170ec7f063584ee489fd4ed94a971bcc",
              "version_minor": 0,
              "version_major": 2
            },
            "text/plain": [
              "HBox(children=(FloatProgress(value=0.0, max=50.0), HTML(value='')))"
            ]
          },
          "metadata": {
            "tags": []
          }
        },
        {
          "output_type": "stream",
          "text": [
            "[EPOCH]: 0, [TRAIN LOSS]: 0.010442, [TRAIN ACCURACY]: 0.522\n",
            "[EPOCH]: 0, [VAL LOSS]: 0.008328, [VAL ACCURACY]: 0.642 \n",
            "\n",
            "[EPOCH]: 1, [TRAIN LOSS]: 0.006641, [TRAIN ACCURACY]: 0.702\n",
            "[EPOCH]: 1, [VAL LOSS]: 0.005936, [VAL ACCURACY]: 0.737 \n",
            "\n",
            "[EPOCH]: 2, [TRAIN LOSS]: 0.004395, [TRAIN ACCURACY]: 0.807\n",
            "[EPOCH]: 2, [VAL LOSS]: 0.004360, [VAL ACCURACY]: 0.810 \n",
            "\n",
            "[EPOCH]: 3, [TRAIN LOSS]: 0.003807, [TRAIN ACCURACY]: 0.833\n",
            "[EPOCH]: 3, [VAL LOSS]: 0.004102, [VAL ACCURACY]: 0.821 \n",
            "\n",
            "[EPOCH]: 4, [TRAIN LOSS]: 0.003295, [TRAIN ACCURACY]: 0.861\n",
            "[EPOCH]: 4, [VAL LOSS]: 0.004018, [VAL ACCURACY]: 0.824 \n",
            "\n",
            "[EPOCH]: 5, [TRAIN LOSS]: 0.003224, [TRAIN ACCURACY]: 0.862\n",
            "[EPOCH]: 5, [VAL LOSS]: 0.003987, [VAL ACCURACY]: 0.824 \n",
            "\n",
            "[EPOCH]: 6, [TRAIN LOSS]: 0.003179, [TRAIN ACCURACY]: 0.868\n",
            "[EPOCH]: 6, [VAL LOSS]: 0.003986, [VAL ACCURACY]: 0.824 \n",
            "\n",
            "[EPOCH]: 7, [TRAIN LOSS]: 0.003184, [TRAIN ACCURACY]: 0.867\n",
            "[EPOCH]: 7, [VAL LOSS]: 0.003983, [VAL ACCURACY]: 0.826 \n",
            "\n",
            "[EPOCH]: 8, [TRAIN LOSS]: 0.003159, [TRAIN ACCURACY]: 0.868\n",
            "[EPOCH]: 8, [VAL LOSS]: 0.003979, [VAL ACCURACY]: 0.827 \n",
            "\n",
            "[EPOCH]: 9, [TRAIN LOSS]: 0.003154, [TRAIN ACCURACY]: 0.869\n",
            "[EPOCH]: 9, [VAL LOSS]: 0.003979, [VAL ACCURACY]: 0.826 \n",
            "\n",
            "[EPOCH]: 10, [TRAIN LOSS]: 0.003153, [TRAIN ACCURACY]: 0.868\n",
            "[EPOCH]: 10, [VAL LOSS]: 0.003975, [VAL ACCURACY]: 0.825 \n",
            "\n",
            "[EPOCH]: 11, [TRAIN LOSS]: 0.003169, [TRAIN ACCURACY]: 0.867\n",
            "[EPOCH]: 11, [VAL LOSS]: 0.003980, [VAL ACCURACY]: 0.826 \n",
            "\n",
            "[EPOCH]: 12, [TRAIN LOSS]: 0.003174, [TRAIN ACCURACY]: 0.868\n",
            "[EPOCH]: 12, [VAL LOSS]: 0.003972, [VAL ACCURACY]: 0.825 \n",
            "\n",
            "[EPOCH]: 13, [TRAIN LOSS]: 0.003144, [TRAIN ACCURACY]: 0.869\n",
            "[EPOCH]: 13, [VAL LOSS]: 0.003982, [VAL ACCURACY]: 0.825 \n",
            "\n"
          ],
          "name": "stdout"
        },
        {
          "output_type": "display_data",
          "data": {
            "application/vnd.jupyter.widget-view+json": {
              "model_id": "ae876ccdc25547c8869f5ed37d384f1f",
              "version_minor": 0,
              "version_major": 2
            },
            "text/plain": [
              "HBox(children=(FloatProgress(value=0.0, max=50.0), HTML(value='')))"
            ]
          },
          "metadata": {
            "tags": []
          }
        },
        {
          "output_type": "stream",
          "text": [
            "[EPOCH]: 0, [TRAIN LOSS]: 0.010317, [TRAIN ACCURACY]: 0.527\n",
            "[EPOCH]: 0, [VAL LOSS]: 0.007654, [VAL ACCURACY]: 0.660 \n",
            "\n",
            "[EPOCH]: 1, [TRAIN LOSS]: 0.006649, [TRAIN ACCURACY]: 0.700\n",
            "[EPOCH]: 1, [VAL LOSS]: 0.005645, [VAL ACCURACY]: 0.753 \n",
            "\n",
            "[EPOCH]: 2, [TRAIN LOSS]: 0.004456, [TRAIN ACCURACY]: 0.807\n",
            "[EPOCH]: 2, [VAL LOSS]: 0.004508, [VAL ACCURACY]: 0.804 \n",
            "\n",
            "[EPOCH]: 3, [TRAIN LOSS]: 0.003905, [TRAIN ACCURACY]: 0.832\n",
            "[EPOCH]: 3, [VAL LOSS]: 0.004261, [VAL ACCURACY]: 0.813 \n",
            "\n",
            "[EPOCH]: 4, [TRAIN LOSS]: 0.003441, [TRAIN ACCURACY]: 0.858\n",
            "[EPOCH]: 4, [VAL LOSS]: 0.004157, [VAL ACCURACY]: 0.820 \n",
            "\n",
            "[EPOCH]: 5, [TRAIN LOSS]: 0.003353, [TRAIN ACCURACY]: 0.863\n",
            "[EPOCH]: 5, [VAL LOSS]: 0.004125, [VAL ACCURACY]: 0.820 \n",
            "\n",
            "[EPOCH]: 6, [TRAIN LOSS]: 0.003272, [TRAIN ACCURACY]: 0.868\n",
            "[EPOCH]: 6, [VAL LOSS]: 0.004129, [VAL ACCURACY]: 0.820 \n",
            "\n",
            "[EPOCH]: 7, [TRAIN LOSS]: 0.003303, [TRAIN ACCURACY]: 0.865\n",
            "[EPOCH]: 7, [VAL LOSS]: 0.004121, [VAL ACCURACY]: 0.822 \n",
            "\n",
            "[EPOCH]: 8, [TRAIN LOSS]: 0.003266, [TRAIN ACCURACY]: 0.867\n",
            "[EPOCH]: 8, [VAL LOSS]: 0.004130, [VAL ACCURACY]: 0.821 \n",
            "\n",
            "[EPOCH]: 9, [TRAIN LOSS]: 0.003276, [TRAIN ACCURACY]: 0.866\n",
            "[EPOCH]: 9, [VAL LOSS]: 0.004121, [VAL ACCURACY]: 0.822 \n",
            "\n",
            "[EPOCH]: 10, [TRAIN LOSS]: 0.003280, [TRAIN ACCURACY]: 0.866\n",
            "[EPOCH]: 10, [VAL LOSS]: 0.004118, [VAL ACCURACY]: 0.821 \n",
            "\n",
            "[EPOCH]: 11, [TRAIN LOSS]: 0.003285, [TRAIN ACCURACY]: 0.867\n",
            "[EPOCH]: 11, [VAL LOSS]: 0.004118, [VAL ACCURACY]: 0.822 \n",
            "\n",
            "[EPOCH]: 12, [TRAIN LOSS]: 0.003282, [TRAIN ACCURACY]: 0.867\n",
            "[EPOCH]: 12, [VAL LOSS]: 0.004116, [VAL ACCURACY]: 0.822 \n",
            "\n",
            "[EPOCH]: 13, [TRAIN LOSS]: 0.003268, [TRAIN ACCURACY]: 0.868\n",
            "[EPOCH]: 13, [VAL LOSS]: 0.004116, [VAL ACCURACY]: 0.822 \n",
            "\n",
            "[EPOCH]: 14, [TRAIN LOSS]: 0.003270, [TRAIN ACCURACY]: 0.865\n",
            "[EPOCH]: 14, [VAL LOSS]: 0.004122, [VAL ACCURACY]: 0.820 \n",
            "\n"
          ],
          "name": "stdout"
        },
        {
          "output_type": "display_data",
          "data": {
            "application/vnd.jupyter.widget-view+json": {
              "model_id": "e2374973e3494fbbbf17ac97379a19c2",
              "version_minor": 0,
              "version_major": 2
            },
            "text/plain": [
              "HBox(children=(FloatProgress(value=0.0, max=50.0), HTML(value='')))"
            ]
          },
          "metadata": {
            "tags": []
          }
        }
      ]
    },
    {
      "cell_type": "code",
      "metadata": {
        "id": "-j-pX4TGwXm5",
        "outputId": "9f467678-b90f-46a2-b7c4-d16232232adf",
        "colab": {
          "base_uri": "https://localhost:8080/",
          "height": 424
        }
      },
      "source": [
        "for i in range(len(l_vs)):\n",
        "    plt.plot(l_vs[i], label=learning_rates[i])\n",
        "plt.title('Learning rate hyperparam optimization with Adam')\n",
        "plt.legend()"
      ],
      "execution_count": 29,
      "outputs": [
        {
          "output_type": "execute_result",
          "data": {
            "text/plain": [
              "<matplotlib.legend.Legend at 0x7f24280d9668>"
            ]
          },
          "metadata": {
            "tags": []
          },
          "execution_count": 29
        },
        {
          "output_type": "display_data",
          "data": {
            "image/png": "[encoded data removed]",
            "text/plain": [
              "<Figure size 864x504 with 1 Axes>"
            ]
          },
          "metadata": {
            "tags": []
          }
        }
      ]
    },
    {
      "cell_type": "code",
      "metadata": {
        "id": "z0OpPHhLxd5-"
      },
      "source": [
        "l_ts = []\n",
        "a_ts = []\n",
        "l_vs = []\n",
        "a_vs = []\n",
        "model_params = []\n",
        "for lr in tqdm(learning_rates):\n",
        "    l_t, a_t, l_v, a_v = train_with_model(lr, gamma=0.1, optim='SGD')\n",
        "    l_ts.append(l_t)\n",
        "    a_ts.append(a_t)\n",
        "    l_vs.append(l_v)\n",
        "    a_vs.append(a_v)\n",
        "best = torch.argmin(torch.tensor([l[-1] for l in l_vs]))\n",
        "best_lr_sgd = learning_rates[best]\n",
        "best_lv_sgd = l_vs[best]\n",
        "best_loss_sgd = torch.tensor([l[-1] for l in l_vs])[best]\n",
        "\n",
        "for i in range(len(l_vs)):\n",
        "    plt.plot(l_vs[i], label=learning_rates[i])\n",
        "plt.title('Learning rate hyperparam optimization with SGD')\n",
        "plt.legend()"
      ],
      "execution_count": null,
      "outputs": []
    },
    {
      "cell_type": "code",
      "metadata": {
        "id": "qluInyLFzwki"
      },
      "source": [
        "l_ts = []\n",
        "a_ts = []\n",
        "l_vs = []\n",
        "a_vs = []\n",
        "model_params = []\n",
        "for gamma in tqdm(gammas):\n",
        "    l_t, a_t, l_v, a_v = train_with_model(best_lr_adam, gamma=gamma, optim='Adam')\n",
        "    l_ts.append(l_t)\n",
        "    a_ts.append(a_t)\n",
        "    l_vs.append(l_v)\n",
        "    a_vs.append(a_v)\n",
        "best = torch.argmin(torch.tensor([l[-1] for l in l_vs]))\n",
        "best_gamma = gammas[best]\n",
        "best_lv_gamma = l_vs[best]\n",
        "best_loss_gamma = torch.tensor([l[-1] for l in l_vs])[best]\n",
        "\n",
        "for i in range(len(l_vs)):\n",
        "    plt.plot(l_vs[i], label=gammas[i])\n",
        "plt.title('Gamma hyperparam optimization')\n",
        "plt.legend()"
      ],
      "execution_count": null,
      "outputs": []
    },
    {
      "cell_type": "code",
      "metadata": {
        "id": "ebX3mw1MepNo"
      },
      "source": [
        "# TODO : Initialize the model and cast to correct device\n",
        "model = ResidualConvnet(3, 10)\n",
        "model.to(device)\n",
        "# TODO : Initialize the criterion \n",
        "c = nn.CrossEntropyLoss()\n",
        "# TODO : Initialize the optimizer \n",
        "o = torch.optim.Adam(model.parameters(), lr=best_lr)\n",
        "# TODO : Initialize the scheduler\n",
        "s = torch.optim.lr_scheduler.StepLR(o, \n",
        "                                    step_size = 2,\n",
        "                                    gamma=best_gamma)\n",
        "# TODO : Run the training loop using this model\n",
        "l_t, a_t, l_v, a_v = train_loop2(model, c, o, s, \n",
        "                                 train_loader, val_loader, \n",
        "                                 device)"
      ],
      "execution_count": null,
      "outputs": []
    },
    {
      "cell_type": "code",
      "metadata": {
        "id": "NRfEOrCLfDA9"
      },
      "source": [
        "model.eval()\n",
        "\n",
        "test_loss = 0\n",
        "test_correct = 0\n",
        "test_n = 0\n",
        "criterion = nn.CrossEntropyLoss()\n",
        "with torch.no_grad():\n",
        "    # TODO: Loop over the validation set \n",
        "    for batch_idx, samples in enumerate(test_loader):\n",
        "        # TODO: Put the inputs and targets on the write device\n",
        "        image = samples[0].to(device)\n",
        "        label = samples[1].to(device)\n",
        "        # TODO: Feed forward to get the logits\n",
        "        output = model(image)\n",
        "        _, preds = torch.max(output, dim=1)\n",
        "        # TODO: Compute the loss and accuracy\n",
        "        loss = criterion(output, label)\n",
        "        # TODO: Keep track of accuracy and loss\n",
        "        test_loss += loss.item()\n",
        "        test_n += image.shape[0]\n",
        "        test_correct += torch.sum(preds == label).item()\n",
        "avg_test_loss = test_loss / test_n\n",
        "avg_test_accuracy = test_correct / test_n"
      ],
      "execution_count": null,
      "outputs": []
    },
    {
      "cell_type": "code",
      "metadata": {
        "id": "KgVkQMpqfRK7"
      },
      "source": [
        "avg_test_loss"
      ],
      "execution_count": null,
      "outputs": []
    },
    {
      "cell_type": "code",
      "metadata": {
        "id": "W4TpuT1-ipju"
      },
      "source": [
        "avg_test_accuracy"
      ],
      "execution_count": null,
      "outputs": []
    },
    {
      "cell_type": "code",
      "metadata": {
        "id": "6D86UHoVkXlf"
      },
      "source": [
        ""
      ],
      "execution_count": null,
      "outputs": []
    }
  ]
}