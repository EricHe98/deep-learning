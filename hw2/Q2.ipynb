{
  "nbformat": 4,
  "nbformat_minor": 0,
  "metadata": {
    "accelerator": "GPU",
    "colab": {
      "name": "Q2.ipynb",
      "provenance": [],
      "collapsed_sections": [],
      "toc_visible": true
    },
    "kernelspec": {
      "display_name": "Python 3",
      "language": "python",
      "name": "python3"
    },
    "language_info": {
      "codemirror_mode": {
        "name": "ipython",
        "version": 3
      },
      "file_extension": ".py",
      "mimetype": "text/x-python",
      "name": "python",
      "nbconvert_exporter": "python",
      "pygments_lexer": "ipython3",
      "version": "3.8.3"
    },
    "widgets": {
      "application/vnd.jupyter.widget-state+json": {
        "b9275161d63f40f28b61c9336ee9afba": {
          "model_module": "@jupyter-widgets/controls",
          "model_name": "HBoxModel",
          "state": {
            "_view_name": "HBoxView",
            "_dom_classes": [],
            "_model_name": "HBoxModel",
            "_view_module": "@jupyter-widgets/controls",
            "_model_module_version": "1.5.0",
            "_view_count": null,
            "_view_module_version": "1.5.0",
            "box_style": "",
            "layout": "IPY_MODEL_50a739e4932c49a196aa8282776e54d4",
            "_model_module": "@jupyter-widgets/controls",
            "children": [
              "IPY_MODEL_70c3f9d9f9cc4f789d8056ab57311eab",
              "IPY_MODEL_bad80e312334479b9941311d544a7531"
            ]
          }
        },
        "50a739e4932c49a196aa8282776e54d4": {
          "model_module": "@jupyter-widgets/base",
          "model_name": "LayoutModel",
          "state": {
            "_view_name": "LayoutView",
            "grid_template_rows": null,
            "right": null,
            "justify_content": null,
            "_view_module": "@jupyter-widgets/base",
            "overflow": null,
            "_model_module_version": "1.2.0",
            "_view_count": null,
            "flex_flow": null,
            "width": null,
            "min_width": null,
            "border": null,
            "align_items": null,
            "bottom": null,
            "_model_module": "@jupyter-widgets/base",
            "top": null,
            "grid_column": null,
            "overflow_y": null,
            "overflow_x": null,
            "grid_auto_flow": null,
            "grid_area": null,
            "grid_template_columns": null,
            "flex": null,
            "_model_name": "LayoutModel",
            "justify_items": null,
            "grid_row": null,
            "max_height": null,
            "align_content": null,
            "visibility": null,
            "align_self": null,
            "height": null,
            "min_height": null,
            "padding": null,
            "grid_auto_rows": null,
            "grid_gap": null,
            "max_width": null,
            "order": null,
            "_view_module_version": "1.2.0",
            "grid_template_areas": null,
            "object_position": null,
            "object_fit": null,
            "grid_auto_columns": null,
            "margin": null,
            "display": null,
            "left": null
          }
        },
        "70c3f9d9f9cc4f789d8056ab57311eab": {
          "model_module": "@jupyter-widgets/controls",
          "model_name": "FloatProgressModel",
          "state": {
            "_view_name": "ProgressView",
            "style": "IPY_MODEL_b2912bded3dd4e52bad094c03e5e7f33",
            "_dom_classes": [],
            "description": " 12%",
            "_model_name": "FloatProgressModel",
            "bar_style": "danger",
            "max": 50,
            "_view_module": "@jupyter-widgets/controls",
            "_model_module_version": "1.5.0",
            "value": 6,
            "_view_count": null,
            "_view_module_version": "1.5.0",
            "orientation": "horizontal",
            "min": 0,
            "description_tooltip": null,
            "_model_module": "@jupyter-widgets/controls",
            "layout": "IPY_MODEL_109d1bb9db1248ab84b0de53d4e029e2"
          }
        },
        "bad80e312334479b9941311d544a7531": {
          "model_module": "@jupyter-widgets/controls",
          "model_name": "HTMLModel",
          "state": {
            "_view_name": "HTMLView",
            "style": "IPY_MODEL_389c7b88df094346989dda34cf032d4f",
            "_dom_classes": [],
            "description": "",
            "_model_name": "HTMLModel",
            "placeholder": "​",
            "_view_module": "@jupyter-widgets/controls",
            "_model_module_version": "1.5.0",
            "value": " 6/50 [01:44&lt;11:00, 15.01s/it]",
            "_view_count": null,
            "_view_module_version": "1.5.0",
            "description_tooltip": null,
            "_model_module": "@jupyter-widgets/controls",
            "layout": "IPY_MODEL_47647bda61ef4c81a36fda7b5d7eee7e"
          }
        },
        "b2912bded3dd4e52bad094c03e5e7f33": {
          "model_module": "@jupyter-widgets/controls",
          "model_name": "ProgressStyleModel",
          "state": {
            "_view_name": "StyleView",
            "_model_name": "ProgressStyleModel",
            "description_width": "initial",
            "_view_module": "@jupyter-widgets/base",
            "_model_module_version": "1.5.0",
            "_view_count": null,
            "_view_module_version": "1.2.0",
            "bar_color": null,
            "_model_module": "@jupyter-widgets/controls"
          }
        },
        "109d1bb9db1248ab84b0de53d4e029e2": {
          "model_module": "@jupyter-widgets/base",
          "model_name": "LayoutModel",
          "state": {
            "_view_name": "LayoutView",
            "grid_template_rows": null,
            "right": null,
            "justify_content": null,
            "_view_module": "@jupyter-widgets/base",
            "overflow": null,
            "_model_module_version": "1.2.0",
            "_view_count": null,
            "flex_flow": null,
            "width": null,
            "min_width": null,
            "border": null,
            "align_items": null,
            "bottom": null,
            "_model_module": "@jupyter-widgets/base",
            "top": null,
            "grid_column": null,
            "overflow_y": null,
            "overflow_x": null,
            "grid_auto_flow": null,
            "grid_area": null,
            "grid_template_columns": null,
            "flex": null,
            "_model_name": "LayoutModel",
            "justify_items": null,
            "grid_row": null,
            "max_height": null,
            "align_content": null,
            "visibility": null,
            "align_self": null,
            "height": null,
            "min_height": null,
            "padding": null,
            "grid_auto_rows": null,
            "grid_gap": null,
            "max_width": null,
            "order": null,
            "_view_module_version": "1.2.0",
            "grid_template_areas": null,
            "object_position": null,
            "object_fit": null,
            "grid_auto_columns": null,
            "margin": null,
            "display": null,
            "left": null
          }
        },
        "389c7b88df094346989dda34cf032d4f": {
          "model_module": "@jupyter-widgets/controls",
          "model_name": "DescriptionStyleModel",
          "state": {
            "_view_name": "StyleView",
            "_model_name": "DescriptionStyleModel",
            "description_width": "",
            "_view_module": "@jupyter-widgets/base",
            "_model_module_version": "1.5.0",
            "_view_count": null,
            "_view_module_version": "1.2.0",
            "_model_module": "@jupyter-widgets/controls"
          }
        },
        "47647bda61ef4c81a36fda7b5d7eee7e": {
          "model_module": "@jupyter-widgets/base",
          "model_name": "LayoutModel",
          "state": {
            "_view_name": "LayoutView",
            "grid_template_rows": null,
            "right": null,
            "justify_content": null,
            "_view_module": "@jupyter-widgets/base",
            "overflow": null,
            "_model_module_version": "1.2.0",
            "_view_count": null,
            "flex_flow": null,
            "width": null,
            "min_width": null,
            "border": null,
            "align_items": null,
            "bottom": null,
            "_model_module": "@jupyter-widgets/base",
            "top": null,
            "grid_column": null,
            "overflow_y": null,
            "overflow_x": null,
            "grid_auto_flow": null,
            "grid_area": null,
            "grid_template_columns": null,
            "flex": null,
            "_model_name": "LayoutModel",
            "justify_items": null,
            "grid_row": null,
            "max_height": null,
            "align_content": null,
            "visibility": null,
            "align_self": null,
            "height": null,
            "min_height": null,
            "padding": null,
            "grid_auto_rows": null,
            "grid_gap": null,
            "max_width": null,
            "order": null,
            "_view_module_version": "1.2.0",
            "grid_template_areas": null,
            "object_position": null,
            "object_fit": null,
            "grid_auto_columns": null,
            "margin": null,
            "display": null,
            "left": null
          }
        },
        "7e74bbc2309d45eaa69c23043176b414": {
          "model_module": "@jupyter-widgets/controls",
          "model_name": "HBoxModel",
          "state": {
            "_view_name": "HBoxView",
            "_dom_classes": [],
            "_model_name": "HBoxModel",
            "_view_module": "@jupyter-widgets/controls",
            "_model_module_version": "1.5.0",
            "_view_count": null,
            "_view_module_version": "1.5.0",
            "box_style": "",
            "layout": "IPY_MODEL_ae0a0208f1aa4bd396f8902974e1be22",
            "_model_module": "@jupyter-widgets/controls",
            "children": [
              "IPY_MODEL_d999ef6a24174f22a8dffce6d3302f8d",
              "IPY_MODEL_5f45d93e9e5b49298d0adeed7eadc52e"
            ]
          }
        },
        "ae0a0208f1aa4bd396f8902974e1be22": {
          "model_module": "@jupyter-widgets/base",
          "model_name": "LayoutModel",
          "state": {
            "_view_name": "LayoutView",
            "grid_template_rows": null,
            "right": null,
            "justify_content": null,
            "_view_module": "@jupyter-widgets/base",
            "overflow": null,
            "_model_module_version": "1.2.0",
            "_view_count": null,
            "flex_flow": null,
            "width": null,
            "min_width": null,
            "border": null,
            "align_items": null,
            "bottom": null,
            "_model_module": "@jupyter-widgets/base",
            "top": null,
            "grid_column": null,
            "overflow_y": null,
            "overflow_x": null,
            "grid_auto_flow": null,
            "grid_area": null,
            "grid_template_columns": null,
            "flex": null,
            "_model_name": "LayoutModel",
            "justify_items": null,
            "grid_row": null,
            "max_height": null,
            "align_content": null,
            "visibility": null,
            "align_self": null,
            "height": null,
            "min_height": null,
            "padding": null,
            "grid_auto_rows": null,
            "grid_gap": null,
            "max_width": null,
            "order": null,
            "_view_module_version": "1.2.0",
            "grid_template_areas": null,
            "object_position": null,
            "object_fit": null,
            "grid_auto_columns": null,
            "margin": null,
            "display": null,
            "left": null
          }
        },
        "d999ef6a24174f22a8dffce6d3302f8d": {
          "model_module": "@jupyter-widgets/controls",
          "model_name": "FloatProgressModel",
          "state": {
            "_view_name": "ProgressView",
            "style": "IPY_MODEL_39372091967e4af792341b107fd4d94a",
            "_dom_classes": [],
            "description": " 54%",
            "_model_name": "FloatProgressModel",
            "bar_style": "danger",
            "max": 50,
            "_view_module": "@jupyter-widgets/controls",
            "_model_module_version": "1.5.0",
            "value": 27,
            "_view_count": null,
            "_view_module_version": "1.5.0",
            "orientation": "horizontal",
            "min": 0,
            "description_tooltip": null,
            "_model_module": "@jupyter-widgets/controls",
            "layout": "IPY_MODEL_245e33348e224a9188d27669aa7955d7"
          }
        },
        "5f45d93e9e5b49298d0adeed7eadc52e": {
          "model_module": "@jupyter-widgets/controls",
          "model_name": "HTMLModel",
          "state": {
            "_view_name": "HTMLView",
            "style": "IPY_MODEL_11397e4611d64af4b17adfcf4742636f",
            "_dom_classes": [],
            "description": "",
            "_model_name": "HTMLModel",
            "placeholder": "​",
            "_view_module": "@jupyter-widgets/controls",
            "_model_module_version": "1.5.0",
            "value": " 27/50 [07:34&lt;06:13, 16.23s/it]",
            "_view_count": null,
            "_view_module_version": "1.5.0",
            "description_tooltip": null,
            "_model_module": "@jupyter-widgets/controls",
            "layout": "IPY_MODEL_006f2b8a547f402e8fe79b54564d8bfa"
          }
        },
        "39372091967e4af792341b107fd4d94a": {
          "model_module": "@jupyter-widgets/controls",
          "model_name": "ProgressStyleModel",
          "state": {
            "_view_name": "StyleView",
            "_model_name": "ProgressStyleModel",
            "description_width": "initial",
            "_view_module": "@jupyter-widgets/base",
            "_model_module_version": "1.5.0",
            "_view_count": null,
            "_view_module_version": "1.2.0",
            "bar_color": null,
            "_model_module": "@jupyter-widgets/controls"
          }
        },
        "245e33348e224a9188d27669aa7955d7": {
          "model_module": "@jupyter-widgets/base",
          "model_name": "LayoutModel",
          "state": {
            "_view_name": "LayoutView",
            "grid_template_rows": null,
            "right": null,
            "justify_content": null,
            "_view_module": "@jupyter-widgets/base",
            "overflow": null,
            "_model_module_version": "1.2.0",
            "_view_count": null,
            "flex_flow": null,
            "width": null,
            "min_width": null,
            "border": null,
            "align_items": null,
            "bottom": null,
            "_model_module": "@jupyter-widgets/base",
            "top": null,
            "grid_column": null,
            "overflow_y": null,
            "overflow_x": null,
            "grid_auto_flow": null,
            "grid_area": null,
            "grid_template_columns": null,
            "flex": null,
            "_model_name": "LayoutModel",
            "justify_items": null,
            "grid_row": null,
            "max_height": null,
            "align_content": null,
            "visibility": null,
            "align_self": null,
            "height": null,
            "min_height": null,
            "padding": null,
            "grid_auto_rows": null,
            "grid_gap": null,
            "max_width": null,
            "order": null,
            "_view_module_version": "1.2.0",
            "grid_template_areas": null,
            "object_position": null,
            "object_fit": null,
            "grid_auto_columns": null,
            "margin": null,
            "display": null,
            "left": null
          }
        },
        "11397e4611d64af4b17adfcf4742636f": {
          "model_module": "@jupyter-widgets/controls",
          "model_name": "DescriptionStyleModel",
          "state": {
            "_view_name": "StyleView",
            "_model_name": "DescriptionStyleModel",
            "description_width": "",
            "_view_module": "@jupyter-widgets/base",
            "_model_module_version": "1.5.0",
            "_view_count": null,
            "_view_module_version": "1.2.0",
            "_model_module": "@jupyter-widgets/controls"
          }
        },
        "006f2b8a547f402e8fe79b54564d8bfa": {
          "model_module": "@jupyter-widgets/base",
          "model_name": "LayoutModel",
          "state": {
            "_view_name": "LayoutView",
            "grid_template_rows": null,
            "right": null,
            "justify_content": null,
            "_view_module": "@jupyter-widgets/base",
            "overflow": null,
            "_model_module_version": "1.2.0",
            "_view_count": null,
            "flex_flow": null,
            "width": null,
            "min_width": null,
            "border": null,
            "align_items": null,
            "bottom": null,
            "_model_module": "@jupyter-widgets/base",
            "top": null,
            "grid_column": null,
            "overflow_y": null,
            "overflow_x": null,
            "grid_auto_flow": null,
            "grid_area": null,
            "grid_template_columns": null,
            "flex": null,
            "_model_name": "LayoutModel",
            "justify_items": null,
            "grid_row": null,
            "max_height": null,
            "align_content": null,
            "visibility": null,
            "align_self": null,
            "height": null,
            "min_height": null,
            "padding": null,
            "grid_auto_rows": null,
            "grid_gap": null,
            "max_width": null,
            "order": null,
            "_view_module_version": "1.2.0",
            "grid_template_areas": null,
            "object_position": null,
            "object_fit": null,
            "grid_auto_columns": null,
            "margin": null,
            "display": null,
            "left": null
          }
        },
        "af0adc721a354cfdb106a4a17b2b2590": {
          "model_module": "@jupyter-widgets/controls",
          "model_name": "HBoxModel",
          "state": {
            "_view_name": "HBoxView",
            "_dom_classes": [],
            "_model_name": "HBoxModel",
            "_view_module": "@jupyter-widgets/controls",
            "_model_module_version": "1.5.0",
            "_view_count": null,
            "_view_module_version": "1.5.0",
            "box_style": "",
            "layout": "IPY_MODEL_efed2adf40e648258904a41493cbba02",
            "_model_module": "@jupyter-widgets/controls",
            "children": [
              "IPY_MODEL_05bbbe5af0e14c47809d80047564135d",
              "IPY_MODEL_edb19b043658495dafe9947e70330bdf"
            ]
          }
        },
        "efed2adf40e648258904a41493cbba02": {
          "model_module": "@jupyter-widgets/base",
          "model_name": "LayoutModel",
          "state": {
            "_view_name": "LayoutView",
            "grid_template_rows": null,
            "right": null,
            "justify_content": null,
            "_view_module": "@jupyter-widgets/base",
            "overflow": null,
            "_model_module_version": "1.2.0",
            "_view_count": null,
            "flex_flow": null,
            "width": null,
            "min_width": null,
            "border": null,
            "align_items": null,
            "bottom": null,
            "_model_module": "@jupyter-widgets/base",
            "top": null,
            "grid_column": null,
            "overflow_y": null,
            "overflow_x": null,
            "grid_auto_flow": null,
            "grid_area": null,
            "grid_template_columns": null,
            "flex": null,
            "_model_name": "LayoutModel",
            "justify_items": null,
            "grid_row": null,
            "max_height": null,
            "align_content": null,
            "visibility": null,
            "align_self": null,
            "height": null,
            "min_height": null,
            "padding": null,
            "grid_auto_rows": null,
            "grid_gap": null,
            "max_width": null,
            "order": null,
            "_view_module_version": "1.2.0",
            "grid_template_areas": null,
            "object_position": null,
            "object_fit": null,
            "grid_auto_columns": null,
            "margin": null,
            "display": null,
            "left": null
          }
        },
        "05bbbe5af0e14c47809d80047564135d": {
          "model_module": "@jupyter-widgets/controls",
          "model_name": "FloatProgressModel",
          "state": {
            "_view_name": "ProgressView",
            "style": "IPY_MODEL_674b937a27134eec9937faf7d922b9e7",
            "_dom_classes": [],
            "description": " 32%",
            "_model_name": "FloatProgressModel",
            "bar_style": "danger",
            "max": 50,
            "_view_module": "@jupyter-widgets/controls",
            "_model_module_version": "1.5.0",
            "value": 16,
            "_view_count": null,
            "_view_module_version": "1.5.0",
            "orientation": "horizontal",
            "min": 0,
            "description_tooltip": null,
            "_model_module": "@jupyter-widgets/controls",
            "layout": "IPY_MODEL_3498a583131b4d0599952115243d6777"
          }
        },
        "edb19b043658495dafe9947e70330bdf": {
          "model_module": "@jupyter-widgets/controls",
          "model_name": "HTMLModel",
          "state": {
            "_view_name": "HTMLView",
            "style": "IPY_MODEL_f20c80de70674cb6b68bdadd566a2018",
            "_dom_classes": [],
            "description": "",
            "_model_name": "HTMLModel",
            "placeholder": "​",
            "_view_module": "@jupyter-widgets/controls",
            "_model_module_version": "1.5.0",
            "value": " 16/50 [04:17&lt;08:31, 15.04s/it]",
            "_view_count": null,
            "_view_module_version": "1.5.0",
            "description_tooltip": null,
            "_model_module": "@jupyter-widgets/controls",
            "layout": "IPY_MODEL_df52af4954b64a13856a91e4a7cf2fbf"
          }
        },
        "674b937a27134eec9937faf7d922b9e7": {
          "model_module": "@jupyter-widgets/controls",
          "model_name": "ProgressStyleModel",
          "state": {
            "_view_name": "StyleView",
            "_model_name": "ProgressStyleModel",
            "description_width": "initial",
            "_view_module": "@jupyter-widgets/base",
            "_model_module_version": "1.5.0",
            "_view_count": null,
            "_view_module_version": "1.2.0",
            "bar_color": null,
            "_model_module": "@jupyter-widgets/controls"
          }
        },
        "3498a583131b4d0599952115243d6777": {
          "model_module": "@jupyter-widgets/base",
          "model_name": "LayoutModel",
          "state": {
            "_view_name": "LayoutView",
            "grid_template_rows": null,
            "right": null,
            "justify_content": null,
            "_view_module": "@jupyter-widgets/base",
            "overflow": null,
            "_model_module_version": "1.2.0",
            "_view_count": null,
            "flex_flow": null,
            "width": null,
            "min_width": null,
            "border": null,
            "align_items": null,
            "bottom": null,
            "_model_module": "@jupyter-widgets/base",
            "top": null,
            "grid_column": null,
            "overflow_y": null,
            "overflow_x": null,
            "grid_auto_flow": null,
            "grid_area": null,
            "grid_template_columns": null,
            "flex": null,
            "_model_name": "LayoutModel",
            "justify_items": null,
            "grid_row": null,
            "max_height": null,
            "align_content": null,
            "visibility": null,
            "align_self": null,
            "height": null,
            "min_height": null,
            "padding": null,
            "grid_auto_rows": null,
            "grid_gap": null,
            "max_width": null,
            "order": null,
            "_view_module_version": "1.2.0",
            "grid_template_areas": null,
            "object_position": null,
            "object_fit": null,
            "grid_auto_columns": null,
            "margin": null,
            "display": null,
            "left": null
          }
        },
        "f20c80de70674cb6b68bdadd566a2018": {
          "model_module": "@jupyter-widgets/controls",
          "model_name": "DescriptionStyleModel",
          "state": {
            "_view_name": "StyleView",
            "_model_name": "DescriptionStyleModel",
            "description_width": "",
            "_view_module": "@jupyter-widgets/base",
            "_model_module_version": "1.5.0",
            "_view_count": null,
            "_view_module_version": "1.2.0",
            "_model_module": "@jupyter-widgets/controls"
          }
        },
        "df52af4954b64a13856a91e4a7cf2fbf": {
          "model_module": "@jupyter-widgets/base",
          "model_name": "LayoutModel",
          "state": {
            "_view_name": "LayoutView",
            "grid_template_rows": null,
            "right": null,
            "justify_content": null,
            "_view_module": "@jupyter-widgets/base",
            "overflow": null,
            "_model_module_version": "1.2.0",
            "_view_count": null,
            "flex_flow": null,
            "width": null,
            "min_width": null,
            "border": null,
            "align_items": null,
            "bottom": null,
            "_model_module": "@jupyter-widgets/base",
            "top": null,
            "grid_column": null,
            "overflow_y": null,
            "overflow_x": null,
            "grid_auto_flow": null,
            "grid_area": null,
            "grid_template_columns": null,
            "flex": null,
            "_model_name": "LayoutModel",
            "justify_items": null,
            "grid_row": null,
            "max_height": null,
            "align_content": null,
            "visibility": null,
            "align_self": null,
            "height": null,
            "min_height": null,
            "padding": null,
            "grid_auto_rows": null,
            "grid_gap": null,
            "max_width": null,
            "order": null,
            "_view_module_version": "1.2.0",
            "grid_template_areas": null,
            "object_position": null,
            "object_fit": null,
            "grid_auto_columns": null,
            "margin": null,
            "display": null,
            "left": null
          }
        },
        "7e1f62c40c8e493f844880f0e9870001": {
          "model_module": "@jupyter-widgets/controls",
          "model_name": "HBoxModel",
          "state": {
            "_view_name": "HBoxView",
            "_dom_classes": [],
            "_model_name": "HBoxModel",
            "_view_module": "@jupyter-widgets/controls",
            "_model_module_version": "1.5.0",
            "_view_count": null,
            "_view_module_version": "1.5.0",
            "box_style": "",
            "layout": "IPY_MODEL_f24f42041d6f4eccad0336107e13b6b6",
            "_model_module": "@jupyter-widgets/controls",
            "children": [
              "IPY_MODEL_ffbc6b5e58a14a239e451d9fcaaf295b",
              "IPY_MODEL_a3a650d22f424e978c8af474f490d3ce"
            ]
          }
        },
        "f24f42041d6f4eccad0336107e13b6b6": {
          "model_module": "@jupyter-widgets/base",
          "model_name": "LayoutModel",
          "state": {
            "_view_name": "LayoutView",
            "grid_template_rows": null,
            "right": null,
            "justify_content": null,
            "_view_module": "@jupyter-widgets/base",
            "overflow": null,
            "_model_module_version": "1.2.0",
            "_view_count": null,
            "flex_flow": null,
            "width": null,
            "min_width": null,
            "border": null,
            "align_items": null,
            "bottom": null,
            "_model_module": "@jupyter-widgets/base",
            "top": null,
            "grid_column": null,
            "overflow_y": null,
            "overflow_x": null,
            "grid_auto_flow": null,
            "grid_area": null,
            "grid_template_columns": null,
            "flex": null,
            "_model_name": "LayoutModel",
            "justify_items": null,
            "grid_row": null,
            "max_height": null,
            "align_content": null,
            "visibility": null,
            "align_self": null,
            "height": null,
            "min_height": null,
            "padding": null,
            "grid_auto_rows": null,
            "grid_gap": null,
            "max_width": null,
            "order": null,
            "_view_module_version": "1.2.0",
            "grid_template_areas": null,
            "object_position": null,
            "object_fit": null,
            "grid_auto_columns": null,
            "margin": null,
            "display": null,
            "left": null
          }
        },
        "ffbc6b5e58a14a239e451d9fcaaf295b": {
          "model_module": "@jupyter-widgets/controls",
          "model_name": "FloatProgressModel",
          "state": {
            "_view_name": "ProgressView",
            "style": "IPY_MODEL_2cb0373d06eb49aba208a40cda662b52",
            "_dom_classes": [],
            "description": " 24%",
            "_model_name": "FloatProgressModel",
            "bar_style": "danger",
            "max": 50,
            "_view_module": "@jupyter-widgets/controls",
            "_model_module_version": "1.5.0",
            "value": 12,
            "_view_count": null,
            "_view_module_version": "1.5.0",
            "orientation": "horizontal",
            "min": 0,
            "description_tooltip": null,
            "_model_module": "@jupyter-widgets/controls",
            "layout": "IPY_MODEL_986e4e4591ba4bfc99a78bf8ac233e3c"
          }
        },
        "a3a650d22f424e978c8af474f490d3ce": {
          "model_module": "@jupyter-widgets/controls",
          "model_name": "HTMLModel",
          "state": {
            "_view_name": "HTMLView",
            "style": "IPY_MODEL_b0826e7ba3c64881aaa0f20754252341",
            "_dom_classes": [],
            "description": "",
            "_model_name": "HTMLModel",
            "placeholder": "​",
            "_view_module": "@jupyter-widgets/controls",
            "_model_module_version": "1.5.0",
            "value": " 12/50 [03:34&lt;10:26, 16.48s/it]",
            "_view_count": null,
            "_view_module_version": "1.5.0",
            "description_tooltip": null,
            "_model_module": "@jupyter-widgets/controls",
            "layout": "IPY_MODEL_1be3dffdf3e5418b9757cc512c49f732"
          }
        },
        "2cb0373d06eb49aba208a40cda662b52": {
          "model_module": "@jupyter-widgets/controls",
          "model_name": "ProgressStyleModel",
          "state": {
            "_view_name": "StyleView",
            "_model_name": "ProgressStyleModel",
            "description_width": "initial",
            "_view_module": "@jupyter-widgets/base",
            "_model_module_version": "1.5.0",
            "_view_count": null,
            "_view_module_version": "1.2.0",
            "bar_color": null,
            "_model_module": "@jupyter-widgets/controls"
          }
        },
        "986e4e4591ba4bfc99a78bf8ac233e3c": {
          "model_module": "@jupyter-widgets/base",
          "model_name": "LayoutModel",
          "state": {
            "_view_name": "LayoutView",
            "grid_template_rows": null,
            "right": null,
            "justify_content": null,
            "_view_module": "@jupyter-widgets/base",
            "overflow": null,
            "_model_module_version": "1.2.0",
            "_view_count": null,
            "flex_flow": null,
            "width": null,
            "min_width": null,
            "border": null,
            "align_items": null,
            "bottom": null,
            "_model_module": "@jupyter-widgets/base",
            "top": null,
            "grid_column": null,
            "overflow_y": null,
            "overflow_x": null,
            "grid_auto_flow": null,
            "grid_area": null,
            "grid_template_columns": null,
            "flex": null,
            "_model_name": "LayoutModel",
            "justify_items": null,
            "grid_row": null,
            "max_height": null,
            "align_content": null,
            "visibility": null,
            "align_self": null,
            "height": null,
            "min_height": null,
            "padding": null,
            "grid_auto_rows": null,
            "grid_gap": null,
            "max_width": null,
            "order": null,
            "_view_module_version": "1.2.0",
            "grid_template_areas": null,
            "object_position": null,
            "object_fit": null,
            "grid_auto_columns": null,
            "margin": null,
            "display": null,
            "left": null
          }
        },
        "b0826e7ba3c64881aaa0f20754252341": {
          "model_module": "@jupyter-widgets/controls",
          "model_name": "DescriptionStyleModel",
          "state": {
            "_view_name": "StyleView",
            "_model_name": "DescriptionStyleModel",
            "description_width": "",
            "_view_module": "@jupyter-widgets/base",
            "_model_module_version": "1.5.0",
            "_view_count": null,
            "_view_module_version": "1.2.0",
            "_model_module": "@jupyter-widgets/controls"
          }
        },
        "1be3dffdf3e5418b9757cc512c49f732": {
          "model_module": "@jupyter-widgets/base",
          "model_name": "LayoutModel",
          "state": {
            "_view_name": "LayoutView",
            "grid_template_rows": null,
            "right": null,
            "justify_content": null,
            "_view_module": "@jupyter-widgets/base",
            "overflow": null,
            "_model_module_version": "1.2.0",
            "_view_count": null,
            "flex_flow": null,
            "width": null,
            "min_width": null,
            "border": null,
            "align_items": null,
            "bottom": null,
            "_model_module": "@jupyter-widgets/base",
            "top": null,
            "grid_column": null,
            "overflow_y": null,
            "overflow_x": null,
            "grid_auto_flow": null,
            "grid_area": null,
            "grid_template_columns": null,
            "flex": null,
            "_model_name": "LayoutModel",
            "justify_items": null,
            "grid_row": null,
            "max_height": null,
            "align_content": null,
            "visibility": null,
            "align_self": null,
            "height": null,
            "min_height": null,
            "padding": null,
            "grid_auto_rows": null,
            "grid_gap": null,
            "max_width": null,
            "order": null,
            "_view_module_version": "1.2.0",
            "grid_template_areas": null,
            "object_position": null,
            "object_fit": null,
            "grid_auto_columns": null,
            "margin": null,
            "display": null,
            "left": null
          }
        },
        "a09a53b1aafd4034b7f13388d2489375": {
          "model_module": "@jupyter-widgets/controls",
          "model_name": "HBoxModel",
          "state": {
            "_view_name": "HBoxView",
            "_dom_classes": [],
            "_model_name": "HBoxModel",
            "_view_module": "@jupyter-widgets/controls",
            "_model_module_version": "1.5.0",
            "_view_count": null,
            "_view_module_version": "1.5.0",
            "box_style": "",
            "layout": "IPY_MODEL_27075fb3de3645f5a2b1893f79a25eee",
            "_model_module": "@jupyter-widgets/controls",
            "children": [
              "IPY_MODEL_17cb59c4038c4c04bb7ac7af79b94989",
              "IPY_MODEL_2558db87ab5346bc96689ceb0ce62893"
            ]
          }
        },
        "27075fb3de3645f5a2b1893f79a25eee": {
          "model_module": "@jupyter-widgets/base",
          "model_name": "LayoutModel",
          "state": {
            "_view_name": "LayoutView",
            "grid_template_rows": null,
            "right": null,
            "justify_content": null,
            "_view_module": "@jupyter-widgets/base",
            "overflow": null,
            "_model_module_version": "1.2.0",
            "_view_count": null,
            "flex_flow": null,
            "width": null,
            "min_width": null,
            "border": null,
            "align_items": null,
            "bottom": null,
            "_model_module": "@jupyter-widgets/base",
            "top": null,
            "grid_column": null,
            "overflow_y": null,
            "overflow_x": null,
            "grid_auto_flow": null,
            "grid_area": null,
            "grid_template_columns": null,
            "flex": null,
            "_model_name": "LayoutModel",
            "justify_items": null,
            "grid_row": null,
            "max_height": null,
            "align_content": null,
            "visibility": null,
            "align_self": null,
            "height": null,
            "min_height": null,
            "padding": null,
            "grid_auto_rows": null,
            "grid_gap": null,
            "max_width": null,
            "order": null,
            "_view_module_version": "1.2.0",
            "grid_template_areas": null,
            "object_position": null,
            "object_fit": null,
            "grid_auto_columns": null,
            "margin": null,
            "display": null,
            "left": null
          }
        },
        "17cb59c4038c4c04bb7ac7af79b94989": {
          "model_module": "@jupyter-widgets/controls",
          "model_name": "FloatProgressModel",
          "state": {
            "_view_name": "ProgressView",
            "style": "IPY_MODEL_f63b5b438c594f6187ddd91f823d4ed2",
            "_dom_classes": [],
            "description": "100%",
            "_model_name": "FloatProgressModel",
            "bar_style": "success",
            "max": 50,
            "_view_module": "@jupyter-widgets/controls",
            "_model_module_version": "1.5.0",
            "value": 50,
            "_view_count": null,
            "_view_module_version": "1.5.0",
            "orientation": "horizontal",
            "min": 0,
            "description_tooltip": null,
            "_model_module": "@jupyter-widgets/controls",
            "layout": "IPY_MODEL_57f7b52df30f4723a6b79d725de02a53"
          }
        },
        "2558db87ab5346bc96689ceb0ce62893": {
          "model_module": "@jupyter-widgets/controls",
          "model_name": "HTMLModel",
          "state": {
            "_view_name": "HTMLView",
            "style": "IPY_MODEL_78076391375e42f888e7996d86c462c2",
            "_dom_classes": [],
            "description": "",
            "_model_name": "HTMLModel",
            "placeholder": "​",
            "_view_module": "@jupyter-widgets/controls",
            "_model_module_version": "1.5.0",
            "value": " 50/50 [00:01&lt;00:00, 31.10it/s]",
            "_view_count": null,
            "_view_module_version": "1.5.0",
            "description_tooltip": null,
            "_model_module": "@jupyter-widgets/controls",
            "layout": "IPY_MODEL_7ec1154b2d3b4a9f958d6bfc3a43ef0c"
          }
        },
        "f63b5b438c594f6187ddd91f823d4ed2": {
          "model_module": "@jupyter-widgets/controls",
          "model_name": "ProgressStyleModel",
          "state": {
            "_view_name": "StyleView",
            "_model_name": "ProgressStyleModel",
            "description_width": "initial",
            "_view_module": "@jupyter-widgets/base",
            "_model_module_version": "1.5.0",
            "_view_count": null,
            "_view_module_version": "1.2.0",
            "bar_color": null,
            "_model_module": "@jupyter-widgets/controls"
          }
        },
        "57f7b52df30f4723a6b79d725de02a53": {
          "model_module": "@jupyter-widgets/base",
          "model_name": "LayoutModel",
          "state": {
            "_view_name": "LayoutView",
            "grid_template_rows": null,
            "right": null,
            "justify_content": null,
            "_view_module": "@jupyter-widgets/base",
            "overflow": null,
            "_model_module_version": "1.2.0",
            "_view_count": null,
            "flex_flow": null,
            "width": null,
            "min_width": null,
            "border": null,
            "align_items": null,
            "bottom": null,
            "_model_module": "@jupyter-widgets/base",
            "top": null,
            "grid_column": null,
            "overflow_y": null,
            "overflow_x": null,
            "grid_auto_flow": null,
            "grid_area": null,
            "grid_template_columns": null,
            "flex": null,
            "_model_name": "LayoutModel",
            "justify_items": null,
            "grid_row": null,
            "max_height": null,
            "align_content": null,
            "visibility": null,
            "align_self": null,
            "height": null,
            "min_height": null,
            "padding": null,
            "grid_auto_rows": null,
            "grid_gap": null,
            "max_width": null,
            "order": null,
            "_view_module_version": "1.2.0",
            "grid_template_areas": null,
            "object_position": null,
            "object_fit": null,
            "grid_auto_columns": null,
            "margin": null,
            "display": null,
            "left": null
          }
        },
        "78076391375e42f888e7996d86c462c2": {
          "model_module": "@jupyter-widgets/controls",
          "model_name": "DescriptionStyleModel",
          "state": {
            "_view_name": "StyleView",
            "_model_name": "DescriptionStyleModel",
            "description_width": "",
            "_view_module": "@jupyter-widgets/base",
            "_model_module_version": "1.5.0",
            "_view_count": null,
            "_view_module_version": "1.2.0",
            "_model_module": "@jupyter-widgets/controls"
          }
        },
        "7ec1154b2d3b4a9f958d6bfc3a43ef0c": {
          "model_module": "@jupyter-widgets/base",
          "model_name": "LayoutModel",
          "state": {
            "_view_name": "LayoutView",
            "grid_template_rows": null,
            "right": null,
            "justify_content": null,
            "_view_module": "@jupyter-widgets/base",
            "overflow": null,
            "_model_module_version": "1.2.0",
            "_view_count": null,
            "flex_flow": null,
            "width": null,
            "min_width": null,
            "border": null,
            "align_items": null,
            "bottom": null,
            "_model_module": "@jupyter-widgets/base",
            "top": null,
            "grid_column": null,
            "overflow_y": null,
            "overflow_x": null,
            "grid_auto_flow": null,
            "grid_area": null,
            "grid_template_columns": null,
            "flex": null,
            "_model_name": "LayoutModel",
            "justify_items": null,
            "grid_row": null,
            "max_height": null,
            "align_content": null,
            "visibility": null,
            "align_self": null,
            "height": null,
            "min_height": null,
            "padding": null,
            "grid_auto_rows": null,
            "grid_gap": null,
            "max_width": null,
            "order": null,
            "_view_module_version": "1.2.0",
            "grid_template_areas": null,
            "object_position": null,
            "object_fit": null,
            "grid_auto_columns": null,
            "margin": null,
            "display": null,
            "left": null
          }
        }
      }
    }
  },
  "cells": [
    {
      "cell_type": "markdown",
      "metadata": {
        "id": "JccQsl2OtAOi"
      },
      "source": [
        "### Imports "
      ]
    },
    {
      "cell_type": "code",
      "metadata": {
        "id": "5elHgLPSoiT7"
      },
      "source": [
        "import torch \n",
        "import torchvision\n",
        "import torch.nn as nn \n",
        "from IPython.display import Image \n",
        "from torchvision import transforms\n",
        "import matplotlib.pyplot as plt\n",
        "import seaborn as sns\n",
        "import random\n",
        "from torch.utils.data import DataLoader\n",
        "from tqdm.auto import tqdm\n",
        "device = torch.device(\"cuda\" if torch.cuda.is_available() else \"cpu\")\n",
        "seed = 12345\n",
        "random.seed(seed)\n",
        "torch.manual_seed(seed)\n",
        "\n",
        "%matplotlib inline\n",
        "sns.set_style('whitegrid')\n",
        "plt.rcParams['figure.figsize'] = (12, 7)"
      ],
      "execution_count": 18,
      "outputs": []
    },
    {
      "cell_type": "code",
      "metadata": {
        "id": "y0y5yaxPve0j",
        "outputId": "abc2759f-ad71-48b2-9615-74847b4a6f4a",
        "colab": {
          "base_uri": "https://localhost:8080/",
          "height": 34
        }
      },
      "source": [
        "from google.colab import drive\n",
        "drive.mount('/content/drive')"
      ],
      "execution_count": 2,
      "outputs": [
        {
          "output_type": "stream",
          "text": [
            "Mounted at /content/drive\n"
          ],
          "name": "stdout"
        }
      ]
    },
    {
      "cell_type": "markdown",
      "metadata": {
        "id": "zqzOqBsvs9kA"
      },
      "source": [
        "### Data loading "
      ]
    },
    {
      "cell_type": "markdown",
      "metadata": {
        "id": "3-3MVXNOhdCc"
      },
      "source": [
        "##### Run the following cells to load the dataset. Setting download=True will download it for you."
      ]
    },
    {
      "cell_type": "code",
      "metadata": {
        "id": "8rb7Ng7_VcwL",
        "outputId": "73a968d8-c2f5-4a28-994c-bf101189b827",
        "colab": {
          "base_uri": "https://localhost:8080/",
          "height": 51
        }
      },
      "source": [
        "cifar10_train = torchvision.datasets.CIFAR10(root='./cifar10', \n",
        "                                             train=True, \n",
        "                                             transform=None, \n",
        "                                             target_transform=None,\n",
        "                                             download=True)\n",
        "cifar10_test = torchvision.datasets.CIFAR10(root='./cifar10', \n",
        "                                             train=False, \n",
        "                                             transform=None, \n",
        "                                             target_transform=None,\n",
        "                                             download=True)\n",
        "\n",
        "# Divides the dataset into train and val so that we can use the val to choose our hyperparameters\n",
        "train_dataset, val_dataset = torch.utils.data.random_split(cifar10_train, [40000, 10000], \n",
        "                                                           generator=torch.Generator().manual_seed(12345))\n",
        "test_dataset = cifar10_test"
      ],
      "execution_count": 3,
      "outputs": [
        {
          "output_type": "stream",
          "text": [
            "Files already downloaded and verified\n",
            "Files already downloaded and verified\n"
          ],
          "name": "stdout"
        }
      ]
    },
    {
      "cell_type": "code",
      "metadata": {
        "id": "J_NzhpK8KvQC"
      },
      "source": [
        "# Helper code to support adding different transforms on the dataset lazily after downloading the dataset\n",
        "# From https://discuss.pytorch.org/t/apply-different-transform-data-augmentation-to-train-and-validation/63580/5\n",
        "class MapDataset(torch.utils.data.Dataset):\n",
        "    \"\"\"\n",
        "    Given a dataset, creates a dataset which applies a mapping function\n",
        "    to its items (lazily, only when an item is called).\n",
        "\n",
        "    Note that data is not cloned/copied from the initial dataset.\n",
        "    \"\"\"\n",
        "\n",
        "    def __init__(self, dataset, map_fn):\n",
        "        self.dataset = dataset\n",
        "        self.map = map_fn\n",
        "\n",
        "    def __getitem__(self, index):\n",
        "        if self.map:     \n",
        "            x = self.map(self.dataset[index][0]) \n",
        "        else:     \n",
        "            x = self.dataset[index][0]  \n",
        "        y = self.dataset[index][1]         \n",
        "        return x, y\n",
        "\n",
        "    def __len__(self):\n",
        "        return len(self.dataset)"
      ],
      "execution_count": 4,
      "outputs": []
    },
    {
      "cell_type": "markdown",
      "metadata": {
        "id": "MMbXzcUiKc7e"
      },
      "source": [
        "#### Standard transforms to apply on images - Convert to tensors and normalize with mean and std. These are the basic transforms that you will always apply. The mean and std have been pre calculated on the training set. "
      ]
    },
    {
      "cell_type": "code",
      "metadata": {
        "id": "LWEKU9xQKbkW"
      },
      "source": [
        "# Notice that we apply the same mean and std normalization calculated on train, to both the train and test datasets.\n",
        "test_transform = transforms.Compose([\n",
        "                                     transforms.ToTensor(),\n",
        "                                     transforms.Normalize(\n",
        "                                         [0.4373, 0.4434, 0.4725],\n",
        "                                         [0.1201, 0.1231, 0.1052])\n",
        "                                     ])\n",
        "\n",
        "train_transform = transforms.Compose([\n",
        "                                      transforms.ToTensor(),\n",
        "                                      transforms.Normalize(\n",
        "                                          [0.4373, 0.4434, 0.4725],\n",
        "                                          [0.1201, 0.1231, 0.1052])\n",
        "                                      ])"
      ],
      "execution_count": 5,
      "outputs": []
    },
    {
      "cell_type": "code",
      "metadata": {
        "id": "TrDIxTs2JwbO"
      },
      "source": [
        "train_dataset_w_transform  = MapDataset(train_dataset, train_transform)\n",
        "val_dataset_w_transform = MapDataset(val_dataset, test_transform)\n",
        "test_dataset_w_transform = MapDataset(test_dataset, test_transform)"
      ],
      "execution_count": 6,
      "outputs": []
    },
    {
      "cell_type": "code",
      "metadata": {
        "id": "4LcExDS1tyjI"
      },
      "source": [
        "bs = 128\n",
        "torch.backends.cudnn.benchmark = True\n",
        "train_loader = DataLoader(train_dataset_w_transform, batch_size=bs, shuffle=True, drop_last=False,num_workers=10, pin_memory=True)\n",
        "val_loader = DataLoader(val_dataset_w_transform, batch_size=bs, shuffle=False, drop_last=False,num_workers=10, pin_memory=True)\n",
        "test_loader = DataLoader(test_dataset, batch_size=bs, shuffle=False, drop_last=False,num_workers=10, pin_memory=True)"
      ],
      "execution_count": 7,
      "outputs": []
    },
    {
      "cell_type": "markdown",
      "metadata": {
        "id": "pXLFsEihoMTn"
      },
      "source": [
        "### Q 2.1 Training loop"
      ]
    },
    {
      "cell_type": "markdown",
      "metadata": {
        "id": "ksECLwMqkgj_"
      },
      "source": [
        "In this question, fill in the missing parts to build a generic training loop that returns the train and validation losses and accuracies. The #TODOs will guide you through the key points and you should fill some code for each #TODO. You might need to add some additional code for bookkeeping the losses and accuracies"
      ]
    },
    {
      "cell_type": "code",
      "metadata": {
        "id": "GnmWg9P9N5U_"
      },
      "source": [
        "def train_loop(model, criterion, optimizer,  train_loader, val_loader, device):\n",
        "    \"\"\"\n",
        "    Generic training loop\n",
        "\n",
        "    Parameters\n",
        "    ----------\n",
        "    model : Object instance of your model class \n",
        "    criterion : Loss function \n",
        "    optimizer : Instance of optimizer class of your choice \n",
        "    train_loader : Training data loader \n",
        "    val_loader : Validation data loader\n",
        "\n",
        "    Returns\n",
        "    -------\n",
        "    train_losses : List with train loss on dataset per epoch\n",
        "    train_accuracies : List with train accuracy on dataset per epoch\n",
        "    val_losses : List with validation loss on dataset per epoch\n",
        "    val_accuracies : List with validation accuracy on dataset per epoch\n",
        "\n",
        "    \"\"\"\n",
        "    best_val = 0.0\n",
        "    train_losses = []\n",
        "    val_losses = []\n",
        "    train_accuracies = []\n",
        "    val_accuracies = []\n",
        "    max_patience = 5\n",
        "    patience_counter = 0\n",
        "\n",
        "    # Training\n",
        "    for t in tqdm(range(50)):\n",
        "        # TODO : Set the model to train mode        \n",
        "        model.train()\n",
        "        train_loss = 0\n",
        "        correct = 0\n",
        "        n = 0\n",
        "        # TODO: Loop over the training set \n",
        "        for batch_idx, samples in enumerate(train_loader):\n",
        "            # TODO: Put the inputs and targets on the write device\n",
        "            image = samples[0].to(device)\n",
        "            label = samples[1].to(device)\n",
        "            # TODO: Feed forward to get the logits\n",
        "            output = model(image)\n",
        "            _, preds = torch.max(output, dim = 1)\n",
        "            # TODO: Compute the loss and accuracy\n",
        "            loss = criterion(output, label)\n",
        "            # TODO: zero the gradients before running\n",
        "            # the backward pass.\n",
        "            optimizer.zero_grad()\n",
        "            # TODO: Backward pass to compute the gradient\n",
        "            # of loss w.r.t our learnable params. \n",
        "            loss.backward()\n",
        "            # TODO: Update params\n",
        "            optimizer.step()\n",
        "            # TODO: Keep track of accuracy and loss\n",
        "            train_loss += loss.item()\n",
        "            n += image.shape[0]\n",
        "            correct += torch.sum(preds == label).item()\n",
        "        \n",
        "        train_losses.append(train_loss / n)\n",
        "        train_accuracies.append(correct / n)\n",
        "        \n",
        "        # TODO: Switch the model to eval mode\n",
        "        model.eval()\n",
        "\n",
        "        val_loss = 0\n",
        "        val_correct = 0\n",
        "        val_n = 0\n",
        "        with torch.no_grad():\n",
        "            # TODO: Loop over the validation set \n",
        "            for batch_idx, samples in enumerate(val_loader):\n",
        "                # TODO: Put the inputs and targets on the write device\n",
        "                image = samples[0].to(device)\n",
        "                label = samples[1].to(device)\n",
        "                # TODO: Feed forward to get the logits\n",
        "                output = model(image)\n",
        "                _, preds = torch.max(output, dim=1)\n",
        "                # TODO: Compute the loss and accuracy\n",
        "                loss = criterion(output, label)\n",
        "                # TODO: Keep track of accuracy and loss\n",
        "                val_loss += loss.item()\n",
        "                val_n += image.shape[0]\n",
        "                val_correct += torch.sum(preds == label).item()\n",
        "            val_losses.append(val_loss / val_n)\n",
        "            val_accuracies.append(val_correct / val_n)\n",
        "                \n",
        "        if val_accuracies[-1] > best_val:\n",
        "            best_val = val_accuracies[-1]\n",
        "            patience_counter = 0\n",
        "            # TODO: Save best model, optimizer, epoch_number\n",
        "            checkpoint = {\n",
        "                'model':model.state_dict(),\n",
        "                'epoch':t,\n",
        "                'optimizer':optimizer.state_dict()\n",
        "            }\n",
        "            torch.save(checkpoint, 'checkpoint.pth')\n",
        "            \n",
        "        else:\n",
        "            patience_counter += 1    \n",
        "            if patience_counter > max_patience: \n",
        "                break\n",
        "\n",
        "        print(\"[EPOCH]: %i, [TRAIN LOSS]: %.6f, [TRAIN ACCURACY]: %.3f\" % (t, train_losses[-1], train_accuracies[-1]))\n",
        "        print(\"[EPOCH]: %i, [VAL LOSS]: %.6f, [VAL ACCURACY]: %.3f \\n\" % (t, val_losses[-1] ,val_accuracies[-1]))\n",
        "\n",
        "    return train_losses, train_accuracies, val_losses, val_accuracies"
      ],
      "execution_count": 8,
      "outputs": []
    },
    {
      "cell_type": "markdown",
      "metadata": {
        "id": "0sdCTYUouY4o"
      },
      "source": [
        "### Q 2.2 Shallow convolutional network. "
      ]
    },
    {
      "cell_type": "code",
      "metadata": {
        "id": "FKqYI2qxp95J"
      },
      "source": [
        "class View(nn.Module):\n",
        "    def __init__(self, shape):\n",
        "        super().__init__()\n",
        "        self.shape = shape\n",
        "\n",
        "    def forward(self, x):\n",
        "        return x.view(*self.shape)"
      ],
      "execution_count": 9,
      "outputs": []
    },
    {
      "cell_type": "code",
      "metadata": {
        "id": "FDHE0lOgpF0W"
      },
      "source": [
        "ShallowNet =  nn.Sequential(\n",
        "      nn.Conv2d(in_channels = 3, out_channels = 64, kernel_size=5, padding=2),\n",
        "      nn.ReLU(),\n",
        "      nn.MaxPool2d(kernel_size=2),\n",
        "      nn.Conv2d(in_channels = 64, out_channels = 128, kernel_size=3, padding=1),\n",
        "      nn.ReLU(),\n",
        "      nn.MaxPool2d(kernel_size=2),\n",
        "      nn.Conv2d(in_channels = 128, out_channels = 256, kernel_size=3, padding=1),\n",
        "      nn.ReLU(),\n",
        "      nn.MaxPool2d(kernel_size=8),\n",
        "      View((-1,256)),\n",
        "      nn.Linear(256, 10),\n",
        ")"
      ],
      "execution_count": 10,
      "outputs": []
    },
    {
      "cell_type": "markdown",
      "metadata": {
        "id": "iV26KJLDrzhx"
      },
      "source": [
        "#### Write the object oriented version of ShallowNet"
      ]
    },
    {
      "cell_type": "code",
      "metadata": {
        "id": "H8YygdvnuqDM"
      },
      "source": [
        "class ShallowConvnet(nn.Module):\n",
        "    def __init__(self, input_channels, num_classes):\n",
        "        \"\"\"\n",
        "\n",
        "        Parameters\n",
        "        ----------\n",
        "        input_channels : Number of input channels\n",
        "        num_classes : Number of classes for the final prediction \n",
        "        \"\"\"\n",
        "        \n",
        "        # TODO\n",
        "        super().__init__()\n",
        "        self.model = nn.Sequential(\n",
        "            nn.Conv2d(in_channels = input_channels, out_channels = 64, kernel_size=5, padding=2),\n",
        "            nn.ReLU(),\n",
        "            nn.MaxPool2d(kernel_size=2),\n",
        "            nn.Conv2d(in_channels = 64, out_channels = 128, kernel_size=3, padding=1),\n",
        "            nn.ReLU(),\n",
        "            nn.MaxPool2d(kernel_size=2),\n",
        "            nn.Conv2d(in_channels = 128, out_channels = 256, kernel_size=3, padding=1),\n",
        "            nn.ReLU(),\n",
        "            nn.MaxPool2d(kernel_size=8),\n",
        "            View((-1,256)),\n",
        "            nn.Linear(256, num_classes),\n",
        "        )\n",
        "\n",
        "    def forward(self, x):\n",
        "        \"\"\"\n",
        "\n",
        "        Parameters\n",
        "        ----------\n",
        "        x\n",
        "\n",
        "        Returns\n",
        "        -------\n",
        "        output : Result after running through the model\n",
        "        \"\"\"\n",
        "        \n",
        "        # TODO\n",
        "        return self.model(x)\n",
        "        "
      ],
      "execution_count": 11,
      "outputs": []
    },
    {
      "cell_type": "markdown",
      "metadata": {
        "id": "UjEH5jIhwnet"
      },
      "source": [
        "### Q2.3 Instantiate the model and run this using an SGD optimizer, with the appropriate loss function for classification\n",
        "\n",
        "Report the learning curves (training and validation accuracy vs number of epochs)"
      ]
    },
    {
      "cell_type": "code",
      "metadata": {
        "id": "_oG1E-YRu4Cj"
      },
      "source": [
        "# TODO : Initialize the model and cast to correct device\n",
        "model = ShallowConvnet(input_channels=3, num_classes=10)\n",
        "model.to(device)\n",
        "# TODO : Initialize the criterion\n",
        "criterion = nn.CrossEntropyLoss()\n",
        "# TODO : Initialize the SGD optimizer with lr 1e-3\n",
        "optimizer = torch.optim.SGD(model.parameters(), lr=1e-3)"
      ],
      "execution_count": 12,
      "outputs": []
    },
    {
      "cell_type": "code",
      "metadata": {
        "id": "1mMFDqx0ve1D"
      },
      "source": [
        "# TODO : Run the training loop using this model\n",
        "loss_train, acc_train, loss_val, acc_val = train_loop(model,\n",
        "    criterion,\n",
        "    optimizer,\n",
        "    train_loader,\n",
        "    val_loader,\n",
        "    device)"
      ],
      "execution_count": null,
      "outputs": []
    },
    {
      "cell_type": "code",
      "metadata": {
        "id": "RqJcuhvc4G3h",
        "outputId": "23d902da-77b4-4efa-9488-8da0741248b7",
        "colab": {
          "base_uri": "https://localhost:8080/",
          "height": 461
        }
      },
      "source": [
        "plt.plot(loss_train, label='train')\n",
        "plt.plot(loss_val, label='val')\n",
        "plt.legend()\n",
        "plt.title('Shallow Loss')"
      ],
      "execution_count": 20,
      "outputs": [
        {
          "output_type": "execute_result",
          "data": {
            "text/plain": [
              "Text(0.5, 1.0, 'Shallow Loss')"
            ]
          },
          "metadata": {
            "tags": []
          },
          "execution_count": 20
        },
        {
          "output_type": "display_data",
          "data": {
            "image/png": "[encoded data removed]",
            "text/plain": [
              "<Figure size 864x504 with 1 Axes>"
            ]
          },
          "metadata": {
            "tags": []
          }
        }
      ]
    },
    {
      "cell_type": "code",
      "metadata": {
        "id": "AJZRQhaT49U2",
        "outputId": "3bb93618-5609-4828-e85a-f3214f2c22ea",
        "colab": {
          "base_uri": "https://localhost:8080/",
          "height": 461
        }
      },
      "source": [
        "plt.plot(acc_train, label='train')\n",
        "plt.plot(acc_val, label='val')\n",
        "plt.legend()\n",
        "plt.title('Shallow acc')"
      ],
      "execution_count": 21,
      "outputs": [
        {
          "output_type": "execute_result",
          "data": {
            "text/plain": [
              "Text(0.5, 1.0, 'Shallow acc')"
            ]
          },
          "metadata": {
            "tags": []
          },
          "execution_count": 21
        },
        {
          "output_type": "display_data",
          "data": {
            "image/png": "[encoded data removed]",
            "text/plain": [
              "<Figure size 864x504 with 1 Axes>"
            ]
          },
          "metadata": {
            "tags": []
          }
        }
      ]
    },
    {
      "cell_type": "markdown",
      "metadata": {
        "id": "cLRvwxlJoFQO"
      },
      "source": [
        "### Q2.4 Simple convolution network - "
      ]
    },
    {
      "cell_type": "markdown",
      "metadata": {
        "id": "lSUz9ljRxRc5"
      },
      "source": [
        "Design a convolutional neural network with the following specification: \n",
        "For each convolution layer, use appropriate padding such that it maintains the resolution of the image. The resolution should be changing only when you introduce maxpooling layers. Each convolution layer should be followed by a relu non-linearity. The first two blocks containing 3 convolutional layers are each followed by a maxpooling layer that halves the resolution of the image. After the third block, use maxpooling to get a resolution of 1 X 1. Finally, apply a linear transformation to project to the number of classes. \n",
        "\n",
        "Structure of the convolution layers of the model:\n",
        "1. Number of input channels to the model = 3\n",
        "2. First convolution layer of kernel size 5 with filter size 64 and padding such that it maintains the resolution of the image.\n",
        "3. Followed by a block of 3 convolution layers of kernel size 3, filter size 64 and padding such that it maintains the resolution of the image.\n",
        "5. Followed by 3 convolution layers of kernel size 3, filter size 128 and padding such that it maintains the resolution of the image.\n",
        "6. Followed by 3 convolution layers of kernel size 3, filter size 256 and padding such that it maintains the resolution of the image. \n",
        "\n",
        "\n"
      ]
    },
    {
      "cell_type": "code",
      "metadata": {
        "id": "GfwKR3uNlsNc"
      },
      "source": [
        "# Use the description of the structure of the model and the hints given below \n",
        "\n",
        "class SimpleConvnet(nn.Module):\n",
        "    def __init__(self, input_channels, num_classes):\n",
        "        super(SimpleConvnet, self).__init__()\n",
        "        # TODO\n",
        "        self.num_classes = num_classes\n",
        "        self.conv = nn.Sequential(\n",
        "            nn.Conv2d(in_channels = 3, out_channels = 64, kernel_size=5, padding=2),\n",
        "            nn.ReLU())\n",
        "        self.block1 = nn.Sequential(\n",
        "            nn.Conv2d(in_channels = 64, out_channels = 64, kernel_size=3, padding=1),\n",
        "            nn.ReLU(),\n",
        "            nn.Conv2d(in_channels = 64, out_channels = 64, kernel_size=3, padding=1),\n",
        "            nn.ReLU(),\n",
        "            nn.Conv2d(in_channels = 64, out_channels = 64, kernel_size=3, padding=1),\n",
        "            nn.ReLU(),\n",
        "            nn.MaxPool2d(kernel_size=2)\n",
        "        )\n",
        "        self.block2 = nn.Sequential(\n",
        "            nn.Conv2d(in_channels = 64, out_channels = 128, kernel_size=3, padding=1),\n",
        "            nn.ReLU(),\n",
        "            nn.Conv2d(in_channels = 128, out_channels = 128, kernel_size=3, padding=1),\n",
        "            nn.ReLU(),\n",
        "            nn.Conv2d(in_channels = 128, out_channels = 128, kernel_size=3, padding=1),\n",
        "            nn.ReLU(),\n",
        "            nn.MaxPool2d(kernel_size=2)\n",
        "        )\n",
        "        self.block3 = nn.Sequential(\n",
        "            nn.Conv2d(in_channels = 128, out_channels = 256, kernel_size=3, padding=1),\n",
        "            nn.ReLU(),\n",
        "            nn.Conv2d(in_channels = 256, out_channels = 256, kernel_size=3, padding=1),\n",
        "            nn.ReLU(),\n",
        "            nn.Conv2d(in_channels = 256, out_channels = 256, kernel_size=3, padding=1),\n",
        "            nn.ReLU()\n",
        "        )\n",
        "        self.projection = nn.Sequential(\n",
        "            nn.MaxPool2d(kernel_size=8),\n",
        "            View((-1,256)),\n",
        "            nn.Linear(256, num_classes)\n",
        "        )\n",
        "    \n",
        "    def forward(self, x):\n",
        "       \n",
        "        # TODO \n",
        "\n",
        "        # HINT: first conv layer \n",
        "        _ = self.conv(x)\n",
        "\n",
        "        # HINT: block of 3 conv \n",
        "        _ = self.block1(_)\n",
        "\n",
        "        # HINT : block of 3 conv \n",
        "        _ = self.block2(_)\n",
        "\n",
        "        # HINT: block of 3 conv \n",
        "        _ = self.block3(_)\n",
        "\n",
        "        # HINT: projection \n",
        "        output = self.projection(_)\n",
        "        \n",
        "        return output\n",
        "        "
      ],
      "execution_count": 14,
      "outputs": []
    },
    {
      "cell_type": "code",
      "metadata": {
        "id": "q_WKoU3ewH2B",
        "outputId": "8330e1e6-7961-4526-d505-4e8e5f7196ca",
        "colab": {
          "base_uri": "https://localhost:8080/",
          "height": 355,
          "referenced_widgets": [
            "b9275161d63f40f28b61c9336ee9afba",
            "50a739e4932c49a196aa8282776e54d4",
            "70c3f9d9f9cc4f789d8056ab57311eab",
            "bad80e312334479b9941311d544a7531",
            "b2912bded3dd4e52bad094c03e5e7f33",
            "109d1bb9db1248ab84b0de53d4e029e2",
            "389c7b88df094346989dda34cf032d4f",
            "47647bda61ef4c81a36fda7b5d7eee7e"
          ]
        }
      },
      "source": [
        "# TODO : Initialize the model and cast to correct device\n",
        "model = SimpleConvnet(3, 10)\n",
        "model.to(device)\n",
        "# TODO : Initialize the criterion \n",
        "c = nn.CrossEntropyLoss()\n",
        "# TODO : Initialize the optimizer \n",
        "o = torch.optim.SGD(model.parameters(), lr=1e-3)\n",
        "# TODO : Run the training loop using this model\n",
        "l_t, a_t, l_v, a_v = train_loop(model, c, o, train_loader, val_loader, device)"
      ],
      "execution_count": 26,
      "outputs": [
        {
          "output_type": "display_data",
          "data": {
            "application/vnd.jupyter.widget-view+json": {
              "model_id": "b9275161d63f40f28b61c9336ee9afba",
              "version_minor": 0,
              "version_major": 2
            },
            "text/plain": [
              "HBox(children=(FloatProgress(value=0.0, max=50.0), HTML(value='')))"
            ]
          },
          "metadata": {
            "tags": []
          }
        },
        {
          "output_type": "stream",
          "text": [
            "[EPOCH]: 0, [TRAIN LOSS]: 0.018024, [TRAIN ACCURACY]: 0.100\n",
            "[EPOCH]: 0, [VAL LOSS]: 0.018194, [VAL ACCURACY]: 0.101 \n",
            "\n",
            "[EPOCH]: 1, [TRAIN LOSS]: 0.018024, [TRAIN ACCURACY]: 0.100\n",
            "[EPOCH]: 1, [VAL LOSS]: 0.018194, [VAL ACCURACY]: 0.101 \n",
            "\n",
            "[EPOCH]: 2, [TRAIN LOSS]: 0.018023, [TRAIN ACCURACY]: 0.100\n",
            "[EPOCH]: 2, [VAL LOSS]: 0.018194, [VAL ACCURACY]: 0.101 \n",
            "\n",
            "[EPOCH]: 3, [TRAIN LOSS]: 0.018023, [TRAIN ACCURACY]: 0.100\n",
            "[EPOCH]: 3, [VAL LOSS]: 0.018193, [VAL ACCURACY]: 0.101 \n",
            "\n",
            "[EPOCH]: 4, [TRAIN LOSS]: 0.018022, [TRAIN ACCURACY]: 0.100\n",
            "[EPOCH]: 4, [VAL LOSS]: 0.018193, [VAL ACCURACY]: 0.101 \n",
            "\n",
            "[EPOCH]: 5, [TRAIN LOSS]: 0.018022, [TRAIN ACCURACY]: 0.100\n",
            "[EPOCH]: 5, [VAL LOSS]: 0.018193, [VAL ACCURACY]: 0.101 \n",
            "\n"
          ],
          "name": "stdout"
        }
      ]
    },
    {
      "cell_type": "markdown",
      "metadata": {
        "id": "mZRJhVst0BLv"
      },
      "source": [
        "### Q 2.5 Report results of training using SGD optimizer for both ShallowNet and SimpleConvnet. What do you observe?"
      ]
    },
    {
      "cell_type": "markdown",
      "metadata": {
        "id": "06-WLPtvve1L"
      },
      "source": [
        "Using the SGD optimizer for ShallowNet saw steady training improvements, but no training improvement using SimpleConvnet. It could be because the convnet is too deep, making it difficult to backpropagate the learning signal all the way back to the start of the layers."
      ]
    },
    {
      "cell_type": "markdown",
      "metadata": {
        "id": "uv6ExxBvLL3Y"
      },
      "source": [
        "### Q 2.6 Add batch normalization"
      ]
    },
    {
      "cell_type": "markdown",
      "metadata": {
        "id": "S8IFrRqC0WwA"
      },
      "source": [
        "#### Q2.6 a After each relu layer, add a batch normalization layer to the network SimpleConvnet you created above"
      ]
    },
    {
      "cell_type": "code",
      "metadata": {
        "id": "U7nvtAeBoiUX"
      },
      "source": [
        "class SimpleConvnet2(nn.Module):\n",
        "    def __init__(self, input_channels, num_classes):\n",
        "        super(SimpleConvnet2, self).__init__()\n",
        "        # TODO\n",
        "        self.num_classes = num_classes\n",
        "        self.conv = nn.Sequential(\n",
        "            nn.Conv2d(in_channels = 3, out_channels = 64, kernel_size=5, padding=2),\n",
        "            nn.ReLU(),\n",
        "            nn.BatchNorm2d(num_features=64))\n",
        "        self.block1 = nn.Sequential(\n",
        "            nn.Conv2d(in_channels = 64, out_channels = 64, kernel_size=3, padding=1),\n",
        "            nn.ReLU(),\n",
        "            nn.BatchNorm2d(num_features=64),\n",
        "            nn.Conv2d(in_channels = 64, out_channels = 64, kernel_size=3, padding=1),\n",
        "            nn.ReLU(),\n",
        "            nn.BatchNorm2d(num_features=64),\n",
        "            nn.Conv2d(in_channels = 64, out_channels = 64, kernel_size=3, padding=1),\n",
        "            nn.ReLU(),\n",
        "            nn.BatchNorm2d(num_features=64),\n",
        "            nn.MaxPool2d(kernel_size=2)\n",
        "        )\n",
        "        self.block2 = nn.Sequential(\n",
        "            nn.Conv2d(in_channels = 64, out_channels = 128, kernel_size=3, padding=1),\n",
        "            nn.ReLU(),\n",
        "            nn.BatchNorm2d(num_features=128),\n",
        "            nn.Conv2d(in_channels = 128, out_channels = 128, kernel_size=3, padding=1),\n",
        "            nn.ReLU(),\n",
        "            nn.BatchNorm2d(num_features=128),\n",
        "            nn.Conv2d(in_channels = 128, out_channels = 128, kernel_size=3, padding=1),\n",
        "            nn.ReLU(),\n",
        "            nn.BatchNorm2d(num_features=128),\n",
        "            nn.MaxPool2d(kernel_size=2)\n",
        "        )\n",
        "        self.block3 = nn.Sequential(\n",
        "            nn.Conv2d(in_channels = 128, out_channels = 256, kernel_size=3, padding=1),\n",
        "            nn.ReLU(),\n",
        "            nn.BatchNorm2d(num_features=256),\n",
        "            nn.Conv2d(in_channels = 256, out_channels = 256, kernel_size=3, padding=1),\n",
        "            nn.ReLU(),\n",
        "            nn.BatchNorm2d(num_features=256),\n",
        "            nn.Conv2d(in_channels = 256, out_channels = 256, kernel_size=3, padding=1),\n",
        "            nn.ReLU(),\n",
        "            nn.BatchNorm2d(num_features=256)\n",
        "        )\n",
        "        self.projection = nn.Sequential(\n",
        "            nn.MaxPool2d(kernel_size=8),\n",
        "            View((-1,256)),\n",
        "            nn.Linear(256, num_classes)\n",
        "        )\n",
        "    \n",
        "    def forward(self, x):\n",
        "       \n",
        "        # TODO \n",
        "\n",
        "        # HINT: first conv layer \n",
        "        _ = self.conv(x)\n",
        "\n",
        "        # HINT: block of 3 conv \n",
        "        _ = self.block1(_)\n",
        "\n",
        "        # HINT : block of 3 conv \n",
        "        _ = self.block2(_)\n",
        "\n",
        "        # HINT: block of 3 conv \n",
        "        _ = self.block3(_)\n",
        "\n",
        "        # HINT: projection \n",
        "        output = self.projection(_)\n",
        "        \n",
        "        return output\n",
        "        "
      ],
      "execution_count": 24,
      "outputs": []
    },
    {
      "cell_type": "code",
      "metadata": {
        "id": "hgqQzKV10tz7",
        "outputId": "dc774420-4ef0-48e3-a924-00c146468323",
        "colab": {
          "base_uri": "https://localhost:8080/",
          "height": 1000,
          "referenced_widgets": [
            "7e74bbc2309d45eaa69c23043176b414",
            "ae0a0208f1aa4bd396f8902974e1be22",
            "d999ef6a24174f22a8dffce6d3302f8d",
            "5f45d93e9e5b49298d0adeed7eadc52e",
            "39372091967e4af792341b107fd4d94a",
            "245e33348e224a9188d27669aa7955d7",
            "11397e4611d64af4b17adfcf4742636f",
            "006f2b8a547f402e8fe79b54564d8bfa"
          ]
        }
      },
      "source": [
        "# TODO : Initialize the model and cast to correct device\n",
        "model = SimpleConvnet2(3, 10)\n",
        "model.to(device)\n",
        "# TODO : Initialize the criterion \n",
        "c = nn.CrossEntropyLoss()\n",
        "# TODO : Initialize the optimizer \n",
        "o = torch.optim.SGD(model.parameters(), lr=1e-3)\n",
        "# TODO : Run the training loop using this model\n",
        "l_t2, a_t2, l_v2, a_v2 = train_loop(model, c, o, train_loader, val_loader, device)"
      ],
      "execution_count": 27,
      "outputs": [
        {
          "output_type": "display_data",
          "data": {
            "application/vnd.jupyter.widget-view+json": {
              "model_id": "7e74bbc2309d45eaa69c23043176b414",
              "version_minor": 0,
              "version_major": 2
            },
            "text/plain": [
              "HBox(children=(FloatProgress(value=0.0, max=50.0), HTML(value='')))"
            ]
          },
          "metadata": {
            "tags": []
          }
        },
        {
          "output_type": "stream",
          "text": [
            "[EPOCH]: 0, [TRAIN LOSS]: 0.014164, [TRAIN ACCURACY]: 0.349\n",
            "[EPOCH]: 0, [VAL LOSS]: 0.011923, [VAL ACCURACY]: 0.452 \n",
            "\n",
            "[EPOCH]: 1, [TRAIN LOSS]: 0.010836, [TRAIN ACCURACY]: 0.498\n",
            "[EPOCH]: 1, [VAL LOSS]: 0.010578, [VAL ACCURACY]: 0.518 \n",
            "\n",
            "[EPOCH]: 2, [TRAIN LOSS]: 0.009497, [TRAIN ACCURACY]: 0.570\n",
            "[EPOCH]: 2, [VAL LOSS]: 0.010051, [VAL ACCURACY]: 0.546 \n",
            "\n",
            "[EPOCH]: 3, [TRAIN LOSS]: 0.008548, [TRAIN ACCURACY]: 0.619\n",
            "[EPOCH]: 3, [VAL LOSS]: 0.009563, [VAL ACCURACY]: 0.571 \n",
            "\n",
            "[EPOCH]: 4, [TRAIN LOSS]: 0.007727, [TRAIN ACCURACY]: 0.662\n",
            "[EPOCH]: 4, [VAL LOSS]: 0.009263, [VAL ACCURACY]: 0.586 \n",
            "\n",
            "[EPOCH]: 5, [TRAIN LOSS]: 0.007002, [TRAIN ACCURACY]: 0.702\n",
            "[EPOCH]: 5, [VAL LOSS]: 0.008923, [VAL ACCURACY]: 0.601 \n",
            "\n",
            "[EPOCH]: 6, [TRAIN LOSS]: 0.006356, [TRAIN ACCURACY]: 0.736\n",
            "[EPOCH]: 6, [VAL LOSS]: 0.008590, [VAL ACCURACY]: 0.616 \n",
            "\n",
            "[EPOCH]: 7, [TRAIN LOSS]: 0.005763, [TRAIN ACCURACY]: 0.769\n",
            "[EPOCH]: 7, [VAL LOSS]: 0.008547, [VAL ACCURACY]: 0.615 \n",
            "\n",
            "[EPOCH]: 8, [TRAIN LOSS]: 0.005216, [TRAIN ACCURACY]: 0.800\n",
            "[EPOCH]: 8, [VAL LOSS]: 0.008512, [VAL ACCURACY]: 0.621 \n",
            "\n",
            "[EPOCH]: 9, [TRAIN LOSS]: 0.004653, [TRAIN ACCURACY]: 0.831\n",
            "[EPOCH]: 9, [VAL LOSS]: 0.008404, [VAL ACCURACY]: 0.625 \n",
            "\n",
            "[EPOCH]: 10, [TRAIN LOSS]: 0.004161, [TRAIN ACCURACY]: 0.860\n",
            "[EPOCH]: 10, [VAL LOSS]: 0.008297, [VAL ACCURACY]: 0.631 \n",
            "\n",
            "[EPOCH]: 11, [TRAIN LOSS]: 0.003675, [TRAIN ACCURACY]: 0.886\n",
            "[EPOCH]: 11, [VAL LOSS]: 0.008189, [VAL ACCURACY]: 0.639 \n",
            "\n",
            "[EPOCH]: 12, [TRAIN LOSS]: 0.003245, [TRAIN ACCURACY]: 0.908\n",
            "[EPOCH]: 12, [VAL LOSS]: 0.008108, [VAL ACCURACY]: 0.644 \n",
            "\n",
            "[EPOCH]: 13, [TRAIN LOSS]: 0.002847, [TRAIN ACCURACY]: 0.928\n",
            "[EPOCH]: 13, [VAL LOSS]: 0.008039, [VAL ACCURACY]: 0.647 \n",
            "\n",
            "[EPOCH]: 14, [TRAIN LOSS]: 0.002495, [TRAIN ACCURACY]: 0.944\n",
            "[EPOCH]: 14, [VAL LOSS]: 0.008091, [VAL ACCURACY]: 0.647 \n",
            "\n",
            "[EPOCH]: 15, [TRAIN LOSS]: 0.002150, [TRAIN ACCURACY]: 0.961\n",
            "[EPOCH]: 15, [VAL LOSS]: 0.008077, [VAL ACCURACY]: 0.648 \n",
            "\n",
            "[EPOCH]: 16, [TRAIN LOSS]: 0.001851, [TRAIN ACCURACY]: 0.972\n",
            "[EPOCH]: 16, [VAL LOSS]: 0.008134, [VAL ACCURACY]: 0.648 \n",
            "\n",
            "[EPOCH]: 17, [TRAIN LOSS]: 0.001611, [TRAIN ACCURACY]: 0.981\n",
            "[EPOCH]: 17, [VAL LOSS]: 0.008227, [VAL ACCURACY]: 0.647 \n",
            "\n",
            "[EPOCH]: 18, [TRAIN LOSS]: 0.001409, [TRAIN ACCURACY]: 0.985\n",
            "[EPOCH]: 18, [VAL LOSS]: 0.008103, [VAL ACCURACY]: 0.653 \n",
            "\n",
            "[EPOCH]: 19, [TRAIN LOSS]: 0.001219, [TRAIN ACCURACY]: 0.990\n",
            "[EPOCH]: 19, [VAL LOSS]: 0.008118, [VAL ACCURACY]: 0.654 \n",
            "\n",
            "[EPOCH]: 20, [TRAIN LOSS]: 0.001066, [TRAIN ACCURACY]: 0.994\n",
            "[EPOCH]: 20, [VAL LOSS]: 0.008161, [VAL ACCURACY]: 0.655 \n",
            "\n",
            "[EPOCH]: 21, [TRAIN LOSS]: 0.000931, [TRAIN ACCURACY]: 0.996\n",
            "[EPOCH]: 21, [VAL LOSS]: 0.008083, [VAL ACCURACY]: 0.655 \n",
            "\n",
            "[EPOCH]: 22, [TRAIN LOSS]: 0.000822, [TRAIN ACCURACY]: 0.997\n",
            "[EPOCH]: 22, [VAL LOSS]: 0.008208, [VAL ACCURACY]: 0.653 \n",
            "\n",
            "[EPOCH]: 23, [TRAIN LOSS]: 0.000714, [TRAIN ACCURACY]: 0.998\n",
            "[EPOCH]: 23, [VAL LOSS]: 0.008316, [VAL ACCURACY]: 0.651 \n",
            "\n",
            "[EPOCH]: 24, [TRAIN LOSS]: 0.000644, [TRAIN ACCURACY]: 0.999\n",
            "[EPOCH]: 24, [VAL LOSS]: 0.008408, [VAL ACCURACY]: 0.653 \n",
            "\n",
            "[EPOCH]: 25, [TRAIN LOSS]: 0.000590, [TRAIN ACCURACY]: 0.999\n",
            "[EPOCH]: 25, [VAL LOSS]: 0.008284, [VAL ACCURACY]: 0.654 \n",
            "\n",
            "[EPOCH]: 26, [TRAIN LOSS]: 0.000540, [TRAIN ACCURACY]: 0.999\n",
            "[EPOCH]: 26, [VAL LOSS]: 0.008361, [VAL ACCURACY]: 0.655 \n",
            "\n"
          ],
          "name": "stdout"
        }
      ]
    },
    {
      "cell_type": "markdown",
      "metadata": {
        "id": "w5wqxHGa0vZe"
      },
      "source": [
        "#### Q2.6 b Plot the the training curves (training loss vs \\# epochs, training accuracy vs # epochs) using SGD (lr 1e-3) with and without batch normalization. Comment on the difference. "
      ]
    },
    {
      "cell_type": "markdown",
      "metadata": {
        "id": "58mKtSXR91m9"
      },
      "source": [
        "Without batchnorm, the training cannot get off the ground at all, and training is prematurely halted as soon as possible. For the convnet with batchnorm, large training improvements are made for the first 25 or so epochs. Validation performance peters out around the 12th epoch, but batchnorm performance far surpasses that of not having batchnorm."
      ]
    },
    {
      "cell_type": "code",
      "metadata": {
        "id": "ifL657FM7sj5",
        "outputId": "27ef7a60-9a34-43e1-d694-eae9b330a909",
        "colab": {
          "base_uri": "https://localhost:8080/",
          "height": 461
        }
      },
      "source": [
        "plt.plot(l_t, label='train - no batchnorm')\n",
        "plt.plot(l_v, label='val - no batchnorm')\n",
        "plt.plot(l_t2, label='train - batchnorm')\n",
        "plt.plot(l_v2, label='val - batchnorm')\n",
        "plt.legend()\n",
        "plt.title('Loss - with and without batchnorm')"
      ],
      "execution_count": 28,
      "outputs": [
        {
          "output_type": "execute_result",
          "data": {
            "text/plain": [
              "Text(0.5, 1.0, 'Loss - with and without batchnorm')"
            ]
          },
          "metadata": {
            "tags": []
          },
          "execution_count": 28
        },
        {
          "output_type": "display_data",
          "data": {
            "image/png": "[encoded data removed]",
            "text/plain": [
              "<Figure size 864x504 with 1 Axes>"
            ]
          },
          "metadata": {
            "tags": []
          }
        }
      ]
    },
    {
      "cell_type": "code",
      "metadata": {
        "id": "DE83KBem8D5T",
        "outputId": "3ca21151-de14-4cc2-906a-df02f0652b15",
        "colab": {
          "base_uri": "https://localhost:8080/",
          "height": 461
        }
      },
      "source": [
        "plt.plot(a_t, label='train - no batchnorm')\n",
        "plt.plot(a_v, label='val - no batchnorm')\n",
        "plt.plot(a_t2, label='train - batchnorm')\n",
        "plt.plot(a_v2, label='val - batchnorm')\n",
        "plt.legend()\n",
        "plt.title('Accuracy - with and without batchnorm')"
      ],
      "execution_count": 29,
      "outputs": [
        {
          "output_type": "execute_result",
          "data": {
            "text/plain": [
              "Text(0.5, 1.0, 'Accuracy - with and without batchnorm')"
            ]
          },
          "metadata": {
            "tags": []
          },
          "execution_count": 29
        },
        {
          "output_type": "display_data",
          "data": {
            "image/png": "[encoded data removed]",
            "text/plain": [
              "<Figure size 864x504 with 1 Axes>"
            ]
          },
          "metadata": {
            "tags": []
          }
        }
      ]
    },
    {
      "cell_type": "markdown",
      "metadata": {
        "id": "ZW0227y408ej"
      },
      "source": [
        "#### Q2.6 c. Try running the same two networks with an Adam optimizer (lr 1e-4). Plot the the training curves (training loss vs \\# epochs, training accuracy vs # epochs) with and without batch normalization. Comment on the difference. "
      ]
    },
    {
      "cell_type": "code",
      "metadata": {
        "id": "bL7QhEC4-U1J",
        "outputId": "4dffb717-d7ba-44e7-d06c-96555ce01a76",
        "colab": {
          "base_uri": "https://localhost:8080/",
          "height": 865,
          "referenced_widgets": [
            "af0adc721a354cfdb106a4a17b2b2590",
            "efed2adf40e648258904a41493cbba02",
            "05bbbe5af0e14c47809d80047564135d",
            "edb19b043658495dafe9947e70330bdf",
            "674b937a27134eec9937faf7d922b9e7",
            "3498a583131b4d0599952115243d6777",
            "f20c80de70674cb6b68bdadd566a2018",
            "df52af4954b64a13856a91e4a7cf2fbf"
          ]
        }
      },
      "source": [
        "# TODO : Initialize the model and cast to correct device\n",
        "model = SimpleConvnet(3, 10)\n",
        "model.to(device)\n",
        "# TODO : Initialize the criterion \n",
        "c = nn.CrossEntropyLoss()\n",
        "# TODO : Initialize the optimizer \n",
        "o = torch.optim.Adam(model.parameters(), lr=1e-4)\n",
        "# TODO : Run the training loop using this model\n",
        "l_t, a_t, l_v, a_v = train_loop(model, c, o, train_loader, val_loader, device)"
      ],
      "execution_count": 30,
      "outputs": [
        {
          "output_type": "display_data",
          "data": {
            "application/vnd.jupyter.widget-view+json": {
              "model_id": "af0adc721a354cfdb106a4a17b2b2590",
              "version_minor": 0,
              "version_major": 2
            },
            "text/plain": [
              "HBox(children=(FloatProgress(value=0.0, max=50.0), HTML(value='')))"
            ]
          },
          "metadata": {
            "tags": []
          }
        },
        {
          "output_type": "stream",
          "text": [
            "[EPOCH]: 0, [TRAIN LOSS]: 0.014976, [TRAIN ACCURACY]: 0.295\n",
            "[EPOCH]: 0, [VAL LOSS]: 0.013018, [VAL ACCURACY]: 0.399 \n",
            "\n",
            "[EPOCH]: 1, [TRAIN LOSS]: 0.012019, [TRAIN ACCURACY]: 0.442\n",
            "[EPOCH]: 1, [VAL LOSS]: 0.011231, [VAL ACCURACY]: 0.486 \n",
            "\n",
            "[EPOCH]: 2, [TRAIN LOSS]: 0.010687, [TRAIN ACCURACY]: 0.511\n",
            "[EPOCH]: 2, [VAL LOSS]: 0.010468, [VAL ACCURACY]: 0.530 \n",
            "\n",
            "[EPOCH]: 3, [TRAIN LOSS]: 0.009683, [TRAIN ACCURACY]: 0.560\n",
            "[EPOCH]: 3, [VAL LOSS]: 0.009555, [VAL ACCURACY]: 0.568 \n",
            "\n",
            "[EPOCH]: 4, [TRAIN LOSS]: 0.008713, [TRAIN ACCURACY]: 0.604\n",
            "[EPOCH]: 4, [VAL LOSS]: 0.009129, [VAL ACCURACY]: 0.597 \n",
            "\n",
            "[EPOCH]: 5, [TRAIN LOSS]: 0.008019, [TRAIN ACCURACY]: 0.640\n",
            "[EPOCH]: 5, [VAL LOSS]: 0.009465, [VAL ACCURACY]: 0.575 \n",
            "\n",
            "[EPOCH]: 6, [TRAIN LOSS]: 0.007325, [TRAIN ACCURACY]: 0.674\n",
            "[EPOCH]: 6, [VAL LOSS]: 0.008565, [VAL ACCURACY]: 0.626 \n",
            "\n",
            "[EPOCH]: 7, [TRAIN LOSS]: 0.006655, [TRAIN ACCURACY]: 0.705\n",
            "[EPOCH]: 7, [VAL LOSS]: 0.008238, [VAL ACCURACY]: 0.640 \n",
            "\n",
            "[EPOCH]: 8, [TRAIN LOSS]: 0.006007, [TRAIN ACCURACY]: 0.733\n",
            "[EPOCH]: 8, [VAL LOSS]: 0.008235, [VAL ACCURACY]: 0.651 \n",
            "\n",
            "[EPOCH]: 9, [TRAIN LOSS]: 0.005281, [TRAIN ACCURACY]: 0.765\n",
            "[EPOCH]: 9, [VAL LOSS]: 0.008471, [VAL ACCURACY]: 0.643 \n",
            "\n",
            "[EPOCH]: 10, [TRAIN LOSS]: 0.004646, [TRAIN ACCURACY]: 0.794\n",
            "[EPOCH]: 10, [VAL LOSS]: 0.008419, [VAL ACCURACY]: 0.656 \n",
            "\n",
            "[EPOCH]: 11, [TRAIN LOSS]: 0.003938, [TRAIN ACCURACY]: 0.825\n",
            "[EPOCH]: 11, [VAL LOSS]: 0.008996, [VAL ACCURACY]: 0.648 \n",
            "\n",
            "[EPOCH]: 12, [TRAIN LOSS]: 0.003351, [TRAIN ACCURACY]: 0.851\n",
            "[EPOCH]: 12, [VAL LOSS]: 0.009213, [VAL ACCURACY]: 0.655 \n",
            "\n",
            "[EPOCH]: 13, [TRAIN LOSS]: 0.002669, [TRAIN ACCURACY]: 0.881\n",
            "[EPOCH]: 13, [VAL LOSS]: 0.010510, [VAL ACCURACY]: 0.651 \n",
            "\n",
            "[EPOCH]: 14, [TRAIN LOSS]: 0.002136, [TRAIN ACCURACY]: 0.904\n",
            "[EPOCH]: 14, [VAL LOSS]: 0.011335, [VAL ACCURACY]: 0.647 \n",
            "\n",
            "[EPOCH]: 15, [TRAIN LOSS]: 0.001625, [TRAIN ACCURACY]: 0.928\n",
            "[EPOCH]: 15, [VAL LOSS]: 0.012682, [VAL ACCURACY]: 0.649 \n",
            "\n"
          ],
          "name": "stdout"
        }
      ]
    },
    {
      "cell_type": "code",
      "metadata": {
        "id": "19ultxjo-iBq",
        "outputId": "5523ae4c-a182-47bf-8b6b-92ebfb461a69",
        "colab": {
          "base_uri": "https://localhost:8080/",
          "height": 661,
          "referenced_widgets": [
            "7e1f62c40c8e493f844880f0e9870001",
            "f24f42041d6f4eccad0336107e13b6b6",
            "ffbc6b5e58a14a239e451d9fcaaf295b",
            "a3a650d22f424e978c8af474f490d3ce",
            "2cb0373d06eb49aba208a40cda662b52",
            "986e4e4591ba4bfc99a78bf8ac233e3c",
            "b0826e7ba3c64881aaa0f20754252341",
            "1be3dffdf3e5418b9757cc512c49f732"
          ]
        }
      },
      "source": [
        "# TODO : Initialize the model and cast to correct device\n",
        "model = SimpleConvnet2(3, 10)\n",
        "model.to(device)\n",
        "# TODO : Initialize the criterion \n",
        "c = nn.CrossEntropyLoss()\n",
        "# TODO : Initialize the optimizer \n",
        "o = torch.optim.Adam(model.parameters(), lr=1e-4)\n",
        "# TODO : Run the training loop using this model\n",
        "l_t2, a_t2, l_v2, a_v2 = train_loop(model, c, o, train_loader, val_loader, device)"
      ],
      "execution_count": 31,
      "outputs": [
        {
          "output_type": "display_data",
          "data": {
            "application/vnd.jupyter.widget-view+json": {
              "model_id": "7e1f62c40c8e493f844880f0e9870001",
              "version_minor": 0,
              "version_major": 2
            },
            "text/plain": [
              "HBox(children=(FloatProgress(value=0.0, max=50.0), HTML(value='')))"
            ]
          },
          "metadata": {
            "tags": []
          }
        },
        {
          "output_type": "stream",
          "text": [
            "[EPOCH]: 0, [TRAIN LOSS]: 0.011376, [TRAIN ACCURACY]: 0.484\n",
            "[EPOCH]: 0, [VAL LOSS]: 0.009303, [VAL ACCURACY]: 0.586 \n",
            "\n",
            "[EPOCH]: 1, [TRAIN LOSS]: 0.007668, [TRAIN ACCURACY]: 0.655\n",
            "[EPOCH]: 1, [VAL LOSS]: 0.007491, [VAL ACCURACY]: 0.662 \n",
            "\n",
            "[EPOCH]: 2, [TRAIN LOSS]: 0.005812, [TRAIN ACCURACY]: 0.748\n",
            "[EPOCH]: 2, [VAL LOSS]: 0.006717, [VAL ACCURACY]: 0.707 \n",
            "\n",
            "[EPOCH]: 3, [TRAIN LOSS]: 0.004371, [TRAIN ACCURACY]: 0.816\n",
            "[EPOCH]: 3, [VAL LOSS]: 0.006309, [VAL ACCURACY]: 0.723 \n",
            "\n",
            "[EPOCH]: 4, [TRAIN LOSS]: 0.003168, [TRAIN ACCURACY]: 0.876\n",
            "[EPOCH]: 4, [VAL LOSS]: 0.005990, [VAL ACCURACY]: 0.736 \n",
            "\n",
            "[EPOCH]: 5, [TRAIN LOSS]: 0.002053, [TRAIN ACCURACY]: 0.931\n",
            "[EPOCH]: 5, [VAL LOSS]: 0.005933, [VAL ACCURACY]: 0.744 \n",
            "\n",
            "[EPOCH]: 6, [TRAIN LOSS]: 0.001220, [TRAIN ACCURACY]: 0.967\n",
            "[EPOCH]: 6, [VAL LOSS]: 0.005866, [VAL ACCURACY]: 0.757 \n",
            "\n",
            "[EPOCH]: 7, [TRAIN LOSS]: 0.000528, [TRAIN ACCURACY]: 0.991\n",
            "[EPOCH]: 7, [VAL LOSS]: 0.006446, [VAL ACCURACY]: 0.747 \n",
            "\n",
            "[EPOCH]: 8, [TRAIN LOSS]: 0.000267, [TRAIN ACCURACY]: 0.996\n",
            "[EPOCH]: 8, [VAL LOSS]: 0.006983, [VAL ACCURACY]: 0.749 \n",
            "\n",
            "[EPOCH]: 9, [TRAIN LOSS]: 0.000963, [TRAIN ACCURACY]: 0.961\n",
            "[EPOCH]: 9, [VAL LOSS]: 0.007110, [VAL ACCURACY]: 0.725 \n",
            "\n",
            "[EPOCH]: 10, [TRAIN LOSS]: 0.001834, [TRAIN ACCURACY]: 0.919\n",
            "[EPOCH]: 10, [VAL LOSS]: 0.006947, [VAL ACCURACY]: 0.745 \n",
            "\n",
            "[EPOCH]: 11, [TRAIN LOSS]: 0.000714, [TRAIN ACCURACY]: 0.972\n",
            "[EPOCH]: 11, [VAL LOSS]: 0.007264, [VAL ACCURACY]: 0.757 \n",
            "\n"
          ],
          "name": "stdout"
        }
      ]
    },
    {
      "cell_type": "code",
      "metadata": {
        "id": "wgCmfqY9Blnc",
        "outputId": "c6dd2b45-41a4-4880-8146-87e56690d2ba",
        "colab": {
          "base_uri": "https://localhost:8080/",
          "height": 461
        }
      },
      "source": [
        "plt.plot(l_t, label='train - no batchnorm')\n",
        "plt.plot(l_v, label='val - no batchnorm')\n",
        "plt.plot(l_t2, label='train - batchnorm')\n",
        "plt.plot(l_v2, label='val - batchnorm')\n",
        "plt.legend()\n",
        "plt.title('Loss - with and without batchnorm')"
      ],
      "execution_count": 32,
      "outputs": [
        {
          "output_type": "execute_result",
          "data": {
            "text/plain": [
              "Text(0.5, 1.0, 'Loss - with and without batchnorm')"
            ]
          },
          "metadata": {
            "tags": []
          },
          "execution_count": 32
        },
        {
          "output_type": "display_data",
          "data": {
            "image/png": "[encoded data removed]",
            "text/plain": [
              "<Figure size 864x504 with 1 Axes>"
            ]
          },
          "metadata": {
            "tags": []
          }
        }
      ]
    },
    {
      "cell_type": "code",
      "metadata": {
        "id": "mGiPsXX-BoBw",
        "outputId": "8caf0785-0531-40c6-e330-d9b19b2bd63b",
        "colab": {
          "base_uri": "https://localhost:8080/",
          "height": 461
        }
      },
      "source": [
        "plt.plot(a_t, label='train - no batchnorm')\n",
        "plt.plot(a_v, label='val - no batchnorm')\n",
        "plt.plot(a_t2, label='train - batchnorm')\n",
        "plt.plot(a_v2, label='val - batchnorm')\n",
        "plt.legend()\n",
        "plt.title('Accuracy - with and without batchnorm')"
      ],
      "execution_count": 33,
      "outputs": [
        {
          "output_type": "execute_result",
          "data": {
            "text/plain": [
              "Text(0.5, 1.0, 'Accuracy - with and without batchnorm')"
            ]
          },
          "metadata": {
            "tags": []
          },
          "execution_count": 33
        },
        {
          "output_type": "display_data",
          "data": {
            "image/png": "[encoded data removed]",
            "text/plain": [
              "<Figure size 864x504 with 1 Axes>"
            ]
          },
          "metadata": {
            "tags": []
          }
        }
      ]
    },
    {
      "cell_type": "markdown",
      "metadata": {
        "id": "XeVzHHciAt-W"
      },
      "source": [
        "#### Q2.6 d Once you choose an optimizer and see that it does train, make sure your model has enough capacity by overfitting on one batch of the data set. You should be able to get 100% train accuracy. \n"
      ]
    },
    {
      "cell_type": "code",
      "metadata": {
        "id": "eBoy4-gyB6DI",
        "outputId": "8e62bb39-8943-4aa4-d3d9-b6c264fe9c43",
        "colab": {
          "base_uri": "https://localhost:8080/",
          "height": 916,
          "referenced_widgets": [
            "a09a53b1aafd4034b7f13388d2489375",
            "27075fb3de3645f5a2b1893f79a25eee",
            "17cb59c4038c4c04bb7ac7af79b94989",
            "2558db87ab5346bc96689ceb0ce62893",
            "f63b5b438c594f6187ddd91f823d4ed2",
            "57f7b52df30f4723a6b79d725de02a53",
            "78076391375e42f888e7996d86c462c2",
            "7ec1154b2d3b4a9f958d6bfc3a43ef0c"
          ]
        }
      },
      "source": [
        "model = SimpleConvnet2(input_channels=3,\n",
        "                       num_classes=10)\n",
        "optimizer = torch.optim.SGD(model.parameters(), lr=1e-3)\n",
        "model.to(device)\n",
        "model.train()\n",
        "\n",
        "train_losses = []\n",
        "train_accuracies = []\n",
        "\n",
        "samples = next(iter(train_loader))\n",
        "image = samples[0].to(device)\n",
        "label = samples[1].to(device)\n",
        "for t in tqdm(range(50)):\n",
        "    train_loss = 0\n",
        "    correct = 0\n",
        "    n = 0\n",
        "    # TODO: Feed forward to get the logits\n",
        "    output = model(image)\n",
        "    _, preds = torch.max(output, dim = 1)\n",
        "    # TODO: Compute the loss and accuracy\n",
        "    loss = criterion(output, label)\n",
        "    # TODO: zero the gradients before running\n",
        "    # the backward pass.\n",
        "    o.zero_grad()\n",
        "    # TODO: Backward pass to compute the gradient\n",
        "    # of loss w.r.t our learnable params. \n",
        "    loss.backward()\n",
        "    # TODO: Update params\n",
        "    optimizer.step()\n",
        "    train_loss += loss.item()\n",
        "    n += image.shape[0]\n",
        "    correct += torch.sum(preds == label).item()\n",
        "\n",
        "    train_losses.append(train_loss / n)\n",
        "    train_accuracies.append(correct / n)\n",
        "    print(\"[EPOCH]: %i, [TRAIN LOSS]: %.6f, [TRAIN ACCURACY]: %.3f\" % (t, train_losses[-1], train_accuracies[-1]))"
      ],
      "execution_count": 39,
      "outputs": [
        {
          "output_type": "display_data",
          "data": {
            "application/vnd.jupyter.widget-view+json": {
              "model_id": "a09a53b1aafd4034b7f13388d2489375",
              "version_minor": 0,
              "version_major": 2
            },
            "text/plain": [
              "HBox(children=(FloatProgress(value=0.0, max=50.0), HTML(value='')))"
            ]
          },
          "metadata": {
            "tags": []
          }
        },
        {
          "output_type": "stream",
          "text": [
            "[EPOCH]: 0, [TRAIN LOSS]: 0.037479, [TRAIN ACCURACY]: 0.109\n",
            "[EPOCH]: 1, [TRAIN LOSS]: 0.024532, [TRAIN ACCURACY]: 0.211\n",
            "[EPOCH]: 2, [TRAIN LOSS]: 0.016678, [TRAIN ACCURACY]: 0.375\n",
            "[EPOCH]: 3, [TRAIN LOSS]: 0.012390, [TRAIN ACCURACY]: 0.555\n",
            "[EPOCH]: 4, [TRAIN LOSS]: 0.010439, [TRAIN ACCURACY]: 0.672\n",
            "[EPOCH]: 5, [TRAIN LOSS]: 0.010728, [TRAIN ACCURACY]: 0.688\n",
            "[EPOCH]: 6, [TRAIN LOSS]: 0.011433, [TRAIN ACCURACY]: 0.664\n",
            "[EPOCH]: 7, [TRAIN LOSS]: 0.012457, [TRAIN ACCURACY]: 0.602\n",
            "[EPOCH]: 8, [TRAIN LOSS]: 0.011635, [TRAIN ACCURACY]: 0.609\n",
            "[EPOCH]: 9, [TRAIN LOSS]: 0.008909, [TRAIN ACCURACY]: 0.750\n",
            "[EPOCH]: 10, [TRAIN LOSS]: 0.005856, [TRAIN ACCURACY]: 0.875\n",
            "[EPOCH]: 11, [TRAIN LOSS]: 0.003596, [TRAIN ACCURACY]: 0.906\n",
            "[EPOCH]: 12, [TRAIN LOSS]: 0.002176, [TRAIN ACCURACY]: 0.945\n",
            "[EPOCH]: 13, [TRAIN LOSS]: 0.001580, [TRAIN ACCURACY]: 0.992\n",
            "[EPOCH]: 14, [TRAIN LOSS]: 0.001431, [TRAIN ACCURACY]: 1.000\n",
            "[EPOCH]: 15, [TRAIN LOSS]: 0.001440, [TRAIN ACCURACY]: 0.992\n",
            "[EPOCH]: 16, [TRAIN LOSS]: 0.001524, [TRAIN ACCURACY]: 0.992\n",
            "[EPOCH]: 17, [TRAIN LOSS]: 0.001638, [TRAIN ACCURACY]: 0.977\n",
            "[EPOCH]: 18, [TRAIN LOSS]: 0.001686, [TRAIN ACCURACY]: 0.969\n",
            "[EPOCH]: 19, [TRAIN LOSS]: 0.001550, [TRAIN ACCURACY]: 0.992\n",
            "[EPOCH]: 20, [TRAIN LOSS]: 0.001349, [TRAIN ACCURACY]: 1.000\n",
            "[EPOCH]: 21, [TRAIN LOSS]: 0.001158, [TRAIN ACCURACY]: 1.000\n",
            "[EPOCH]: 22, [TRAIN LOSS]: 0.000946, [TRAIN ACCURACY]: 1.000\n",
            "[EPOCH]: 23, [TRAIN LOSS]: 0.000776, [TRAIN ACCURACY]: 1.000\n",
            "[EPOCH]: 24, [TRAIN LOSS]: 0.000701, [TRAIN ACCURACY]: 1.000\n",
            "[EPOCH]: 25, [TRAIN LOSS]: 0.000678, [TRAIN ACCURACY]: 1.000\n",
            "[EPOCH]: 26, [TRAIN LOSS]: 0.000640, [TRAIN ACCURACY]: 1.000\n",
            "[EPOCH]: 27, [TRAIN LOSS]: 0.000552, [TRAIN ACCURACY]: 1.000\n",
            "[EPOCH]: 28, [TRAIN LOSS]: 0.000469, [TRAIN ACCURACY]: 1.000\n",
            "[EPOCH]: 29, [TRAIN LOSS]: 0.000418, [TRAIN ACCURACY]: 1.000\n",
            "[EPOCH]: 30, [TRAIN LOSS]: 0.000391, [TRAIN ACCURACY]: 1.000\n",
            "[EPOCH]: 31, [TRAIN LOSS]: 0.000375, [TRAIN ACCURACY]: 1.000\n",
            "[EPOCH]: 32, [TRAIN LOSS]: 0.000367, [TRAIN ACCURACY]: 1.000\n",
            "[EPOCH]: 33, [TRAIN LOSS]: 0.000365, [TRAIN ACCURACY]: 1.000\n",
            "[EPOCH]: 34, [TRAIN LOSS]: 0.000359, [TRAIN ACCURACY]: 1.000\n",
            "[EPOCH]: 35, [TRAIN LOSS]: 0.000355, [TRAIN ACCURACY]: 1.000\n",
            "[EPOCH]: 36, [TRAIN LOSS]: 0.000346, [TRAIN ACCURACY]: 1.000\n",
            "[EPOCH]: 37, [TRAIN LOSS]: 0.000333, [TRAIN ACCURACY]: 1.000\n",
            "[EPOCH]: 38, [TRAIN LOSS]: 0.000320, [TRAIN ACCURACY]: 1.000\n",
            "[EPOCH]: 39, [TRAIN LOSS]: 0.000304, [TRAIN ACCURACY]: 1.000\n",
            "[EPOCH]: 40, [TRAIN LOSS]: 0.000284, [TRAIN ACCURACY]: 1.000\n",
            "[EPOCH]: 41, [TRAIN LOSS]: 0.000262, [TRAIN ACCURACY]: 1.000\n",
            "[EPOCH]: 42, [TRAIN LOSS]: 0.000242, [TRAIN ACCURACY]: 1.000\n",
            "[EPOCH]: 43, [TRAIN LOSS]: 0.000225, [TRAIN ACCURACY]: 1.000\n",
            "[EPOCH]: 44, [TRAIN LOSS]: 0.000209, [TRAIN ACCURACY]: 1.000\n",
            "[EPOCH]: 45, [TRAIN LOSS]: 0.000194, [TRAIN ACCURACY]: 1.000\n",
            "[EPOCH]: 46, [TRAIN LOSS]: 0.000182, [TRAIN ACCURACY]: 1.000\n",
            "[EPOCH]: 47, [TRAIN LOSS]: 0.000172, [TRAIN ACCURACY]: 1.000\n",
            "[EPOCH]: 48, [TRAIN LOSS]: 0.000163, [TRAIN ACCURACY]: 1.000\n",
            "[EPOCH]: 49, [TRAIN LOSS]: 0.000155, [TRAIN ACCURACY]: 1.000\n",
            "\n"
          ],
          "name": "stdout"
        }
      ]
    },
    {
      "cell_type": "markdown",
      "metadata": {
        "id": "ANkTYeTWn6Mv"
      },
      "source": [
        "### Q 2.7 Add residual connections"
      ]
    },
    {
      "cell_type": "markdown",
      "metadata": {
        "id": "A55lJPET13Q7"
      },
      "source": [
        "#### Residual connections help stabilise training and lead to faster convergence. In this question you will introduce residual connections into the SimpleConvnet2 model that you built above. \n",
        "\n",
        "We will add residual connections after each block of 3 convolutional layers. Lets consider the first block of three convolutional layers. The input to this block, the so called residual, is added to the output of the block before the final batch normalization layer of that block. \n",
        "\n",
        "\n",
        "IMP NOTE: You will notice that the number of filters of these two summands are not the same. For this, you will need to use a convolution layer on the residual component, which changes the number of filters while keeping the rest of the dimensions the same. This can be achieved with a careful selection of the input_channels, output_channels, kernel_size and padding parameters. "
      ]
    },
    {
      "cell_type": "code",
      "metadata": {
        "id": "rzxWZNrmUzFT"
      },
      "source": [
        "class ResidualConvnet(nn.Module):\n",
        "    def __init__(self, input_channels, num_classes):\n",
        "        super(ResidualConvnet, self).__init__()\n",
        "        \n",
        "        # TODO\n",
        "    \n",
        "    def forward(self, x):\n",
        "        \n",
        "        # TODO \n",
        "        return output\n",
        "        "
      ],
      "execution_count": null,
      "outputs": []
    },
    {
      "cell_type": "code",
      "metadata": {
        "id": "Wn9OWZiceenh"
      },
      "source": [
        "# TODO : Initialize the model and cast to correct device\n",
        "\n",
        "# TODO : Initialize the criterion \n",
        "\n",
        "# TODO : Initialize the optimizer \n",
        "\n",
        "# TODO : Run the training loop using this model"
      ],
      "execution_count": null,
      "outputs": []
    },
    {
      "cell_type": "markdown",
      "metadata": {
        "id": "NRrWJ63c4C0f"
      },
      "source": [
        "### Q 2.8 Plot the training curves with and without the residual connection. Comment on the difference. "
      ]
    },
    {
      "cell_type": "markdown",
      "metadata": {
        "id": "1QXPnxcrx-VU"
      },
      "source": [
        "### Q2.9 Reducing overfiting \n",
        "\n"
      ]
    },
    {
      "cell_type": "markdown",
      "metadata": {
        "id": "HISbvoBh8JTJ"
      },
      "source": [
        "In the previous questions, you might have observed that there is a large difference between the training and validation losses. This is a sign that the model is overfitting. One way to combat this is by adding random transformations to the input data to make your model more robust and prevent it from memorizing the input data. \n",
        "\n",
        "Torchvision provides several transforms that you can readily apply to your data. Experiment with adding a few transforms and report your results in terms of learning curves to see if the gap between the training and validation loss reduces and try to achieve better perfomance on the validation set. "
      ]
    },
    {
      "cell_type": "code",
      "metadata": {
        "id": "0cZRQd-VK7ev"
      },
      "source": [
        "test_transform = transforms.Compose([\n",
        "                                     transforms.ToTensor(),\n",
        "                                     transforms.Normalize(\n",
        "                                         [0.4373, 0.4434, 0.4725],\n",
        "                                         [0.1201, 0.1231, 0.1052])\n",
        "                                     ])\n",
        "\n",
        "train_transform = transforms.Compose([\n",
        "                                      # TODO: Add more transforms here \n",
        "                                      transforms.ToTensor(),\n",
        "                                      transforms.Normalize(\n",
        "                                          [0.4373, 0.4434, 0.4725],\n",
        "                                          [0.1201, 0.1231, 0.1052])\n",
        "                                      ])\n"
      ],
      "execution_count": null,
      "outputs": []
    },
    {
      "cell_type": "code",
      "metadata": {
        "id": "brZrUl7mK7ez"
      },
      "source": [
        "train_dataset_w_transform  = MapDataset(train_dataset, train_transform)\n",
        "val_dataset_w_transform = MapDataset(val_dataset, test_transform)\n",
        "test_dataset_w_transform = MapDataset(test_dataset, test_transform)"
      ],
      "execution_count": null,
      "outputs": []
    },
    {
      "cell_type": "code",
      "metadata": {
        "id": "kZp6DqwfK7e1"
      },
      "source": [
        "bs = 128\n",
        "train_loader = DataLoader(train_dataset_w_transform, batch_size=bs, shuffle=True, drop_last=False)\n",
        "val_loader = DataLoader(val_dataset_w_transform, batch_size=bs, shuffle=False, drop_last=False)\n",
        "test_loader = DataLoader(test_dataset, batch_size=bs, shuffle=False, drop_last=False)"
      ],
      "execution_count": null,
      "outputs": []
    },
    {
      "cell_type": "markdown",
      "metadata": {
        "id": "xR_9tihT5Vmu"
      },
      "source": [
        "#### Use the residual network that you built above and use data augmentation to reduce the overfitting "
      ]
    },
    {
      "cell_type": "code",
      "metadata": {
        "id": "WxMLVdrUwh--"
      },
      "source": [
        "# TODO : Initialize the model and cast to correct device\n",
        "\n",
        "# TODO : Initialize the criterion \n",
        "\n",
        "# TODO : Initialize the optimizer \n",
        "\n",
        "# TODO : Run the training loop using this model"
      ],
      "execution_count": null,
      "outputs": []
    },
    {
      "cell_type": "markdown",
      "metadata": {
        "id": "O2rhPXb4nRFA"
      },
      "source": [
        "### Q 2.10  Effect of learning rate decay "
      ]
    },
    {
      "cell_type": "markdown",
      "metadata": {
        "id": "VDqvgBeptLpD"
      },
      "source": [
        "#### Here you need to change the training loop to have one additional operation - add the scheduler step at the end of each epoch. Experiment with different learning rate schedulers provided by pytorch. Report results using atleast StepLR. "
      ]
    },
    {
      "cell_type": "code",
      "metadata": {
        "id": "DoDm84bvtbYK"
      },
      "source": [
        "from torch.optim.lr_scheduler import StepLR"
      ],
      "execution_count": null,
      "outputs": []
    },
    {
      "cell_type": "code",
      "metadata": {
        "id": "nbGSCk4N57qX"
      },
      "source": [
        "def train_loop2(model, criterion, optimizer, scheduler,  train_loader, val_loader):\n",
        "    \"\"\"\n",
        "    Generic training loop\n",
        "\n",
        "    Parameters\n",
        "    ----------\n",
        "    model : Object instance of your model class \n",
        "    criterion : Loss function \n",
        "    optimizer : Instance of optimizer class of your choice \n",
        "    scheduler : Instance of scheduler class of your choice \n",
        "    train_loader : Training data loader \n",
        "    val_loader : Validation data loader\n",
        "\n",
        "    Returns\n",
        "    -------\n",
        "    train_losses : List with train loss on dataset per epoch\n",
        "    train_accuracies : List with train accuracy on dataset per epoch\n",
        "    val_losses : List with validation loss on dataset per epoch\n",
        "    val_accuracies : List with validation accuracy on dataset per epoch\n",
        "\n",
        "    \"\"\"\n",
        "    best_val = 0.0\n",
        "    train_losses = []\n",
        "    val_losses = []\n",
        "    train_accuracies = []\n",
        "    val_accuracies = []\n",
        "    max_patience = 5\n",
        "    patience_counter = 0\n",
        "\n",
        "    # Training\n",
        "    for t in tqdm(range(50)):\n",
        "\n",
        "        # TODO : Set the model to train mode        \n",
        "\n",
        "        # TODO: Loop over the training set \n",
        "\n",
        "            # TODO: Put the inputs and targets on the write device\n",
        "            \n",
        "            # TODO: Feed forward to get the logits\n",
        "\n",
        "            # TODO: Compute the loss and accuracy\n",
        "\n",
        "            # TODO: zero the gradients before running\n",
        "            # the backward pass.\n",
        "\n",
        "            # TODO: Backward pass to compute the gradient\n",
        "            # of loss w.r.t our learnable params. \n",
        "\n",
        "            # TODO: Update params\n",
        "            \n",
        "            # TODO: Keep track of accuracy and loss\n",
        "\n",
        "        \n",
        "        # Switch the model to eval mode\n",
        "        # TODO\n",
        "\n",
        "\n",
        "        with torch.no_grad():\n",
        "            # TODO: Loop over the validation set \n",
        "            \n",
        "                # TODO: Put the inputs and targets on the write device\n",
        "            \n",
        "                # TODO: Feed forward to get the logits\n",
        "\n",
        "                # TODO: Compute the loss and accuracy\n",
        "\n",
        "                # TODO: Keep track of accuracy and loss\n",
        "\n",
        "        if val_accuracies[-1] > best_val:\n",
        "          best_val = val_accuracies[-1]\n",
        "          patience_counter = 0\n",
        "\n",
        "          # TODO: Save best model, optimizer, epoch_number\n",
        "          \n",
        "        else:\n",
        "          patience_counter += 1    \n",
        "          \n",
        "          if patience_counter > max_patience: \n",
        "            break\n",
        "\n",
        "        print(\"[EPOCH]: %i, [TRAIN LOSS]: %.6f, [TRAIN ACCURACY]: %.3f\" % (t, train_losses[-1], train_accuracies[-1]))\n",
        "        print(\"[EPOCH]: %i, [VAL LOSS]: %.6f, [VAL ACCURACY]: %.3f \\n\" % (t, val_losses[-1] ,val_accuracies[-1]))\n",
        "\n",
        "        # TODO : scheduler step\n",
        "\n",
        "    return train_losses, train_accuracies, val_losses, val_accuracies"
      ],
      "execution_count": null,
      "outputs": []
    },
    {
      "cell_type": "code",
      "metadata": {
        "id": "bK1P1aU0sbJn"
      },
      "source": [
        "# TODO : Initialize the model and cast to correct device\n",
        "\n",
        "# TODO : Initialize the criterion \n",
        "\n",
        "# TODO : Initialize the optimizer \n",
        "\n",
        "# TODO : Initialize the \n",
        "\n",
        "# TODO : Run the training loop using this model"
      ],
      "execution_count": null,
      "outputs": []
    },
    {
      "cell_type": "markdown",
      "metadata": {
        "id": "cG8bhd5V97iJ"
      },
      "source": [
        "### Q2.11 Hyper parameter tuning \n"
      ]
    },
    {
      "cell_type": "markdown",
      "metadata": {
        "id": "G05PHYHJ-DF2"
      },
      "source": [
        "#### Experiment with a range of learning rates and optimizers, as well as the parameter in the learning rate scheduler for StepLR. Report the following plots: \n",
        "\n",
        "1. Learning curves (training and validation loss for 5 different learning rate with SGD optimizer)\n",
        "2. Learning curves (training and validation loss for 5 different learning rate with Adam optimizer)\n",
        "3. Learning curves (training and validation loss for 5 different gamma parameter for the StepLR)\n",
        "\n",
        "\n",
        "\n"
      ]
    },
    {
      "cell_type": "markdown",
      "metadata": {
        "id": "JiLexWP36qp6"
      },
      "source": [
        "### Q2.12 Load the model that gave you best validation accuracy and report results on the test set. "
      ]
    },
    {
      "cell_type": "code",
      "metadata": {
        "id": "Hz-m4xZU_nV8"
      },
      "source": [
        ""
      ],
      "execution_count": null,
      "outputs": []
    }
  ]
}