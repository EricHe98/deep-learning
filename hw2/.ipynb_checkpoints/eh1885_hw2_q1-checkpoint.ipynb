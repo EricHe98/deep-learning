{
 "cells": [
  {
   "cell_type": "markdown",
   "metadata": {},
   "source": [
    "# Eric He\n",
    "\n",
    "# eh1885\n",
    "\n",
    "# Homework 2, Question 1\n",
    "\n",
    "## a. Convolutional networks make two assumptions about the structure of the input data. Say (1) what these assumptions are, (2) what advantages we gain by using a convolution when they are true. Give an example of a data set where these assumptions would not hold.\n",
    "Convolutional networks assume:\n",
    "\n",
    "#### 1. Locality\n",
    "The information of a feature is given by a function of the feature's neighbors. Information can be found by looking at local groups of features, rather than by looking at each feature itself. In the example of pictures, a pixel is uninformative on its own, but the local group of pixels is informative. Particularly informative local groups form \"motifs\" which can be captured by the cross-correlation operator.\n",
    "\n",
    "#### 2. Stationarity\n",
    "CNNs assume that these motifs can be found anywhere in the data, so the cross-correlation operator is swept across the entire image. In the case of images, informative motifs like an edge or a face can be found at any position in the image.\n",
    "\n",
    "### Example\n",
    "Standard business data, e.g. the Iris flower dataset, would make no sense to have a convolution. Every feature in the Iris flower dataset makes sense on its own, and the features are inherently orderless and without concept of a \"neighborhood\" in the sense that a pixel has a clearly defined neighborhood. It would not make sense to cross-correlate features, and it would especially not make sense to sweep a cross-correlation operator across the features.\n",
    "\n",
    "## Derivative of cross-correlation operator\n",
    "The Jacobian coefficients can be calculated in a straightforward manner.\n",
    "\n",
    "$$\\dfrac{\\delta z[k]}{\\delta x[i]} = y[(i+k)\\text{mod} n]$$\n",
    "\n",
    "Here we take advantage of the fact that $x[i]$ only shows up in one term of the summation.\n",
    "\n",
    "$$\\dfrac{\\delta z[k]}{\\delta y[i]} = x[(i-k)\\text{mod}n$$\n",
    "$x[k]$ is multiplied by the index of $y$ shifted $k$ units to the right (under modulo $n$).\n",
    "\n",
    "This means that $y[k]$ is multiplied by the $x$ which is shifted $k$ units to the left of $y[k]$: $x[(i-k)\\text{mod}n$.\n",
    "\n",
    "## Dimensionality of FC net vs ConvNet\n",
    "For $f$:\n",
    "- The dimensionality of the output space is (1000, 1) since it is obtained through a (1000,100) x (100, 1) operation. The elementwise operation does not change the shape of the output.\n",
    "- The number of trainable parameters is given by the shape of the weight matrix, (1000, 100) -> 1000 * 100 = 1e+5.\n",
    "- The matrix multiplication requires 1000 * 100 = 1e+5 operations, the elementwise nonlinearity requires 1000 operations, giving us O(|W|).\n",
    "\n",
    "For $g$:\n",
    "- Each convolution filter returns a vector of size 100, and there are 10 such filters. Then the dimension of the output space is given by (|data|, |filter count|, |x|) = (100, 10, 1).\n",
    "- The number of trainable parameters is given by the sum of the weights of all weight matrices. Each convolution filter has 3 weights, and there are 10 convolution filters, so there are 30 weights to train.\n",
    "- One convolution operation takes 3 operations, corresponding to the size of the filter. The operation occurs 100 times for one pass over the filter. There are 10 filters. This gives us a computational cost of O(|filter count| * |filter sweep count| * |filter size|) = O(10 * 100 * 3) = O(3e+4)."
   ]
  },
  {
   "cell_type": "code",
   "execution_count": null,
   "metadata": {},
   "outputs": [],
   "source": []
  }
 ],
 "metadata": {
  "kernelspec": {
   "display_name": "Python 3",
   "language": "python",
   "name": "python3"
  },
  "language_info": {
   "codemirror_mode": {
    "name": "ipython",
    "version": 3
   },
   "file_extension": ".py",
   "mimetype": "text/x-python",
   "name": "python",
   "nbconvert_exporter": "python",
   "pygments_lexer": "ipython3",
   "version": "3.8.3"
  }
 },
 "nbformat": 4,
 "nbformat_minor": 4
}
