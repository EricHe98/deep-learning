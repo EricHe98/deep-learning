{
 "cells": [
  {
   "cell_type": "markdown",
   "metadata": {},
   "source": [
    "### Eric He\n",
    "### eh1885\n",
    "### Deep Learning\n",
    "### Homework 1: Backpropagation"
   ]
  },
  {
   "cell_type": "markdown",
   "metadata": {},
   "source": [
    "# 1. Two-layer neural network\n",
    "\n",
    "## 1.1 Regression task\n",
    "\n",
    "### 1.1.a Name the 5 programming steps you would take to train this model with PyTorch using SGD on a single batch of data\n",
    "Suppose we are provided `model`, a Torch model object, a loss function given by `l(y_pred, y_true)`, and a learning rate given by `lr`.\n",
    "\n",
    "```\n",
    "import torch\n",
    "import torch.optim as optim\n",
    "\n",
    "optimizer = optim.SGD(model.parameters(), lr=lr)\n",
    "\n",
    "y_pred = model.forward() # 1. forward pass \n",
    "loss = l(y_pred, y_true) # 2. compute loss\n",
    "optimizer.zero_grad() # 3. zero the grad-parameters\n",
    "loss.backward() # 4. accumulate the grad-parameters\n",
    "optimizer.step() # 5. step in the opposite direction of the grad-parameters\n",
    "```\n",
    "\n",
    "### 1.1.b For a single data point `(x, y)`, write down all inputs and outputs for forward pass of each layer. You can only use `x, y, W^1, b^1, W^2, b^2` in your answer.\n",
    "\n",
    "#### Linear 1\n",
    "Input: $x$\n",
    "\n",
    "Output: $W^1x + b^1$\n",
    "\n",
    "#### f\n",
    "Input: $W^1x + b^1$\n",
    "\n",
    "Output: $f(W^1x + b^1)$\n",
    "\n",
    "#### Linear 2\n",
    "Input: $f(W^1x + b^1)$\n",
    "\n",
    "Output: $W^2(f(W^1x + b^1)) + b^2$\n",
    "\n",
    "#### g\n",
    "Input: $W^2(f(W^1x + b^1)) + b^2$\n",
    "\n",
    "Output: $g(W^2(f(W^1x + b^1)) + b^2)$\n",
    "\n",
    "#### Loss\n",
    "Input: $g(W^2(f(W^1x + b^1)) + b^2)$\n",
    "\n",
    "Output: $\\dfrac{1}{2}(g(W^2(f(W^1x + b^1)) + b^2) - y)^2$"
   ]
  },
  {
   "cell_type": "markdown",
   "metadata": {},
   "source": [
    "### 1.1.c Write down the gradient calculated from the backward pass. You can only use $x, y, W^1, b^1, W^2, b^2, \\dfrac{\\delta l}{\\delta y}, \\dfrac{\\delta z_2}{\\delta z_1}, \\dfrac{\\delta \\hat{y}}{\\delta z_3}$ in your answer, where $z_1, z_2, z_3, \\hat{y}$ are the outputs of `Linear_1, f, Linear_2, g`."
   ]
  },
  {
   "cell_type": "markdown",
   "metadata": {},
   "source": [
    "For convenience, assume $W^1$ is a matrix of shape $(m_1, n_1)$ and assume $W^2$ is a matrix of shape $(m_2, n_2)$. Denote $I_{m_1}$ to be the identity matrix of shape $(m_1, m_1)$ and $I_{m_2}$ to be the identity matrix of shape $(m_2, m_2)$.\n",
    "\n",
    "#### W1\n",
    "We first expand the derivative:\n",
    "$$\n",
    "\\dfrac{\\delta l}{\\delta W^1} = \\dfrac{\\delta l}{\\delta \\hat{y}}\n",
    "    \\dfrac{\\delta \\hat{y}}{\\delta z_3}\n",
    "    \\dfrac{\\delta z_3}{\\delta z_2} \n",
    "    \\dfrac{\\delta z_2}{\\delta z_1}\n",
    "    \\dfrac{\\delta z_1}{\\delta W^1}\n",
    " $$"
   ]
  },
  {
   "cell_type": "markdown",
   "metadata": {},
   "source": [
    "We now have to fill in the gradients $\\dfrac{\\delta z_3}{\\delta z_2}$ and $\\dfrac{\\delta z_1}{\\delta W^1}$.\n",
    "\n",
    "As $z_3 = W^2 z_2 + b^2$, we have $\\dfrac{\\delta z_3}{\\delta z_2} = W^2$. \n",
    "\n",
    "As $z_1 = W^1 x + b^1$, we have $\\dfrac{\\delta z_1}{\\delta W^1} = I_{m_1}x^T$. Notice that I have written this gradient as a matrix where $x^T$ is repeated several $m_1$ times; strictly speaking, because $z_1$ is a vector of shape $m_1$ and $W_1$ is a matrix of shape $(m_1, m_2)$, the Jacobian is of shape $(m_1, m_1, m_2)$. However, because $W_1$ is linear, the Jacobian is diagonal along one of the $m_1$ dimensions and I was able to squash it to a matrix with no repercussions.\n",
    "\n",
    "Then the entire computation is \n",
    "\n",
    "$$\n",
    "\\dfrac{\\delta l}{\\delta W^1} = \\dfrac{\\delta l}{\\delta \\hat{y}}\n",
    "    \\dfrac{\\delta \\hat{y}}{\\delta z_3}\n",
    "    W^2\n",
    "    \\dfrac{\\delta z_2}{\\delta z_1}\n",
    "    I_{m_1}x^T\n",
    " $$"
   ]
  },
  {
   "cell_type": "markdown",
   "metadata": {},
   "source": [
    "### 1.1.d Show us the elements of $\\dfrac{\\delta z_2}{\\delta z_1}, \\dfrac{\\delta \\hat{y}}{\\delta z_3}$ and $\\dfrac{\\delta l}{\\delta \\hat{y}}$?"
   ]
  },
  {
   "cell_type": "markdown",
   "metadata": {},
   "source": [
    "$\\dfrac{\\delta z_1}{\\delta z_1}$ is the derivative of the ReLU operation applied elementwise to the vector $z_1$. The subgradient of ReLU(x) is $1$ if $x > 0$ and $0$ otherwise, so we can write $\\dfrac{\\delta z_2}{\\delta z_1} = 1_{z_{1} > 0}$, the indicator function elementwise for if $z_{1i} > 0$."
   ]
  },
  {
   "cell_type": "markdown",
   "metadata": {},
   "source": [
    "$\\dfrac{\\delta \\hat{y}}{\\delta z_3}$ is the derivative of the identity function of $z_3$. The identity function has derivative $1$, the identity matrix."
   ]
  },
  {
   "cell_type": "markdown",
   "metadata": {},
   "source": [
    "$\\dfrac{\\delta l}{\\delta \\hat{y}}$ is the derivative of the square loss, and is given by $\\hat{y} - y$."
   ]
  },
  {
   "cell_type": "markdown",
   "metadata": {},
   "source": [
    "## 1.2 Classification Task\n",
    "\n",
    "### 1.2.a If you want to train this network, what do you need to change in the equations of (b), (c), and (d), assuming we are using the same MLE loss function.\n",
    "The forward pass would look the same, of course as I retained the $f$ and $g$ notations in the original answer. However, instead of $f(W^1x + b^1) = \\max(0, W^1x + b^1)$, we now have  $f(W^1x + b^1) = \\sigma(W^1x + b^1)$. And instead of $g(W^2(f(W^1x + b^1)) + b^2) = W^2(f(W^1x + b^1)) + b^2$, $g_2$ is now $\\sigma(W^2(f(W^1x + b^1)) + b^2)$\n",
    "\n",
    "The backward pass now involves the deriving the logistic sigmoid function, $\\sigma(z) = (1 + \\exp(-z))^{-1}$. We have\n",
    "\n",
    "$$\n",
    "\\dfrac{\\delta \\sigma}{\\delta z} = \n",
    "    -(1 + \\exp(-z))^{-2})(-\\exp(-z)) \\\\\n",
    "    = \\dfrac{\\exp(-z)}{(1 + \\exp(-z))^2}\n",
    "$$\n",
    "\n",
    "For $f(z_1)$, this would correspond to $z_1 = W^1 x + b^1$. We would substitute in the above for $\\dfrac{\\delta z_2}{\\delta z_1}$.\n",
    "\n",
    "For $g(z_3)$, this would correspond to $z_3 = W^2(f(W^1x + b^1)) + b^2$. We would substitute in the above for $\\dfrac{\\delta \\hat{y}}{\\delta z_3}$."
   ]
  },
  {
   "cell_type": "markdown",
   "metadata": {},
   "source": [
    "### 1.2.b Now you think you can do a better job by using a binary cross-entropy (BCE) loss function $l_{BCE}(\\hat{y}, y) = -[y\\log(\\hat{y}) + (1-y)\\log(1 - \\hat{y})]$. What do you need to change in the equations of (b), (c) and (d)?\n",
    "In the forward pass, we would only have to change the final loss function. \n",
    "\n",
    "In the backward pass, we would have to change the $\\dfrac{\\delta l}{\\delta \\hat{y}}$ multiple in each of the gradient calculations. The gradient of the cross-entropy loss function with respect to $\\hat{y}$ is given by $-(\\dfrac{y}{\\hat{y}} - \\dfrac{1-y}{1 - \\hat{y}})$"
   ]
  },
  {
   "cell_type": "markdown",
   "metadata": {},
   "source": [
    "## 1.2.c\n",
    "Setting $f$ to be the ReLU function is better for training deeper networks because the ReLU function does not have gradient saturation in the same way the sigmoid function does. The ReLU function's derivative, as claimed earlier, is an indicator function, while the sigmoid function's derivative goes to 0 as the sigmoid's input takes extreme value."
   ]
  },
  {
   "cell_type": "code",
   "execution_count": 63,
   "metadata": {},
   "outputs": [],
   "source": [
    "from collections import OrderedDict\n",
    "\n",
    "import torch\n",
    "import torch.nn as nn\n",
    "import torch.nn.functional as F\n",
    "from mlp import MLP , mse_loss, bce_loss\n",
    "\n",
    "import itertools as it\n",
    "import pandas as pd"
   ]
  },
  {
   "cell_type": "code",
   "execution_count": 42,
   "metadata": {},
   "outputs": [],
   "source": [
    "def relu(x):\n",
    "    return x.clamp(min=0)\n",
    "\n",
    "def sigmoid(x):\n",
    "    return 1 / (1 + torch.exp(-x))\n",
    "\n",
    "def identity(x):\n",
    "    return x\n",
    "\n",
    "def d_identity(x):\n",
    "    return torch.ones_like(x.shape)\n",
    "\n",
    "def d_sigmoid(x):\n",
    "    return sigmoid(x) * (1 - sigmoid(x))\n",
    "\n",
    "def d_relu(x):\n",
    "    return torch.gt(x, 0).int()\n",
    "\n",
    "class MLP:\n",
    "    def __init__(\n",
    "        self,\n",
    "        linear_1_in_features,\n",
    "        linear_1_out_features,\n",
    "        f_function,\n",
    "        linear_2_in_features,\n",
    "        linear_2_out_features,\n",
    "        g_function\n",
    "    ):\n",
    "        \"\"\"\n",
    "        Args:\n",
    "            linear_1_in_features: the in features of first linear layer\n",
    "            linear_1_out_features: the out features of first linear layer\n",
    "            linear_2_in_features: the in features of second linear layer\n",
    "            linear_2_out_features: the out features of second linear layer\n",
    "            f_function: string for the f function: relu | sigmoid | identity\n",
    "            g_function: string for the g function: relu | sigmoid | identity\n",
    "        \"\"\"\n",
    "        self.f_function = f_function\n",
    "        self.g_function = g_function\n",
    "\n",
    "        self.parameters = dict(\n",
    "            W1 = torch.randn(linear_1_out_features, linear_1_in_features),\n",
    "            b1 = torch.randn(linear_1_out_features),\n",
    "            W2 = torch.randn(linear_2_out_features, linear_2_in_features),\n",
    "            b2 = torch.randn(linear_2_out_features),\n",
    "        )\n",
    "        self.grads = dict(\n",
    "            dJdW1 = torch.zeros(linear_1_out_features, linear_1_in_features),\n",
    "            dJdb1 = torch.zeros(linear_1_out_features),\n",
    "            dJdW2 = torch.zeros(linear_2_out_features, linear_2_in_features),\n",
    "            dJdb2 = torch.zeros(linear_2_out_features),\n",
    "        )\n",
    "\n",
    "        # put all the cache value you need in self.cache\n",
    "        self.cache = dict()\n",
    "        \n",
    "        self.function_map = {'relu':relu,\n",
    "                             'sigmoid':sigmoid,\n",
    "                             'identity':identity}\n",
    "        \n",
    "        self.gradient_map = {'relu':d_relu,\n",
    "                             'sigmoid':d_sigmoid,\n",
    "                             'identity':d_identity}\n",
    "        \n",
    "        self.f = self.function_map[self.f_function]\n",
    "        self.g = self.function_map[self.g_function]\n",
    "        \n",
    "        self.d_f = self.gradient_map[self.f_function]\n",
    "        self.d_g = self.gradient_map[self.g_function]\n",
    "\n",
    "    def forward(self, x):\n",
    "        \"\"\"\n",
    "        Args:\n",
    "            x: tensor shape (batch_size, linear_1_in_features)\n",
    "        \"\"\"\n",
    "        self.cache['x'] = x\n",
    "        self.cache['s_1'] = (self.parameters['W1'] @ x.T).T + self.parameters['b1']\n",
    "        self.cache['z_1'] = self.f(self.cache['s_1'])\n",
    "        self.cache['s_2'] = (self.parameters['W2'] @ self.cache['z_1'].T).T + self.parameters['b2']\n",
    "        self.cache['z_2'] = self.g(self.cache['s_2'])\n",
    "        return self.cache['z_2']\n",
    "        \n",
    "    def backward(self, dJdy_hat):\n",
    "        \"\"\"\n",
    "        Args:\n",
    "            dJdy_hat: The gradient tensor of shape (batch_size, linear_2_out_features)\n",
    "        \"\"\"\n",
    "        self.cache['dz2ds2'] = self.d_g(self.cache['z_2']) # (batch_size, linear_2_out_features)\n",
    "        self.cache['ds2dW2'] = self.cache['z_1'] # (batch_size, linear_2_out_features, )\n",
    "        self.cache['ds2db2'] = torch.tensor([1.])\n",
    "        self.cache['ds2dz1'] = self.parameters['W2']\n",
    "        self.cache['dz1ds1'] = self.d_f(self.cache['z_1'])\n",
    "        self.cache['ds1db1'] = torch.tensor([1.])\n",
    "        self.cache['ds1dw1'] = self.cache['x']\n",
    "        \n",
    "        self.grads['dJdW2'] = dJdy_hat @ \n",
    "    \n",
    "    def clear_grad_and_cache(self):\n",
    "        for grad in self.grads:\n",
    "            self.grads[grad].zero_()\n",
    "        self.cache = dict()"
   ]
  },
  {
   "cell_type": "code",
   "execution_count": null,
   "metadata": {},
   "outputs": [],
   "source": [
    "def mse_loss(y, y_hat):\n",
    "    \"\"\"\n",
    "    Args:\n",
    "        y: the label tensor (batch_size, linear_2_out_features)\n",
    "        y_hat: the prediction tensor (batch_size, linear_2_out_features)\n",
    "\n",
    "    Return:\n",
    "        J: scalar of loss\n",
    "        dJdy_hat: The gradient tensor of shape (batch_size, linear_2_out_features)\n",
    "    \"\"\"\n",
    "    loss = (0.5 * (y - y_hat) ** 2).mean()\n",
    "    dJdy_hat = y_hat - y\n",
    "    return loss, dJdy_hat"
   ]
  },
  {
   "cell_type": "code",
   "execution_count": null,
   "metadata": {},
   "outputs": [],
   "source": [
    "def bce_loss(y, y_hat):\n",
    "    \"\"\"\n",
    "    Args:\n",
    "        y_hat: the prediction tensor\n",
    "        y: the label tensor\n",
    "        \n",
    "    Return:\n",
    "        loss: scalar of loss\n",
    "        dJdy_hat: The gradient tensor of shape (batch_size, linear_2_out_features)\n",
    "    \"\"\"\n",
    "    # TODO: Implement the bce loss\n",
    "    pass\n",
    "\n",
    "    # return loss, dJdy_hat"
   ]
  },
  {
   "cell_type": "code",
   "execution_count": 61,
   "metadata": {},
   "outputs": [
    {
     "data": {
      "text/plain": [
       "tensor([0, 0, 0, 1, 1], dtype=torch.int32)"
      ]
     },
     "execution_count": 61,
     "metadata": {},
     "output_type": "execute_result"
    }
   ],
   "source": [
    "torch.gt(torch.tensor([-1, -2, 0, 1, 2]), 0).int()"
   ]
  },
  {
   "cell_type": "code",
   "execution_count": 49,
   "metadata": {},
   "outputs": [],
   "source": [
    "net = MLP(\n",
    "    linear_1_in_features=2,\n",
    "    linear_1_out_features=20,\n",
    "    f_function='relu',\n",
    "    linear_2_in_features=20,\n",
    "    linear_2_out_features=1,\n",
    "    g_function='identity'\n",
    ")"
   ]
  },
  {
   "cell_type": "code",
   "execution_count": 50,
   "metadata": {},
   "outputs": [],
   "source": [
    "x = torch.randn(10, 2)\n",
    "y = ((torch.randn(10) > 0.5) * 1.0).unsqueeze(-1)"
   ]
  },
  {
   "cell_type": "code",
   "execution_count": 51,
   "metadata": {},
   "outputs": [],
   "source": [
    "y_hat = net.forward(x)"
   ]
  },
  {
   "cell_type": "code",
   "execution_count": 30,
   "metadata": {},
   "outputs": [],
   "source": [
    "s = ((net.parameters['W1'] @ x.T).T + net.parameters['b1'])\n",
    "z = net.f(s)"
   ]
  },
  {
   "cell_type": "code",
   "execution_count": 64,
   "metadata": {},
   "outputs": [
    {
     "name": "stdout",
     "output_type": "stream",
     "text": [
      "y_hat tensor([[-0.4694],\n",
      "        [-0.7096],\n",
      "        [ 3.9311],\n",
      "        [-1.6146],\n",
      "        [ 0.6903],\n",
      "        [ 1.1177],\n",
      "        [-2.1035],\n",
      "        [ 0.2334],\n",
      "        [ 2.9613],\n",
      "        [ 3.6399]])\n",
      "y_hat_autograd tensor([[-0.4694],\n",
      "        [-0.7096],\n",
      "        [ 3.9311],\n",
      "        [-1.6146],\n",
      "        [ 0.6903],\n",
      "        [ 1.1177],\n",
      "        [-2.1035],\n",
      "        [ 0.2334],\n",
      "        [ 2.9613],\n",
      "        [ 3.6399]], grad_fn=<AddmmBackward>)\n"
     ]
    }
   ],
   "source": [
    "net_autograd = nn.Sequential(\n",
    "    OrderedDict([\n",
    "        ('linear1', nn.Linear(2, 20)),\n",
    "        ('relu', nn.ReLU()),\n",
    "        ('linear2', nn.Linear(20, 1)),\n",
    "    ])\n",
    ")\n",
    "net_autograd.linear1.weight.data = net.parameters['W1']\n",
    "net_autograd.linear1.bias.data = net.parameters['b1']\n",
    "net_autograd.linear2.weight.data = net.parameters['W2']\n",
    "net_autograd.linear2.bias.data = net.parameters['b2']\n",
    "\n",
    "y_hat_autograd = net_autograd(x)\n",
    "print('y_hat', y_hat)\n",
    "print('y_hat_autograd', y_hat_autograd)\n",
    "\n",
    "J_autograd = 0.5 * F.mse_loss(y_hat_autograd, y)\n",
    "\n",
    "net_autograd.zero_grad()\n",
    "J_autograd.backward()"
   ]
  },
  {
   "cell_type": "code",
   "execution_count": 65,
   "metadata": {},
   "outputs": [
    {
     "name": "stdout",
     "output_type": "stream",
     "text": [
      "tensor([[ 0.0000,  0.0000],\n",
      "        [-0.2998,  0.8172],\n",
      "        [ 0.0000,  0.0000],\n",
      "        [ 0.6248, -1.0746],\n",
      "        [ 0.0469, -0.1836],\n",
      "        [ 0.3629, -1.4322],\n",
      "        [ 0.1679, -0.5939],\n",
      "        [ 0.3436, -1.6246],\n",
      "        [-0.2391,  1.1305],\n",
      "        [ 0.0994, -0.2710],\n",
      "        [ 0.0448,  0.2470],\n",
      "        [ 0.1991, -0.9414],\n",
      "        [ 0.1696, -0.2917],\n",
      "        [-0.1361,  0.8414],\n",
      "        [ 0.0224, -0.0384],\n",
      "        [ 0.1617, -0.3659],\n",
      "        [ 0.4470, -2.4222],\n",
      "        [ 0.5801, -2.7433],\n",
      "        [ 0.0000,  0.0000],\n",
      "        [-0.0623,  0.2457]])\n"
     ]
    }
   ],
   "source": [
    "print(net_autograd.linear1.weight.grad.data)"
   ]
  },
  {
   "cell_type": "code",
   "execution_count": 66,
   "metadata": {},
   "outputs": [
    {
     "data": {
      "text/plain": [
       "torch.Size([20, 2])"
      ]
     },
     "execution_count": 66,
     "metadata": {},
     "output_type": "execute_result"
    }
   ],
   "source": [
    "net_autograd.linear1.weight.grad.data.shape"
   ]
  },
  {
   "cell_type": "code",
   "execution_count": null,
   "metadata": {},
   "outputs": [],
   "source": []
  }
 ],
 "metadata": {
  "kernelspec": {
   "display_name": "Python 3",
   "language": "python",
   "name": "python3"
  },
  "language_info": {
   "codemirror_mode": {
    "name": "ipython",
    "version": 3
   },
   "file_extension": ".py",
   "mimetype": "text/x-python",
   "name": "python",
   "nbconvert_exporter": "python",
   "pygments_lexer": "ipython3",
   "version": "3.8.2"
  }
 },
 "nbformat": 4,
 "nbformat_minor": 4
}
